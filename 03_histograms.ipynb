{
 "cells": [
  {
   "cell_type": "markdown",
   "source": [
    "# Histograms\n",
    "**Abid Ali**\n",
    "\n",
    "Email: [abdsoftfsd@gmail.com](mailto:abdsoftfsd@gmail.com)\n",
    "\n",
    "Skype: abd.soft"
   ],
   "metadata": {
    "collapsed": false,
    "pycharm": {
     "name": "#%% md\n"
    }
   }
  },
  {
   "cell_type": "code",
   "execution_count": 1,
   "outputs": [],
   "source": [
    "import pandas as pd\n",
    "import matplotlib.pyplot as plt\n"
   ],
   "metadata": {
    "collapsed": false,
    "pycharm": {
     "name": "#%%\n"
    }
   }
  },
  {
   "cell_type": "code",
   "execution_count": 2,
   "outputs": [],
   "source": [
    "import warnings\n",
    "\n",
    "warnings.filterwarnings('ignore')"
   ],
   "metadata": {
    "collapsed": false,
    "pycharm": {
     "name": "#%%\n"
    }
   }
  },
  {
   "cell_type": "code",
   "execution_count": 3,
   "outputs": [
    {
     "data": {
      "text/plain": "   Year Month  CrudePalmOil   SoyabeanOil   GroundnutOil   SunflowerOil   \\\n0  2006   Jan          424.0         532.0          930.0          591.0   \n1  2006   Feb          445.0         535.0          921.0          595.0   \n2  2006   Mar          440.0         539.0          902.0          606.0   \n3  2006   Apr          439.0         540.0          899.0          659.0   \n4  2006   May          440.0         588.0          892.0          679.0   \n\n   RapeseedOil   CoconutOil   FishOil   Tallow   Lard   \n0         733.0        569.0     750.0    445.0  407.0  \n1         723.0        591.0     761.0    430.0  405.0  \n2         742.0        575.0     807.0    410.0  431.0  \n3         796.0        578.0     840.0    394.0  437.0  \n4         838.0        583.0     841.0    408.0  447.0  ",
      "text/html": "<div>\n<style scoped>\n    .dataframe tbody tr th:only-of-type {\n        vertical-align: middle;\n    }\n\n    .dataframe tbody tr th {\n        vertical-align: top;\n    }\n\n    .dataframe thead th {\n        text-align: right;\n    }\n</style>\n<table border=\"1\" class=\"dataframe\">\n  <thead>\n    <tr style=\"text-align: right;\">\n      <th></th>\n      <th>Year</th>\n      <th>Month</th>\n      <th>CrudePalmOil</th>\n      <th>SoyabeanOil</th>\n      <th>GroundnutOil</th>\n      <th>SunflowerOil</th>\n      <th>RapeseedOil</th>\n      <th>CoconutOil</th>\n      <th>FishOil</th>\n      <th>Tallow</th>\n      <th>Lard</th>\n    </tr>\n  </thead>\n  <tbody>\n    <tr>\n      <th>0</th>\n      <td>2006</td>\n      <td>Jan</td>\n      <td>424.0</td>\n      <td>532.0</td>\n      <td>930.0</td>\n      <td>591.0</td>\n      <td>733.0</td>\n      <td>569.0</td>\n      <td>750.0</td>\n      <td>445.0</td>\n      <td>407.0</td>\n    </tr>\n    <tr>\n      <th>1</th>\n      <td>2006</td>\n      <td>Feb</td>\n      <td>445.0</td>\n      <td>535.0</td>\n      <td>921.0</td>\n      <td>595.0</td>\n      <td>723.0</td>\n      <td>591.0</td>\n      <td>761.0</td>\n      <td>430.0</td>\n      <td>405.0</td>\n    </tr>\n    <tr>\n      <th>2</th>\n      <td>2006</td>\n      <td>Mar</td>\n      <td>440.0</td>\n      <td>539.0</td>\n      <td>902.0</td>\n      <td>606.0</td>\n      <td>742.0</td>\n      <td>575.0</td>\n      <td>807.0</td>\n      <td>410.0</td>\n      <td>431.0</td>\n    </tr>\n    <tr>\n      <th>3</th>\n      <td>2006</td>\n      <td>Apr</td>\n      <td>439.0</td>\n      <td>540.0</td>\n      <td>899.0</td>\n      <td>659.0</td>\n      <td>796.0</td>\n      <td>578.0</td>\n      <td>840.0</td>\n      <td>394.0</td>\n      <td>437.0</td>\n    </tr>\n    <tr>\n      <th>4</th>\n      <td>2006</td>\n      <td>May</td>\n      <td>440.0</td>\n      <td>588.0</td>\n      <td>892.0</td>\n      <td>679.0</td>\n      <td>838.0</td>\n      <td>583.0</td>\n      <td>841.0</td>\n      <td>408.0</td>\n      <td>447.0</td>\n    </tr>\n  </tbody>\n</table>\n</div>"
     },
     "execution_count": 3,
     "metadata": {},
     "output_type": "execute_result"
    }
   ],
   "source": [
    "oil_data = pd.read_csv('datasets/MPOB_data1.csv')\n",
    "oil_data.dropna(axis=0, inplace=True)\n",
    "oil_data.head()"
   ],
   "metadata": {
    "collapsed": false,
    "pycharm": {
     "name": "#%%\n"
    }
   }
  },
  {
   "cell_type": "code",
   "execution_count": 4,
   "outputs": [],
   "source": [
    "oil_data.columns = oil_data.columns.str.strip()"
   ],
   "metadata": {
    "collapsed": false,
    "pycharm": {
     "name": "#%%\n"
    }
   }
  },
  {
   "cell_type": "code",
   "execution_count": 5,
   "outputs": [
    {
     "data": {
      "text/plain": "           FishOil\nMonth             \nApr    1481.692308\nAug    1473.307692\nDec    1537.083333\nFeb    1511.538462\nJan    1508.307692\nJul    1453.923077\nJun    1433.923077\nMar    1507.230769\nMay    1474.384615\nNov    1511.833333\nOct    1437.666667\nSep    1467.461538",
      "text/html": "<div>\n<style scoped>\n    .dataframe tbody tr th:only-of-type {\n        vertical-align: middle;\n    }\n\n    .dataframe tbody tr th {\n        vertical-align: top;\n    }\n\n    .dataframe thead th {\n        text-align: right;\n    }\n</style>\n<table border=\"1\" class=\"dataframe\">\n  <thead>\n    <tr style=\"text-align: right;\">\n      <th></th>\n      <th>FishOil</th>\n    </tr>\n    <tr>\n      <th>Month</th>\n      <th></th>\n    </tr>\n  </thead>\n  <tbody>\n    <tr>\n      <th>Apr</th>\n      <td>1481.692308</td>\n    </tr>\n    <tr>\n      <th>Aug</th>\n      <td>1473.307692</td>\n    </tr>\n    <tr>\n      <th>Dec</th>\n      <td>1537.083333</td>\n    </tr>\n    <tr>\n      <th>Feb</th>\n      <td>1511.538462</td>\n    </tr>\n    <tr>\n      <th>Jan</th>\n      <td>1508.307692</td>\n    </tr>\n    <tr>\n      <th>Jul</th>\n      <td>1453.923077</td>\n    </tr>\n    <tr>\n      <th>Jun</th>\n      <td>1433.923077</td>\n    </tr>\n    <tr>\n      <th>Mar</th>\n      <td>1507.230769</td>\n    </tr>\n    <tr>\n      <th>May</th>\n      <td>1474.384615</td>\n    </tr>\n    <tr>\n      <th>Nov</th>\n      <td>1511.833333</td>\n    </tr>\n    <tr>\n      <th>Oct</th>\n      <td>1437.666667</td>\n    </tr>\n    <tr>\n      <th>Sep</th>\n      <td>1467.461538</td>\n    </tr>\n  </tbody>\n</table>\n</div>"
     },
     "execution_count": 5,
     "metadata": {},
     "output_type": "execute_result"
    }
   ],
   "source": [
    "# mean price by month\n",
    "oil_data[['Month', 'FishOil']].groupby('Month').mean()"
   ],
   "metadata": {
    "collapsed": false,
    "pycharm": {
     "name": "#%%\n"
    }
   }
  },
  {
   "cell_type": "code",
   "execution_count": 8,
   "outputs": [
    {
     "data": {
      "text/plain": "Text(0, 0.5, 'Count')"
     },
     "execution_count": 8,
     "metadata": {},
     "output_type": "execute_result"
    },
    {
     "data": {
      "text/plain": "<Figure size 864x576 with 1 Axes>",
      "image/png": "[encoded data removed]"
     },
     "metadata": {
      "needs_background": "light"
     },
     "output_type": "display_data"
    }
   ],
   "source": [
    "fig, ax = plt.subplots(figsize=(12, 8))\n",
    "\n",
    "n, bins, patches = plt.hist(x=oil_data['FishOil'],\n",
    "                            facecolor='yellow',\n",
    "                            edgecolor='red',\n",
    "                            bins=20\n",
    "                            )\n",
    "\n",
    "plt.title('Fish Oil Prices - 2006 to 2018')\n",
    "plt.xlabel('Prices')\n",
    "plt.ylabel('Count')"
   ],
   "metadata": {
    "collapsed": false,
    "pycharm": {
     "name": "#%%\n"
    }
   }
  },
  {
   "cell_type": "code",
   "execution_count": 9,
   "outputs": [
    {
     "name": "stdout",
     "output_type": "stream",
     "text": [
      "n:  [ 3.  6. 14. 13.  3.  4.  4.  8.  6.  4. 13. 13. 22. 10.  9.  3.  7.  5.\n",
      "  3.  3.]\n",
      "bins:  [ 620.  709.  798.  887.  976. 1065. 1154. 1243. 1332. 1421. 1510. 1599.\n",
      " 1688. 1777. 1866. 1955. 2044. 2133. 2222. 2311. 2400.]\n",
      "patches:  <BarContainer object of 20 artists>\n"
     ]
    }
   ],
   "source": [
    "print('n: ', n)\n",
    "print('bins: ', bins)\n",
    "print('patches: ', patches)\n"
   ],
   "metadata": {
    "collapsed": false,
    "pycharm": {
     "name": "#%%\n"
    }
   }
  },
  {
   "cell_type": "code",
   "execution_count": 10,
   "outputs": [
    {
     "data": {
      "text/plain": "Text(0, 0.5, 'Count')"
     },
     "execution_count": 10,
     "metadata": {},
     "output_type": "execute_result"
    },
    {
     "data": {
      "text/plain": "<Figure size 864x576 with 1 Axes>",
      "image/png": "[encoded data removed]"
     },
     "metadata": {
      "needs_background": "light"
     },
     "output_type": "display_data"
    }
   ],
   "source": [
    "fig, ax = plt.subplots(figsize=(12, 8))\n",
    "\n",
    "n, bins, patches = plt.hist(x=oil_data['FishOil'],\n",
    "                            facecolor='yellow',\n",
    "                            edgecolor='red',\n",
    "                            bins=20,\n",
    "                            cumulative=True\n",
    "                            )\n",
    "\n",
    "plt.title('Fish Oil Prices - 2006 to 2018')\n",
    "plt.xlabel('Prices')\n",
    "plt.ylabel('Count')"
   ],
   "metadata": {
    "collapsed": false,
    "pycharm": {
     "name": "#%%\n"
    }
   }
  },
  {
   "cell_type": "code",
   "execution_count": 12,
   "outputs": [
    {
     "data": {
      "text/plain": "Text(0, 0.5, 'Count')"
     },
     "execution_count": 12,
     "metadata": {},
     "output_type": "execute_result"
    },
    {
     "data": {
      "text/plain": "<Figure size 864x576 with 1 Axes>",
      "image/png": "[encoded data removed]"
     },
     "metadata": {
      "needs_background": "light"
     },
     "output_type": "display_data"
    }
   ],
   "source": [
    "fig, ax = plt.subplots(figsize=(12, 8))\n",
    "\n",
    "plt.hist(x=oil_data['FishOil'],\n",
    "         facecolor='yellow',\n",
    "         edgecolor='red',\n",
    "         label='FishOil',\n",
    "         bins=20,\n",
    "         )\n",
    "\n",
    "plt.hist(oil_data['GroundnutOil'],\n",
    "         facecolor='limegreen',\n",
    "         edgecolor='red',\n",
    "         label='GroundnutOil',\n",
    "         alpha=0.6,\n",
    "         bins=20\n",
    "         )\n",
    "\n",
    "plt.legend()\n",
    "plt.title('Fish Oil Prices - 2006 to 2018')\n",
    "plt.xlabel('Prices')\n",
    "plt.ylabel('Count')\n"
   ],
   "metadata": {
    "collapsed": false,
    "pycharm": {
     "name": "#%%\n"
    }
   }
  },
  {
   "cell_type": "code",
   "execution_count": null,
   "outputs": [],
   "source": [],
   "metadata": {
    "collapsed": false,
    "pycharm": {
     "name": "#%%\n"
    }
   }
  }
 ],
 "metadata": {
  "kernelspec": {
   "display_name": "Python 3",
   "language": "python",
   "name": "python3"
  },
  "language_info": {
   "codemirror_mode": {
    "name": "ipython",
    "version": 2
   },
   "file_extension": ".py",
   "mimetype": "text/x-python",
   "name": "python",
   "nbconvert_exporter": "python",
   "pygments_lexer": "ipython2",
   "version": "2.7.6"
  }
 },
 "nbformat": 4,
 "nbformat_minor": 0
}