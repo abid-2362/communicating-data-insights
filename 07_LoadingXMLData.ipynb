{
 "cells": [
  {
   "cell_type": "markdown",
   "source": [
    "# Loading XML Data\n",
    "**Abid Ali**\n",
    "\n",
    "Email: [abdsoftfsd@gmail.com](mailto:abdsoftfsd@gmail.com)\n",
    "\n",
    "Skype: abd.soft"
   ],
   "metadata": {
    "collapsed": false,
    "pycharm": {
     "name": "#%% md\n"
    }
   }
  },
  {
   "cell_type": "code",
   "execution_count": 1,
   "outputs": [],
   "source": [
    "import xml.etree.ElementTree as ET\n"
   ],
   "metadata": {
    "collapsed": false,
    "pycharm": {
     "name": "#%%\n"
    }
   }
  },
  {
   "cell_type": "code",
   "execution_count": 2,
   "outputs": [],
   "source": [
    "tree = ET.parse('datasets/housing.xml')\n"
   ],
   "metadata": {
    "collapsed": false,
    "pycharm": {
     "name": "#%%\n"
    }
   }
  },
  {
   "cell_type": "code",
   "execution_count": 3,
   "outputs": [],
   "source": [
    "root = tree.getroot()\n"
   ],
   "metadata": {
    "collapsed": false,
    "pycharm": {
     "name": "#%%\n"
    }
   }
  },
  {
   "cell_type": "code",
   "execution_count": 4,
   "outputs": [
    {
     "data": {
      "text/plain": "'California_Housing_Data'"
     },
     "execution_count": 4,
     "metadata": {},
     "output_type": "execute_result"
    }
   ],
   "source": [
    "root.tag\n"
   ],
   "metadata": {
    "collapsed": false,
    "pycharm": {
     "name": "#%%\n"
    }
   }
  },
  {
   "cell_type": "code",
   "execution_count": 6,
   "outputs": [
    {
     "data": {
      "text/plain": "20640"
     },
     "execution_count": 6,
     "metadata": {},
     "output_type": "execute_result"
    }
   ],
   "source": [
    "len(root.findall('row'))\n"
   ],
   "metadata": {
    "collapsed": false,
    "pycharm": {
     "name": "#%%\n"
    }
   }
  },
  {
   "cell_type": "code",
   "execution_count": 8,
   "outputs": [
    {
     "name": "stdout",
     "output_type": "stream",
     "text": [
      "longitude:  -122.23\n",
      "latitude:  37.88\n",
      "housing_median_age:  41.0\n"
     ]
    }
   ],
   "source": [
    "for node in root:\n",
    "    longitude = node.find('longitude').text\n",
    "    latitude = node.find('latitude').text\n",
    "    housing_median_age = node.find('housing_median_age').text\n",
    "\n",
    "    print('longitude: ', longitude)\n",
    "    print('latitude: ', latitude)\n",
    "    print('housing_median_age: ', housing_median_age)\n",
    "    break\n"
   ],
   "metadata": {
    "collapsed": false,
    "pycharm": {
     "name": "#%%\n"
    }
   }
  },
  {
   "cell_type": "code",
   "execution_count": 25,
   "outputs": [],
   "source": [
    "import pandas as pd\n",
    "\n",
    "col_names = [\n",
    "    'longitude',\n",
    "    'latitude',\n",
    "    'housing_median_age',\n",
    "    'total_rooms',\n",
    "    'total_bedrooms',\n",
    "    'population',\n",
    "    'households',\n",
    "    'median_income',\n",
    "    'median_house_value',\n",
    "    'ocean_proximity',\n",
    "]\n",
    "out_df = pd.DataFrame(columns=col_names)\n"
   ],
   "metadata": {
    "collapsed": false,
    "pycharm": {
     "name": "#%%\n"
    }
   }
  },
  {
   "cell_type": "code",
   "execution_count": 26,
   "outputs": [
    {
     "data": {
      "text/plain": "Empty DataFrame\nColumns: [longitude, latitude, housing_median_age, total_rooms, total_bedrooms, population, households, median_income, median_house_value, ocean_proximity]\nIndex: []",
      "text/html": "<div>\n<style scoped>\n    .dataframe tbody tr th:only-of-type {\n        vertical-align: middle;\n    }\n\n    .dataframe tbody tr th {\n        vertical-align: top;\n    }\n\n    .dataframe thead th {\n        text-align: right;\n    }\n</style>\n<table border=\"1\" class=\"dataframe\">\n  <thead>\n    <tr style=\"text-align: right;\">\n      <th></th>\n      <th>longitude</th>\n      <th>latitude</th>\n      <th>housing_median_age</th>\n      <th>total_rooms</th>\n      <th>total_bedrooms</th>\n      <th>population</th>\n      <th>households</th>\n      <th>median_income</th>\n      <th>median_house_value</th>\n      <th>ocean_proximity</th>\n    </tr>\n  </thead>\n  <tbody>\n  </tbody>\n</table>\n</div>"
     },
     "execution_count": 26,
     "metadata": {},
     "output_type": "execute_result"
    }
   ],
   "source": [
    "out_df.head()"
   ],
   "metadata": {
    "collapsed": false,
    "pycharm": {
     "name": "#%%\n"
    }
   }
  },
  {
   "cell_type": "code",
   "execution_count": 27,
   "outputs": [],
   "source": [
    "count = 1\n",
    "for node in root:\n",
    "    longitude = node.find('longitude').text\n",
    "    latitude = node.find('latitude').text\n",
    "    housing_median_age = node.find('housing_median_age').text\n",
    "    total_rooms = node.find('total_rooms').text\n",
    "    total_bedrooms = node.find('total_bedrooms').text\n",
    "    population = node.find('population').text\n",
    "    households = node.find('households').text\n",
    "    median_income = node.find('median_income').text\n",
    "    median_house_value = node.find('median_house_value').text\n",
    "    ocean_proximity = node.find('ocean_proximity').text\n",
    "\n",
    "    series = pd.Series([\n",
    "        longitude, latitude, housing_median_age, total_rooms,\n",
    "        total_bedrooms, population, households, median_income,\n",
    "        median_house_value, ocean_proximity\n",
    "    ], index=col_names)\n",
    "\n",
    "    out_df = out_df.append(series, ignore_index=True)\n",
    "    # count += 1\n",
    "    # if count > 1000:\n",
    "    #     break"
   ],
   "metadata": {
    "collapsed": false,
    "pycharm": {
     "name": "#%%\n"
    }
   }
  },
  {
   "cell_type": "code",
   "execution_count": 28,
   "outputs": [
    {
     "data": {
      "text/plain": "  longitude latitude housing_median_age total_rooms total_bedrooms population  \\\n0   -122.23    37.88               41.0       880.0          129.0      322.0   \n1   -122.22    37.86               21.0      7099.0         1106.0     2401.0   \n2   -122.24    37.85               52.0      1467.0          190.0      496.0   \n3   -122.25    37.85               52.0      1274.0          235.0      558.0   \n4   -122.25    37.85               52.0      1627.0          280.0      565.0   \n5   -122.25    37.85               52.0       919.0          213.0      413.0   \n6   -122.25    37.84               52.0      2535.0          489.0     1094.0   \n7   -122.25    37.84               52.0      3104.0          687.0     1157.0   \n8   -122.26    37.84               42.0      2555.0          665.0     1206.0   \n9   -122.25    37.84               52.0      3549.0          707.0     1551.0   \n\n  households median_income median_house_value ocean_proximity  \n0      126.0        8.3252           452600.0        NEAR BAY  \n1     1138.0        8.3014           358500.0        NEAR BAY  \n2      177.0        7.2574           352100.0        NEAR BAY  \n3      219.0        5.6431           341300.0        NEAR BAY  \n4      259.0        3.8462           342200.0        NEAR BAY  \n5      193.0        4.0368           269700.0        NEAR BAY  \n6      514.0        3.6591           299200.0        NEAR BAY  \n7      647.0          3.12           241400.0        NEAR BAY  \n8      595.0        2.0804           226700.0        NEAR BAY  \n9      714.0        3.6912           261100.0        NEAR BAY  ",
      "text/html": "<div>\n<style scoped>\n    .dataframe tbody tr th:only-of-type {\n        vertical-align: middle;\n    }\n\n    .dataframe tbody tr th {\n        vertical-align: top;\n    }\n\n    .dataframe thead th {\n        text-align: right;\n    }\n</style>\n<table border=\"1\" class=\"dataframe\">\n  <thead>\n    <tr style=\"text-align: right;\">\n      <th></th>\n      <th>longitude</th>\n      <th>latitude</th>\n      <th>housing_median_age</th>\n      <th>total_rooms</th>\n      <th>total_bedrooms</th>\n      <th>population</th>\n      <th>households</th>\n      <th>median_income</th>\n      <th>median_house_value</th>\n      <th>ocean_proximity</th>\n    </tr>\n  </thead>\n  <tbody>\n    <tr>\n      <th>0</th>\n      <td>-122.23</td>\n      <td>37.88</td>\n      <td>41.0</td>\n      <td>880.0</td>\n      <td>129.0</td>\n      <td>322.0</td>\n      <td>126.0</td>\n      <td>8.3252</td>\n      <td>452600.0</td>\n      <td>NEAR BAY</td>\n    </tr>\n    <tr>\n      <th>1</th>\n      <td>-122.22</td>\n      <td>37.86</td>\n      <td>21.0</td>\n      <td>7099.0</td>\n      <td>1106.0</td>\n      <td>2401.0</td>\n      <td>1138.0</td>\n      <td>8.3014</td>\n      <td>358500.0</td>\n      <td>NEAR BAY</td>\n    </tr>\n    <tr>\n      <th>2</th>\n      <td>-122.24</td>\n      <td>37.85</td>\n      <td>52.0</td>\n      <td>1467.0</td>\n      <td>190.0</td>\n      <td>496.0</td>\n      <td>177.0</td>\n      <td>7.2574</td>\n      <td>352100.0</td>\n      <td>NEAR BAY</td>\n    </tr>\n    <tr>\n      <th>3</th>\n      <td>-122.25</td>\n      <td>37.85</td>\n      <td>52.0</td>\n      <td>1274.0</td>\n      <td>235.0</td>\n      <td>558.0</td>\n      <td>219.0</td>\n      <td>5.6431</td>\n      <td>341300.0</td>\n      <td>NEAR BAY</td>\n    </tr>\n    <tr>\n      <th>4</th>\n      <td>-122.25</td>\n      <td>37.85</td>\n      <td>52.0</td>\n      <td>1627.0</td>\n      <td>280.0</td>\n      <td>565.0</td>\n      <td>259.0</td>\n      <td>3.8462</td>\n      <td>342200.0</td>\n      <td>NEAR BAY</td>\n    </tr>\n    <tr>\n      <th>5</th>\n      <td>-122.25</td>\n      <td>37.85</td>\n      <td>52.0</td>\n      <td>919.0</td>\n      <td>213.0</td>\n      <td>413.0</td>\n      <td>193.0</td>\n      <td>4.0368</td>\n      <td>269700.0</td>\n      <td>NEAR BAY</td>\n    </tr>\n    <tr>\n      <th>6</th>\n      <td>-122.25</td>\n      <td>37.84</td>\n      <td>52.0</td>\n      <td>2535.0</td>\n      <td>489.0</td>\n      <td>1094.0</td>\n      <td>514.0</td>\n      <td>3.6591</td>\n      <td>299200.0</td>\n      <td>NEAR BAY</td>\n    </tr>\n    <tr>\n      <th>7</th>\n      <td>-122.25</td>\n      <td>37.84</td>\n      <td>52.0</td>\n      <td>3104.0</td>\n      <td>687.0</td>\n      <td>1157.0</td>\n      <td>647.0</td>\n      <td>3.12</td>\n      <td>241400.0</td>\n      <td>NEAR BAY</td>\n    </tr>\n    <tr>\n      <th>8</th>\n      <td>-122.26</td>\n      <td>37.84</td>\n      <td>42.0</td>\n      <td>2555.0</td>\n      <td>665.0</td>\n      <td>1206.0</td>\n      <td>595.0</td>\n      <td>2.0804</td>\n      <td>226700.0</td>\n      <td>NEAR BAY</td>\n    </tr>\n    <tr>\n      <th>9</th>\n      <td>-122.25</td>\n      <td>37.84</td>\n      <td>52.0</td>\n      <td>3549.0</td>\n      <td>707.0</td>\n      <td>1551.0</td>\n      <td>714.0</td>\n      <td>3.6912</td>\n      <td>261100.0</td>\n      <td>NEAR BAY</td>\n    </tr>\n  </tbody>\n</table>\n</div>"
     },
     "execution_count": 28,
     "metadata": {},
     "output_type": "execute_result"
    }
   ],
   "source": [
    "out_df.head(10)\n"
   ],
   "metadata": {
    "collapsed": false,
    "pycharm": {
     "name": "#%%\n"
    }
   }
  },
  {
   "cell_type": "code",
   "execution_count": 29,
   "outputs": [
    {
     "data": {
      "text/plain": "(20640, 10)"
     },
     "execution_count": 29,
     "metadata": {},
     "output_type": "execute_result"
    }
   ],
   "source": [
    "out_df.shape\n"
   ],
   "metadata": {
    "collapsed": false,
    "pycharm": {
     "name": "#%%\n"
    }
   }
  },
  {
   "cell_type": "code",
   "execution_count": 32,
   "outputs": [
    {
     "name": "stdout",
     "output_type": "stream",
     "text": [
      " Volume in drive F is Mac Backup\n",
      " Volume Serial Number is 608D-3D23\n",
      "\n",
      " Directory of F:\\learning\\python\\communicating-data-insights\\datasets\n",
      "\n",
      "22-Jun-19  01:41 PM    <DIR>          .\n",
      "22-Jun-19  01:41 PM    <DIR>          ..\n",
      "22-Jun-19  01:41 PM                86 app_info.csv\n",
      "22-Jun-19  01:41 PM            18,131 auto-mpg.csv\n",
      "22-Jun-19  01:41 PM            84,127 auto-mpg.json\n",
      "22-Jun-19  01:41 PM               965 customer_details.csv\n",
      "22-Jun-19  01:41 PM               282 customer_orders.csv\n",
      "22-Jun-19  01:41 PM               386 flight_count.csv\n",
      "22-Jun-19  01:41 PM             1,359 grand_canyon_visits.csv\n",
      "22-Jun-19  01:41 PM         1,423,529 housing.csv\n",
      "22-Jun-19  01:41 PM         9,108,334 housing.xml\n",
      "22-Jun-19  01:41 PM         1,423,529 housing_converted.csv\n",
      "22-Jun-19  01:41 PM            11,912 MPOB_data1.csv\n",
      "22-Jun-19  01:41 PM             1,689 national_parks.csv\n",
      "22-Jun-19  01:41 PM               379 products.csv\n",
      "22-Jun-19  01:41 PM           139,080 stock_market.csv\n",
      "22-Jun-19  01:41 PM           568,873 weight.json\n",
      "11-Mar-23  05:33 PM         1,444,170 housing_converted_1.csv\n",
      "              16 File(s)     14,226,831 bytes\n",
      "               2 Dir(s)  17,908,236,288 bytes free\n"
     ]
    }
   ],
   "source": [
    "# to store the data in a csv file, user df.to_csv\n",
    "# out_df.to_csv('datasets/housing_converted_1.csv', index=False)\n"
   ],
   "metadata": {
    "collapsed": false,
    "pycharm": {
     "name": "#%%\n"
    }
   }
  }
 ],
 "metadata": {
  "kernelspec": {
   "display_name": "Python 3",
   "language": "python",
   "name": "python3"
  },
  "language_info": {
   "codemirror_mode": {
    "name": "ipython",
    "version": 2
   },
   "file_extension": ".py",
   "mimetype": "text/x-python",
   "name": "python",
   "nbconvert_exporter": "python",
   "pygments_lexer": "ipython2",
   "version": "2.7.6"
  }
 },
 "nbformat": 4,
 "nbformat_minor": 0
}