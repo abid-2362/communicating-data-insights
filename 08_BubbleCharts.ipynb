{
 "cells": [
  {
   "cell_type": "markdown",
   "source": [
    "# Bubble Charts in Plotly\n",
    "**Abid Ali**\n",
    "\n",
    "Email: [abdsoftfsd@gmail.com](mailto:abdsoftfsd@gmail.com)\n",
    "\n",
    "Skype: abd.soft"
   ],
   "metadata": {
    "collapsed": false,
    "pycharm": {
     "name": "#%% md\n"
    }
   }
  },
  {
   "cell_type": "code",
   "execution_count": 27,
   "outputs": [],
   "source": [
    "# !pip install -U plotly\n"
   ],
   "metadata": {
    "collapsed": false,
    "pycharm": {
     "name": "#%%\n"
    }
   }
  },
  {
   "cell_type": "code",
   "execution_count": 28,
   "outputs": [
    {
     "data": {
      "text/html": "        <script type=\"text/javascript\">\n        window.PlotlyConfig = {MathJaxConfig: 'local'};\n        if (window.MathJax && window.MathJax.Hub && window.MathJax.Hub.Config) {window.MathJax.Hub.Config({SVG: {font: \"STIX-Web\"}});}\n        if (typeof require !== 'undefined') {\n        require.undef(\"plotly\");\n        requirejs.config({\n            paths: {\n                'plotly': ['https://cdn.plot.ly/plotly-2.12.1.min']\n            }\n        });\n        require(['plotly'], function(Plotly) {\n            window._Plotly = Plotly;\n        });\n        }\n        </script>\n        "
     },
     "metadata": {},
     "output_type": "display_data"
    }
   ],
   "source": [
    "import pandas as pd\n",
    "import plotly\n",
    "import plotly.graph_objs as go\n",
    "import plotly.offline as offline\n",
    "\n",
    "offline.init_notebook_mode(connected=True)"
   ],
   "metadata": {
    "collapsed": false,
    "pycharm": {
     "name": "#%%\n"
    }
   }
  },
  {
   "cell_type": "code",
   "execution_count": 29,
   "outputs": [
    {
     "data": {
      "application/vnd.plotly.v1+json": {
       "data": [
        {
         "mode": "markers",
         "x": [
          15,
          18,
          21,
          25
         ],
         "y": [
          100,
          400,
          300,
          200
         ],
         "type": "scatter"
        }
       ],
       "layout": {
        "template": {
         "data": {
          "barpolar": [
           {
            "marker": {
             "line": {
              "color": "rgb(17,17,17)",
              "width": 0.5
             },
             "pattern": {
              "fillmode": "overlay",
              "size": 10,
              "solidity": 0.2
             }
            },
            "type": "barpolar"
           }
          ],
          "bar": [
           {
            "error_x": {
             "color": "#f2f5fa"
            },
            "error_y": {
             "color": "#f2f5fa"
            },
            "marker": {
             "line": {
              "color": "rgb(17,17,17)",
              "width": 0.5
             },
             "pattern": {
              "fillmode": "overlay",
              "size": 10,
              "solidity": 0.2
             }
            },
            "type": "bar"
           }
          ],
          "carpet": [
           {
            "aaxis": {
             "endlinecolor": "#A2B1C6",
             "gridcolor": "#506784",
             "linecolor": "#506784",
             "minorgridcolor": "#506784",
             "startlinecolor": "#A2B1C6"
            },
            "baxis": {
             "endlinecolor": "#A2B1C6",
             "gridcolor": "#506784",
             "linecolor": "#506784",
             "minorgridcolor": "#506784",
             "startlinecolor": "#A2B1C6"
            },
            "type": "carpet"
           }
          ],
          "choropleth": [
           {
            "colorbar": {
             "outlinewidth": 0,
             "ticks": ""
            },
            "type": "choropleth"
           }
          ],
          "contourcarpet": [
           {
            "colorbar": {
             "outlinewidth": 0,
             "ticks": ""
            },
            "type": "contourcarpet"
           }
          ],
          "contour": [
           {
            "colorbar": {
             "outlinewidth": 0,
             "ticks": ""
            },
            "colorscale": [
             [
              0.0,
              "#0d0887"
             ],
             [
              0.1111111111111111,
              "#46039f"
             ],
             [
              0.2222222222222222,
              "#7201a8"
             ],
             [
              0.3333333333333333,
              "#9c179e"
             ],
             [
              0.4444444444444444,
              "#bd3786"
             ],
             [
              0.5555555555555556,
              "#d8576b"
             ],
             [
              0.6666666666666666,
              "#ed7953"
             ],
             [
              0.7777777777777778,
              "#fb9f3a"
             ],
             [
              0.8888888888888888,
              "#fdca26"
             ],
             [
              1.0,
              "#f0f921"
             ]
            ],
            "type": "contour"
           }
          ],
          "heatmapgl": [
           {
            "colorbar": {
             "outlinewidth": 0,
             "ticks": ""
            },
            "colorscale": [
             [
              0.0,
              "#0d0887"
             ],
             [
              0.1111111111111111,
              "#46039f"
             ],
             [
              0.2222222222222222,
              "#7201a8"
             ],
             [
              0.3333333333333333,
              "#9c179e"
             ],
             [
              0.4444444444444444,
              "#bd3786"
             ],
             [
              0.5555555555555556,
              "#d8576b"
             ],
             [
              0.6666666666666666,
              "#ed7953"
             ],
             [
              0.7777777777777778,
              "#fb9f3a"
             ],
             [
              0.8888888888888888,
              "#fdca26"
             ],
             [
              1.0,
              "#f0f921"
             ]
            ],
            "type": "heatmapgl"
           }
          ],
          "heatmap": [
           {
            "colorbar": {
             "outlinewidth": 0,
             "ticks": ""
            },
            "colorscale": [
             [
              0.0,
              "#0d0887"
             ],
             [
              0.1111111111111111,
              "#46039f"
             ],
             [
              0.2222222222222222,
              "#7201a8"
             ],
             [
              0.3333333333333333,
              "#9c179e"
             ],
             [
              0.4444444444444444,
              "#bd3786"
             ],
             [
              0.5555555555555556,
              "#d8576b"
             ],
             [
              0.6666666666666666,
              "#ed7953"
             ],
             [
              0.7777777777777778,
              "#fb9f3a"
             ],
             [
              0.8888888888888888,
              "#fdca26"
             ],
             [
              1.0,
              "#f0f921"
             ]
            ],
            "type": "heatmap"
           }
          ],
          "histogram2dcontour": [
           {
            "colorbar": {
             "outlinewidth": 0,
             "ticks": ""
            },
            "colorscale": [
             [
              0.0,
              "#0d0887"
             ],
             [
              0.1111111111111111,
              "#46039f"
             ],
             [
              0.2222222222222222,
              "#7201a8"
             ],
             [
              0.3333333333333333,
              "#9c179e"
             ],
             [
              0.4444444444444444,
              "#bd3786"
             ],
             [
              0.5555555555555556,
              "#d8576b"
             ],
             [
              0.6666666666666666,
              "#ed7953"
             ],
             [
              0.7777777777777778,
              "#fb9f3a"
             ],
             [
              0.8888888888888888,
              "#fdca26"
             ],
             [
              1.0,
              "#f0f921"
             ]
            ],
            "type": "histogram2dcontour"
           }
          ],
          "histogram2d": [
           {
            "colorbar": {
             "outlinewidth": 0,
             "ticks": ""
            },
            "colorscale": [
             [
              0.0,
              "#0d0887"
             ],
             [
              0.1111111111111111,
              "#46039f"
             ],
             [
              0.2222222222222222,
              "#7201a8"
             ],
             [
              0.3333333333333333,
              "#9c179e"
             ],
             [
              0.4444444444444444,
              "#bd3786"
             ],
             [
              0.5555555555555556,
              "#d8576b"
             ],
             [
              0.6666666666666666,
              "#ed7953"
             ],
             [
              0.7777777777777778,
              "#fb9f3a"
             ],
             [
              0.8888888888888888,
              "#fdca26"
             ],
             [
              1.0,
              "#f0f921"
             ]
            ],
            "type": "histogram2d"
           }
          ],
          "histogram": [
           {
            "marker": {
             "pattern": {
              "fillmode": "overlay",
              "size": 10,
              "solidity": 0.2
             }
            },
            "type": "histogram"
           }
          ],
          "mesh3d": [
           {
            "colorbar": {
             "outlinewidth": 0,
             "ticks": ""
            },
            "type": "mesh3d"
           }
          ],
          "parcoords": [
           {
            "line": {
             "colorbar": {
              "outlinewidth": 0,
              "ticks": ""
             }
            },
            "type": "parcoords"
           }
          ],
          "pie": [
           {
            "automargin": true,
            "type": "pie"
           }
          ],
          "scatter3d": [
           {
            "line": {
             "colorbar": {
              "outlinewidth": 0,
              "ticks": ""
             }
            },
            "marker": {
             "colorbar": {
              "outlinewidth": 0,
              "ticks": ""
             }
            },
            "type": "scatter3d"
           }
          ],
          "scattercarpet": [
           {
            "marker": {
             "colorbar": {
              "outlinewidth": 0,
              "ticks": ""
             }
            },
            "type": "scattercarpet"
           }
          ],
          "scattergeo": [
           {
            "marker": {
             "colorbar": {
              "outlinewidth": 0,
              "ticks": ""
             }
            },
            "type": "scattergeo"
           }
          ],
          "scattergl": [
           {
            "marker": {
             "line": {
              "color": "#283442"
             }
            },
            "type": "scattergl"
           }
          ],
          "scattermapbox": [
           {
            "marker": {
             "colorbar": {
              "outlinewidth": 0,
              "ticks": ""
             }
            },
            "type": "scattermapbox"
           }
          ],
          "scatterpolargl": [
           {
            "marker": {
             "colorbar": {
              "outlinewidth": 0,
              "ticks": ""
             }
            },
            "type": "scatterpolargl"
           }
          ],
          "scatterpolar": [
           {
            "marker": {
             "colorbar": {
              "outlinewidth": 0,
              "ticks": ""
             }
            },
            "type": "scatterpolar"
           }
          ],
          "scatter": [
           {
            "marker": {
             "line": {
              "color": "#283442"
             }
            },
            "type": "scatter"
           }
          ],
          "scatterternary": [
           {
            "marker": {
             "colorbar": {
              "outlinewidth": 0,
              "ticks": ""
             }
            },
            "type": "scatterternary"
           }
          ],
          "surface": [
           {
            "colorbar": {
             "outlinewidth": 0,
             "ticks": ""
            },
            "colorscale": [
             [
              0.0,
              "#0d0887"
             ],
             [
              0.1111111111111111,
              "#46039f"
             ],
             [
              0.2222222222222222,
              "#7201a8"
             ],
             [
              0.3333333333333333,
              "#9c179e"
             ],
             [
              0.4444444444444444,
              "#bd3786"
             ],
             [
              0.5555555555555556,
              "#d8576b"
             ],
             [
              0.6666666666666666,
              "#ed7953"
             ],
             [
              0.7777777777777778,
              "#fb9f3a"
             ],
             [
              0.8888888888888888,
              "#fdca26"
             ],
             [
              1.0,
              "#f0f921"
             ]
            ],
            "type": "surface"
           }
          ],
          "table": [
           {
            "cells": {
             "fill": {
              "color": "#506784"
             },
             "line": {
              "color": "rgb(17,17,17)"
             }
            },
            "header": {
             "fill": {
              "color": "#2a3f5f"
             },
             "line": {
              "color": "rgb(17,17,17)"
             }
            },
            "type": "table"
           }
          ]
         },
         "layout": {
          "annotationdefaults": {
           "arrowcolor": "#f2f5fa",
           "arrowhead": 0,
           "arrowwidth": 1
          },
          "autotypenumbers": "strict",
          "coloraxis": {
           "colorbar": {
            "outlinewidth": 0,
            "ticks": ""
           }
          },
          "colorscale": {
           "diverging": [
            [
             0,
             "#8e0152"
            ],
            [
             0.1,
             "#c51b7d"
            ],
            [
             0.2,
             "#de77ae"
            ],
            [
             0.3,
             "#f1b6da"
            ],
            [
             0.4,
             "#fde0ef"
            ],
            [
             0.5,
             "#f7f7f7"
            ],
            [
             0.6,
             "#e6f5d0"
            ],
            [
             0.7,
             "#b8e186"
            ],
            [
             0.8,
             "#7fbc41"
            ],
            [
             0.9,
             "#4d9221"
            ],
            [
             1,
             "#276419"
            ]
           ],
           "sequential": [
            [
             0.0,
             "#0d0887"
            ],
            [
             0.1111111111111111,
             "#46039f"
            ],
            [
             0.2222222222222222,
             "#7201a8"
            ],
            [
             0.3333333333333333,
             "#9c179e"
            ],
            [
             0.4444444444444444,
             "#bd3786"
            ],
            [
             0.5555555555555556,
             "#d8576b"
            ],
            [
             0.6666666666666666,
             "#ed7953"
            ],
            [
             0.7777777777777778,
             "#fb9f3a"
            ],
            [
             0.8888888888888888,
             "#fdca26"
            ],
            [
             1.0,
             "#f0f921"
            ]
           ],
           "sequentialminus": [
            [
             0.0,
             "#0d0887"
            ],
            [
             0.1111111111111111,
             "#46039f"
            ],
            [
             0.2222222222222222,
             "#7201a8"
            ],
            [
             0.3333333333333333,
             "#9c179e"
            ],
            [
             0.4444444444444444,
             "#bd3786"
            ],
            [
             0.5555555555555556,
             "#d8576b"
            ],
            [
             0.6666666666666666,
             "#ed7953"
            ],
            [
             0.7777777777777778,
             "#fb9f3a"
            ],
            [
             0.8888888888888888,
             "#fdca26"
            ],
            [
             1.0,
             "#f0f921"
            ]
           ]
          },
          "colorway": [
           "#636efa",
           "#EF553B",
           "#00cc96",
           "#ab63fa",
           "#FFA15A",
           "#19d3f3",
           "#FF6692",
           "#B6E880",
           "#FF97FF",
           "#FECB52"
          ],
          "font": {
           "color": "#f2f5fa"
          },
          "geo": {
           "bgcolor": "rgb(17,17,17)",
           "lakecolor": "rgb(17,17,17)",
           "landcolor": "rgb(17,17,17)",
           "showlakes": true,
           "showland": true,
           "subunitcolor": "#506784"
          },
          "hoverlabel": {
           "align": "left"
          },
          "hovermode": "closest",
          "mapbox": {
           "style": "dark"
          },
          "paper_bgcolor": "rgb(17,17,17)",
          "plot_bgcolor": "rgb(17,17,17)",
          "polar": {
           "angularaxis": {
            "gridcolor": "#506784",
            "linecolor": "#506784",
            "ticks": ""
           },
           "bgcolor": "rgb(17,17,17)",
           "radialaxis": {
            "gridcolor": "#506784",
            "linecolor": "#506784",
            "ticks": ""
           }
          },
          "scene": {
           "xaxis": {
            "backgroundcolor": "rgb(17,17,17)",
            "gridcolor": "#506784",
            "gridwidth": 2,
            "linecolor": "#506784",
            "showbackground": true,
            "ticks": "",
            "zerolinecolor": "#C8D4E3"
           },
           "yaxis": {
            "backgroundcolor": "rgb(17,17,17)",
            "gridcolor": "#506784",
            "gridwidth": 2,
            "linecolor": "#506784",
            "showbackground": true,
            "ticks": "",
            "zerolinecolor": "#C8D4E3"
           },
           "zaxis": {
            "backgroundcolor": "rgb(17,17,17)",
            "gridcolor": "#506784",
            "gridwidth": 2,
            "linecolor": "#506784",
            "showbackground": true,
            "ticks": "",
            "zerolinecolor": "#C8D4E3"
           }
          },
          "shapedefaults": {
           "line": {
            "color": "#f2f5fa"
           }
          },
          "sliderdefaults": {
           "bgcolor": "#C8D4E3",
           "bordercolor": "rgb(17,17,17)",
           "borderwidth": 1,
           "tickwidth": 0
          },
          "ternary": {
           "aaxis": {
            "gridcolor": "#506784",
            "linecolor": "#506784",
            "ticks": ""
           },
           "baxis": {
            "gridcolor": "#506784",
            "linecolor": "#506784",
            "ticks": ""
           },
           "bgcolor": "rgb(17,17,17)",
           "caxis": {
            "gridcolor": "#506784",
            "linecolor": "#506784",
            "ticks": ""
           }
          },
          "title": {
           "x": 0.05
          },
          "updatemenudefaults": {
           "bgcolor": "#506784",
           "borderwidth": 0
          },
          "xaxis": {
           "automargin": true,
           "gridcolor": "#283442",
           "linecolor": "#506784",
           "ticks": "",
           "title": {
            "standoff": 15
           },
           "zerolinecolor": "#283442",
           "zerolinewidth": 2
          },
          "yaxis": {
           "automargin": true,
           "gridcolor": "#283442",
           "linecolor": "#506784",
           "ticks": "",
           "title": {
            "standoff": 15
           },
           "zerolinecolor": "#283442",
           "zerolinewidth": 2
          }
         }
        }
       },
       "config": {
        "showLink": false,
        "linkText": "Export to plot.ly",
        "plotlyServerURL": "https://plot.ly"
       }
      },
      "text/html": "<div>                            <div id=\"d8e22983-2f28-43b5-b491-b2351a4e743a\" class=\"plotly-graph-div\" style=\"height:525px; width:100%;\"></div>            <script type=\"text/javascript\">                require([\"plotly\"], function(Plotly) {                    window.PLOTLYENV=window.PLOTLYENV || {};                                    if (document.getElementById(\"d8e22983-2f28-43b5-b491-b2351a4e743a\")) {                    Plotly.newPlot(                        \"d8e22983-2f28-43b5-b491-b2351a4e743a\",                        [{\"mode\":\"markers\",\"x\":[15,18,21,25],\"y\":[100,400,300,200],\"type\":\"scatter\"}],                        {\"template\":{\"data\":{\"barpolar\":[{\"marker\":{\"line\":{\"color\":\"rgb(17,17,17)\",\"width\":0.5},\"pattern\":{\"fillmode\":\"overlay\",\"size\":10,\"solidity\":0.2}},\"type\":\"barpolar\"}],\"bar\":[{\"error_x\":{\"color\":\"#f2f5fa\"},\"error_y\":{\"color\":\"#f2f5fa\"},\"marker\":{\"line\":{\"color\":\"rgb(17,17,17)\",\"width\":0.5},\"pattern\":{\"fillmode\":\"overlay\",\"size\":10,\"solidity\":0.2}},\"type\":\"bar\"}],\"carpet\":[{\"aaxis\":{\"endlinecolor\":\"#A2B1C6\",\"gridcolor\":\"#506784\",\"linecolor\":\"#506784\",\"minorgridcolor\":\"#506784\",\"startlinecolor\":\"#A2B1C6\"},\"baxis\":{\"endlinecolor\":\"#A2B1C6\",\"gridcolor\":\"#506784\",\"linecolor\":\"#506784\",\"minorgridcolor\":\"#506784\",\"startlinecolor\":\"#A2B1C6\"},\"type\":\"carpet\"}],\"choropleth\":[{\"colorbar\":{\"outlinewidth\":0,\"ticks\":\"\"},\"type\":\"choropleth\"}],\"contourcarpet\":[{\"colorbar\":{\"outlinewidth\":0,\"ticks\":\"\"},\"type\":\"contourcarpet\"}],\"contour\":[{\"colorbar\":{\"outlinewidth\":0,\"ticks\":\"\"},\"colorscale\":[[0.0,\"#0d0887\"],[0.1111111111111111,\"#46039f\"],[0.2222222222222222,\"#7201a8\"],[0.3333333333333333,\"#9c179e\"],[0.4444444444444444,\"#bd3786\"],[0.5555555555555556,\"#d8576b\"],[0.6666666666666666,\"#ed7953\"],[0.7777777777777778,\"#fb9f3a\"],[0.8888888888888888,\"#fdca26\"],[1.0,\"#f0f921\"]],\"type\":\"contour\"}],\"heatmapgl\":[{\"colorbar\":{\"outlinewidth\":0,\"ticks\":\"\"},\"colorscale\":[[0.0,\"#0d0887\"],[0.1111111111111111,\"#46039f\"],[0.2222222222222222,\"#7201a8\"],[0.3333333333333333,\"#9c179e\"],[0.4444444444444444,\"#bd3786\"],[0.5555555555555556,\"#d8576b\"],[0.6666666666666666,\"#ed7953\"],[0.7777777777777778,\"#fb9f3a\"],[0.8888888888888888,\"#fdca26\"],[1.0,\"#f0f921\"]],\"type\":\"heatmapgl\"}],\"heatmap\":[{\"colorbar\":{\"outlinewidth\":0,\"ticks\":\"\"},\"colorscale\":[[0.0,\"#0d0887\"],[0.1111111111111111,\"#46039f\"],[0.2222222222222222,\"#7201a8\"],[0.3333333333333333,\"#9c179e\"],[0.4444444444444444,\"#bd3786\"],[0.5555555555555556,\"#d8576b\"],[0.6666666666666666,\"#ed7953\"],[0.7777777777777778,\"#fb9f3a\"],[0.8888888888888888,\"#fdca26\"],[1.0,\"#f0f921\"]],\"type\":\"heatmap\"}],\"histogram2dcontour\":[{\"colorbar\":{\"outlinewidth\":0,\"ticks\":\"\"},\"colorscale\":[[0.0,\"#0d0887\"],[0.1111111111111111,\"#46039f\"],[0.2222222222222222,\"#7201a8\"],[0.3333333333333333,\"#9c179e\"],[0.4444444444444444,\"#bd3786\"],[0.5555555555555556,\"#d8576b\"],[0.6666666666666666,\"#ed7953\"],[0.7777777777777778,\"#fb9f3a\"],[0.8888888888888888,\"#fdca26\"],[1.0,\"#f0f921\"]],\"type\":\"histogram2dcontour\"}],\"histogram2d\":[{\"colorbar\":{\"outlinewidth\":0,\"ticks\":\"\"},\"colorscale\":[[0.0,\"#0d0887\"],[0.1111111111111111,\"#46039f\"],[0.2222222222222222,\"#7201a8\"],[0.3333333333333333,\"#9c179e\"],[0.4444444444444444,\"#bd3786\"],[0.5555555555555556,\"#d8576b\"],[0.6666666666666666,\"#ed7953\"],[0.7777777777777778,\"#fb9f3a\"],[0.8888888888888888,\"#fdca26\"],[1.0,\"#f0f921\"]],\"type\":\"histogram2d\"}],\"histogram\":[{\"marker\":{\"pattern\":{\"fillmode\":\"overlay\",\"size\":10,\"solidity\":0.2}},\"type\":\"histogram\"}],\"mesh3d\":[{\"colorbar\":{\"outlinewidth\":0,\"ticks\":\"\"},\"type\":\"mesh3d\"}],\"parcoords\":[{\"line\":{\"colorbar\":{\"outlinewidth\":0,\"ticks\":\"\"}},\"type\":\"parcoords\"}],\"pie\":[{\"automargin\":true,\"type\":\"pie\"}],\"scatter3d\":[{\"line\":{\"colorbar\":{\"outlinewidth\":0,\"ticks\":\"\"}},\"marker\":{\"colorbar\":{\"outlinewidth\":0,\"ticks\":\"\"}},\"type\":\"scatter3d\"}],\"scattercarpet\":[{\"marker\":{\"colorbar\":{\"outlinewidth\":0,\"ticks\":\"\"}},\"type\":\"scattercarpet\"}],\"scattergeo\":[{\"marker\":{\"colorbar\":{\"outlinewidth\":0,\"ticks\":\"\"}},\"type\":\"scattergeo\"}],\"scattergl\":[{\"marker\":{\"line\":{\"color\":\"#283442\"}},\"type\":\"scattergl\"}],\"scattermapbox\":[{\"marker\":{\"colorbar\":{\"outlinewidth\":0,\"ticks\":\"\"}},\"type\":\"scattermapbox\"}],\"scatterpolargl\":[{\"marker\":{\"colorbar\":{\"outlinewidth\":0,\"ticks\":\"\"}},\"type\":\"scatterpolargl\"}],\"scatterpolar\":[{\"marker\":{\"colorbar\":{\"outlinewidth\":0,\"ticks\":\"\"}},\"type\":\"scatterpolar\"}],\"scatter\":[{\"marker\":{\"line\":{\"color\":\"#283442\"}},\"type\":\"scatter\"}],\"scatterternary\":[{\"marker\":{\"colorbar\":{\"outlinewidth\":0,\"ticks\":\"\"}},\"type\":\"scatterternary\"}],\"surface\":[{\"colorbar\":{\"outlinewidth\":0,\"ticks\":\"\"},\"colorscale\":[[0.0,\"#0d0887\"],[0.1111111111111111,\"#46039f\"],[0.2222222222222222,\"#7201a8\"],[0.3333333333333333,\"#9c179e\"],[0.4444444444444444,\"#bd3786\"],[0.5555555555555556,\"#d8576b\"],[0.6666666666666666,\"#ed7953\"],[0.7777777777777778,\"#fb9f3a\"],[0.8888888888888888,\"#fdca26\"],[1.0,\"#f0f921\"]],\"type\":\"surface\"}],\"table\":[{\"cells\":{\"fill\":{\"color\":\"#506784\"},\"line\":{\"color\":\"rgb(17,17,17)\"}},\"header\":{\"fill\":{\"color\":\"#2a3f5f\"},\"line\":{\"color\":\"rgb(17,17,17)\"}},\"type\":\"table\"}]},\"layout\":{\"annotationdefaults\":{\"arrowcolor\":\"#f2f5fa\",\"arrowhead\":0,\"arrowwidth\":1},\"autotypenumbers\":\"strict\",\"coloraxis\":{\"colorbar\":{\"outlinewidth\":0,\"ticks\":\"\"}},\"colorscale\":{\"diverging\":[[0,\"#8e0152\"],[0.1,\"#c51b7d\"],[0.2,\"#de77ae\"],[0.3,\"#f1b6da\"],[0.4,\"#fde0ef\"],[0.5,\"#f7f7f7\"],[0.6,\"#e6f5d0\"],[0.7,\"#b8e186\"],[0.8,\"#7fbc41\"],[0.9,\"#4d9221\"],[1,\"#276419\"]],\"sequential\":[[0.0,\"#0d0887\"],[0.1111111111111111,\"#46039f\"],[0.2222222222222222,\"#7201a8\"],[0.3333333333333333,\"#9c179e\"],[0.4444444444444444,\"#bd3786\"],[0.5555555555555556,\"#d8576b\"],[0.6666666666666666,\"#ed7953\"],[0.7777777777777778,\"#fb9f3a\"],[0.8888888888888888,\"#fdca26\"],[1.0,\"#f0f921\"]],\"sequentialminus\":[[0.0,\"#0d0887\"],[0.1111111111111111,\"#46039f\"],[0.2222222222222222,\"#7201a8\"],[0.3333333333333333,\"#9c179e\"],[0.4444444444444444,\"#bd3786\"],[0.5555555555555556,\"#d8576b\"],[0.6666666666666666,\"#ed7953\"],[0.7777777777777778,\"#fb9f3a\"],[0.8888888888888888,\"#fdca26\"],[1.0,\"#f0f921\"]]},\"colorway\":[\"#636efa\",\"#EF553B\",\"#00cc96\",\"#ab63fa\",\"#FFA15A\",\"#19d3f3\",\"#FF6692\",\"#B6E880\",\"#FF97FF\",\"#FECB52\"],\"font\":{\"color\":\"#f2f5fa\"},\"geo\":{\"bgcolor\":\"rgb(17,17,17)\",\"lakecolor\":\"rgb(17,17,17)\",\"landcolor\":\"rgb(17,17,17)\",\"showlakes\":true,\"showland\":true,\"subunitcolor\":\"#506784\"},\"hoverlabel\":{\"align\":\"left\"},\"hovermode\":\"closest\",\"mapbox\":{\"style\":\"dark\"},\"paper_bgcolor\":\"rgb(17,17,17)\",\"plot_bgcolor\":\"rgb(17,17,17)\",\"polar\":{\"angularaxis\":{\"gridcolor\":\"#506784\",\"linecolor\":\"#506784\",\"ticks\":\"\"},\"bgcolor\":\"rgb(17,17,17)\",\"radialaxis\":{\"gridcolor\":\"#506784\",\"linecolor\":\"#506784\",\"ticks\":\"\"}},\"scene\":{\"xaxis\":{\"backgroundcolor\":\"rgb(17,17,17)\",\"gridcolor\":\"#506784\",\"gridwidth\":2,\"linecolor\":\"#506784\",\"showbackground\":true,\"ticks\":\"\",\"zerolinecolor\":\"#C8D4E3\"},\"yaxis\":{\"backgroundcolor\":\"rgb(17,17,17)\",\"gridcolor\":\"#506784\",\"gridwidth\":2,\"linecolor\":\"#506784\",\"showbackground\":true,\"ticks\":\"\",\"zerolinecolor\":\"#C8D4E3\"},\"zaxis\":{\"backgroundcolor\":\"rgb(17,17,17)\",\"gridcolor\":\"#506784\",\"gridwidth\":2,\"linecolor\":\"#506784\",\"showbackground\":true,\"ticks\":\"\",\"zerolinecolor\":\"#C8D4E3\"}},\"shapedefaults\":{\"line\":{\"color\":\"#f2f5fa\"}},\"sliderdefaults\":{\"bgcolor\":\"#C8D4E3\",\"bordercolor\":\"rgb(17,17,17)\",\"borderwidth\":1,\"tickwidth\":0},\"ternary\":{\"aaxis\":{\"gridcolor\":\"#506784\",\"linecolor\":\"#506784\",\"ticks\":\"\"},\"baxis\":{\"gridcolor\":\"#506784\",\"linecolor\":\"#506784\",\"ticks\":\"\"},\"bgcolor\":\"rgb(17,17,17)\",\"caxis\":{\"gridcolor\":\"#506784\",\"linecolor\":\"#506784\",\"ticks\":\"\"}},\"title\":{\"x\":0.05},\"updatemenudefaults\":{\"bgcolor\":\"#506784\",\"borderwidth\":0},\"xaxis\":{\"automargin\":true,\"gridcolor\":\"#283442\",\"linecolor\":\"#506784\",\"ticks\":\"\",\"title\":{\"standoff\":15},\"zerolinecolor\":\"#283442\",\"zerolinewidth\":2},\"yaxis\":{\"automargin\":true,\"gridcolor\":\"#283442\",\"linecolor\":\"#506784\",\"ticks\":\"\",\"title\":{\"standoff\":15},\"zerolinecolor\":\"#283442\",\"zerolinewidth\":2}}}},                        {\"responsive\": true}                    ).then(function(){\n                            \nvar gd = document.getElementById('d8e22983-2f28-43b5-b491-b2351a4e743a');\nvar x = new MutationObserver(function (mutations, observer) {{\n        var display = window.getComputedStyle(gd).display;\n        if (!display || display === 'none') {{\n            console.log([gd, 'removed!']);\n            Plotly.purge(gd);\n            observer.disconnect();\n        }}\n}});\n\n// Listen for the removal of the full notebook cells\nvar notebookContainer = gd.closest('#notebook-container');\nif (notebookContainer) {{\n    x.observe(notebookContainer, {childList: true});\n}}\n\n// Listen for the clearing of the current output cell\nvar outputEl = gd.closest('.output');\nif (outputEl) {{\n    x.observe(outputEl, {childList: true});\n}}\n\n                        })                };                });            </script>        </div>"
     },
     "metadata": {},
     "output_type": "display_data"
    }
   ],
   "source": [
    "trace = go.Scatter(\n",
    "    x=[15, 18, 21, 25],\n",
    "    y=[100, 400, 300, 200],\n",
    "    mode='markers'\n",
    ")\n",
    "\n",
    "data = [trace]\n",
    "\n",
    "offline.iplot(data)\n"
   ],
   "metadata": {
    "collapsed": false,
    "pycharm": {
     "name": "#%%\n"
    }
   }
  },
  {
   "cell_type": "code",
   "execution_count": 30,
   "outputs": [
    {
     "data": {
      "application/vnd.plotly.v1+json": {
       "data": [
        {
         "mode": "markers",
         "x": [
          0.0,
          0.06346651825433926,
          0.12693303650867852,
          0.1903995547630178,
          0.25386607301735703,
          0.3173325912716963,
          0.3807991095260356,
          0.4442656277803748,
          0.5077321460347141,
          0.5711986642890533,
          0.6346651825433925,
          0.6981317007977318,
          0.7615982190520711,
          0.8250647373064104,
          0.8885312555607496,
          0.9519977738150889,
          1.0154642920694281,
          1.0789308103237674,
          1.1423973285781066,
          1.2058638468324459,
          1.269330365086785,
          1.3327968833411243,
          1.3962634015954636,
          1.4597299198498028,
          1.5231964381041423,
          1.5866629563584815,
          1.6501294746128208,
          1.71359599286716,
          1.7770625111214993,
          1.8405290293758385,
          1.9039955476301778,
          1.967462065884517,
          2.0309285841388562,
          2.0943951023931957,
          2.1578616206475347,
          2.221328138901874,
          2.284794657156213,
          2.3482611754105527,
          2.4117276936648917,
          2.475194211919231,
          2.53866073017357,
          2.6021272484279097,
          2.6655937666822487,
          2.729060284936588,
          2.792526803190927,
          2.8559933214452666,
          2.9194598396996057,
          2.982926357953945,
          3.0463928762082846,
          3.1098593944626236,
          3.173325912716963,
          3.236792430971302,
          3.3002589492256416,
          3.3637254674799806,
          3.42719198573432,
          3.490658503988659,
          3.5541250222429985,
          3.6175915404973376,
          3.681058058751677,
          3.744524577006016,
          3.8079910952603555,
          3.8714576135146945,
          3.934924131769034,
          3.998390650023373,
          4.0618571682777125,
          4.1253236865320515,
          4.188790204786391,
          4.25225672304073,
          4.3157232412950695,
          4.3791897595494085,
          4.442656277803748,
          4.506122796058087,
          4.569589314312426,
          4.6330558325667655,
          4.696522350821105,
          4.759988869075444,
          4.823455387329783,
          4.886921905584122,
          4.950388423838462,
          5.013854942092801,
          5.07732146034714,
          5.14078797860148,
          5.204254496855819,
          5.267721015110158,
          5.331187533364497,
          5.394654051618837,
          5.458120569873176,
          5.521587088127515,
          5.585053606381854,
          5.648520124636194,
          5.711986642890533,
          5.775453161144872,
          5.838919679399211,
          5.902386197653551,
          5.96585271590789,
          6.029319234162229,
          6.092785752416569,
          6.156252270670908,
          6.219718788925247,
          6.283185307179586
         ],
         "y": [
          0.0,
          0.0634239196565645,
          0.12659245357374926,
          0.18925124436041021,
          0.2511479871810792,
          0.3120334456984871,
          0.3716624556603276,
          0.42979491208917164,
          0.4861967361004687,
          0.5406408174555976,
          0.5929079290546404,
          0.6427876096865393,
          0.690079011482112,
          0.7345917086575333,
          0.7761464642917568,
          0.8145759520503357,
          0.8497254299495144,
          0.8814533634475821,
          0.9096319953545183,
          0.9341478602651067,
          0.9549022414440739,
          0.9718115683235417,
          0.984807753012208,
          0.9938384644612541,
          0.998867339183008,
          0.9998741276738751,
          0.9968547759519424,
          0.9898214418809327,
          0.9788024462147787,
          0.963842158559942,
          0.9450008187146685,
          0.9223542941045814,
          0.8959937742913359,
          0.8660254037844386,
          0.8325698546347714,
          0.795761840530832,
          0.7557495743542583,
          0.7126941713788627,
          0.6667690005162916,
          0.6181589862206052,
          0.5670598638627709,
          0.5136773915734063,
          0.4582265217274105,
          0.4009305354066136,
          0.3420201433256689,
          0.28173255684142967,
          0.2203105327865408,
          0.1580013959733499,
          0.09505604330418244,
          0.031727933498067656,
          -0.03172793349806786,
          -0.09505604330418263,
          -0.15800139597335008,
          -0.22031053278654056,
          -0.28173255684142984,
          -0.34202014332566866,
          -0.4009305354066138,
          -0.4582265217274103,
          -0.5136773915734064,
          -0.5670598638627706,
          -0.6181589862206053,
          -0.6667690005162915,
          -0.7126941713788629,
          -0.7557495743542582,
          -0.7957618405308321,
          -0.8325698546347713,
          -0.8660254037844388,
          -0.895993774291336,
          -0.9223542941045814,
          -0.9450008187146683,
          -0.9638421585599422,
          -0.9788024462147787,
          -0.9898214418809327,
          -0.9968547759519423,
          -0.9998741276738751,
          -0.998867339183008,
          -0.9938384644612541,
          -0.9848077530122081,
          -0.9718115683235417,
          -0.9549022414440739,
          -0.9341478602651068,
          -0.9096319953545182,
          -0.881453363447582,
          -0.8497254299495144,
          -0.8145759520503358,
          -0.7761464642917566,
          -0.7345917086575331,
          -0.690079011482112,
          -0.6427876096865396,
          -0.5929079290546402,
          -0.5406408174555974,
          -0.4861967361004688,
          -0.4297949120891719,
          -0.37166245566032724,
          -0.31203344569848707,
          -0.2511479871810794,
          -0.18925124436040974,
          -0.12659245357374904,
          -0.06342391965656452,
          -2.4492935982947064E-16
         ],
         "type": "scatter"
        }
       ],
       "layout": {
        "template": {
         "data": {
          "barpolar": [
           {
            "marker": {
             "line": {
              "color": "rgb(17,17,17)",
              "width": 0.5
             },
             "pattern": {
              "fillmode": "overlay",
              "size": 10,
              "solidity": 0.2
             }
            },
            "type": "barpolar"
           }
          ],
          "bar": [
           {
            "error_x": {
             "color": "#f2f5fa"
            },
            "error_y": {
             "color": "#f2f5fa"
            },
            "marker": {
             "line": {
              "color": "rgb(17,17,17)",
              "width": 0.5
             },
             "pattern": {
              "fillmode": "overlay",
              "size": 10,
              "solidity": 0.2
             }
            },
            "type": "bar"
           }
          ],
          "carpet": [
           {
            "aaxis": {
             "endlinecolor": "#A2B1C6",
             "gridcolor": "#506784",
             "linecolor": "#506784",
             "minorgridcolor": "#506784",
             "startlinecolor": "#A2B1C6"
            },
            "baxis": {
             "endlinecolor": "#A2B1C6",
             "gridcolor": "#506784",
             "linecolor": "#506784",
             "minorgridcolor": "#506784",
             "startlinecolor": "#A2B1C6"
            },
            "type": "carpet"
           }
          ],
          "choropleth": [
           {
            "colorbar": {
             "outlinewidth": 0,
             "ticks": ""
            },
            "type": "choropleth"
           }
          ],
          "contourcarpet": [
           {
            "colorbar": {
             "outlinewidth": 0,
             "ticks": ""
            },
            "type": "contourcarpet"
           }
          ],
          "contour": [
           {
            "colorbar": {
             "outlinewidth": 0,
             "ticks": ""
            },
            "colorscale": [
             [
              0.0,
              "#0d0887"
             ],
             [
              0.1111111111111111,
              "#46039f"
             ],
             [
              0.2222222222222222,
              "#7201a8"
             ],
             [
              0.3333333333333333,
              "#9c179e"
             ],
             [
              0.4444444444444444,
              "#bd3786"
             ],
             [
              0.5555555555555556,
              "#d8576b"
             ],
             [
              0.6666666666666666,
              "#ed7953"
             ],
             [
              0.7777777777777778,
              "#fb9f3a"
             ],
             [
              0.8888888888888888,
              "#fdca26"
             ],
             [
              1.0,
              "#f0f921"
             ]
            ],
            "type": "contour"
           }
          ],
          "heatmapgl": [
           {
            "colorbar": {
             "outlinewidth": 0,
             "ticks": ""
            },
            "colorscale": [
             [
              0.0,
              "#0d0887"
             ],
             [
              0.1111111111111111,
              "#46039f"
             ],
             [
              0.2222222222222222,
              "#7201a8"
             ],
             [
              0.3333333333333333,
              "#9c179e"
             ],
             [
              0.4444444444444444,
              "#bd3786"
             ],
             [
              0.5555555555555556,
              "#d8576b"
             ],
             [
              0.6666666666666666,
              "#ed7953"
             ],
             [
              0.7777777777777778,
              "#fb9f3a"
             ],
             [
              0.8888888888888888,
              "#fdca26"
             ],
             [
              1.0,
              "#f0f921"
             ]
            ],
            "type": "heatmapgl"
           }
          ],
          "heatmap": [
           {
            "colorbar": {
             "outlinewidth": 0,
             "ticks": ""
            },
            "colorscale": [
             [
              0.0,
              "#0d0887"
             ],
             [
              0.1111111111111111,
              "#46039f"
             ],
             [
              0.2222222222222222,
              "#7201a8"
             ],
             [
              0.3333333333333333,
              "#9c179e"
             ],
             [
              0.4444444444444444,
              "#bd3786"
             ],
             [
              0.5555555555555556,
              "#d8576b"
             ],
             [
              0.6666666666666666,
              "#ed7953"
             ],
             [
              0.7777777777777778,
              "#fb9f3a"
             ],
             [
              0.8888888888888888,
              "#fdca26"
             ],
             [
              1.0,
              "#f0f921"
             ]
            ],
            "type": "heatmap"
           }
          ],
          "histogram2dcontour": [
           {
            "colorbar": {
             "outlinewidth": 0,
             "ticks": ""
            },
            "colorscale": [
             [
              0.0,
              "#0d0887"
             ],
             [
              0.1111111111111111,
              "#46039f"
             ],
             [
              0.2222222222222222,
              "#7201a8"
             ],
             [
              0.3333333333333333,
              "#9c179e"
             ],
             [
              0.4444444444444444,
              "#bd3786"
             ],
             [
              0.5555555555555556,
              "#d8576b"
             ],
             [
              0.6666666666666666,
              "#ed7953"
             ],
             [
              0.7777777777777778,
              "#fb9f3a"
             ],
             [
              0.8888888888888888,
              "#fdca26"
             ],
             [
              1.0,
              "#f0f921"
             ]
            ],
            "type": "histogram2dcontour"
           }
          ],
          "histogram2d": [
           {
            "colorbar": {
             "outlinewidth": 0,
             "ticks": ""
            },
            "colorscale": [
             [
              0.0,
              "#0d0887"
             ],
             [
              0.1111111111111111,
              "#46039f"
             ],
             [
              0.2222222222222222,
              "#7201a8"
             ],
             [
              0.3333333333333333,
              "#9c179e"
             ],
             [
              0.4444444444444444,
              "#bd3786"
             ],
             [
              0.5555555555555556,
              "#d8576b"
             ],
             [
              0.6666666666666666,
              "#ed7953"
             ],
             [
              0.7777777777777778,
              "#fb9f3a"
             ],
             [
              0.8888888888888888,
              "#fdca26"
             ],
             [
              1.0,
              "#f0f921"
             ]
            ],
            "type": "histogram2d"
           }
          ],
          "histogram": [
           {
            "marker": {
             "pattern": {
              "fillmode": "overlay",
              "size": 10,
              "solidity": 0.2
             }
            },
            "type": "histogram"
           }
          ],
          "mesh3d": [
           {
            "colorbar": {
             "outlinewidth": 0,
             "ticks": ""
            },
            "type": "mesh3d"
           }
          ],
          "parcoords": [
           {
            "line": {
             "colorbar": {
              "outlinewidth": 0,
              "ticks": ""
             }
            },
            "type": "parcoords"
           }
          ],
          "pie": [
           {
            "automargin": true,
            "type": "pie"
           }
          ],
          "scatter3d": [
           {
            "line": {
             "colorbar": {
              "outlinewidth": 0,
              "ticks": ""
             }
            },
            "marker": {
             "colorbar": {
              "outlinewidth": 0,
              "ticks": ""
             }
            },
            "type": "scatter3d"
           }
          ],
          "scattercarpet": [
           {
            "marker": {
             "colorbar": {
              "outlinewidth": 0,
              "ticks": ""
             }
            },
            "type": "scattercarpet"
           }
          ],
          "scattergeo": [
           {
            "marker": {
             "colorbar": {
              "outlinewidth": 0,
              "ticks": ""
             }
            },
            "type": "scattergeo"
           }
          ],
          "scattergl": [
           {
            "marker": {
             "line": {
              "color": "#283442"
             }
            },
            "type": "scattergl"
           }
          ],
          "scattermapbox": [
           {
            "marker": {
             "colorbar": {
              "outlinewidth": 0,
              "ticks": ""
             }
            },
            "type": "scattermapbox"
           }
          ],
          "scatterpolargl": [
           {
            "marker": {
             "colorbar": {
              "outlinewidth": 0,
              "ticks": ""
             }
            },
            "type": "scatterpolargl"
           }
          ],
          "scatterpolar": [
           {
            "marker": {
             "colorbar": {
              "outlinewidth": 0,
              "ticks": ""
             }
            },
            "type": "scatterpolar"
           }
          ],
          "scatter": [
           {
            "marker": {
             "line": {
              "color": "#283442"
             }
            },
            "type": "scatter"
           }
          ],
          "scatterternary": [
           {
            "marker": {
             "colorbar": {
              "outlinewidth": 0,
              "ticks": ""
             }
            },
            "type": "scatterternary"
           }
          ],
          "surface": [
           {
            "colorbar": {
             "outlinewidth": 0,
             "ticks": ""
            },
            "colorscale": [
             [
              0.0,
              "#0d0887"
             ],
             [
              0.1111111111111111,
              "#46039f"
             ],
             [
              0.2222222222222222,
              "#7201a8"
             ],
             [
              0.3333333333333333,
              "#9c179e"
             ],
             [
              0.4444444444444444,
              "#bd3786"
             ],
             [
              0.5555555555555556,
              "#d8576b"
             ],
             [
              0.6666666666666666,
              "#ed7953"
             ],
             [
              0.7777777777777778,
              "#fb9f3a"
             ],
             [
              0.8888888888888888,
              "#fdca26"
             ],
             [
              1.0,
              "#f0f921"
             ]
            ],
            "type": "surface"
           }
          ],
          "table": [
           {
            "cells": {
             "fill": {
              "color": "#506784"
             },
             "line": {
              "color": "rgb(17,17,17)"
             }
            },
            "header": {
             "fill": {
              "color": "#2a3f5f"
             },
             "line": {
              "color": "rgb(17,17,17)"
             }
            },
            "type": "table"
           }
          ]
         },
         "layout": {
          "annotationdefaults": {
           "arrowcolor": "#f2f5fa",
           "arrowhead": 0,
           "arrowwidth": 1
          },
          "autotypenumbers": "strict",
          "coloraxis": {
           "colorbar": {
            "outlinewidth": 0,
            "ticks": ""
           }
          },
          "colorscale": {
           "diverging": [
            [
             0,
             "#8e0152"
            ],
            [
             0.1,
             "#c51b7d"
            ],
            [
             0.2,
             "#de77ae"
            ],
            [
             0.3,
             "#f1b6da"
            ],
            [
             0.4,
             "#fde0ef"
            ],
            [
             0.5,
             "#f7f7f7"
            ],
            [
             0.6,
             "#e6f5d0"
            ],
            [
             0.7,
             "#b8e186"
            ],
            [
             0.8,
             "#7fbc41"
            ],
            [
             0.9,
             "#4d9221"
            ],
            [
             1,
             "#276419"
            ]
           ],
           "sequential": [
            [
             0.0,
             "#0d0887"
            ],
            [
             0.1111111111111111,
             "#46039f"
            ],
            [
             0.2222222222222222,
             "#7201a8"
            ],
            [
             0.3333333333333333,
             "#9c179e"
            ],
            [
             0.4444444444444444,
             "#bd3786"
            ],
            [
             0.5555555555555556,
             "#d8576b"
            ],
            [
             0.6666666666666666,
             "#ed7953"
            ],
            [
             0.7777777777777778,
             "#fb9f3a"
            ],
            [
             0.8888888888888888,
             "#fdca26"
            ],
            [
             1.0,
             "#f0f921"
            ]
           ],
           "sequentialminus": [
            [
             0.0,
             "#0d0887"
            ],
            [
             0.1111111111111111,
             "#46039f"
            ],
            [
             0.2222222222222222,
             "#7201a8"
            ],
            [
             0.3333333333333333,
             "#9c179e"
            ],
            [
             0.4444444444444444,
             "#bd3786"
            ],
            [
             0.5555555555555556,
             "#d8576b"
            ],
            [
             0.6666666666666666,
             "#ed7953"
            ],
            [
             0.7777777777777778,
             "#fb9f3a"
            ],
            [
             0.8888888888888888,
             "#fdca26"
            ],
            [
             1.0,
             "#f0f921"
            ]
           ]
          },
          "colorway": [
           "#636efa",
           "#EF553B",
           "#00cc96",
           "#ab63fa",
           "#FFA15A",
           "#19d3f3",
           "#FF6692",
           "#B6E880",
           "#FF97FF",
           "#FECB52"
          ],
          "font": {
           "color": "#f2f5fa"
          },
          "geo": {
           "bgcolor": "rgb(17,17,17)",
           "lakecolor": "rgb(17,17,17)",
           "landcolor": "rgb(17,17,17)",
           "showlakes": true,
           "showland": true,
           "subunitcolor": "#506784"
          },
          "hoverlabel": {
           "align": "left"
          },
          "hovermode": "closest",
          "mapbox": {
           "style": "dark"
          },
          "paper_bgcolor": "rgb(17,17,17)",
          "plot_bgcolor": "rgb(17,17,17)",
          "polar": {
           "angularaxis": {
            "gridcolor": "#506784",
            "linecolor": "#506784",
            "ticks": ""
           },
           "bgcolor": "rgb(17,17,17)",
           "radialaxis": {
            "gridcolor": "#506784",
            "linecolor": "#506784",
            "ticks": ""
           }
          },
          "scene": {
           "xaxis": {
            "backgroundcolor": "rgb(17,17,17)",
            "gridcolor": "#506784",
            "gridwidth": 2,
            "linecolor": "#506784",
            "showbackground": true,
            "ticks": "",
            "zerolinecolor": "#C8D4E3"
           },
           "yaxis": {
            "backgroundcolor": "rgb(17,17,17)",
            "gridcolor": "#506784",
            "gridwidth": 2,
            "linecolor": "#506784",
            "showbackground": true,
            "ticks": "",
            "zerolinecolor": "#C8D4E3"
           },
           "zaxis": {
            "backgroundcolor": "rgb(17,17,17)",
            "gridcolor": "#506784",
            "gridwidth": 2,
            "linecolor": "#506784",
            "showbackground": true,
            "ticks": "",
            "zerolinecolor": "#C8D4E3"
           }
          },
          "shapedefaults": {
           "line": {
            "color": "#f2f5fa"
           }
          },
          "sliderdefaults": {
           "bgcolor": "#C8D4E3",
           "bordercolor": "rgb(17,17,17)",
           "borderwidth": 1,
           "tickwidth": 0
          },
          "ternary": {
           "aaxis": {
            "gridcolor": "#506784",
            "linecolor": "#506784",
            "ticks": ""
           },
           "baxis": {
            "gridcolor": "#506784",
            "linecolor": "#506784",
            "ticks": ""
           },
           "bgcolor": "rgb(17,17,17)",
           "caxis": {
            "gridcolor": "#506784",
            "linecolor": "#506784",
            "ticks": ""
           }
          },
          "title": {
           "x": 0.05
          },
          "updatemenudefaults": {
           "bgcolor": "#506784",
           "borderwidth": 0
          },
          "xaxis": {
           "automargin": true,
           "gridcolor": "#283442",
           "linecolor": "#506784",
           "ticks": "",
           "title": {
            "standoff": 15
           },
           "zerolinecolor": "#283442",
           "zerolinewidth": 2
          },
          "yaxis": {
           "automargin": true,
           "gridcolor": "#283442",
           "linecolor": "#506784",
           "ticks": "",
           "title": {
            "standoff": 15
           },
           "zerolinecolor": "#283442",
           "zerolinewidth": 2
          }
         }
        }
       },
       "config": {
        "showLink": false,
        "linkText": "Export to plot.ly",
        "plotlyServerURL": "https://plot.ly"
       }
      },
      "text/html": "<div>                            <div id=\"7d68722f-41ec-45f4-bd6a-4e8fc82c766b\" class=\"plotly-graph-div\" style=\"height:525px; width:100%;\"></div>            <script type=\"text/javascript\">                require([\"plotly\"], function(Plotly) {                    window.PLOTLYENV=window.PLOTLYENV || {};                                    if (document.getElementById(\"7d68722f-41ec-45f4-bd6a-4e8fc82c766b\")) {                    Plotly.newPlot(                        \"7d68722f-41ec-45f4-bd6a-4e8fc82c766b\",                        [{\"mode\":\"markers\",\"x\":[0.0,0.06346651825433926,0.12693303650867852,0.1903995547630178,0.25386607301735703,0.3173325912716963,0.3807991095260356,0.4442656277803748,0.5077321460347141,0.5711986642890533,0.6346651825433925,0.6981317007977318,0.7615982190520711,0.8250647373064104,0.8885312555607496,0.9519977738150889,1.0154642920694281,1.0789308103237674,1.1423973285781066,1.2058638468324459,1.269330365086785,1.3327968833411243,1.3962634015954636,1.4597299198498028,1.5231964381041423,1.5866629563584815,1.6501294746128208,1.71359599286716,1.7770625111214993,1.8405290293758385,1.9039955476301778,1.967462065884517,2.0309285841388562,2.0943951023931957,2.1578616206475347,2.221328138901874,2.284794657156213,2.3482611754105527,2.4117276936648917,2.475194211919231,2.53866073017357,2.6021272484279097,2.6655937666822487,2.729060284936588,2.792526803190927,2.8559933214452666,2.9194598396996057,2.982926357953945,3.0463928762082846,3.1098593944626236,3.173325912716963,3.236792430971302,3.3002589492256416,3.3637254674799806,3.42719198573432,3.490658503988659,3.5541250222429985,3.6175915404973376,3.681058058751677,3.744524577006016,3.8079910952603555,3.8714576135146945,3.934924131769034,3.998390650023373,4.0618571682777125,4.1253236865320515,4.188790204786391,4.25225672304073,4.3157232412950695,4.3791897595494085,4.442656277803748,4.506122796058087,4.569589314312426,4.6330558325667655,4.696522350821105,4.759988869075444,4.823455387329783,4.886921905584122,4.950388423838462,5.013854942092801,5.07732146034714,5.14078797860148,5.204254496855819,5.267721015110158,5.331187533364497,5.394654051618837,5.458120569873176,5.521587088127515,5.585053606381854,5.648520124636194,5.711986642890533,5.775453161144872,5.838919679399211,5.902386197653551,5.96585271590789,6.029319234162229,6.092785752416569,6.156252270670908,6.219718788925247,6.283185307179586],\"y\":[0.0,0.0634239196565645,0.12659245357374926,0.18925124436041021,0.2511479871810792,0.3120334456984871,0.3716624556603276,0.42979491208917164,0.4861967361004687,0.5406408174555976,0.5929079290546404,0.6427876096865393,0.690079011482112,0.7345917086575333,0.7761464642917568,0.8145759520503357,0.8497254299495144,0.8814533634475821,0.9096319953545183,0.9341478602651067,0.9549022414440739,0.9718115683235417,0.984807753012208,0.9938384644612541,0.998867339183008,0.9998741276738751,0.9968547759519424,0.9898214418809327,0.9788024462147787,0.963842158559942,0.9450008187146685,0.9223542941045814,0.8959937742913359,0.8660254037844386,0.8325698546347714,0.795761840530832,0.7557495743542583,0.7126941713788627,0.6667690005162916,0.6181589862206052,0.5670598638627709,0.5136773915734063,0.4582265217274105,0.4009305354066136,0.3420201433256689,0.28173255684142967,0.2203105327865408,0.1580013959733499,0.09505604330418244,0.031727933498067656,-0.03172793349806786,-0.09505604330418263,-0.15800139597335008,-0.22031053278654056,-0.28173255684142984,-0.34202014332566866,-0.4009305354066138,-0.4582265217274103,-0.5136773915734064,-0.5670598638627706,-0.6181589862206053,-0.6667690005162915,-0.7126941713788629,-0.7557495743542582,-0.7957618405308321,-0.8325698546347713,-0.8660254037844388,-0.895993774291336,-0.9223542941045814,-0.9450008187146683,-0.9638421585599422,-0.9788024462147787,-0.9898214418809327,-0.9968547759519423,-0.9998741276738751,-0.998867339183008,-0.9938384644612541,-0.9848077530122081,-0.9718115683235417,-0.9549022414440739,-0.9341478602651068,-0.9096319953545182,-0.881453363447582,-0.8497254299495144,-0.8145759520503358,-0.7761464642917566,-0.7345917086575331,-0.690079011482112,-0.6427876096865396,-0.5929079290546402,-0.5406408174555974,-0.4861967361004688,-0.4297949120891719,-0.37166245566032724,-0.31203344569848707,-0.2511479871810794,-0.18925124436040974,-0.12659245357374904,-0.06342391965656452,-2.4492935982947064e-16],\"type\":\"scatter\"}],                        {\"template\":{\"data\":{\"barpolar\":[{\"marker\":{\"line\":{\"color\":\"rgb(17,17,17)\",\"width\":0.5},\"pattern\":{\"fillmode\":\"overlay\",\"size\":10,\"solidity\":0.2}},\"type\":\"barpolar\"}],\"bar\":[{\"error_x\":{\"color\":\"#f2f5fa\"},\"error_y\":{\"color\":\"#f2f5fa\"},\"marker\":{\"line\":{\"color\":\"rgb(17,17,17)\",\"width\":0.5},\"pattern\":{\"fillmode\":\"overlay\",\"size\":10,\"solidity\":0.2}},\"type\":\"bar\"}],\"carpet\":[{\"aaxis\":{\"endlinecolor\":\"#A2B1C6\",\"gridcolor\":\"#506784\",\"linecolor\":\"#506784\",\"minorgridcolor\":\"#506784\",\"startlinecolor\":\"#A2B1C6\"},\"baxis\":{\"endlinecolor\":\"#A2B1C6\",\"gridcolor\":\"#506784\",\"linecolor\":\"#506784\",\"minorgridcolor\":\"#506784\",\"startlinecolor\":\"#A2B1C6\"},\"type\":\"carpet\"}],\"choropleth\":[{\"colorbar\":{\"outlinewidth\":0,\"ticks\":\"\"},\"type\":\"choropleth\"}],\"contourcarpet\":[{\"colorbar\":{\"outlinewidth\":0,\"ticks\":\"\"},\"type\":\"contourcarpet\"}],\"contour\":[{\"colorbar\":{\"outlinewidth\":0,\"ticks\":\"\"},\"colorscale\":[[0.0,\"#0d0887\"],[0.1111111111111111,\"#46039f\"],[0.2222222222222222,\"#7201a8\"],[0.3333333333333333,\"#9c179e\"],[0.4444444444444444,\"#bd3786\"],[0.5555555555555556,\"#d8576b\"],[0.6666666666666666,\"#ed7953\"],[0.7777777777777778,\"#fb9f3a\"],[0.8888888888888888,\"#fdca26\"],[1.0,\"#f0f921\"]],\"type\":\"contour\"}],\"heatmapgl\":[{\"colorbar\":{\"outlinewidth\":0,\"ticks\":\"\"},\"colorscale\":[[0.0,\"#0d0887\"],[0.1111111111111111,\"#46039f\"],[0.2222222222222222,\"#7201a8\"],[0.3333333333333333,\"#9c179e\"],[0.4444444444444444,\"#bd3786\"],[0.5555555555555556,\"#d8576b\"],[0.6666666666666666,\"#ed7953\"],[0.7777777777777778,\"#fb9f3a\"],[0.8888888888888888,\"#fdca26\"],[1.0,\"#f0f921\"]],\"type\":\"heatmapgl\"}],\"heatmap\":[{\"colorbar\":{\"outlinewidth\":0,\"ticks\":\"\"},\"colorscale\":[[0.0,\"#0d0887\"],[0.1111111111111111,\"#46039f\"],[0.2222222222222222,\"#7201a8\"],[0.3333333333333333,\"#9c179e\"],[0.4444444444444444,\"#bd3786\"],[0.5555555555555556,\"#d8576b\"],[0.6666666666666666,\"#ed7953\"],[0.7777777777777778,\"#fb9f3a\"],[0.8888888888888888,\"#fdca26\"],[1.0,\"#f0f921\"]],\"type\":\"heatmap\"}],\"histogram2dcontour\":[{\"colorbar\":{\"outlinewidth\":0,\"ticks\":\"\"},\"colorscale\":[[0.0,\"#0d0887\"],[0.1111111111111111,\"#46039f\"],[0.2222222222222222,\"#7201a8\"],[0.3333333333333333,\"#9c179e\"],[0.4444444444444444,\"#bd3786\"],[0.5555555555555556,\"#d8576b\"],[0.6666666666666666,\"#ed7953\"],[0.7777777777777778,\"#fb9f3a\"],[0.8888888888888888,\"#fdca26\"],[1.0,\"#f0f921\"]],\"type\":\"histogram2dcontour\"}],\"histogram2d\":[{\"colorbar\":{\"outlinewidth\":0,\"ticks\":\"\"},\"colorscale\":[[0.0,\"#0d0887\"],[0.1111111111111111,\"#46039f\"],[0.2222222222222222,\"#7201a8\"],[0.3333333333333333,\"#9c179e\"],[0.4444444444444444,\"#bd3786\"],[0.5555555555555556,\"#d8576b\"],[0.6666666666666666,\"#ed7953\"],[0.7777777777777778,\"#fb9f3a\"],[0.8888888888888888,\"#fdca26\"],[1.0,\"#f0f921\"]],\"type\":\"histogram2d\"}],\"histogram\":[{\"marker\":{\"pattern\":{\"fillmode\":\"overlay\",\"size\":10,\"solidity\":0.2}},\"type\":\"histogram\"}],\"mesh3d\":[{\"colorbar\":{\"outlinewidth\":0,\"ticks\":\"\"},\"type\":\"mesh3d\"}],\"parcoords\":[{\"line\":{\"colorbar\":{\"outlinewidth\":0,\"ticks\":\"\"}},\"type\":\"parcoords\"}],\"pie\":[{\"automargin\":true,\"type\":\"pie\"}],\"scatter3d\":[{\"line\":{\"colorbar\":{\"outlinewidth\":0,\"ticks\":\"\"}},\"marker\":{\"colorbar\":{\"outlinewidth\":0,\"ticks\":\"\"}},\"type\":\"scatter3d\"}],\"scattercarpet\":[{\"marker\":{\"colorbar\":{\"outlinewidth\":0,\"ticks\":\"\"}},\"type\":\"scattercarpet\"}],\"scattergeo\":[{\"marker\":{\"colorbar\":{\"outlinewidth\":0,\"ticks\":\"\"}},\"type\":\"scattergeo\"}],\"scattergl\":[{\"marker\":{\"line\":{\"color\":\"#283442\"}},\"type\":\"scattergl\"}],\"scattermapbox\":[{\"marker\":{\"colorbar\":{\"outlinewidth\":0,\"ticks\":\"\"}},\"type\":\"scattermapbox\"}],\"scatterpolargl\":[{\"marker\":{\"colorbar\":{\"outlinewidth\":0,\"ticks\":\"\"}},\"type\":\"scatterpolargl\"}],\"scatterpolar\":[{\"marker\":{\"colorbar\":{\"outlinewidth\":0,\"ticks\":\"\"}},\"type\":\"scatterpolar\"}],\"scatter\":[{\"marker\":{\"line\":{\"color\":\"#283442\"}},\"type\":\"scatter\"}],\"scatterternary\":[{\"marker\":{\"colorbar\":{\"outlinewidth\":0,\"ticks\":\"\"}},\"type\":\"scatterternary\"}],\"surface\":[{\"colorbar\":{\"outlinewidth\":0,\"ticks\":\"\"},\"colorscale\":[[0.0,\"#0d0887\"],[0.1111111111111111,\"#46039f\"],[0.2222222222222222,\"#7201a8\"],[0.3333333333333333,\"#9c179e\"],[0.4444444444444444,\"#bd3786\"],[0.5555555555555556,\"#d8576b\"],[0.6666666666666666,\"#ed7953\"],[0.7777777777777778,\"#fb9f3a\"],[0.8888888888888888,\"#fdca26\"],[1.0,\"#f0f921\"]],\"type\":\"surface\"}],\"table\":[{\"cells\":{\"fill\":{\"color\":\"#506784\"},\"line\":{\"color\":\"rgb(17,17,17)\"}},\"header\":{\"fill\":{\"color\":\"#2a3f5f\"},\"line\":{\"color\":\"rgb(17,17,17)\"}},\"type\":\"table\"}]},\"layout\":{\"annotationdefaults\":{\"arrowcolor\":\"#f2f5fa\",\"arrowhead\":0,\"arrowwidth\":1},\"autotypenumbers\":\"strict\",\"coloraxis\":{\"colorbar\":{\"outlinewidth\":0,\"ticks\":\"\"}},\"colorscale\":{\"diverging\":[[0,\"#8e0152\"],[0.1,\"#c51b7d\"],[0.2,\"#de77ae\"],[0.3,\"#f1b6da\"],[0.4,\"#fde0ef\"],[0.5,\"#f7f7f7\"],[0.6,\"#e6f5d0\"],[0.7,\"#b8e186\"],[0.8,\"#7fbc41\"],[0.9,\"#4d9221\"],[1,\"#276419\"]],\"sequential\":[[0.0,\"#0d0887\"],[0.1111111111111111,\"#46039f\"],[0.2222222222222222,\"#7201a8\"],[0.3333333333333333,\"#9c179e\"],[0.4444444444444444,\"#bd3786\"],[0.5555555555555556,\"#d8576b\"],[0.6666666666666666,\"#ed7953\"],[0.7777777777777778,\"#fb9f3a\"],[0.8888888888888888,\"#fdca26\"],[1.0,\"#f0f921\"]],\"sequentialminus\":[[0.0,\"#0d0887\"],[0.1111111111111111,\"#46039f\"],[0.2222222222222222,\"#7201a8\"],[0.3333333333333333,\"#9c179e\"],[0.4444444444444444,\"#bd3786\"],[0.5555555555555556,\"#d8576b\"],[0.6666666666666666,\"#ed7953\"],[0.7777777777777778,\"#fb9f3a\"],[0.8888888888888888,\"#fdca26\"],[1.0,\"#f0f921\"]]},\"colorway\":[\"#636efa\",\"#EF553B\",\"#00cc96\",\"#ab63fa\",\"#FFA15A\",\"#19d3f3\",\"#FF6692\",\"#B6E880\",\"#FF97FF\",\"#FECB52\"],\"font\":{\"color\":\"#f2f5fa\"},\"geo\":{\"bgcolor\":\"rgb(17,17,17)\",\"lakecolor\":\"rgb(17,17,17)\",\"landcolor\":\"rgb(17,17,17)\",\"showlakes\":true,\"showland\":true,\"subunitcolor\":\"#506784\"},\"hoverlabel\":{\"align\":\"left\"},\"hovermode\":\"closest\",\"mapbox\":{\"style\":\"dark\"},\"paper_bgcolor\":\"rgb(17,17,17)\",\"plot_bgcolor\":\"rgb(17,17,17)\",\"polar\":{\"angularaxis\":{\"gridcolor\":\"#506784\",\"linecolor\":\"#506784\",\"ticks\":\"\"},\"bgcolor\":\"rgb(17,17,17)\",\"radialaxis\":{\"gridcolor\":\"#506784\",\"linecolor\":\"#506784\",\"ticks\":\"\"}},\"scene\":{\"xaxis\":{\"backgroundcolor\":\"rgb(17,17,17)\",\"gridcolor\":\"#506784\",\"gridwidth\":2,\"linecolor\":\"#506784\",\"showbackground\":true,\"ticks\":\"\",\"zerolinecolor\":\"#C8D4E3\"},\"yaxis\":{\"backgroundcolor\":\"rgb(17,17,17)\",\"gridcolor\":\"#506784\",\"gridwidth\":2,\"linecolor\":\"#506784\",\"showbackground\":true,\"ticks\":\"\",\"zerolinecolor\":\"#C8D4E3\"},\"zaxis\":{\"backgroundcolor\":\"rgb(17,17,17)\",\"gridcolor\":\"#506784\",\"gridwidth\":2,\"linecolor\":\"#506784\",\"showbackground\":true,\"ticks\":\"\",\"zerolinecolor\":\"#C8D4E3\"}},\"shapedefaults\":{\"line\":{\"color\":\"#f2f5fa\"}},\"sliderdefaults\":{\"bgcolor\":\"#C8D4E3\",\"bordercolor\":\"rgb(17,17,17)\",\"borderwidth\":1,\"tickwidth\":0},\"ternary\":{\"aaxis\":{\"gridcolor\":\"#506784\",\"linecolor\":\"#506784\",\"ticks\":\"\"},\"baxis\":{\"gridcolor\":\"#506784\",\"linecolor\":\"#506784\",\"ticks\":\"\"},\"bgcolor\":\"rgb(17,17,17)\",\"caxis\":{\"gridcolor\":\"#506784\",\"linecolor\":\"#506784\",\"ticks\":\"\"}},\"title\":{\"x\":0.05},\"updatemenudefaults\":{\"bgcolor\":\"#506784\",\"borderwidth\":0},\"xaxis\":{\"automargin\":true,\"gridcolor\":\"#283442\",\"linecolor\":\"#506784\",\"ticks\":\"\",\"title\":{\"standoff\":15},\"zerolinecolor\":\"#283442\",\"zerolinewidth\":2},\"yaxis\":{\"automargin\":true,\"gridcolor\":\"#283442\",\"linecolor\":\"#506784\",\"ticks\":\"\",\"title\":{\"standoff\":15},\"zerolinecolor\":\"#283442\",\"zerolinewidth\":2}}}},                        {\"responsive\": true}                    ).then(function(){\n                            \nvar gd = document.getElementById('7d68722f-41ec-45f4-bd6a-4e8fc82c766b');\nvar x = new MutationObserver(function (mutations, observer) {{\n        var display = window.getComputedStyle(gd).display;\n        if (!display || display === 'none') {{\n            console.log([gd, 'removed!']);\n            Plotly.purge(gd);\n            observer.disconnect();\n        }}\n}});\n\n// Listen for the removal of the full notebook cells\nvar notebookContainer = gd.closest('#notebook-container');\nif (notebookContainer) {{\n    x.observe(notebookContainer, {childList: true});\n}}\n\n// Listen for the clearing of the current output cell\nvar outputEl = gd.closest('.output');\nif (outputEl) {{\n    x.observe(outputEl, {childList: true});\n}}\n\n                        })                };                });            </script>        </div>"
     },
     "metadata": {},
     "output_type": "display_data"
    }
   ],
   "source": [
    "import numpy as np\n",
    "\n",
    "# Plotting Sin Curve Using Plotly Scatter Plot\n",
    "x = np.linspace(0, 2 * np.pi, 100)\n",
    "y = np.sin(x)\n",
    "\n",
    "trace = go.Scatter(x=x, y=y, mode='markers')\n",
    "data = [trace]\n",
    "\n",
    "offline.iplot(data)\n"
   ],
   "metadata": {
    "collapsed": false,
    "pycharm": {
     "name": "#%%\n"
    }
   }
  },
  {
   "cell_type": "code",
   "execution_count": 31,
   "outputs": [
    {
     "data": {
      "application/vnd.plotly.v1+json": {
       "data": [
        {
         "mode": "markers",
         "x": [
          0.1,
          0.16245641724423826,
          0.2249128344884765,
          0.28736925173271477,
          0.349825668976953,
          0.4122820862211912,
          0.47473850346542945,
          0.5371949207096678,
          0.599651337953906,
          0.6621077551981442,
          0.7245641724423825,
          0.7870205896866207,
          0.8494770069308589,
          0.9119334241750972,
          0.9743898414193355,
          1.0368462586635738,
          1.099302675907812,
          1.1617590931520503,
          1.2242155103962886,
          1.2866719276405267,
          1.349128344884765,
          1.4115847621290032,
          1.4740411793732415,
          1.5364975966174799,
          1.598954013861718,
          1.6614104311059563,
          1.7238668483501944,
          1.7863232655944328,
          1.8487796828386711,
          1.9112361000829092,
          1.9736925173271476,
          2.0361489345713855,
          2.098605351815624,
          2.161061769059862,
          2.2235181863041005,
          2.285974603548339,
          2.348431020792577,
          2.410887438036815,
          2.4733438552810534,
          2.5358002725252917,
          2.59825668976953,
          2.6607131070137684,
          2.7231695242580063,
          2.7856259415022446,
          2.848082358746483,
          2.9105387759907213,
          2.9729951932349596,
          3.0354516104791975,
          3.097908027723436,
          3.160364444967674,
          3.2228208622119126,
          3.285277279456151,
          3.347733696700389,
          3.410190113944627,
          3.4726465311888655,
          3.535102948433104,
          3.597559365677342,
          3.66001578292158,
          3.7224722001658184,
          3.7849286174100567,
          3.847385034654295,
          3.9098414518985334,
          3.9722978691427713,
          4.03475428638701,
          4.097210703631248,
          4.159667120875485,
          4.222123538119724,
          4.284579955363962,
          4.3470363726082,
          4.409492789852439,
          4.471949207096677,
          4.534405624340915,
          4.596862041585154,
          4.659318458829392,
          4.72177487607363,
          4.784231293317868,
          4.846687710562106,
          4.909144127806345,
          4.971600545050583,
          5.034056962294821,
          5.09651337953906,
          5.158969796783298,
          5.221426214027536,
          5.283882631271775,
          5.346339048516012,
          5.40879546576025,
          5.471251883004489,
          5.533708300248727,
          5.596164717492965,
          5.658621134737204,
          5.721077551981442,
          5.78353396922568,
          5.845990386469919,
          5.908446803714157,
          5.9709032209583945,
          6.033359638202633,
          6.095816055446871,
          6.1582724726911096,
          6.220728889935348,
          6.283185307179586
         ],
         "y": [
          0.9950041652780258,
          0.9868329533230006,
          0.9748135505459399,
          0.958992827043041,
          0.9394324762982689,
          0.9162087746073819,
          0.8894122836357559,
          0.8591474972698915,
          0.8255324341397218,
          0.7886981774006928,
          0.748788363570254,
          0.7059586224120591,
          0.6603759700520697,
          0.612218157693126,
          0.561672978467698,
          0.5089375351317673,
          0.45421747145549596,
          0.3977261703079002,
          0.33968392156263005,
          0.2803170630696326,
          0.21985709804251274,
          0.15853979230337328,
          0.09660425490545602,
          0.03429200571873504,
          -0.028153966385559222,
          -0.09049015107883954,
          -0.152473466152501,
          -0.21386220542579423,
          -0.27441698128782466,
          -0.33390165819820694,
          -0.3920842735061531,
          -0.44873794199722356,
          -0.5036417406404361,
          -0.5565815700856196,
          -0.6073509895515807,
          -0.6557520218494033,
          -0.7015959254016617,
          -0.7447039302470345,
          -0.7849079351602404,
          -0.822051163168849,
          -0.8559887729107614,
          -0.8865884234483438,
          -0.9137307903367041,
          -0.9373100309336851,
          -0.957234197137077,
          -0.9734255939395713,
          -0.9858210824032541,
          -0.9943723258721797,
          -0.9990459784629104,
          -0.9998238150979957,
          -0.9967028025753215,
          -0.9896951113961917,
          -0.9788280683060182,
          -0.9641440497326869,
          -0.9457003165381443,
          -0.9235687907275936,
          -0.8978357749870312,
          -0.8686016161427998,
          -0.8359803138555059,
          -0.8000990760742174,
          -0.7610978229844614,
          -0.719128641384396,
          -0.6743551916168365,
          -0.6269520693698226,
          -0.5771041248344153,
          -0.5250057418746853,
          -0.47086008002079627,
          -0.41487828224106743,
          -0.357278651582323,
          -0.2982857998892601,
          -0.23812977192242946,
          -0.17704514829036536,
          -0.11527013069401099,
          -0.05304561305056372,
          0.009385757881073995,
          0.07178052871011754,
          0.13389538876920457,
          0.19548811891315293,
          0.25631853606128435,
          0.3161494298000411,
          0.37474748739358044,
          0.4318842035952329,
          0.4873367717119832,
          0.5408889524472343,
          0.5923319171337718,
          0.6414650620687121,
          0.6880967907749007,
          0.7320452611383115,
          0.7731390945079523,
          0.811218043993118,
          0.8461336193519415,
          0.8777496660344662,
          0.9059428961222425,
          0.9306033690940282,
          0.9516349205428302,
          0.9689555371724922,
          0.9824976766115092,
          0.992208530796952,
          0.9980502319014188,
          1.0
         ],
         "type": "scatter"
        }
       ],
       "layout": {
        "template": {
         "data": {
          "barpolar": [
           {
            "marker": {
             "line": {
              "color": "rgb(17,17,17)",
              "width": 0.5
             },
             "pattern": {
              "fillmode": "overlay",
              "size": 10,
              "solidity": 0.2
             }
            },
            "type": "barpolar"
           }
          ],
          "bar": [
           {
            "error_x": {
             "color": "#f2f5fa"
            },
            "error_y": {
             "color": "#f2f5fa"
            },
            "marker": {
             "line": {
              "color": "rgb(17,17,17)",
              "width": 0.5
             },
             "pattern": {
              "fillmode": "overlay",
              "size": 10,
              "solidity": 0.2
             }
            },
            "type": "bar"
           }
          ],
          "carpet": [
           {
            "aaxis": {
             "endlinecolor": "#A2B1C6",
             "gridcolor": "#506784",
             "linecolor": "#506784",
             "minorgridcolor": "#506784",
             "startlinecolor": "#A2B1C6"
            },
            "baxis": {
             "endlinecolor": "#A2B1C6",
             "gridcolor": "#506784",
             "linecolor": "#506784",
             "minorgridcolor": "#506784",
             "startlinecolor": "#A2B1C6"
            },
            "type": "carpet"
           }
          ],
          "choropleth": [
           {
            "colorbar": {
             "outlinewidth": 0,
             "ticks": ""
            },
            "type": "choropleth"
           }
          ],
          "contourcarpet": [
           {
            "colorbar": {
             "outlinewidth": 0,
             "ticks": ""
            },
            "type": "contourcarpet"
           }
          ],
          "contour": [
           {
            "colorbar": {
             "outlinewidth": 0,
             "ticks": ""
            },
            "colorscale": [
             [
              0.0,
              "#0d0887"
             ],
             [
              0.1111111111111111,
              "#46039f"
             ],
             [
              0.2222222222222222,
              "#7201a8"
             ],
             [
              0.3333333333333333,
              "#9c179e"
             ],
             [
              0.4444444444444444,
              "#bd3786"
             ],
             [
              0.5555555555555556,
              "#d8576b"
             ],
             [
              0.6666666666666666,
              "#ed7953"
             ],
             [
              0.7777777777777778,
              "#fb9f3a"
             ],
             [
              0.8888888888888888,
              "#fdca26"
             ],
             [
              1.0,
              "#f0f921"
             ]
            ],
            "type": "contour"
           }
          ],
          "heatmapgl": [
           {
            "colorbar": {
             "outlinewidth": 0,
             "ticks": ""
            },
            "colorscale": [
             [
              0.0,
              "#0d0887"
             ],
             [
              0.1111111111111111,
              "#46039f"
             ],
             [
              0.2222222222222222,
              "#7201a8"
             ],
             [
              0.3333333333333333,
              "#9c179e"
             ],
             [
              0.4444444444444444,
              "#bd3786"
             ],
             [
              0.5555555555555556,
              "#d8576b"
             ],
             [
              0.6666666666666666,
              "#ed7953"
             ],
             [
              0.7777777777777778,
              "#fb9f3a"
             ],
             [
              0.8888888888888888,
              "#fdca26"
             ],
             [
              1.0,
              "#f0f921"
             ]
            ],
            "type": "heatmapgl"
           }
          ],
          "heatmap": [
           {
            "colorbar": {
             "outlinewidth": 0,
             "ticks": ""
            },
            "colorscale": [
             [
              0.0,
              "#0d0887"
             ],
             [
              0.1111111111111111,
              "#46039f"
             ],
             [
              0.2222222222222222,
              "#7201a8"
             ],
             [
              0.3333333333333333,
              "#9c179e"
             ],
             [
              0.4444444444444444,
              "#bd3786"
             ],
             [
              0.5555555555555556,
              "#d8576b"
             ],
             [
              0.6666666666666666,
              "#ed7953"
             ],
             [
              0.7777777777777778,
              "#fb9f3a"
             ],
             [
              0.8888888888888888,
              "#fdca26"
             ],
             [
              1.0,
              "#f0f921"
             ]
            ],
            "type": "heatmap"
           }
          ],
          "histogram2dcontour": [
           {
            "colorbar": {
             "outlinewidth": 0,
             "ticks": ""
            },
            "colorscale": [
             [
              0.0,
              "#0d0887"
             ],
             [
              0.1111111111111111,
              "#46039f"
             ],
             [
              0.2222222222222222,
              "#7201a8"
             ],
             [
              0.3333333333333333,
              "#9c179e"
             ],
             [
              0.4444444444444444,
              "#bd3786"
             ],
             [
              0.5555555555555556,
              "#d8576b"
             ],
             [
              0.6666666666666666,
              "#ed7953"
             ],
             [
              0.7777777777777778,
              "#fb9f3a"
             ],
             [
              0.8888888888888888,
              "#fdca26"
             ],
             [
              1.0,
              "#f0f921"
             ]
            ],
            "type": "histogram2dcontour"
           }
          ],
          "histogram2d": [
           {
            "colorbar": {
             "outlinewidth": 0,
             "ticks": ""
            },
            "colorscale": [
             [
              0.0,
              "#0d0887"
             ],
             [
              0.1111111111111111,
              "#46039f"
             ],
             [
              0.2222222222222222,
              "#7201a8"
             ],
             [
              0.3333333333333333,
              "#9c179e"
             ],
             [
              0.4444444444444444,
              "#bd3786"
             ],
             [
              0.5555555555555556,
              "#d8576b"
             ],
             [
              0.6666666666666666,
              "#ed7953"
             ],
             [
              0.7777777777777778,
              "#fb9f3a"
             ],
             [
              0.8888888888888888,
              "#fdca26"
             ],
             [
              1.0,
              "#f0f921"
             ]
            ],
            "type": "histogram2d"
           }
          ],
          "histogram": [
           {
            "marker": {
             "pattern": {
              "fillmode": "overlay",
              "size": 10,
              "solidity": 0.2
             }
            },
            "type": "histogram"
           }
          ],
          "mesh3d": [
           {
            "colorbar": {
             "outlinewidth": 0,
             "ticks": ""
            },
            "type": "mesh3d"
           }
          ],
          "parcoords": [
           {
            "line": {
             "colorbar": {
              "outlinewidth": 0,
              "ticks": ""
             }
            },
            "type": "parcoords"
           }
          ],
          "pie": [
           {
            "automargin": true,
            "type": "pie"
           }
          ],
          "scatter3d": [
           {
            "line": {
             "colorbar": {
              "outlinewidth": 0,
              "ticks": ""
             }
            },
            "marker": {
             "colorbar": {
              "outlinewidth": 0,
              "ticks": ""
             }
            },
            "type": "scatter3d"
           }
          ],
          "scattercarpet": [
           {
            "marker": {
             "colorbar": {
              "outlinewidth": 0,
              "ticks": ""
             }
            },
            "type": "scattercarpet"
           }
          ],
          "scattergeo": [
           {
            "marker": {
             "colorbar": {
              "outlinewidth": 0,
              "ticks": ""
             }
            },
            "type": "scattergeo"
           }
          ],
          "scattergl": [
           {
            "marker": {
             "line": {
              "color": "#283442"
             }
            },
            "type": "scattergl"
           }
          ],
          "scattermapbox": [
           {
            "marker": {
             "colorbar": {
              "outlinewidth": 0,
              "ticks": ""
             }
            },
            "type": "scattermapbox"
           }
          ],
          "scatterpolargl": [
           {
            "marker": {
             "colorbar": {
              "outlinewidth": 0,
              "ticks": ""
             }
            },
            "type": "scatterpolargl"
           }
          ],
          "scatterpolar": [
           {
            "marker": {
             "colorbar": {
              "outlinewidth": 0,
              "ticks": ""
             }
            },
            "type": "scatterpolar"
           }
          ],
          "scatter": [
           {
            "marker": {
             "line": {
              "color": "#283442"
             }
            },
            "type": "scatter"
           }
          ],
          "scatterternary": [
           {
            "marker": {
             "colorbar": {
              "outlinewidth": 0,
              "ticks": ""
             }
            },
            "type": "scatterternary"
           }
          ],
          "surface": [
           {
            "colorbar": {
             "outlinewidth": 0,
             "ticks": ""
            },
            "colorscale": [
             [
              0.0,
              "#0d0887"
             ],
             [
              0.1111111111111111,
              "#46039f"
             ],
             [
              0.2222222222222222,
              "#7201a8"
             ],
             [
              0.3333333333333333,
              "#9c179e"
             ],
             [
              0.4444444444444444,
              "#bd3786"
             ],
             [
              0.5555555555555556,
              "#d8576b"
             ],
             [
              0.6666666666666666,
              "#ed7953"
             ],
             [
              0.7777777777777778,
              "#fb9f3a"
             ],
             [
              0.8888888888888888,
              "#fdca26"
             ],
             [
              1.0,
              "#f0f921"
             ]
            ],
            "type": "surface"
           }
          ],
          "table": [
           {
            "cells": {
             "fill": {
              "color": "#506784"
             },
             "line": {
              "color": "rgb(17,17,17)"
             }
            },
            "header": {
             "fill": {
              "color": "#2a3f5f"
             },
             "line": {
              "color": "rgb(17,17,17)"
             }
            },
            "type": "table"
           }
          ]
         },
         "layout": {
          "annotationdefaults": {
           "arrowcolor": "#f2f5fa",
           "arrowhead": 0,
           "arrowwidth": 1
          },
          "autotypenumbers": "strict",
          "coloraxis": {
           "colorbar": {
            "outlinewidth": 0,
            "ticks": ""
           }
          },
          "colorscale": {
           "diverging": [
            [
             0,
             "#8e0152"
            ],
            [
             0.1,
             "#c51b7d"
            ],
            [
             0.2,
             "#de77ae"
            ],
            [
             0.3,
             "#f1b6da"
            ],
            [
             0.4,
             "#fde0ef"
            ],
            [
             0.5,
             "#f7f7f7"
            ],
            [
             0.6,
             "#e6f5d0"
            ],
            [
             0.7,
             "#b8e186"
            ],
            [
             0.8,
             "#7fbc41"
            ],
            [
             0.9,
             "#4d9221"
            ],
            [
             1,
             "#276419"
            ]
           ],
           "sequential": [
            [
             0.0,
             "#0d0887"
            ],
            [
             0.1111111111111111,
             "#46039f"
            ],
            [
             0.2222222222222222,
             "#7201a8"
            ],
            [
             0.3333333333333333,
             "#9c179e"
            ],
            [
             0.4444444444444444,
             "#bd3786"
            ],
            [
             0.5555555555555556,
             "#d8576b"
            ],
            [
             0.6666666666666666,
             "#ed7953"
            ],
            [
             0.7777777777777778,
             "#fb9f3a"
            ],
            [
             0.8888888888888888,
             "#fdca26"
            ],
            [
             1.0,
             "#f0f921"
            ]
           ],
           "sequentialminus": [
            [
             0.0,
             "#0d0887"
            ],
            [
             0.1111111111111111,
             "#46039f"
            ],
            [
             0.2222222222222222,
             "#7201a8"
            ],
            [
             0.3333333333333333,
             "#9c179e"
            ],
            [
             0.4444444444444444,
             "#bd3786"
            ],
            [
             0.5555555555555556,
             "#d8576b"
            ],
            [
             0.6666666666666666,
             "#ed7953"
            ],
            [
             0.7777777777777778,
             "#fb9f3a"
            ],
            [
             0.8888888888888888,
             "#fdca26"
            ],
            [
             1.0,
             "#f0f921"
            ]
           ]
          },
          "colorway": [
           "#636efa",
           "#EF553B",
           "#00cc96",
           "#ab63fa",
           "#FFA15A",
           "#19d3f3",
           "#FF6692",
           "#B6E880",
           "#FF97FF",
           "#FECB52"
          ],
          "font": {
           "color": "#f2f5fa"
          },
          "geo": {
           "bgcolor": "rgb(17,17,17)",
           "lakecolor": "rgb(17,17,17)",
           "landcolor": "rgb(17,17,17)",
           "showlakes": true,
           "showland": true,
           "subunitcolor": "#506784"
          },
          "hoverlabel": {
           "align": "left"
          },
          "hovermode": "closest",
          "mapbox": {
           "style": "dark"
          },
          "paper_bgcolor": "rgb(17,17,17)",
          "plot_bgcolor": "rgb(17,17,17)",
          "polar": {
           "angularaxis": {
            "gridcolor": "#506784",
            "linecolor": "#506784",
            "ticks": ""
           },
           "bgcolor": "rgb(17,17,17)",
           "radialaxis": {
            "gridcolor": "#506784",
            "linecolor": "#506784",
            "ticks": ""
           }
          },
          "scene": {
           "xaxis": {
            "backgroundcolor": "rgb(17,17,17)",
            "gridcolor": "#506784",
            "gridwidth": 2,
            "linecolor": "#506784",
            "showbackground": true,
            "ticks": "",
            "zerolinecolor": "#C8D4E3"
           },
           "yaxis": {
            "backgroundcolor": "rgb(17,17,17)",
            "gridcolor": "#506784",
            "gridwidth": 2,
            "linecolor": "#506784",
            "showbackground": true,
            "ticks": "",
            "zerolinecolor": "#C8D4E3"
           },
           "zaxis": {
            "backgroundcolor": "rgb(17,17,17)",
            "gridcolor": "#506784",
            "gridwidth": 2,
            "linecolor": "#506784",
            "showbackground": true,
            "ticks": "",
            "zerolinecolor": "#C8D4E3"
           }
          },
          "shapedefaults": {
           "line": {
            "color": "#f2f5fa"
           }
          },
          "sliderdefaults": {
           "bgcolor": "#C8D4E3",
           "bordercolor": "rgb(17,17,17)",
           "borderwidth": 1,
           "tickwidth": 0
          },
          "ternary": {
           "aaxis": {
            "gridcolor": "#506784",
            "linecolor": "#506784",
            "ticks": ""
           },
           "baxis": {
            "gridcolor": "#506784",
            "linecolor": "#506784",
            "ticks": ""
           },
           "bgcolor": "rgb(17,17,17)",
           "caxis": {
            "gridcolor": "#506784",
            "linecolor": "#506784",
            "ticks": ""
           }
          },
          "title": {
           "x": 0.05
          },
          "updatemenudefaults": {
           "bgcolor": "#506784",
           "borderwidth": 0
          },
          "xaxis": {
           "automargin": true,
           "gridcolor": "#283442",
           "linecolor": "#506784",
           "ticks": "",
           "title": {
            "standoff": 15
           },
           "zerolinecolor": "#283442",
           "zerolinewidth": 2
          },
          "yaxis": {
           "automargin": true,
           "gridcolor": "#283442",
           "linecolor": "#506784",
           "ticks": "",
           "title": {
            "standoff": 15
           },
           "zerolinecolor": "#283442",
           "zerolinewidth": 2
          }
         }
        }
       },
       "config": {
        "showLink": false,
        "linkText": "Export to plot.ly",
        "plotlyServerURL": "https://plot.ly"
       }
      },
      "text/html": "<div>                            <div id=\"0794c13b-6891-4afc-9d81-6ea973011dfd\" class=\"plotly-graph-div\" style=\"height:525px; width:100%;\"></div>            <script type=\"text/javascript\">                require([\"plotly\"], function(Plotly) {                    window.PLOTLYENV=window.PLOTLYENV || {};                                    if (document.getElementById(\"0794c13b-6891-4afc-9d81-6ea973011dfd\")) {                    Plotly.newPlot(                        \"0794c13b-6891-4afc-9d81-6ea973011dfd\",                        [{\"mode\":\"markers\",\"x\":[0.1,0.16245641724423826,0.2249128344884765,0.28736925173271477,0.349825668976953,0.4122820862211912,0.47473850346542945,0.5371949207096678,0.599651337953906,0.6621077551981442,0.7245641724423825,0.7870205896866207,0.8494770069308589,0.9119334241750972,0.9743898414193355,1.0368462586635738,1.099302675907812,1.1617590931520503,1.2242155103962886,1.2866719276405267,1.349128344884765,1.4115847621290032,1.4740411793732415,1.5364975966174799,1.598954013861718,1.6614104311059563,1.7238668483501944,1.7863232655944328,1.8487796828386711,1.9112361000829092,1.9736925173271476,2.0361489345713855,2.098605351815624,2.161061769059862,2.2235181863041005,2.285974603548339,2.348431020792577,2.410887438036815,2.4733438552810534,2.5358002725252917,2.59825668976953,2.6607131070137684,2.7231695242580063,2.7856259415022446,2.848082358746483,2.9105387759907213,2.9729951932349596,3.0354516104791975,3.097908027723436,3.160364444967674,3.2228208622119126,3.285277279456151,3.347733696700389,3.410190113944627,3.4726465311888655,3.535102948433104,3.597559365677342,3.66001578292158,3.7224722001658184,3.7849286174100567,3.847385034654295,3.9098414518985334,3.9722978691427713,4.03475428638701,4.097210703631248,4.159667120875485,4.222123538119724,4.284579955363962,4.3470363726082,4.409492789852439,4.471949207096677,4.534405624340915,4.596862041585154,4.659318458829392,4.72177487607363,4.784231293317868,4.846687710562106,4.909144127806345,4.971600545050583,5.034056962294821,5.09651337953906,5.158969796783298,5.221426214027536,5.283882631271775,5.346339048516012,5.40879546576025,5.471251883004489,5.533708300248727,5.596164717492965,5.658621134737204,5.721077551981442,5.78353396922568,5.845990386469919,5.908446803714157,5.9709032209583945,6.033359638202633,6.095816055446871,6.1582724726911096,6.220728889935348,6.283185307179586],\"y\":[0.9950041652780258,0.9868329533230006,0.9748135505459399,0.958992827043041,0.9394324762982689,0.9162087746073819,0.8894122836357559,0.8591474972698915,0.8255324341397218,0.7886981774006928,0.748788363570254,0.7059586224120591,0.6603759700520697,0.612218157693126,0.561672978467698,0.5089375351317673,0.45421747145549596,0.3977261703079002,0.33968392156263005,0.2803170630696326,0.21985709804251274,0.15853979230337328,0.09660425490545602,0.03429200571873504,-0.028153966385559222,-0.09049015107883954,-0.152473466152501,-0.21386220542579423,-0.27441698128782466,-0.33390165819820694,-0.3920842735061531,-0.44873794199722356,-0.5036417406404361,-0.5565815700856196,-0.6073509895515807,-0.6557520218494033,-0.7015959254016617,-0.7447039302470345,-0.7849079351602404,-0.822051163168849,-0.8559887729107614,-0.8865884234483438,-0.9137307903367041,-0.9373100309336851,-0.957234197137077,-0.9734255939395713,-0.9858210824032541,-0.9943723258721797,-0.9990459784629104,-0.9998238150979957,-0.9967028025753215,-0.9896951113961917,-0.9788280683060182,-0.9641440497326869,-0.9457003165381443,-0.9235687907275936,-0.8978357749870312,-0.8686016161427998,-0.8359803138555059,-0.8000990760742174,-0.7610978229844614,-0.719128641384396,-0.6743551916168365,-0.6269520693698226,-0.5771041248344153,-0.5250057418746853,-0.47086008002079627,-0.41487828224106743,-0.357278651582323,-0.2982857998892601,-0.23812977192242946,-0.17704514829036536,-0.11527013069401099,-0.05304561305056372,0.009385757881073995,0.07178052871011754,0.13389538876920457,0.19548811891315293,0.25631853606128435,0.3161494298000411,0.37474748739358044,0.4318842035952329,0.4873367717119832,0.5408889524472343,0.5923319171337718,0.6414650620687121,0.6880967907749007,0.7320452611383115,0.7731390945079523,0.811218043993118,0.8461336193519415,0.8777496660344662,0.9059428961222425,0.9306033690940282,0.9516349205428302,0.9689555371724922,0.9824976766115092,0.992208530796952,0.9980502319014188,1.0],\"type\":\"scatter\"}],                        {\"template\":{\"data\":{\"barpolar\":[{\"marker\":{\"line\":{\"color\":\"rgb(17,17,17)\",\"width\":0.5},\"pattern\":{\"fillmode\":\"overlay\",\"size\":10,\"solidity\":0.2}},\"type\":\"barpolar\"}],\"bar\":[{\"error_x\":{\"color\":\"#f2f5fa\"},\"error_y\":{\"color\":\"#f2f5fa\"},\"marker\":{\"line\":{\"color\":\"rgb(17,17,17)\",\"width\":0.5},\"pattern\":{\"fillmode\":\"overlay\",\"size\":10,\"solidity\":0.2}},\"type\":\"bar\"}],\"carpet\":[{\"aaxis\":{\"endlinecolor\":\"#A2B1C6\",\"gridcolor\":\"#506784\",\"linecolor\":\"#506784\",\"minorgridcolor\":\"#506784\",\"startlinecolor\":\"#A2B1C6\"},\"baxis\":{\"endlinecolor\":\"#A2B1C6\",\"gridcolor\":\"#506784\",\"linecolor\":\"#506784\",\"minorgridcolor\":\"#506784\",\"startlinecolor\":\"#A2B1C6\"},\"type\":\"carpet\"}],\"choropleth\":[{\"colorbar\":{\"outlinewidth\":0,\"ticks\":\"\"},\"type\":\"choropleth\"}],\"contourcarpet\":[{\"colorbar\":{\"outlinewidth\":0,\"ticks\":\"\"},\"type\":\"contourcarpet\"}],\"contour\":[{\"colorbar\":{\"outlinewidth\":0,\"ticks\":\"\"},\"colorscale\":[[0.0,\"#0d0887\"],[0.1111111111111111,\"#46039f\"],[0.2222222222222222,\"#7201a8\"],[0.3333333333333333,\"#9c179e\"],[0.4444444444444444,\"#bd3786\"],[0.5555555555555556,\"#d8576b\"],[0.6666666666666666,\"#ed7953\"],[0.7777777777777778,\"#fb9f3a\"],[0.8888888888888888,\"#fdca26\"],[1.0,\"#f0f921\"]],\"type\":\"contour\"}],\"heatmapgl\":[{\"colorbar\":{\"outlinewidth\":0,\"ticks\":\"\"},\"colorscale\":[[0.0,\"#0d0887\"],[0.1111111111111111,\"#46039f\"],[0.2222222222222222,\"#7201a8\"],[0.3333333333333333,\"#9c179e\"],[0.4444444444444444,\"#bd3786\"],[0.5555555555555556,\"#d8576b\"],[0.6666666666666666,\"#ed7953\"],[0.7777777777777778,\"#fb9f3a\"],[0.8888888888888888,\"#fdca26\"],[1.0,\"#f0f921\"]],\"type\":\"heatmapgl\"}],\"heatmap\":[{\"colorbar\":{\"outlinewidth\":0,\"ticks\":\"\"},\"colorscale\":[[0.0,\"#0d0887\"],[0.1111111111111111,\"#46039f\"],[0.2222222222222222,\"#7201a8\"],[0.3333333333333333,\"#9c179e\"],[0.4444444444444444,\"#bd3786\"],[0.5555555555555556,\"#d8576b\"],[0.6666666666666666,\"#ed7953\"],[0.7777777777777778,\"#fb9f3a\"],[0.8888888888888888,\"#fdca26\"],[1.0,\"#f0f921\"]],\"type\":\"heatmap\"}],\"histogram2dcontour\":[{\"colorbar\":{\"outlinewidth\":0,\"ticks\":\"\"},\"colorscale\":[[0.0,\"#0d0887\"],[0.1111111111111111,\"#46039f\"],[0.2222222222222222,\"#7201a8\"],[0.3333333333333333,\"#9c179e\"],[0.4444444444444444,\"#bd3786\"],[0.5555555555555556,\"#d8576b\"],[0.6666666666666666,\"#ed7953\"],[0.7777777777777778,\"#fb9f3a\"],[0.8888888888888888,\"#fdca26\"],[1.0,\"#f0f921\"]],\"type\":\"histogram2dcontour\"}],\"histogram2d\":[{\"colorbar\":{\"outlinewidth\":0,\"ticks\":\"\"},\"colorscale\":[[0.0,\"#0d0887\"],[0.1111111111111111,\"#46039f\"],[0.2222222222222222,\"#7201a8\"],[0.3333333333333333,\"#9c179e\"],[0.4444444444444444,\"#bd3786\"],[0.5555555555555556,\"#d8576b\"],[0.6666666666666666,\"#ed7953\"],[0.7777777777777778,\"#fb9f3a\"],[0.8888888888888888,\"#fdca26\"],[1.0,\"#f0f921\"]],\"type\":\"histogram2d\"}],\"histogram\":[{\"marker\":{\"pattern\":{\"fillmode\":\"overlay\",\"size\":10,\"solidity\":0.2}},\"type\":\"histogram\"}],\"mesh3d\":[{\"colorbar\":{\"outlinewidth\":0,\"ticks\":\"\"},\"type\":\"mesh3d\"}],\"parcoords\":[{\"line\":{\"colorbar\":{\"outlinewidth\":0,\"ticks\":\"\"}},\"type\":\"parcoords\"}],\"pie\":[{\"automargin\":true,\"type\":\"pie\"}],\"scatter3d\":[{\"line\":{\"colorbar\":{\"outlinewidth\":0,\"ticks\":\"\"}},\"marker\":{\"colorbar\":{\"outlinewidth\":0,\"ticks\":\"\"}},\"type\":\"scatter3d\"}],\"scattercarpet\":[{\"marker\":{\"colorbar\":{\"outlinewidth\":0,\"ticks\":\"\"}},\"type\":\"scattercarpet\"}],\"scattergeo\":[{\"marker\":{\"colorbar\":{\"outlinewidth\":0,\"ticks\":\"\"}},\"type\":\"scattergeo\"}],\"scattergl\":[{\"marker\":{\"line\":{\"color\":\"#283442\"}},\"type\":\"scattergl\"}],\"scattermapbox\":[{\"marker\":{\"colorbar\":{\"outlinewidth\":0,\"ticks\":\"\"}},\"type\":\"scattermapbox\"}],\"scatterpolargl\":[{\"marker\":{\"colorbar\":{\"outlinewidth\":0,\"ticks\":\"\"}},\"type\":\"scatterpolargl\"}],\"scatterpolar\":[{\"marker\":{\"colorbar\":{\"outlinewidth\":0,\"ticks\":\"\"}},\"type\":\"scatterpolar\"}],\"scatter\":[{\"marker\":{\"line\":{\"color\":\"#283442\"}},\"type\":\"scatter\"}],\"scatterternary\":[{\"marker\":{\"colorbar\":{\"outlinewidth\":0,\"ticks\":\"\"}},\"type\":\"scatterternary\"}],\"surface\":[{\"colorbar\":{\"outlinewidth\":0,\"ticks\":\"\"},\"colorscale\":[[0.0,\"#0d0887\"],[0.1111111111111111,\"#46039f\"],[0.2222222222222222,\"#7201a8\"],[0.3333333333333333,\"#9c179e\"],[0.4444444444444444,\"#bd3786\"],[0.5555555555555556,\"#d8576b\"],[0.6666666666666666,\"#ed7953\"],[0.7777777777777778,\"#fb9f3a\"],[0.8888888888888888,\"#fdca26\"],[1.0,\"#f0f921\"]],\"type\":\"surface\"}],\"table\":[{\"cells\":{\"fill\":{\"color\":\"#506784\"},\"line\":{\"color\":\"rgb(17,17,17)\"}},\"header\":{\"fill\":{\"color\":\"#2a3f5f\"},\"line\":{\"color\":\"rgb(17,17,17)\"}},\"type\":\"table\"}]},\"layout\":{\"annotationdefaults\":{\"arrowcolor\":\"#f2f5fa\",\"arrowhead\":0,\"arrowwidth\":1},\"autotypenumbers\":\"strict\",\"coloraxis\":{\"colorbar\":{\"outlinewidth\":0,\"ticks\":\"\"}},\"colorscale\":{\"diverging\":[[0,\"#8e0152\"],[0.1,\"#c51b7d\"],[0.2,\"#de77ae\"],[0.3,\"#f1b6da\"],[0.4,\"#fde0ef\"],[0.5,\"#f7f7f7\"],[0.6,\"#e6f5d0\"],[0.7,\"#b8e186\"],[0.8,\"#7fbc41\"],[0.9,\"#4d9221\"],[1,\"#276419\"]],\"sequential\":[[0.0,\"#0d0887\"],[0.1111111111111111,\"#46039f\"],[0.2222222222222222,\"#7201a8\"],[0.3333333333333333,\"#9c179e\"],[0.4444444444444444,\"#bd3786\"],[0.5555555555555556,\"#d8576b\"],[0.6666666666666666,\"#ed7953\"],[0.7777777777777778,\"#fb9f3a\"],[0.8888888888888888,\"#fdca26\"],[1.0,\"#f0f921\"]],\"sequentialminus\":[[0.0,\"#0d0887\"],[0.1111111111111111,\"#46039f\"],[0.2222222222222222,\"#7201a8\"],[0.3333333333333333,\"#9c179e\"],[0.4444444444444444,\"#bd3786\"],[0.5555555555555556,\"#d8576b\"],[0.6666666666666666,\"#ed7953\"],[0.7777777777777778,\"#fb9f3a\"],[0.8888888888888888,\"#fdca26\"],[1.0,\"#f0f921\"]]},\"colorway\":[\"#636efa\",\"#EF553B\",\"#00cc96\",\"#ab63fa\",\"#FFA15A\",\"#19d3f3\",\"#FF6692\",\"#B6E880\",\"#FF97FF\",\"#FECB52\"],\"font\":{\"color\":\"#f2f5fa\"},\"geo\":{\"bgcolor\":\"rgb(17,17,17)\",\"lakecolor\":\"rgb(17,17,17)\",\"landcolor\":\"rgb(17,17,17)\",\"showlakes\":true,\"showland\":true,\"subunitcolor\":\"#506784\"},\"hoverlabel\":{\"align\":\"left\"},\"hovermode\":\"closest\",\"mapbox\":{\"style\":\"dark\"},\"paper_bgcolor\":\"rgb(17,17,17)\",\"plot_bgcolor\":\"rgb(17,17,17)\",\"polar\":{\"angularaxis\":{\"gridcolor\":\"#506784\",\"linecolor\":\"#506784\",\"ticks\":\"\"},\"bgcolor\":\"rgb(17,17,17)\",\"radialaxis\":{\"gridcolor\":\"#506784\",\"linecolor\":\"#506784\",\"ticks\":\"\"}},\"scene\":{\"xaxis\":{\"backgroundcolor\":\"rgb(17,17,17)\",\"gridcolor\":\"#506784\",\"gridwidth\":2,\"linecolor\":\"#506784\",\"showbackground\":true,\"ticks\":\"\",\"zerolinecolor\":\"#C8D4E3\"},\"yaxis\":{\"backgroundcolor\":\"rgb(17,17,17)\",\"gridcolor\":\"#506784\",\"gridwidth\":2,\"linecolor\":\"#506784\",\"showbackground\":true,\"ticks\":\"\",\"zerolinecolor\":\"#C8D4E3\"},\"zaxis\":{\"backgroundcolor\":\"rgb(17,17,17)\",\"gridcolor\":\"#506784\",\"gridwidth\":2,\"linecolor\":\"#506784\",\"showbackground\":true,\"ticks\":\"\",\"zerolinecolor\":\"#C8D4E3\"}},\"shapedefaults\":{\"line\":{\"color\":\"#f2f5fa\"}},\"sliderdefaults\":{\"bgcolor\":\"#C8D4E3\",\"bordercolor\":\"rgb(17,17,17)\",\"borderwidth\":1,\"tickwidth\":0},\"ternary\":{\"aaxis\":{\"gridcolor\":\"#506784\",\"linecolor\":\"#506784\",\"ticks\":\"\"},\"baxis\":{\"gridcolor\":\"#506784\",\"linecolor\":\"#506784\",\"ticks\":\"\"},\"bgcolor\":\"rgb(17,17,17)\",\"caxis\":{\"gridcolor\":\"#506784\",\"linecolor\":\"#506784\",\"ticks\":\"\"}},\"title\":{\"x\":0.05},\"updatemenudefaults\":{\"bgcolor\":\"#506784\",\"borderwidth\":0},\"xaxis\":{\"automargin\":true,\"gridcolor\":\"#283442\",\"linecolor\":\"#506784\",\"ticks\":\"\",\"title\":{\"standoff\":15},\"zerolinecolor\":\"#283442\",\"zerolinewidth\":2},\"yaxis\":{\"automargin\":true,\"gridcolor\":\"#283442\",\"linecolor\":\"#506784\",\"ticks\":\"\",\"title\":{\"standoff\":15},\"zerolinecolor\":\"#283442\",\"zerolinewidth\":2}}}},                        {\"responsive\": true}                    ).then(function(){\n                            \nvar gd = document.getElementById('0794c13b-6891-4afc-9d81-6ea973011dfd');\nvar x = new MutationObserver(function (mutations, observer) {{\n        var display = window.getComputedStyle(gd).display;\n        if (!display || display === 'none') {{\n            console.log([gd, 'removed!']);\n            Plotly.purge(gd);\n            observer.disconnect();\n        }}\n}});\n\n// Listen for the removal of the full notebook cells\nvar notebookContainer = gd.closest('#notebook-container');\nif (notebookContainer) {{\n    x.observe(notebookContainer, {childList: true});\n}}\n\n// Listen for the clearing of the current output cell\nvar outputEl = gd.closest('.output');\nif (outputEl) {{\n    x.observe(outputEl, {childList: true});\n}}\n\n                        })                };                });            </script>        </div>"
     },
     "metadata": {},
     "output_type": "display_data"
    }
   ],
   "source": [
    "import numpy as np\n",
    "\n",
    "# Plotting Cosine Curve Using Plotly Scatter Plot\n",
    "x = np.linspace(0.1, 2 * np.pi, 100)\n",
    "y = np.cos(x)\n",
    "\n",
    "trace = go.Scatter(x=x, y=y, mode='markers')\n",
    "data = [trace]\n",
    "\n",
    "offline.iplot(data)\n"
   ],
   "metadata": {
    "collapsed": false,
    "pycharm": {
     "name": "#%%\n"
    }
   }
  },
  {
   "cell_type": "code",
   "execution_count": 32,
   "outputs": [
    {
     "data": {
      "application/vnd.plotly.v1+json": {
       "data": [
        {
         "marker": {
          "size": [
           25,
           100,
           75,
           50
          ]
         },
         "mode": "markers",
         "x": [
          15,
          18,
          21,
          25
         ],
         "y": [
          100,
          400,
          300,
          200
         ],
         "type": "scatter"
        }
       ],
       "layout": {
        "template": {
         "data": {
          "barpolar": [
           {
            "marker": {
             "line": {
              "color": "rgb(17,17,17)",
              "width": 0.5
             },
             "pattern": {
              "fillmode": "overlay",
              "size": 10,
              "solidity": 0.2
             }
            },
            "type": "barpolar"
           }
          ],
          "bar": [
           {
            "error_x": {
             "color": "#f2f5fa"
            },
            "error_y": {
             "color": "#f2f5fa"
            },
            "marker": {
             "line": {
              "color": "rgb(17,17,17)",
              "width": 0.5
             },
             "pattern": {
              "fillmode": "overlay",
              "size": 10,
              "solidity": 0.2
             }
            },
            "type": "bar"
           }
          ],
          "carpet": [
           {
            "aaxis": {
             "endlinecolor": "#A2B1C6",
             "gridcolor": "#506784",
             "linecolor": "#506784",
             "minorgridcolor": "#506784",
             "startlinecolor": "#A2B1C6"
            },
            "baxis": {
             "endlinecolor": "#A2B1C6",
             "gridcolor": "#506784",
             "linecolor": "#506784",
             "minorgridcolor": "#506784",
             "startlinecolor": "#A2B1C6"
            },
            "type": "carpet"
           }
          ],
          "choropleth": [
           {
            "colorbar": {
             "outlinewidth": 0,
             "ticks": ""
            },
            "type": "choropleth"
           }
          ],
          "contourcarpet": [
           {
            "colorbar": {
             "outlinewidth": 0,
             "ticks": ""
            },
            "type": "contourcarpet"
           }
          ],
          "contour": [
           {
            "colorbar": {
             "outlinewidth": 0,
             "ticks": ""
            },
            "colorscale": [
             [
              0.0,
              "#0d0887"
             ],
             [
              0.1111111111111111,
              "#46039f"
             ],
             [
              0.2222222222222222,
              "#7201a8"
             ],
             [
              0.3333333333333333,
              "#9c179e"
             ],
             [
              0.4444444444444444,
              "#bd3786"
             ],
             [
              0.5555555555555556,
              "#d8576b"
             ],
             [
              0.6666666666666666,
              "#ed7953"
             ],
             [
              0.7777777777777778,
              "#fb9f3a"
             ],
             [
              0.8888888888888888,
              "#fdca26"
             ],
             [
              1.0,
              "#f0f921"
             ]
            ],
            "type": "contour"
           }
          ],
          "heatmapgl": [
           {
            "colorbar": {
             "outlinewidth": 0,
             "ticks": ""
            },
            "colorscale": [
             [
              0.0,
              "#0d0887"
             ],
             [
              0.1111111111111111,
              "#46039f"
             ],
             [
              0.2222222222222222,
              "#7201a8"
             ],
             [
              0.3333333333333333,
              "#9c179e"
             ],
             [
              0.4444444444444444,
              "#bd3786"
             ],
             [
              0.5555555555555556,
              "#d8576b"
             ],
             [
              0.6666666666666666,
              "#ed7953"
             ],
             [
              0.7777777777777778,
              "#fb9f3a"
             ],
             [
              0.8888888888888888,
              "#fdca26"
             ],
             [
              1.0,
              "#f0f921"
             ]
            ],
            "type": "heatmapgl"
           }
          ],
          "heatmap": [
           {
            "colorbar": {
             "outlinewidth": 0,
             "ticks": ""
            },
            "colorscale": [
             [
              0.0,
              "#0d0887"
             ],
             [
              0.1111111111111111,
              "#46039f"
             ],
             [
              0.2222222222222222,
              "#7201a8"
             ],
             [
              0.3333333333333333,
              "#9c179e"
             ],
             [
              0.4444444444444444,
              "#bd3786"
             ],
             [
              0.5555555555555556,
              "#d8576b"
             ],
             [
              0.6666666666666666,
              "#ed7953"
             ],
             [
              0.7777777777777778,
              "#fb9f3a"
             ],
             [
              0.8888888888888888,
              "#fdca26"
             ],
             [
              1.0,
              "#f0f921"
             ]
            ],
            "type": "heatmap"
           }
          ],
          "histogram2dcontour": [
           {
            "colorbar": {
             "outlinewidth": 0,
             "ticks": ""
            },
            "colorscale": [
             [
              0.0,
              "#0d0887"
             ],
             [
              0.1111111111111111,
              "#46039f"
             ],
             [
              0.2222222222222222,
              "#7201a8"
             ],
             [
              0.3333333333333333,
              "#9c179e"
             ],
             [
              0.4444444444444444,
              "#bd3786"
             ],
             [
              0.5555555555555556,
              "#d8576b"
             ],
             [
              0.6666666666666666,
              "#ed7953"
             ],
             [
              0.7777777777777778,
              "#fb9f3a"
             ],
             [
              0.8888888888888888,
              "#fdca26"
             ],
             [
              1.0,
              "#f0f921"
             ]
            ],
            "type": "histogram2dcontour"
           }
          ],
          "histogram2d": [
           {
            "colorbar": {
             "outlinewidth": 0,
             "ticks": ""
            },
            "colorscale": [
             [
              0.0,
              "#0d0887"
             ],
             [
              0.1111111111111111,
              "#46039f"
             ],
             [
              0.2222222222222222,
              "#7201a8"
             ],
             [
              0.3333333333333333,
              "#9c179e"
             ],
             [
              0.4444444444444444,
              "#bd3786"
             ],
             [
              0.5555555555555556,
              "#d8576b"
             ],
             [
              0.6666666666666666,
              "#ed7953"
             ],
             [
              0.7777777777777778,
              "#fb9f3a"
             ],
             [
              0.8888888888888888,
              "#fdca26"
             ],
             [
              1.0,
              "#f0f921"
             ]
            ],
            "type": "histogram2d"
           }
          ],
          "histogram": [
           {
            "marker": {
             "pattern": {
              "fillmode": "overlay",
              "size": 10,
              "solidity": 0.2
             }
            },
            "type": "histogram"
           }
          ],
          "mesh3d": [
           {
            "colorbar": {
             "outlinewidth": 0,
             "ticks": ""
            },
            "type": "mesh3d"
           }
          ],
          "parcoords": [
           {
            "line": {
             "colorbar": {
              "outlinewidth": 0,
              "ticks": ""
             }
            },
            "type": "parcoords"
           }
          ],
          "pie": [
           {
            "automargin": true,
            "type": "pie"
           }
          ],
          "scatter3d": [
           {
            "line": {
             "colorbar": {
              "outlinewidth": 0,
              "ticks": ""
             }
            },
            "marker": {
             "colorbar": {
              "outlinewidth": 0,
              "ticks": ""
             }
            },
            "type": "scatter3d"
           }
          ],
          "scattercarpet": [
           {
            "marker": {
             "colorbar": {
              "outlinewidth": 0,
              "ticks": ""
             }
            },
            "type": "scattercarpet"
           }
          ],
          "scattergeo": [
           {
            "marker": {
             "colorbar": {
              "outlinewidth": 0,
              "ticks": ""
             }
            },
            "type": "scattergeo"
           }
          ],
          "scattergl": [
           {
            "marker": {
             "line": {
              "color": "#283442"
             }
            },
            "type": "scattergl"
           }
          ],
          "scattermapbox": [
           {
            "marker": {
             "colorbar": {
              "outlinewidth": 0,
              "ticks": ""
             }
            },
            "type": "scattermapbox"
           }
          ],
          "scatterpolargl": [
           {
            "marker": {
             "colorbar": {
              "outlinewidth": 0,
              "ticks": ""
             }
            },
            "type": "scatterpolargl"
           }
          ],
          "scatterpolar": [
           {
            "marker": {
             "colorbar": {
              "outlinewidth": 0,
              "ticks": ""
             }
            },
            "type": "scatterpolar"
           }
          ],
          "scatter": [
           {
            "marker": {
             "line": {
              "color": "#283442"
             }
            },
            "type": "scatter"
           }
          ],
          "scatterternary": [
           {
            "marker": {
             "colorbar": {
              "outlinewidth": 0,
              "ticks": ""
             }
            },
            "type": "scatterternary"
           }
          ],
          "surface": [
           {
            "colorbar": {
             "outlinewidth": 0,
             "ticks": ""
            },
            "colorscale": [
             [
              0.0,
              "#0d0887"
             ],
             [
              0.1111111111111111,
              "#46039f"
             ],
             [
              0.2222222222222222,
              "#7201a8"
             ],
             [
              0.3333333333333333,
              "#9c179e"
             ],
             [
              0.4444444444444444,
              "#bd3786"
             ],
             [
              0.5555555555555556,
              "#d8576b"
             ],
             [
              0.6666666666666666,
              "#ed7953"
             ],
             [
              0.7777777777777778,
              "#fb9f3a"
             ],
             [
              0.8888888888888888,
              "#fdca26"
             ],
             [
              1.0,
              "#f0f921"
             ]
            ],
            "type": "surface"
           }
          ],
          "table": [
           {
            "cells": {
             "fill": {
              "color": "#506784"
             },
             "line": {
              "color": "rgb(17,17,17)"
             }
            },
            "header": {
             "fill": {
              "color": "#2a3f5f"
             },
             "line": {
              "color": "rgb(17,17,17)"
             }
            },
            "type": "table"
           }
          ]
         },
         "layout": {
          "annotationdefaults": {
           "arrowcolor": "#f2f5fa",
           "arrowhead": 0,
           "arrowwidth": 1
          },
          "autotypenumbers": "strict",
          "coloraxis": {
           "colorbar": {
            "outlinewidth": 0,
            "ticks": ""
           }
          },
          "colorscale": {
           "diverging": [
            [
             0,
             "#8e0152"
            ],
            [
             0.1,
             "#c51b7d"
            ],
            [
             0.2,
             "#de77ae"
            ],
            [
             0.3,
             "#f1b6da"
            ],
            [
             0.4,
             "#fde0ef"
            ],
            [
             0.5,
             "#f7f7f7"
            ],
            [
             0.6,
             "#e6f5d0"
            ],
            [
             0.7,
             "#b8e186"
            ],
            [
             0.8,
             "#7fbc41"
            ],
            [
             0.9,
             "#4d9221"
            ],
            [
             1,
             "#276419"
            ]
           ],
           "sequential": [
            [
             0.0,
             "#0d0887"
            ],
            [
             0.1111111111111111,
             "#46039f"
            ],
            [
             0.2222222222222222,
             "#7201a8"
            ],
            [
             0.3333333333333333,
             "#9c179e"
            ],
            [
             0.4444444444444444,
             "#bd3786"
            ],
            [
             0.5555555555555556,
             "#d8576b"
            ],
            [
             0.6666666666666666,
             "#ed7953"
            ],
            [
             0.7777777777777778,
             "#fb9f3a"
            ],
            [
             0.8888888888888888,
             "#fdca26"
            ],
            [
             1.0,
             "#f0f921"
            ]
           ],
           "sequentialminus": [
            [
             0.0,
             "#0d0887"
            ],
            [
             0.1111111111111111,
             "#46039f"
            ],
            [
             0.2222222222222222,
             "#7201a8"
            ],
            [
             0.3333333333333333,
             "#9c179e"
            ],
            [
             0.4444444444444444,
             "#bd3786"
            ],
            [
             0.5555555555555556,
             "#d8576b"
            ],
            [
             0.6666666666666666,
             "#ed7953"
            ],
            [
             0.7777777777777778,
             "#fb9f3a"
            ],
            [
             0.8888888888888888,
             "#fdca26"
            ],
            [
             1.0,
             "#f0f921"
            ]
           ]
          },
          "colorway": [
           "#636efa",
           "#EF553B",
           "#00cc96",
           "#ab63fa",
           "#FFA15A",
           "#19d3f3",
           "#FF6692",
           "#B6E880",
           "#FF97FF",
           "#FECB52"
          ],
          "font": {
           "color": "#f2f5fa"
          },
          "geo": {
           "bgcolor": "rgb(17,17,17)",
           "lakecolor": "rgb(17,17,17)",
           "landcolor": "rgb(17,17,17)",
           "showlakes": true,
           "showland": true,
           "subunitcolor": "#506784"
          },
          "hoverlabel": {
           "align": "left"
          },
          "hovermode": "closest",
          "mapbox": {
           "style": "dark"
          },
          "paper_bgcolor": "rgb(17,17,17)",
          "plot_bgcolor": "rgb(17,17,17)",
          "polar": {
           "angularaxis": {
            "gridcolor": "#506784",
            "linecolor": "#506784",
            "ticks": ""
           },
           "bgcolor": "rgb(17,17,17)",
           "radialaxis": {
            "gridcolor": "#506784",
            "linecolor": "#506784",
            "ticks": ""
           }
          },
          "scene": {
           "xaxis": {
            "backgroundcolor": "rgb(17,17,17)",
            "gridcolor": "#506784",
            "gridwidth": 2,
            "linecolor": "#506784",
            "showbackground": true,
            "ticks": "",
            "zerolinecolor": "#C8D4E3"
           },
           "yaxis": {
            "backgroundcolor": "rgb(17,17,17)",
            "gridcolor": "#506784",
            "gridwidth": 2,
            "linecolor": "#506784",
            "showbackground": true,
            "ticks": "",
            "zerolinecolor": "#C8D4E3"
           },
           "zaxis": {
            "backgroundcolor": "rgb(17,17,17)",
            "gridcolor": "#506784",
            "gridwidth": 2,
            "linecolor": "#506784",
            "showbackground": true,
            "ticks": "",
            "zerolinecolor": "#C8D4E3"
           }
          },
          "shapedefaults": {
           "line": {
            "color": "#f2f5fa"
           }
          },
          "sliderdefaults": {
           "bgcolor": "#C8D4E3",
           "bordercolor": "rgb(17,17,17)",
           "borderwidth": 1,
           "tickwidth": 0
          },
          "ternary": {
           "aaxis": {
            "gridcolor": "#506784",
            "linecolor": "#506784",
            "ticks": ""
           },
           "baxis": {
            "gridcolor": "#506784",
            "linecolor": "#506784",
            "ticks": ""
           },
           "bgcolor": "rgb(17,17,17)",
           "caxis": {
            "gridcolor": "#506784",
            "linecolor": "#506784",
            "ticks": ""
           }
          },
          "title": {
           "x": 0.05
          },
          "updatemenudefaults": {
           "bgcolor": "#506784",
           "borderwidth": 0
          },
          "xaxis": {
           "automargin": true,
           "gridcolor": "#283442",
           "linecolor": "#506784",
           "ticks": "",
           "title": {
            "standoff": 15
           },
           "zerolinecolor": "#283442",
           "zerolinewidth": 2
          },
          "yaxis": {
           "automargin": true,
           "gridcolor": "#283442",
           "linecolor": "#506784",
           "ticks": "",
           "title": {
            "standoff": 15
           },
           "zerolinecolor": "#283442",
           "zerolinewidth": 2
          }
         }
        }
       },
       "config": {
        "showLink": false,
        "linkText": "Export to plot.ly",
        "plotlyServerURL": "https://plot.ly"
       }
      },
      "text/html": "<div>                            <div id=\"12ab48cb-f6bb-45e1-93cc-7d7bdbcdb419\" class=\"plotly-graph-div\" style=\"height:525px; width:100%;\"></div>            <script type=\"text/javascript\">                require([\"plotly\"], function(Plotly) {                    window.PLOTLYENV=window.PLOTLYENV || {};                                    if (document.getElementById(\"12ab48cb-f6bb-45e1-93cc-7d7bdbcdb419\")) {                    Plotly.newPlot(                        \"12ab48cb-f6bb-45e1-93cc-7d7bdbcdb419\",                        [{\"marker\":{\"size\":[25,100,75,50]},\"mode\":\"markers\",\"x\":[15,18,21,25],\"y\":[100,400,300,200],\"type\":\"scatter\"}],                        {\"template\":{\"data\":{\"barpolar\":[{\"marker\":{\"line\":{\"color\":\"rgb(17,17,17)\",\"width\":0.5},\"pattern\":{\"fillmode\":\"overlay\",\"size\":10,\"solidity\":0.2}},\"type\":\"barpolar\"}],\"bar\":[{\"error_x\":{\"color\":\"#f2f5fa\"},\"error_y\":{\"color\":\"#f2f5fa\"},\"marker\":{\"line\":{\"color\":\"rgb(17,17,17)\",\"width\":0.5},\"pattern\":{\"fillmode\":\"overlay\",\"size\":10,\"solidity\":0.2}},\"type\":\"bar\"}],\"carpet\":[{\"aaxis\":{\"endlinecolor\":\"#A2B1C6\",\"gridcolor\":\"#506784\",\"linecolor\":\"#506784\",\"minorgridcolor\":\"#506784\",\"startlinecolor\":\"#A2B1C6\"},\"baxis\":{\"endlinecolor\":\"#A2B1C6\",\"gridcolor\":\"#506784\",\"linecolor\":\"#506784\",\"minorgridcolor\":\"#506784\",\"startlinecolor\":\"#A2B1C6\"},\"type\":\"carpet\"}],\"choropleth\":[{\"colorbar\":{\"outlinewidth\":0,\"ticks\":\"\"},\"type\":\"choropleth\"}],\"contourcarpet\":[{\"colorbar\":{\"outlinewidth\":0,\"ticks\":\"\"},\"type\":\"contourcarpet\"}],\"contour\":[{\"colorbar\":{\"outlinewidth\":0,\"ticks\":\"\"},\"colorscale\":[[0.0,\"#0d0887\"],[0.1111111111111111,\"#46039f\"],[0.2222222222222222,\"#7201a8\"],[0.3333333333333333,\"#9c179e\"],[0.4444444444444444,\"#bd3786\"],[0.5555555555555556,\"#d8576b\"],[0.6666666666666666,\"#ed7953\"],[0.7777777777777778,\"#fb9f3a\"],[0.8888888888888888,\"#fdca26\"],[1.0,\"#f0f921\"]],\"type\":\"contour\"}],\"heatmapgl\":[{\"colorbar\":{\"outlinewidth\":0,\"ticks\":\"\"},\"colorscale\":[[0.0,\"#0d0887\"],[0.1111111111111111,\"#46039f\"],[0.2222222222222222,\"#7201a8\"],[0.3333333333333333,\"#9c179e\"],[0.4444444444444444,\"#bd3786\"],[0.5555555555555556,\"#d8576b\"],[0.6666666666666666,\"#ed7953\"],[0.7777777777777778,\"#fb9f3a\"],[0.8888888888888888,\"#fdca26\"],[1.0,\"#f0f921\"]],\"type\":\"heatmapgl\"}],\"heatmap\":[{\"colorbar\":{\"outlinewidth\":0,\"ticks\":\"\"},\"colorscale\":[[0.0,\"#0d0887\"],[0.1111111111111111,\"#46039f\"],[0.2222222222222222,\"#7201a8\"],[0.3333333333333333,\"#9c179e\"],[0.4444444444444444,\"#bd3786\"],[0.5555555555555556,\"#d8576b\"],[0.6666666666666666,\"#ed7953\"],[0.7777777777777778,\"#fb9f3a\"],[0.8888888888888888,\"#fdca26\"],[1.0,\"#f0f921\"]],\"type\":\"heatmap\"}],\"histogram2dcontour\":[{\"colorbar\":{\"outlinewidth\":0,\"ticks\":\"\"},\"colorscale\":[[0.0,\"#0d0887\"],[0.1111111111111111,\"#46039f\"],[0.2222222222222222,\"#7201a8\"],[0.3333333333333333,\"#9c179e\"],[0.4444444444444444,\"#bd3786\"],[0.5555555555555556,\"#d8576b\"],[0.6666666666666666,\"#ed7953\"],[0.7777777777777778,\"#fb9f3a\"],[0.8888888888888888,\"#fdca26\"],[1.0,\"#f0f921\"]],\"type\":\"histogram2dcontour\"}],\"histogram2d\":[{\"colorbar\":{\"outlinewidth\":0,\"ticks\":\"\"},\"colorscale\":[[0.0,\"#0d0887\"],[0.1111111111111111,\"#46039f\"],[0.2222222222222222,\"#7201a8\"],[0.3333333333333333,\"#9c179e\"],[0.4444444444444444,\"#bd3786\"],[0.5555555555555556,\"#d8576b\"],[0.6666666666666666,\"#ed7953\"],[0.7777777777777778,\"#fb9f3a\"],[0.8888888888888888,\"#fdca26\"],[1.0,\"#f0f921\"]],\"type\":\"histogram2d\"}],\"histogram\":[{\"marker\":{\"pattern\":{\"fillmode\":\"overlay\",\"size\":10,\"solidity\":0.2}},\"type\":\"histogram\"}],\"mesh3d\":[{\"colorbar\":{\"outlinewidth\":0,\"ticks\":\"\"},\"type\":\"mesh3d\"}],\"parcoords\":[{\"line\":{\"colorbar\":{\"outlinewidth\":0,\"ticks\":\"\"}},\"type\":\"parcoords\"}],\"pie\":[{\"automargin\":true,\"type\":\"pie\"}],\"scatter3d\":[{\"line\":{\"colorbar\":{\"outlinewidth\":0,\"ticks\":\"\"}},\"marker\":{\"colorbar\":{\"outlinewidth\":0,\"ticks\":\"\"}},\"type\":\"scatter3d\"}],\"scattercarpet\":[{\"marker\":{\"colorbar\":{\"outlinewidth\":0,\"ticks\":\"\"}},\"type\":\"scattercarpet\"}],\"scattergeo\":[{\"marker\":{\"colorbar\":{\"outlinewidth\":0,\"ticks\":\"\"}},\"type\":\"scattergeo\"}],\"scattergl\":[{\"marker\":{\"line\":{\"color\":\"#283442\"}},\"type\":\"scattergl\"}],\"scattermapbox\":[{\"marker\":{\"colorbar\":{\"outlinewidth\":0,\"ticks\":\"\"}},\"type\":\"scattermapbox\"}],\"scatterpolargl\":[{\"marker\":{\"colorbar\":{\"outlinewidth\":0,\"ticks\":\"\"}},\"type\":\"scatterpolargl\"}],\"scatterpolar\":[{\"marker\":{\"colorbar\":{\"outlinewidth\":0,\"ticks\":\"\"}},\"type\":\"scatterpolar\"}],\"scatter\":[{\"marker\":{\"line\":{\"color\":\"#283442\"}},\"type\":\"scatter\"}],\"scatterternary\":[{\"marker\":{\"colorbar\":{\"outlinewidth\":0,\"ticks\":\"\"}},\"type\":\"scatterternary\"}],\"surface\":[{\"colorbar\":{\"outlinewidth\":0,\"ticks\":\"\"},\"colorscale\":[[0.0,\"#0d0887\"],[0.1111111111111111,\"#46039f\"],[0.2222222222222222,\"#7201a8\"],[0.3333333333333333,\"#9c179e\"],[0.4444444444444444,\"#bd3786\"],[0.5555555555555556,\"#d8576b\"],[0.6666666666666666,\"#ed7953\"],[0.7777777777777778,\"#fb9f3a\"],[0.8888888888888888,\"#fdca26\"],[1.0,\"#f0f921\"]],\"type\":\"surface\"}],\"table\":[{\"cells\":{\"fill\":{\"color\":\"#506784\"},\"line\":{\"color\":\"rgb(17,17,17)\"}},\"header\":{\"fill\":{\"color\":\"#2a3f5f\"},\"line\":{\"color\":\"rgb(17,17,17)\"}},\"type\":\"table\"}]},\"layout\":{\"annotationdefaults\":{\"arrowcolor\":\"#f2f5fa\",\"arrowhead\":0,\"arrowwidth\":1},\"autotypenumbers\":\"strict\",\"coloraxis\":{\"colorbar\":{\"outlinewidth\":0,\"ticks\":\"\"}},\"colorscale\":{\"diverging\":[[0,\"#8e0152\"],[0.1,\"#c51b7d\"],[0.2,\"#de77ae\"],[0.3,\"#f1b6da\"],[0.4,\"#fde0ef\"],[0.5,\"#f7f7f7\"],[0.6,\"#e6f5d0\"],[0.7,\"#b8e186\"],[0.8,\"#7fbc41\"],[0.9,\"#4d9221\"],[1,\"#276419\"]],\"sequential\":[[0.0,\"#0d0887\"],[0.1111111111111111,\"#46039f\"],[0.2222222222222222,\"#7201a8\"],[0.3333333333333333,\"#9c179e\"],[0.4444444444444444,\"#bd3786\"],[0.5555555555555556,\"#d8576b\"],[0.6666666666666666,\"#ed7953\"],[0.7777777777777778,\"#fb9f3a\"],[0.8888888888888888,\"#fdca26\"],[1.0,\"#f0f921\"]],\"sequentialminus\":[[0.0,\"#0d0887\"],[0.1111111111111111,\"#46039f\"],[0.2222222222222222,\"#7201a8\"],[0.3333333333333333,\"#9c179e\"],[0.4444444444444444,\"#bd3786\"],[0.5555555555555556,\"#d8576b\"],[0.6666666666666666,\"#ed7953\"],[0.7777777777777778,\"#fb9f3a\"],[0.8888888888888888,\"#fdca26\"],[1.0,\"#f0f921\"]]},\"colorway\":[\"#636efa\",\"#EF553B\",\"#00cc96\",\"#ab63fa\",\"#FFA15A\",\"#19d3f3\",\"#FF6692\",\"#B6E880\",\"#FF97FF\",\"#FECB52\"],\"font\":{\"color\":\"#f2f5fa\"},\"geo\":{\"bgcolor\":\"rgb(17,17,17)\",\"lakecolor\":\"rgb(17,17,17)\",\"landcolor\":\"rgb(17,17,17)\",\"showlakes\":true,\"showland\":true,\"subunitcolor\":\"#506784\"},\"hoverlabel\":{\"align\":\"left\"},\"hovermode\":\"closest\",\"mapbox\":{\"style\":\"dark\"},\"paper_bgcolor\":\"rgb(17,17,17)\",\"plot_bgcolor\":\"rgb(17,17,17)\",\"polar\":{\"angularaxis\":{\"gridcolor\":\"#506784\",\"linecolor\":\"#506784\",\"ticks\":\"\"},\"bgcolor\":\"rgb(17,17,17)\",\"radialaxis\":{\"gridcolor\":\"#506784\",\"linecolor\":\"#506784\",\"ticks\":\"\"}},\"scene\":{\"xaxis\":{\"backgroundcolor\":\"rgb(17,17,17)\",\"gridcolor\":\"#506784\",\"gridwidth\":2,\"linecolor\":\"#506784\",\"showbackground\":true,\"ticks\":\"\",\"zerolinecolor\":\"#C8D4E3\"},\"yaxis\":{\"backgroundcolor\":\"rgb(17,17,17)\",\"gridcolor\":\"#506784\",\"gridwidth\":2,\"linecolor\":\"#506784\",\"showbackground\":true,\"ticks\":\"\",\"zerolinecolor\":\"#C8D4E3\"},\"zaxis\":{\"backgroundcolor\":\"rgb(17,17,17)\",\"gridcolor\":\"#506784\",\"gridwidth\":2,\"linecolor\":\"#506784\",\"showbackground\":true,\"ticks\":\"\",\"zerolinecolor\":\"#C8D4E3\"}},\"shapedefaults\":{\"line\":{\"color\":\"#f2f5fa\"}},\"sliderdefaults\":{\"bgcolor\":\"#C8D4E3\",\"bordercolor\":\"rgb(17,17,17)\",\"borderwidth\":1,\"tickwidth\":0},\"ternary\":{\"aaxis\":{\"gridcolor\":\"#506784\",\"linecolor\":\"#506784\",\"ticks\":\"\"},\"baxis\":{\"gridcolor\":\"#506784\",\"linecolor\":\"#506784\",\"ticks\":\"\"},\"bgcolor\":\"rgb(17,17,17)\",\"caxis\":{\"gridcolor\":\"#506784\",\"linecolor\":\"#506784\",\"ticks\":\"\"}},\"title\":{\"x\":0.05},\"updatemenudefaults\":{\"bgcolor\":\"#506784\",\"borderwidth\":0},\"xaxis\":{\"automargin\":true,\"gridcolor\":\"#283442\",\"linecolor\":\"#506784\",\"ticks\":\"\",\"title\":{\"standoff\":15},\"zerolinecolor\":\"#283442\",\"zerolinewidth\":2},\"yaxis\":{\"automargin\":true,\"gridcolor\":\"#283442\",\"linecolor\":\"#506784\",\"ticks\":\"\",\"title\":{\"standoff\":15},\"zerolinecolor\":\"#283442\",\"zerolinewidth\":2}}}},                        {\"responsive\": true}                    ).then(function(){\n                            \nvar gd = document.getElementById('12ab48cb-f6bb-45e1-93cc-7d7bdbcdb419');\nvar x = new MutationObserver(function (mutations, observer) {{\n        var display = window.getComputedStyle(gd).display;\n        if (!display || display === 'none') {{\n            console.log([gd, 'removed!']);\n            Plotly.purge(gd);\n            observer.disconnect();\n        }}\n}});\n\n// Listen for the removal of the full notebook cells\nvar notebookContainer = gd.closest('#notebook-container');\nif (notebookContainer) {{\n    x.observe(notebookContainer, {childList: true});\n}}\n\n// Listen for the clearing of the current output cell\nvar outputEl = gd.closest('.output');\nif (outputEl) {{\n    x.observe(outputEl, {childList: true});\n}}\n\n                        })                };                });            </script>        </div>"
     },
     "metadata": {},
     "output_type": "display_data"
    }
   ],
   "source": [
    "size = [25, 100, 75, 50]\n",
    "\n",
    "trace = go.Scatter(\n",
    "    x=[15, 18, 21, 25],\n",
    "    y=[100, 400, 300, 200],\n",
    "    mode='markers',\n",
    "    marker=dict(size=size)\n",
    ")\n",
    "\n",
    "data = [trace]\n",
    "\n",
    "offline.iplot(data)"
   ],
   "metadata": {
    "collapsed": false,
    "pycharm": {
     "name": "#%%\n"
    }
   }
  },
  {
   "cell_type": "code",
   "execution_count": 43,
   "outputs": [
    {
     "data": {
      "application/vnd.plotly.v1+json": {
       "data": [
        {
         "marker": {
          "color": [
           5,
           6,
           8,
           4
          ],
          "colorscale": [
           [
            0.0,
            "rgb(12,51,131)"
           ],
           [
            0.25,
            "rgb(10,136,186)"
           ],
           [
            0.5,
            "rgb(242,211,56)"
           ],
           [
            0.75,
            "rgb(242,143,56)"
           ],
           [
            1.0,
            "rgb(217,30,30)"
           ]
          ],
          "showscale": true,
          "size": [
           25,
           100,
           75,
           50
          ]
         },
         "mode": "markers",
         "x": [
          15,
          18,
          21,
          25
         ],
         "y": [
          100,
          400,
          300,
          200
         ],
         "type": "scatter"
        }
       ],
       "layout": {
        "template": {
         "data": {
          "barpolar": [
           {
            "marker": {
             "line": {
              "color": "rgb(17,17,17)",
              "width": 0.5
             },
             "pattern": {
              "fillmode": "overlay",
              "size": 10,
              "solidity": 0.2
             }
            },
            "type": "barpolar"
           }
          ],
          "bar": [
           {
            "error_x": {
             "color": "#f2f5fa"
            },
            "error_y": {
             "color": "#f2f5fa"
            },
            "marker": {
             "line": {
              "color": "rgb(17,17,17)",
              "width": 0.5
             },
             "pattern": {
              "fillmode": "overlay",
              "size": 10,
              "solidity": 0.2
             }
            },
            "type": "bar"
           }
          ],
          "carpet": [
           {
            "aaxis": {
             "endlinecolor": "#A2B1C6",
             "gridcolor": "#506784",
             "linecolor": "#506784",
             "minorgridcolor": "#506784",
             "startlinecolor": "#A2B1C6"
            },
            "baxis": {
             "endlinecolor": "#A2B1C6",
             "gridcolor": "#506784",
             "linecolor": "#506784",
             "minorgridcolor": "#506784",
             "startlinecolor": "#A2B1C6"
            },
            "type": "carpet"
           }
          ],
          "choropleth": [
           {
            "colorbar": {
             "outlinewidth": 0,
             "ticks": ""
            },
            "type": "choropleth"
           }
          ],
          "contourcarpet": [
           {
            "colorbar": {
             "outlinewidth": 0,
             "ticks": ""
            },
            "type": "contourcarpet"
           }
          ],
          "contour": [
           {
            "colorbar": {
             "outlinewidth": 0,
             "ticks": ""
            },
            "colorscale": [
             [
              0.0,
              "#0d0887"
             ],
             [
              0.1111111111111111,
              "#46039f"
             ],
             [
              0.2222222222222222,
              "#7201a8"
             ],
             [
              0.3333333333333333,
              "#9c179e"
             ],
             [
              0.4444444444444444,
              "#bd3786"
             ],
             [
              0.5555555555555556,
              "#d8576b"
             ],
             [
              0.6666666666666666,
              "#ed7953"
             ],
             [
              0.7777777777777778,
              "#fb9f3a"
             ],
             [
              0.8888888888888888,
              "#fdca26"
             ],
             [
              1.0,
              "#f0f921"
             ]
            ],
            "type": "contour"
           }
          ],
          "heatmapgl": [
           {
            "colorbar": {
             "outlinewidth": 0,
             "ticks": ""
            },
            "colorscale": [
             [
              0.0,
              "#0d0887"
             ],
             [
              0.1111111111111111,
              "#46039f"
             ],
             [
              0.2222222222222222,
              "#7201a8"
             ],
             [
              0.3333333333333333,
              "#9c179e"
             ],
             [
              0.4444444444444444,
              "#bd3786"
             ],
             [
              0.5555555555555556,
              "#d8576b"
             ],
             [
              0.6666666666666666,
              "#ed7953"
             ],
             [
              0.7777777777777778,
              "#fb9f3a"
             ],
             [
              0.8888888888888888,
              "#fdca26"
             ],
             [
              1.0,
              "#f0f921"
             ]
            ],
            "type": "heatmapgl"
           }
          ],
          "heatmap": [
           {
            "colorbar": {
             "outlinewidth": 0,
             "ticks": ""
            },
            "colorscale": [
             [
              0.0,
              "#0d0887"
             ],
             [
              0.1111111111111111,
              "#46039f"
             ],
             [
              0.2222222222222222,
              "#7201a8"
             ],
             [
              0.3333333333333333,
              "#9c179e"
             ],
             [
              0.4444444444444444,
              "#bd3786"
             ],
             [
              0.5555555555555556,
              "#d8576b"
             ],
             [
              0.6666666666666666,
              "#ed7953"
             ],
             [
              0.7777777777777778,
              "#fb9f3a"
             ],
             [
              0.8888888888888888,
              "#fdca26"
             ],
             [
              1.0,
              "#f0f921"
             ]
            ],
            "type": "heatmap"
           }
          ],
          "histogram2dcontour": [
           {
            "colorbar": {
             "outlinewidth": 0,
             "ticks": ""
            },
            "colorscale": [
             [
              0.0,
              "#0d0887"
             ],
             [
              0.1111111111111111,
              "#46039f"
             ],
             [
              0.2222222222222222,
              "#7201a8"
             ],
             [
              0.3333333333333333,
              "#9c179e"
             ],
             [
              0.4444444444444444,
              "#bd3786"
             ],
             [
              0.5555555555555556,
              "#d8576b"
             ],
             [
              0.6666666666666666,
              "#ed7953"
             ],
             [
              0.7777777777777778,
              "#fb9f3a"
             ],
             [
              0.8888888888888888,
              "#fdca26"
             ],
             [
              1.0,
              "#f0f921"
             ]
            ],
            "type": "histogram2dcontour"
           }
          ],
          "histogram2d": [
           {
            "colorbar": {
             "outlinewidth": 0,
             "ticks": ""
            },
            "colorscale": [
             [
              0.0,
              "#0d0887"
             ],
             [
              0.1111111111111111,
              "#46039f"
             ],
             [
              0.2222222222222222,
              "#7201a8"
             ],
             [
              0.3333333333333333,
              "#9c179e"
             ],
             [
              0.4444444444444444,
              "#bd3786"
             ],
             [
              0.5555555555555556,
              "#d8576b"
             ],
             [
              0.6666666666666666,
              "#ed7953"
             ],
             [
              0.7777777777777778,
              "#fb9f3a"
             ],
             [
              0.8888888888888888,
              "#fdca26"
             ],
             [
              1.0,
              "#f0f921"
             ]
            ],
            "type": "histogram2d"
           }
          ],
          "histogram": [
           {
            "marker": {
             "pattern": {
              "fillmode": "overlay",
              "size": 10,
              "solidity": 0.2
             }
            },
            "type": "histogram"
           }
          ],
          "mesh3d": [
           {
            "colorbar": {
             "outlinewidth": 0,
             "ticks": ""
            },
            "type": "mesh3d"
           }
          ],
          "parcoords": [
           {
            "line": {
             "colorbar": {
              "outlinewidth": 0,
              "ticks": ""
             }
            },
            "type": "parcoords"
           }
          ],
          "pie": [
           {
            "automargin": true,
            "type": "pie"
           }
          ],
          "scatter3d": [
           {
            "line": {
             "colorbar": {
              "outlinewidth": 0,
              "ticks": ""
             }
            },
            "marker": {
             "colorbar": {
              "outlinewidth": 0,
              "ticks": ""
             }
            },
            "type": "scatter3d"
           }
          ],
          "scattercarpet": [
           {
            "marker": {
             "colorbar": {
              "outlinewidth": 0,
              "ticks": ""
             }
            },
            "type": "scattercarpet"
           }
          ],
          "scattergeo": [
           {
            "marker": {
             "colorbar": {
              "outlinewidth": 0,
              "ticks": ""
             }
            },
            "type": "scattergeo"
           }
          ],
          "scattergl": [
           {
            "marker": {
             "line": {
              "color": "#283442"
             }
            },
            "type": "scattergl"
           }
          ],
          "scattermapbox": [
           {
            "marker": {
             "colorbar": {
              "outlinewidth": 0,
              "ticks": ""
             }
            },
            "type": "scattermapbox"
           }
          ],
          "scatterpolargl": [
           {
            "marker": {
             "colorbar": {
              "outlinewidth": 0,
              "ticks": ""
             }
            },
            "type": "scatterpolargl"
           }
          ],
          "scatterpolar": [
           {
            "marker": {
             "colorbar": {
              "outlinewidth": 0,
              "ticks": ""
             }
            },
            "type": "scatterpolar"
           }
          ],
          "scatter": [
           {
            "marker": {
             "line": {
              "color": "#283442"
             }
            },
            "type": "scatter"
           }
          ],
          "scatterternary": [
           {
            "marker": {
             "colorbar": {
              "outlinewidth": 0,
              "ticks": ""
             }
            },
            "type": "scatterternary"
           }
          ],
          "surface": [
           {
            "colorbar": {
             "outlinewidth": 0,
             "ticks": ""
            },
            "colorscale": [
             [
              0.0,
              "#0d0887"
             ],
             [
              0.1111111111111111,
              "#46039f"
             ],
             [
              0.2222222222222222,
              "#7201a8"
             ],
             [
              0.3333333333333333,
              "#9c179e"
             ],
             [
              0.4444444444444444,
              "#bd3786"
             ],
             [
              0.5555555555555556,
              "#d8576b"
             ],
             [
              0.6666666666666666,
              "#ed7953"
             ],
             [
              0.7777777777777778,
              "#fb9f3a"
             ],
             [
              0.8888888888888888,
              "#fdca26"
             ],
             [
              1.0,
              "#f0f921"
             ]
            ],
            "type": "surface"
           }
          ],
          "table": [
           {
            "cells": {
             "fill": {
              "color": "#506784"
             },
             "line": {
              "color": "rgb(17,17,17)"
             }
            },
            "header": {
             "fill": {
              "color": "#2a3f5f"
             },
             "line": {
              "color": "rgb(17,17,17)"
             }
            },
            "type": "table"
           }
          ]
         },
         "layout": {
          "annotationdefaults": {
           "arrowcolor": "#f2f5fa",
           "arrowhead": 0,
           "arrowwidth": 1
          },
          "autotypenumbers": "strict",
          "coloraxis": {
           "colorbar": {
            "outlinewidth": 0,
            "ticks": ""
           }
          },
          "colorscale": {
           "diverging": [
            [
             0,
             "#8e0152"
            ],
            [
             0.1,
             "#c51b7d"
            ],
            [
             0.2,
             "#de77ae"
            ],
            [
             0.3,
             "#f1b6da"
            ],
            [
             0.4,
             "#fde0ef"
            ],
            [
             0.5,
             "#f7f7f7"
            ],
            [
             0.6,
             "#e6f5d0"
            ],
            [
             0.7,
             "#b8e186"
            ],
            [
             0.8,
             "#7fbc41"
            ],
            [
             0.9,
             "#4d9221"
            ],
            [
             1,
             "#276419"
            ]
           ],
           "sequential": [
            [
             0.0,
             "#0d0887"
            ],
            [
             0.1111111111111111,
             "#46039f"
            ],
            [
             0.2222222222222222,
             "#7201a8"
            ],
            [
             0.3333333333333333,
             "#9c179e"
            ],
            [
             0.4444444444444444,
             "#bd3786"
            ],
            [
             0.5555555555555556,
             "#d8576b"
            ],
            [
             0.6666666666666666,
             "#ed7953"
            ],
            [
             0.7777777777777778,
             "#fb9f3a"
            ],
            [
             0.8888888888888888,
             "#fdca26"
            ],
            [
             1.0,
             "#f0f921"
            ]
           ],
           "sequentialminus": [
            [
             0.0,
             "#0d0887"
            ],
            [
             0.1111111111111111,
             "#46039f"
            ],
            [
             0.2222222222222222,
             "#7201a8"
            ],
            [
             0.3333333333333333,
             "#9c179e"
            ],
            [
             0.4444444444444444,
             "#bd3786"
            ],
            [
             0.5555555555555556,
             "#d8576b"
            ],
            [
             0.6666666666666666,
             "#ed7953"
            ],
            [
             0.7777777777777778,
             "#fb9f3a"
            ],
            [
             0.8888888888888888,
             "#fdca26"
            ],
            [
             1.0,
             "#f0f921"
            ]
           ]
          },
          "colorway": [
           "#636efa",
           "#EF553B",
           "#00cc96",
           "#ab63fa",
           "#FFA15A",
           "#19d3f3",
           "#FF6692",
           "#B6E880",
           "#FF97FF",
           "#FECB52"
          ],
          "font": {
           "color": "#f2f5fa"
          },
          "geo": {
           "bgcolor": "rgb(17,17,17)",
           "lakecolor": "rgb(17,17,17)",
           "landcolor": "rgb(17,17,17)",
           "showlakes": true,
           "showland": true,
           "subunitcolor": "#506784"
          },
          "hoverlabel": {
           "align": "left"
          },
          "hovermode": "closest",
          "mapbox": {
           "style": "dark"
          },
          "paper_bgcolor": "rgb(17,17,17)",
          "plot_bgcolor": "rgb(17,17,17)",
          "polar": {
           "angularaxis": {
            "gridcolor": "#506784",
            "linecolor": "#506784",
            "ticks": ""
           },
           "bgcolor": "rgb(17,17,17)",
           "radialaxis": {
            "gridcolor": "#506784",
            "linecolor": "#506784",
            "ticks": ""
           }
          },
          "scene": {
           "xaxis": {
            "backgroundcolor": "rgb(17,17,17)",
            "gridcolor": "#506784",
            "gridwidth": 2,
            "linecolor": "#506784",
            "showbackground": true,
            "ticks": "",
            "zerolinecolor": "#C8D4E3"
           },
           "yaxis": {
            "backgroundcolor": "rgb(17,17,17)",
            "gridcolor": "#506784",
            "gridwidth": 2,
            "linecolor": "#506784",
            "showbackground": true,
            "ticks": "",
            "zerolinecolor": "#C8D4E3"
           },
           "zaxis": {
            "backgroundcolor": "rgb(17,17,17)",
            "gridcolor": "#506784",
            "gridwidth": 2,
            "linecolor": "#506784",
            "showbackground": true,
            "ticks": "",
            "zerolinecolor": "#C8D4E3"
           }
          },
          "shapedefaults": {
           "line": {
            "color": "#f2f5fa"
           }
          },
          "sliderdefaults": {
           "bgcolor": "#C8D4E3",
           "bordercolor": "rgb(17,17,17)",
           "borderwidth": 1,
           "tickwidth": 0
          },
          "ternary": {
           "aaxis": {
            "gridcolor": "#506784",
            "linecolor": "#506784",
            "ticks": ""
           },
           "baxis": {
            "gridcolor": "#506784",
            "linecolor": "#506784",
            "ticks": ""
           },
           "bgcolor": "rgb(17,17,17)",
           "caxis": {
            "gridcolor": "#506784",
            "linecolor": "#506784",
            "ticks": ""
           }
          },
          "title": {
           "x": 0.05
          },
          "updatemenudefaults": {
           "bgcolor": "#506784",
           "borderwidth": 0
          },
          "xaxis": {
           "automargin": true,
           "gridcolor": "#283442",
           "linecolor": "#506784",
           "ticks": "",
           "title": {
            "standoff": 15
           },
           "zerolinecolor": "#283442",
           "zerolinewidth": 2
          },
          "yaxis": {
           "automargin": true,
           "gridcolor": "#283442",
           "linecolor": "#506784",
           "ticks": "",
           "title": {
            "standoff": 15
           },
           "zerolinecolor": "#283442",
           "zerolinewidth": 2
          }
         }
        }
       },
       "config": {
        "showLink": false,
        "linkText": "Export to plot.ly",
        "plotlyServerURL": "https://plot.ly"
       }
      },
      "text/html": "<div>                            <div id=\"5ed797a3-3a66-468c-9893-6ff5c88d58cc\" class=\"plotly-graph-div\" style=\"height:525px; width:100%;\"></div>            <script type=\"text/javascript\">                require([\"plotly\"], function(Plotly) {                    window.PLOTLYENV=window.PLOTLYENV || {};                                    if (document.getElementById(\"5ed797a3-3a66-468c-9893-6ff5c88d58cc\")) {                    Plotly.newPlot(                        \"5ed797a3-3a66-468c-9893-6ff5c88d58cc\",                        [{\"marker\":{\"color\":[5,6,8,4],\"colorscale\":[[0.0,\"rgb(12,51,131)\"],[0.25,\"rgb(10,136,186)\"],[0.5,\"rgb(242,211,56)\"],[0.75,\"rgb(242,143,56)\"],[1.0,\"rgb(217,30,30)\"]],\"showscale\":true,\"size\":[25,100,75,50]},\"mode\":\"markers\",\"x\":[15,18,21,25],\"y\":[100,400,300,200],\"type\":\"scatter\"}],                        {\"template\":{\"data\":{\"barpolar\":[{\"marker\":{\"line\":{\"color\":\"rgb(17,17,17)\",\"width\":0.5},\"pattern\":{\"fillmode\":\"overlay\",\"size\":10,\"solidity\":0.2}},\"type\":\"barpolar\"}],\"bar\":[{\"error_x\":{\"color\":\"#f2f5fa\"},\"error_y\":{\"color\":\"#f2f5fa\"},\"marker\":{\"line\":{\"color\":\"rgb(17,17,17)\",\"width\":0.5},\"pattern\":{\"fillmode\":\"overlay\",\"size\":10,\"solidity\":0.2}},\"type\":\"bar\"}],\"carpet\":[{\"aaxis\":{\"endlinecolor\":\"#A2B1C6\",\"gridcolor\":\"#506784\",\"linecolor\":\"#506784\",\"minorgridcolor\":\"#506784\",\"startlinecolor\":\"#A2B1C6\"},\"baxis\":{\"endlinecolor\":\"#A2B1C6\",\"gridcolor\":\"#506784\",\"linecolor\":\"#506784\",\"minorgridcolor\":\"#506784\",\"startlinecolor\":\"#A2B1C6\"},\"type\":\"carpet\"}],\"choropleth\":[{\"colorbar\":{\"outlinewidth\":0,\"ticks\":\"\"},\"type\":\"choropleth\"}],\"contourcarpet\":[{\"colorbar\":{\"outlinewidth\":0,\"ticks\":\"\"},\"type\":\"contourcarpet\"}],\"contour\":[{\"colorbar\":{\"outlinewidth\":0,\"ticks\":\"\"},\"colorscale\":[[0.0,\"#0d0887\"],[0.1111111111111111,\"#46039f\"],[0.2222222222222222,\"#7201a8\"],[0.3333333333333333,\"#9c179e\"],[0.4444444444444444,\"#bd3786\"],[0.5555555555555556,\"#d8576b\"],[0.6666666666666666,\"#ed7953\"],[0.7777777777777778,\"#fb9f3a\"],[0.8888888888888888,\"#fdca26\"],[1.0,\"#f0f921\"]],\"type\":\"contour\"}],\"heatmapgl\":[{\"colorbar\":{\"outlinewidth\":0,\"ticks\":\"\"},\"colorscale\":[[0.0,\"#0d0887\"],[0.1111111111111111,\"#46039f\"],[0.2222222222222222,\"#7201a8\"],[0.3333333333333333,\"#9c179e\"],[0.4444444444444444,\"#bd3786\"],[0.5555555555555556,\"#d8576b\"],[0.6666666666666666,\"#ed7953\"],[0.7777777777777778,\"#fb9f3a\"],[0.8888888888888888,\"#fdca26\"],[1.0,\"#f0f921\"]],\"type\":\"heatmapgl\"}],\"heatmap\":[{\"colorbar\":{\"outlinewidth\":0,\"ticks\":\"\"},\"colorscale\":[[0.0,\"#0d0887\"],[0.1111111111111111,\"#46039f\"],[0.2222222222222222,\"#7201a8\"],[0.3333333333333333,\"#9c179e\"],[0.4444444444444444,\"#bd3786\"],[0.5555555555555556,\"#d8576b\"],[0.6666666666666666,\"#ed7953\"],[0.7777777777777778,\"#fb9f3a\"],[0.8888888888888888,\"#fdca26\"],[1.0,\"#f0f921\"]],\"type\":\"heatmap\"}],\"histogram2dcontour\":[{\"colorbar\":{\"outlinewidth\":0,\"ticks\":\"\"},\"colorscale\":[[0.0,\"#0d0887\"],[0.1111111111111111,\"#46039f\"],[0.2222222222222222,\"#7201a8\"],[0.3333333333333333,\"#9c179e\"],[0.4444444444444444,\"#bd3786\"],[0.5555555555555556,\"#d8576b\"],[0.6666666666666666,\"#ed7953\"],[0.7777777777777778,\"#fb9f3a\"],[0.8888888888888888,\"#fdca26\"],[1.0,\"#f0f921\"]],\"type\":\"histogram2dcontour\"}],\"histogram2d\":[{\"colorbar\":{\"outlinewidth\":0,\"ticks\":\"\"},\"colorscale\":[[0.0,\"#0d0887\"],[0.1111111111111111,\"#46039f\"],[0.2222222222222222,\"#7201a8\"],[0.3333333333333333,\"#9c179e\"],[0.4444444444444444,\"#bd3786\"],[0.5555555555555556,\"#d8576b\"],[0.6666666666666666,\"#ed7953\"],[0.7777777777777778,\"#fb9f3a\"],[0.8888888888888888,\"#fdca26\"],[1.0,\"#f0f921\"]],\"type\":\"histogram2d\"}],\"histogram\":[{\"marker\":{\"pattern\":{\"fillmode\":\"overlay\",\"size\":10,\"solidity\":0.2}},\"type\":\"histogram\"}],\"mesh3d\":[{\"colorbar\":{\"outlinewidth\":0,\"ticks\":\"\"},\"type\":\"mesh3d\"}],\"parcoords\":[{\"line\":{\"colorbar\":{\"outlinewidth\":0,\"ticks\":\"\"}},\"type\":\"parcoords\"}],\"pie\":[{\"automargin\":true,\"type\":\"pie\"}],\"scatter3d\":[{\"line\":{\"colorbar\":{\"outlinewidth\":0,\"ticks\":\"\"}},\"marker\":{\"colorbar\":{\"outlinewidth\":0,\"ticks\":\"\"}},\"type\":\"scatter3d\"}],\"scattercarpet\":[{\"marker\":{\"colorbar\":{\"outlinewidth\":0,\"ticks\":\"\"}},\"type\":\"scattercarpet\"}],\"scattergeo\":[{\"marker\":{\"colorbar\":{\"outlinewidth\":0,\"ticks\":\"\"}},\"type\":\"scattergeo\"}],\"scattergl\":[{\"marker\":{\"line\":{\"color\":\"#283442\"}},\"type\":\"scattergl\"}],\"scattermapbox\":[{\"marker\":{\"colorbar\":{\"outlinewidth\":0,\"ticks\":\"\"}},\"type\":\"scattermapbox\"}],\"scatterpolargl\":[{\"marker\":{\"colorbar\":{\"outlinewidth\":0,\"ticks\":\"\"}},\"type\":\"scatterpolargl\"}],\"scatterpolar\":[{\"marker\":{\"colorbar\":{\"outlinewidth\":0,\"ticks\":\"\"}},\"type\":\"scatterpolar\"}],\"scatter\":[{\"marker\":{\"line\":{\"color\":\"#283442\"}},\"type\":\"scatter\"}],\"scatterternary\":[{\"marker\":{\"colorbar\":{\"outlinewidth\":0,\"ticks\":\"\"}},\"type\":\"scatterternary\"}],\"surface\":[{\"colorbar\":{\"outlinewidth\":0,\"ticks\":\"\"},\"colorscale\":[[0.0,\"#0d0887\"],[0.1111111111111111,\"#46039f\"],[0.2222222222222222,\"#7201a8\"],[0.3333333333333333,\"#9c179e\"],[0.4444444444444444,\"#bd3786\"],[0.5555555555555556,\"#d8576b\"],[0.6666666666666666,\"#ed7953\"],[0.7777777777777778,\"#fb9f3a\"],[0.8888888888888888,\"#fdca26\"],[1.0,\"#f0f921\"]],\"type\":\"surface\"}],\"table\":[{\"cells\":{\"fill\":{\"color\":\"#506784\"},\"line\":{\"color\":\"rgb(17,17,17)\"}},\"header\":{\"fill\":{\"color\":\"#2a3f5f\"},\"line\":{\"color\":\"rgb(17,17,17)\"}},\"type\":\"table\"}]},\"layout\":{\"annotationdefaults\":{\"arrowcolor\":\"#f2f5fa\",\"arrowhead\":0,\"arrowwidth\":1},\"autotypenumbers\":\"strict\",\"coloraxis\":{\"colorbar\":{\"outlinewidth\":0,\"ticks\":\"\"}},\"colorscale\":{\"diverging\":[[0,\"#8e0152\"],[0.1,\"#c51b7d\"],[0.2,\"#de77ae\"],[0.3,\"#f1b6da\"],[0.4,\"#fde0ef\"],[0.5,\"#f7f7f7\"],[0.6,\"#e6f5d0\"],[0.7,\"#b8e186\"],[0.8,\"#7fbc41\"],[0.9,\"#4d9221\"],[1,\"#276419\"]],\"sequential\":[[0.0,\"#0d0887\"],[0.1111111111111111,\"#46039f\"],[0.2222222222222222,\"#7201a8\"],[0.3333333333333333,\"#9c179e\"],[0.4444444444444444,\"#bd3786\"],[0.5555555555555556,\"#d8576b\"],[0.6666666666666666,\"#ed7953\"],[0.7777777777777778,\"#fb9f3a\"],[0.8888888888888888,\"#fdca26\"],[1.0,\"#f0f921\"]],\"sequentialminus\":[[0.0,\"#0d0887\"],[0.1111111111111111,\"#46039f\"],[0.2222222222222222,\"#7201a8\"],[0.3333333333333333,\"#9c179e\"],[0.4444444444444444,\"#bd3786\"],[0.5555555555555556,\"#d8576b\"],[0.6666666666666666,\"#ed7953\"],[0.7777777777777778,\"#fb9f3a\"],[0.8888888888888888,\"#fdca26\"],[1.0,\"#f0f921\"]]},\"colorway\":[\"#636efa\",\"#EF553B\",\"#00cc96\",\"#ab63fa\",\"#FFA15A\",\"#19d3f3\",\"#FF6692\",\"#B6E880\",\"#FF97FF\",\"#FECB52\"],\"font\":{\"color\":\"#f2f5fa\"},\"geo\":{\"bgcolor\":\"rgb(17,17,17)\",\"lakecolor\":\"rgb(17,17,17)\",\"landcolor\":\"rgb(17,17,17)\",\"showlakes\":true,\"showland\":true,\"subunitcolor\":\"#506784\"},\"hoverlabel\":{\"align\":\"left\"},\"hovermode\":\"closest\",\"mapbox\":{\"style\":\"dark\"},\"paper_bgcolor\":\"rgb(17,17,17)\",\"plot_bgcolor\":\"rgb(17,17,17)\",\"polar\":{\"angularaxis\":{\"gridcolor\":\"#506784\",\"linecolor\":\"#506784\",\"ticks\":\"\"},\"bgcolor\":\"rgb(17,17,17)\",\"radialaxis\":{\"gridcolor\":\"#506784\",\"linecolor\":\"#506784\",\"ticks\":\"\"}},\"scene\":{\"xaxis\":{\"backgroundcolor\":\"rgb(17,17,17)\",\"gridcolor\":\"#506784\",\"gridwidth\":2,\"linecolor\":\"#506784\",\"showbackground\":true,\"ticks\":\"\",\"zerolinecolor\":\"#C8D4E3\"},\"yaxis\":{\"backgroundcolor\":\"rgb(17,17,17)\",\"gridcolor\":\"#506784\",\"gridwidth\":2,\"linecolor\":\"#506784\",\"showbackground\":true,\"ticks\":\"\",\"zerolinecolor\":\"#C8D4E3\"},\"zaxis\":{\"backgroundcolor\":\"rgb(17,17,17)\",\"gridcolor\":\"#506784\",\"gridwidth\":2,\"linecolor\":\"#506784\",\"showbackground\":true,\"ticks\":\"\",\"zerolinecolor\":\"#C8D4E3\"}},\"shapedefaults\":{\"line\":{\"color\":\"#f2f5fa\"}},\"sliderdefaults\":{\"bgcolor\":\"#C8D4E3\",\"bordercolor\":\"rgb(17,17,17)\",\"borderwidth\":1,\"tickwidth\":0},\"ternary\":{\"aaxis\":{\"gridcolor\":\"#506784\",\"linecolor\":\"#506784\",\"ticks\":\"\"},\"baxis\":{\"gridcolor\":\"#506784\",\"linecolor\":\"#506784\",\"ticks\":\"\"},\"bgcolor\":\"rgb(17,17,17)\",\"caxis\":{\"gridcolor\":\"#506784\",\"linecolor\":\"#506784\",\"ticks\":\"\"}},\"title\":{\"x\":0.05},\"updatemenudefaults\":{\"bgcolor\":\"#506784\",\"borderwidth\":0},\"xaxis\":{\"automargin\":true,\"gridcolor\":\"#283442\",\"linecolor\":\"#506784\",\"ticks\":\"\",\"title\":{\"standoff\":15},\"zerolinecolor\":\"#283442\",\"zerolinewidth\":2},\"yaxis\":{\"automargin\":true,\"gridcolor\":\"#283442\",\"linecolor\":\"#506784\",\"ticks\":\"\",\"title\":{\"standoff\":15},\"zerolinecolor\":\"#283442\",\"zerolinewidth\":2}}}},                        {\"responsive\": true}                    ).then(function(){\n                            \nvar gd = document.getElementById('5ed797a3-3a66-468c-9893-6ff5c88d58cc');\nvar x = new MutationObserver(function (mutations, observer) {{\n        var display = window.getComputedStyle(gd).display;\n        if (!display || display === 'none') {{\n            console.log([gd, 'removed!']);\n            Plotly.purge(gd);\n            observer.disconnect();\n        }}\n}});\n\n// Listen for the removal of the full notebook cells\nvar notebookContainer = gd.closest('#notebook-container');\nif (notebookContainer) {{\n    x.observe(notebookContainer, {childList: true});\n}}\n\n// Listen for the clearing of the current output cell\nvar outputEl = gd.closest('.output');\nif (outputEl) {{\n    x.observe(outputEl, {childList: true});\n}}\n\n                        })                };                });            </script>        </div>"
     },
     "metadata": {},
     "output_type": "display_data"
    }
   ],
   "source": [
    "i = [5, 6, 8, 4]\n",
    "\n",
    "trace = go.Scatter(\n",
    "    x=[15, 18, 21, 25], y=[100, 400, 300, 200],\n",
    "    mode='markers',\n",
    "    marker=dict(\n",
    "        size=size,\n",
    "        color=i,\n",
    "        colorscale='Portland',\n",
    "        showscale=True\n",
    "    )\n",
    ")\n",
    "\n",
    "data = [trace]\n",
    "offline.iplot(data)\n"
   ],
   "metadata": {
    "collapsed": false,
    "pycharm": {
     "name": "#%%\n"
    }
   }
  },
  {
   "cell_type": "code",
   "execution_count": 44,
   "outputs": [
    {
     "data": {
      "text/plain": "   longitude  latitude  housing_median_age  total_rooms  total_bedrooms  \\\n0    -122.23     37.88                41.0        880.0           129.0   \n1    -122.22     37.86                21.0       7099.0          1106.0   \n2    -122.24     37.85                52.0       1467.0           190.0   \n3    -122.25     37.85                52.0       1274.0           235.0   \n4    -122.25     37.85                52.0       1627.0           280.0   \n5    -122.25     37.85                52.0        919.0           213.0   \n6    -122.25     37.84                52.0       2535.0           489.0   \n7    -122.25     37.84                52.0       3104.0           687.0   \n8    -122.26     37.84                42.0       2555.0           665.0   \n9    -122.25     37.84                52.0       3549.0           707.0   \n\n   population  households  median_income  median_house_value ocean_proximity  \n0       322.0       126.0         8.3252            452600.0        NEAR BAY  \n1      2401.0      1138.0         8.3014            358500.0        NEAR BAY  \n2       496.0       177.0         7.2574            352100.0        NEAR BAY  \n3       558.0       219.0         5.6431            341300.0        NEAR BAY  \n4       565.0       259.0         3.8462            342200.0        NEAR BAY  \n5       413.0       193.0         4.0368            269700.0        NEAR BAY  \n6      1094.0       514.0         3.6591            299200.0        NEAR BAY  \n7      1157.0       647.0         3.1200            241400.0        NEAR BAY  \n8      1206.0       595.0         2.0804            226700.0        NEAR BAY  \n9      1551.0       714.0         3.6912            261100.0        NEAR BAY  ",
      "text/html": "<div>\n<style scoped>\n    .dataframe tbody tr th:only-of-type {\n        vertical-align: middle;\n    }\n\n    .dataframe tbody tr th {\n        vertical-align: top;\n    }\n\n    .dataframe thead th {\n        text-align: right;\n    }\n</style>\n<table border=\"1\" class=\"dataframe\">\n  <thead>\n    <tr style=\"text-align: right;\">\n      <th></th>\n      <th>longitude</th>\n      <th>latitude</th>\n      <th>housing_median_age</th>\n      <th>total_rooms</th>\n      <th>total_bedrooms</th>\n      <th>population</th>\n      <th>households</th>\n      <th>median_income</th>\n      <th>median_house_value</th>\n      <th>ocean_proximity</th>\n    </tr>\n  </thead>\n  <tbody>\n    <tr>\n      <th>0</th>\n      <td>-122.23</td>\n      <td>37.88</td>\n      <td>41.0</td>\n      <td>880.0</td>\n      <td>129.0</td>\n      <td>322.0</td>\n      <td>126.0</td>\n      <td>8.3252</td>\n      <td>452600.0</td>\n      <td>NEAR BAY</td>\n    </tr>\n    <tr>\n      <th>1</th>\n      <td>-122.22</td>\n      <td>37.86</td>\n      <td>21.0</td>\n      <td>7099.0</td>\n      <td>1106.0</td>\n      <td>2401.0</td>\n      <td>1138.0</td>\n      <td>8.3014</td>\n      <td>358500.0</td>\n      <td>NEAR BAY</td>\n    </tr>\n    <tr>\n      <th>2</th>\n      <td>-122.24</td>\n      <td>37.85</td>\n      <td>52.0</td>\n      <td>1467.0</td>\n      <td>190.0</td>\n      <td>496.0</td>\n      <td>177.0</td>\n      <td>7.2574</td>\n      <td>352100.0</td>\n      <td>NEAR BAY</td>\n    </tr>\n    <tr>\n      <th>3</th>\n      <td>-122.25</td>\n      <td>37.85</td>\n      <td>52.0</td>\n      <td>1274.0</td>\n      <td>235.0</td>\n      <td>558.0</td>\n      <td>219.0</td>\n      <td>5.6431</td>\n      <td>341300.0</td>\n      <td>NEAR BAY</td>\n    </tr>\n    <tr>\n      <th>4</th>\n      <td>-122.25</td>\n      <td>37.85</td>\n      <td>52.0</td>\n      <td>1627.0</td>\n      <td>280.0</td>\n      <td>565.0</td>\n      <td>259.0</td>\n      <td>3.8462</td>\n      <td>342200.0</td>\n      <td>NEAR BAY</td>\n    </tr>\n    <tr>\n      <th>5</th>\n      <td>-122.25</td>\n      <td>37.85</td>\n      <td>52.0</td>\n      <td>919.0</td>\n      <td>213.0</td>\n      <td>413.0</td>\n      <td>193.0</td>\n      <td>4.0368</td>\n      <td>269700.0</td>\n      <td>NEAR BAY</td>\n    </tr>\n    <tr>\n      <th>6</th>\n      <td>-122.25</td>\n      <td>37.84</td>\n      <td>52.0</td>\n      <td>2535.0</td>\n      <td>489.0</td>\n      <td>1094.0</td>\n      <td>514.0</td>\n      <td>3.6591</td>\n      <td>299200.0</td>\n      <td>NEAR BAY</td>\n    </tr>\n    <tr>\n      <th>7</th>\n      <td>-122.25</td>\n      <td>37.84</td>\n      <td>52.0</td>\n      <td>3104.0</td>\n      <td>687.0</td>\n      <td>1157.0</td>\n      <td>647.0</td>\n      <td>3.1200</td>\n      <td>241400.0</td>\n      <td>NEAR BAY</td>\n    </tr>\n    <tr>\n      <th>8</th>\n      <td>-122.26</td>\n      <td>37.84</td>\n      <td>42.0</td>\n      <td>2555.0</td>\n      <td>665.0</td>\n      <td>1206.0</td>\n      <td>595.0</td>\n      <td>2.0804</td>\n      <td>226700.0</td>\n      <td>NEAR BAY</td>\n    </tr>\n    <tr>\n      <th>9</th>\n      <td>-122.25</td>\n      <td>37.84</td>\n      <td>52.0</td>\n      <td>3549.0</td>\n      <td>707.0</td>\n      <td>1551.0</td>\n      <td>714.0</td>\n      <td>3.6912</td>\n      <td>261100.0</td>\n      <td>NEAR BAY</td>\n    </tr>\n  </tbody>\n</table>\n</div>"
     },
     "execution_count": 44,
     "metadata": {},
     "output_type": "execute_result"
    }
   ],
   "source": [
    "housing_data = pd.read_csv('datasets/housing.csv')\n",
    "housing_data.head(10)"
   ],
   "metadata": {
    "collapsed": false,
    "pycharm": {
     "name": "#%%\n"
    }
   }
  },
  {
   "cell_type": "code",
   "execution_count": 45,
   "outputs": [
    {
     "data": {
      "text/plain": "(20640, 10)"
     },
     "execution_count": 45,
     "metadata": {},
     "output_type": "execute_result"
    }
   ],
   "source": [
    "housing_data.shape"
   ],
   "metadata": {
    "collapsed": false,
    "pycharm": {
     "name": "#%%\n"
    }
   }
  },
  {
   "cell_type": "code",
   "execution_count": 46,
   "outputs": [
    {
     "data": {
      "text/plain": "(1445, 10)"
     },
     "execution_count": 46,
     "metadata": {},
     "output_type": "execute_result"
    }
   ],
   "source": [
    "# visualizing 20640 records can be problematic, so let's select the random records\n",
    "housing_data = housing_data.sample(frac=0.07).reset_index(drop=True)\n",
    "housing_data.shape"
   ],
   "metadata": {
    "collapsed": false,
    "pycharm": {
     "name": "#%%\n"
    }
   }
  },
  {
   "cell_type": "code",
   "execution_count": 49,
   "outputs": [
    {
     "data": {
      "text/plain": "30405.0"
     },
     "execution_count": 49,
     "metadata": {},
     "output_type": "execute_result"
    }
   ],
   "source": [
    "housing_data['total_rooms'].max()"
   ],
   "metadata": {
    "collapsed": false,
    "pycharm": {
     "name": "#%%\n"
    }
   }
  },
  {
   "cell_type": "code",
   "execution_count": 52,
   "outputs": [
    {
     "data": {
      "text/plain": "      total_rooms  total_bedrooms\n170       21988.0          4055.0\n310       20354.0          3493.0\n1166      30405.0          4093.0",
      "text/html": "<div>\n<style scoped>\n    .dataframe tbody tr th:only-of-type {\n        vertical-align: middle;\n    }\n\n    .dataframe tbody tr th {\n        vertical-align: top;\n    }\n\n    .dataframe thead th {\n        text-align: right;\n    }\n</style>\n<table border=\"1\" class=\"dataframe\">\n  <thead>\n    <tr style=\"text-align: right;\">\n      <th></th>\n      <th>total_rooms</th>\n      <th>total_bedrooms</th>\n    </tr>\n  </thead>\n  <tbody>\n    <tr>\n      <th>170</th>\n      <td>21988.0</td>\n      <td>4055.0</td>\n    </tr>\n    <tr>\n      <th>310</th>\n      <td>20354.0</td>\n      <td>3493.0</td>\n    </tr>\n    <tr>\n      <th>1166</th>\n      <td>30405.0</td>\n      <td>4093.0</td>\n    </tr>\n  </tbody>\n</table>\n</div>"
     },
     "execution_count": 52,
     "metadata": {},
     "output_type": "execute_result"
    }
   ],
   "source": [
    "housing_data.loc[housing_data['total_rooms'] >= 20000][['total_rooms', 'total_bedrooms']]"
   ],
   "metadata": {
    "collapsed": false,
    "pycharm": {
     "name": "#%%\n"
    }
   }
  },
  {
   "cell_type": "code",
   "execution_count": 56,
   "outputs": [
    {
     "data": {
      "application/vnd.plotly.v1+json": {
       "data": [
        {
         "marker": {
          "color": [
           35.0,
           27.0,
           31.0,
           48.0,
           22.0,
           36.0,
           24.0,
           36.0,
           33.0,
           19.0,
           26.0,
           35.0,
           21.0,
           41.0,
           31.0,
           48.0,
           45.0,
           35.0,
           16.0,
           19.0,
           21.0,
           14.0,
           24.0,
           36.0,
           30.0,
           15.0,
           14.0,
           39.0,
           13.0,
           37.0,
           22.0,
           16.0,
           31.0,
           52.0,
           16.0,
           36.0,
           14.0,
           14.0,
           28.0,
           10.0,
           20.0,
           16.0,
           21.0,
           36.0,
           43.0,
           44.0,
           48.0,
           52.0,
           28.0,
           8.0,
           22.0,
           18.0,
           7.0,
           24.0,
           9.0,
           16.0,
           29.0,
           41.0,
           25.0,
           21.0,
           52.0,
           25.0,
           33.0,
           6.0,
           16.0,
           6.0,
           50.0,
           43.0,
           17.0,
           41.0,
           3.0,
           30.0,
           32.0,
           29.0,
           34.0,
           20.0,
           39.0,
           15.0,
           48.0,
           16.0,
           6.0,
           5.0,
           18.0,
           27.0,
           16.0,
           42.0,
           44.0,
           27.0,
           16.0,
           18.0,
           26.0,
           40.0,
           34.0,
           33.0,
           43.0,
           33.0,
           36.0,
           42.0,
           34.0,
           21.0,
           34.0,
           38.0,
           21.0,
           30.0,
           22.0,
           30.0,
           45.0,
           23.0,
           14.0,
           52.0,
           11.0,
           16.0,
           10.0,
           19.0,
           38.0,
           17.0,
           33.0,
           27.0,
           37.0,
           42.0,
           22.0,
           16.0,
           16.0,
           42.0,
           42.0,
           33.0,
           52.0,
           18.0,
           35.0,
           33.0,
           32.0,
           28.0,
           19.0,
           52.0,
           36.0,
           22.0,
           20.0,
           35.0,
           17.0,
           27.0,
           20.0,
           32.0,
           19.0,
           50.0,
           25.0,
           41.0,
           2.0,
           34.0,
           49.0,
           21.0,
           51.0,
           24.0,
           30.0,
           36.0,
           13.0,
           15.0,
           38.0,
           18.0,
           4.0,
           18.0,
           15.0,
           40.0,
           23.0,
           32.0,
           43.0,
           15.0,
           9.0,
           39.0,
           32.0,
           45.0,
           4.0,
           17.0,
           36.0,
           26.0,
           52.0,
           33.0,
           19.0,
           4.0,
           28.0,
           19.0,
           27.0,
           36.0,
           25.0,
           40.0,
           24.0,
           17.0,
           45.0,
           52.0,
           29.0,
           34.0,
           24.0,
           24.0,
           39.0,
           40.0,
           10.0,
           35.0,
           10.0,
           20.0,
           17.0,
           15.0,
           36.0,
           36.0,
           23.0,
           32.0,
           45.0,
           42.0,
           18.0,
           16.0,
           18.0,
           20.0,
           18.0,
           23.0,
           46.0,
           52.0,
           31.0,
           35.0,
           35.0,
           35.0,
           20.0,
           12.0,
           42.0,
           46.0,
           34.0,
           31.0,
           24.0,
           5.0,
           31.0,
           36.0,
           34.0,
           26.0,
           25.0,
           17.0,
           45.0,
           44.0,
           33.0,
           38.0,
           30.0,
           30.0,
           44.0,
           25.0,
           12.0,
           22.0,
           7.0,
           45.0,
           35.0,
           2.0,
           46.0,
           39.0,
           27.0,
           18.0,
           25.0,
           22.0,
           23.0,
           6.0,
           33.0,
           15.0,
           25.0,
           41.0,
           35.0,
           45.0,
           52.0,
           37.0,
           27.0,
           33.0,
           16.0,
           52.0,
           25.0,
           14.0,
           41.0,
           52.0,
           16.0,
           36.0,
           18.0,
           16.0,
           45.0,
           18.0,
           48.0,
           42.0,
           52.0,
           12.0,
           38.0,
           26.0,
           6.0,
           20.0,
           29.0,
           52.0,
           17.0,
           18.0,
           13.0,
           26.0,
           31.0,
           29.0,
           21.0,
           40.0,
           7.0,
           35.0,
           39.0,
           36.0,
           52.0,
           37.0,
           12.0,
           12.0,
           14.0,
           30.0,
           43.0,
           19.0,
           40.0,
           18.0,
           24.0,
           52.0,
           17.0,
           22.0,
           47.0,
           42.0,
           19.0,
           18.0,
           52.0,
           26.0,
           36.0,
           20.0,
           34.0,
           35.0,
           17.0,
           36.0,
           41.0,
           25.0,
           9.0,
           6.0,
           19.0,
           18.0,
           35.0,
           52.0,
           26.0,
           25.0,
           25.0,
           36.0,
           32.0,
           28.0,
           29.0,
           18.0,
           24.0,
           19.0,
           17.0,
           47.0,
           37.0,
           14.0,
           26.0,
           33.0,
           35.0,
           47.0,
           16.0,
           24.0,
           18.0,
           25.0,
           43.0,
           21.0,
           6.0,
           35.0,
           52.0,
           16.0,
           30.0,
           17.0,
           30.0,
           21.0,
           21.0,
           37.0,
           34.0,
           18.0,
           19.0,
           34.0,
           16.0,
           21.0,
           30.0,
           36.0,
           10.0,
           43.0,
           36.0,
           38.0,
           32.0,
           24.0,
           47.0,
           15.0,
           22.0,
           39.0,
           35.0,
           14.0,
           40.0,
           37.0,
           14.0,
           39.0,
           41.0,
           36.0,
           43.0,
           25.0,
           18.0,
           14.0,
           51.0,
           18.0,
           24.0,
           28.0,
           27.0,
           33.0,
           15.0,
           50.0,
           36.0,
           15.0,
           14.0,
           15.0,
           12.0,
           36.0,
           33.0,
           16.0,
           47.0,
           23.0,
           43.0,
           26.0,
           19.0,
           16.0,
           5.0,
           15.0,
           22.0,
           28.0,
           52.0,
           18.0,
           39.0,
           36.0,
           16.0,
           42.0,
           43.0,
           34.0,
           19.0,
           38.0,
           12.0,
           10.0,
           52.0,
           38.0,
           27.0,
           27.0,
           20.0,
           16.0,
           28.0,
           31.0,
           28.0,
           30.0,
           7.0,
           52.0,
           29.0,
           22.0,
           52.0,
           52.0,
           33.0,
           47.0,
           5.0,
           37.0,
           37.0,
           42.0,
           5.0,
           37.0,
           16.0,
           21.0,
           26.0,
           28.0,
           44.0,
           45.0,
           30.0,
           25.0,
           52.0,
           25.0,
           22.0,
           18.0,
           35.0,
           7.0,
           33.0,
           36.0,
           21.0,
           21.0,
           37.0,
           30.0,
           44.0,
           37.0,
           52.0,
           33.0,
           29.0,
           19.0,
           36.0,
           22.0,
           17.0,
           7.0,
           24.0,
           28.0,
           26.0,
           27.0,
           20.0,
           4.0,
           32.0,
           10.0,
           17.0,
           34.0,
           25.0,
           45.0,
           16.0,
           23.0,
           35.0,
           52.0,
           15.0,
           45.0,
           36.0,
           44.0,
           23.0,
           5.0,
           35.0,
           52.0,
           16.0,
           20.0,
           35.0,
           25.0,
           42.0,
           33.0,
           43.0,
           29.0,
           37.0,
           36.0,
           37.0,
           37.0,
           34.0,
           17.0,
           10.0,
           14.0,
           23.0,
           35.0,
           14.0,
           32.0,
           52.0,
           14.0,
           43.0,
           4.0,
           36.0,
           35.0,
           37.0,
           8.0,
           48.0,
           35.0,
           50.0,
           39.0,
           36.0,
           52.0,
           19.0,
           52.0,
           52.0,
           19.0,
           15.0,
           32.0,
           25.0,
           14.0,
           40.0,
           16.0,
           37.0,
           39.0,
           24.0,
           38.0,
           32.0,
           23.0,
           41.0,
           28.0,
           19.0,
           5.0,
           52.0,
           33.0,
           40.0,
           11.0,
           34.0,
           52.0,
           17.0,
           19.0,
           49.0,
           52.0,
           39.0,
           30.0,
           37.0,
           32.0,
           19.0,
           33.0,
           17.0,
           16.0,
           20.0,
           16.0,
           35.0,
           37.0,
           20.0,
           41.0,
           12.0,
           5.0,
           52.0,
           6.0,
           22.0,
           36.0,
           23.0,
           52.0,
           32.0,
           6.0,
           24.0,
           31.0,
           26.0,
           10.0,
           47.0,
           18.0,
           11.0,
           50.0,
           5.0,
           41.0,
           34.0,
           11.0,
           36.0,
           52.0,
           23.0,
           45.0,
           14.0,
           47.0,
           14.0,
           41.0,
           34.0,
           42.0,
           34.0,
           24.0,
           30.0,
           45.0,
           19.0,
           41.0,
           33.0,
           21.0,
           35.0,
           52.0,
           40.0,
           36.0,
           27.0,
           52.0,
           4.0,
           26.0,
           25.0,
           18.0,
           9.0,
           52.0,
           35.0,
           36.0,
           36.0,
           35.0,
           14.0,
           20.0,
           14.0,
           40.0,
           52.0,
           10.0,
           52.0,
           34.0,
           21.0,
           52.0,
           31.0,
           20.0,
           34.0,
           19.0,
           33.0,
           44.0,
           48.0,
           52.0,
           15.0,
           26.0,
           23.0,
           11.0,
           25.0,
           38.0,
           32.0,
           52.0,
           34.0,
           27.0,
           44.0,
           36.0,
           8.0,
           7.0,
           31.0,
           29.0,
           30.0,
           44.0,
           30.0,
           18.0,
           7.0,
           32.0,
           37.0,
           41.0,
           42.0,
           26.0,
           52.0,
           19.0,
           31.0,
           19.0,
           37.0,
           19.0,
           33.0,
           27.0,
           52.0,
           18.0,
           41.0,
           19.0,
           24.0,
           42.0,
           42.0,
           31.0,
           26.0,
           47.0,
           12.0,
           38.0,
           41.0,
           32.0,
           4.0,
           37.0,
           30.0,
           18.0,
           17.0,
           35.0,
           4.0,
           28.0,
           30.0,
           14.0,
           52.0,
           31.0,
           32.0,
           15.0,
           19.0,
           14.0,
           39.0,
           52.0,
           7.0,
           22.0,
           25.0,
           22.0,
           36.0,
           22.0,
           31.0,
           43.0,
           5.0,
           14.0,
           32.0,
           43.0,
           20.0,
           48.0,
           41.0,
           15.0,
           47.0,
           23.0,
           30.0,
           47.0,
           34.0,
           9.0,
           19.0,
           9.0,
           21.0,
           32.0,
           8.0,
           30.0,
           14.0,
           25.0,
           47.0,
           23.0,
           27.0,
           2.0,
           16.0,
           41.0,
           37.0,
           49.0,
           36.0,
           30.0,
           38.0,
           22.0,
           16.0,
           16.0,
           30.0,
           34.0,
           10.0,
           5.0,
           17.0,
           18.0,
           8.0,
           28.0,
           33.0,
           15.0,
           7.0,
           52.0,
           18.0,
           14.0,
           27.0,
           22.0,
           42.0,
           16.0,
           32.0,
           17.0,
           18.0,
           44.0,
           43.0,
           6.0,
           9.0,
           36.0,
           48.0,
           35.0,
           40.0,
           17.0,
           52.0,
           38.0,
           35.0,
           15.0,
           52.0,
           37.0,
           36.0,
           32.0,
           11.0,
           23.0,
           48.0,
           4.0,
           39.0,
           30.0,
           33.0,
           26.0,
           30.0,
           20.0,
           25.0,
           21.0,
           38.0,
           22.0,
           52.0,
           19.0,
           13.0,
           32.0,
           35.0,
           8.0,
           28.0,
           51.0,
           27.0,
           38.0,
           36.0,
           40.0,
           36.0,
           21.0,
           52.0,
           28.0,
           37.0,
           28.0,
           34.0,
           34.0,
           36.0,
           34.0,
           16.0,
           46.0,
           52.0,
           18.0,
           26.0,
           44.0,
           42.0,
           52.0,
           35.0,
           21.0,
           25.0,
           15.0,
           33.0,
           17.0,
           17.0,
           16.0,
           40.0,
           9.0,
           36.0,
           26.0,
           33.0,
           15.0,
           43.0,
           23.0,
           17.0,
           26.0,
           37.0,
           52.0,
           26.0,
           43.0,
           24.0,
           44.0,
           40.0,
           29.0,
           25.0,
           40.0,
           17.0,
           16.0,
           14.0,
           21.0,
           15.0,
           36.0,
           52.0,
           25.0,
           33.0,
           17.0,
           11.0,
           24.0,
           37.0,
           24.0,
           38.0,
           22.0,
           26.0,
           36.0,
           52.0,
           14.0,
           23.0,
           23.0,
           13.0,
           27.0,
           22.0,
           15.0,
           35.0,
           20.0,
           15.0,
           28.0,
           25.0,
           23.0,
           20.0,
           40.0,
           38.0,
           21.0,
           46.0,
           36.0,
           36.0,
           33.0,
           37.0,
           23.0,
           21.0,
           28.0,
           13.0,
           24.0,
           23.0,
           24.0,
           22.0,
           9.0,
           20.0,
           29.0,
           16.0,
           30.0,
           18.0,
           13.0,
           14.0,
           50.0,
           16.0,
           37.0,
           30.0,
           42.0,
           18.0,
           29.0,
           37.0,
           28.0,
           27.0,
           52.0,
           37.0,
           12.0,
           33.0,
           44.0,
           31.0,
           25.0,
           20.0,
           15.0,
           34.0,
           36.0,
           24.0,
           21.0,
           17.0,
           34.0,
           9.0,
           33.0,
           52.0,
           50.0,
           32.0,
           36.0,
           38.0,
           43.0,
           34.0,
           10.0,
           44.0,
           7.0,
           29.0,
           52.0,
           15.0,
           37.0,
           25.0,
           36.0,
           31.0,
           26.0,
           15.0,
           47.0,
           37.0,
           21.0,
           44.0,
           32.0,
           26.0,
           52.0,
           23.0,
           43.0,
           26.0,
           6.0,
           48.0,
           9.0,
           52.0,
           17.0,
           38.0,
           33.0,
           52.0,
           29.0,
           25.0,
           7.0,
           37.0,
           43.0,
           34.0,
           36.0,
           26.0,
           52.0,
           40.0,
           33.0,
           15.0,
           31.0,
           16.0,
           33.0,
           46.0,
           33.0,
           26.0,
           4.0,
           43.0,
           51.0,
           33.0,
           39.0,
           36.0,
           28.0,
           38.0,
           5.0,
           45.0,
           39.0,
           15.0,
           24.0,
           19.0,
           17.0,
           37.0,
           52.0,
           25.0,
           29.0,
           40.0,
           22.0,
           23.0,
           36.0,
           22.0,
           11.0,
           38.0,
           16.0,
           52.0,
           15.0,
           28.0,
           12.0,
           47.0,
           10.0,
           8.0,
           27.0,
           18.0,
           52.0,
           36.0,
           39.0,
           47.0,
           50.0,
           48.0,
           42.0,
           39.0,
           21.0,
           11.0,
           46.0,
           33.0,
           42.0,
           23.0,
           39.0,
           46.0,
           16.0,
           47.0,
           22.0,
           50.0,
           17.0,
           42.0,
           23.0,
           44.0,
           35.0,
           6.0,
           15.0,
           47.0,
           45.0,
           27.0,
           25.0,
           36.0,
           17.0,
           49.0,
           36.0,
           36.0,
           52.0,
           10.0,
           52.0,
           26.0,
           4.0,
           18.0,
           52.0,
           47.0,
           32.0,
           22.0,
           40.0,
           15.0,
           41.0,
           13.0,
           18.0,
           37.0,
           27.0,
           18.0,
           52.0,
           42.0,
           41.0,
           22.0,
           49.0,
           11.0,
           30.0,
           36.0,
           16.0,
           24.0,
           44.0,
           42.0,
           9.0,
           21.0,
           20.0,
           22.0,
           50.0,
           35.0,
           3.0,
           35.0,
           34.0,
           29.0,
           40.0,
           45.0,
           9.0,
           28.0,
           35.0,
           35.0,
           32.0,
           10.0,
           5.0,
           15.0,
           18.0,
           37.0,
           52.0,
           52.0,
           33.0,
           23.0,
           17.0,
           29.0,
           25.0,
           44.0,
           23.0,
           25.0,
           41.0,
           34.0,
           27.0,
           29.0,
           13.0,
           20.0,
           29.0,
           29.0,
           35.0,
           9.0,
           25.0,
           25.0,
           26.0,
           14.0,
           34.0,
           27.0,
           42.0,
           17.0,
           52.0,
           50.0,
           29.0,
           26.0,
           36.0,
           42.0,
           23.0,
           36.0,
           38.0,
           19.0,
           21.0,
           5.0,
           29.0,
           20.0,
           15.0,
           17.0,
           19.0,
           21.0,
           32.0,
           22.0,
           27.0,
           18.0,
           13.0,
           32.0,
           29.0,
           33.0,
           8.0,
           26.0,
           25.0,
           26.0,
           13.0,
           39.0,
           14.0,
           10.0,
           41.0,
           50.0,
           52.0,
           52.0,
           17.0,
           36.0,
           27.0,
           6.0,
           33.0,
           24.0,
           43.0,
           23.0,
           52.0,
           27.0,
           35.0,
           30.0,
           32.0,
           18.0,
           35.0,
           31.0,
           35.0,
           16.0,
           11.0,
           23.0,
           37.0,
           27.0,
           32.0,
           34.0,
           22.0,
           17.0,
           28.0,
           52.0,
           32.0,
           16.0,
           34.0,
           34.0,
           52.0,
           16.0,
           22.0,
           44.0,
           17.0,
           36.0,
           17.0,
           27.0,
           27.0,
           33.0,
           17.0,
           29.0,
           26.0,
           36.0,
           20.0,
           46.0,
           27.0,
           52.0,
           19.0,
           19.0,
           23.0,
           20.0,
           9.0,
           25.0,
           34.0,
           39.0,
           25.0,
           29.0,
           40.0,
           28.0,
           52.0,
           24.0,
           24.0,
           44.0,
           30.0,
           15.0,
           27.0,
           40.0,
           25.0,
           26.0,
           41.0,
           43.0,
           29.0,
           29.0,
           16.0,
           52.0,
           16.0,
           36.0,
           36.0,
           36.0,
           10.0,
           25.0,
           39.0,
           39.0,
           27.0,
           32.0,
           8.0,
           30.0,
           17.0,
           26.0,
           35.0,
           2.0,
           32.0,
           14.0,
           26.0,
           36.0,
           33.0,
           45.0,
           22.0,
           16.0,
           16.0,
           12.0,
           26.0,
           4.0,
           47.0,
           16.0,
           12.0,
           16.0,
           15.0,
           26.0,
           15.0,
           29.0,
           40.0,
           19.0,
           34.0,
           37.0,
           14.0,
           34.0,
           36.0,
           48.0,
           29.0,
           22.0,
           31.0,
           29.0,
           26.0,
           20.0,
           29.0,
           52.0,
           34.0,
           52.0,
           8.0,
           8.0,
           38.0,
           20.0,
           24.0,
           30.0,
           14.0,
           46.0,
           34.0,
           17.0,
           25.0,
           21.0,
           52.0,
           17.0,
           30.0,
           22.0,
           36.0,
           31.0,
           26.0,
           21.0,
           24.0,
           25.0,
           24.0,
           34.0,
           35.0,
           16.0,
           19.0,
           52.0,
           52.0,
           5.0,
           43.0,
           36.0,
           44.0,
           19.0,
           18.0,
           28.0,
           30.0,
           25.0,
           34.0,
           10.0,
           6.0,
           33.0,
           28.0,
           39.0,
           17.0,
           36.0,
           19.0,
           15.0,
           48.0,
           33.0,
           43.0,
           43.0,
           31.0,
           38.0,
           23.0,
           37.0,
           29.0,
           42.0,
           15.0,
           46.0,
           46.0,
           25.0,
           32.0,
           26.0,
           33.0,
           17.0,
           24.0,
           27.0,
           10.0,
           6.0,
           38.0,
           27.0,
           34.0,
           49.0,
           25.0,
           42.0,
           10.0,
           25.0,
           52.0,
           24.0,
           41.0,
           27.0,
           19.0,
           42.0,
           42.0,
           35.0,
           12.0,
           15.0,
           33.0,
           17.0,
           35.0,
           42.0,
           27.0,
           27.0,
           40.0,
           32.0,
           35.0,
           32.0,
           13.0,
           4.0
          ],
          "colorscale": [
           [
            0.0,
            "rgb(0,0,131)"
           ],
           [
            0.2,
            "rgb(0,60,170)"
           ],
           [
            0.4,
            "rgb(5,255,255)"
           ],
           [
            0.6,
            "rgb(255,255,0)"
           ],
           [
            0.8,
            "rgb(250,0,0)"
           ],
           [
            1.0,
            "rgb(128,0,0)"
           ]
          ],
          "showscale": true,
          "size": [
           2180.0,
           3078.0,
           3127.0,
           1835.0,
           1910.0,
           2430.0,
           4369.0,
           1651.0,
           3071.0,
           1687.0,
           1589.0,
           1172.0,
           6107.0,
           1833.0,
           3207.0,
           1895.0,
           1717.0,
           1661.0,
           2692.0,
           883.0,
           2080.0,
           3464.0,
           3956.0,
           838.0,
           1674.0,
           5417.0,
           1343.0,
           906.0,
           1676.0,
           350.0,
           7531.0,
           1499.0,
           1171.0,
           836.0,
           1704.0,
           2933.0,
           1864.0,
           5144.0,
           3811.0,
           913.0,
           3495.0,
           2629.0,
           259.0,
           1447.0,
           1455.0,
           1785.0,
           2124.0,
           1777.0,
           3042.0,
           2836.0,
           2456.0,
           2278.0,
           120.0,
           2316.0,
           2748.0,
           2653.0,
           2077.0,
           1425.0,
           1374.0,
           3244.0,
           3419.0,
           1582.0,
           1438.0,
           10613.0,
           5954.0,
           9792.0,
           3518.0,
           1261.0,
           5593.0,
           1147.0,
           6251.0,
           5039.0,
           2297.0,
           1087.0,
           2272.0,
           908.0,
           2649.0,
           2180.0,
           2835.0,
           5203.0,
           5813.0,
           2256.0,
           2837.0,
           990.0,
           2666.0,
           3894.0,
           2122.0,
           581.0,
           2026.0,
           1715.0,
           4499.0,
           1695.0,
           572.0,
           45.0,
           1682.0,
           937.0,
           1392.0,
           1020.0,
           1900.0,
           1155.0,
           1218.0,
           175.0,
           3057.0,
           2547.0,
           1815.0,
           4030.0,
           2142.0,
           949.0,
           4453.0,
           1739.0,
           3221.0,
           4556.0,
           2653.0,
           2398.0,
           1156.0,
           1969.0,
           1816.0,
           2918.0,
           2817.0,
           118.0,
           3008.0,
           2306.0,
           1000.0,
           3224.0,
           1618.0,
           2352.0,
           2643.0,
           1476.0,
           1691.0,
           1588.0,
           296.0,
           3379.0,
           822.0,
           1274.0,
           716.0,
           4227.0,
           3189.0,
           3080.0,
           3050.0,
           891.0,
           2781.0,
           1079.0,
           6326.0,
           340.0,
           1612.0,
           2031.0,
           1937.0,
           1038.0,
           1962.0,
           991.0,
           1280.0,
           1520.0,
           1756.0,
           2946.0,
           5591.0,
           6940.0,
           1214.0,
           1666.0,
           9911.0,
           4078.0,
           2125.0,
           1867.0,
           633.0,
           1640.0,
           1810.0,
           5115.0,
           4794.0,
           1500.0,
           1736.0,
           1971.0,
           21988.0,
           1671.0,
           3120.0,
           2155.0,
           224.0,
           1981.0,
           3173.0,
           1223.0,
           2830.0,
           1248.0,
           1945.0,
           1265.0,
           1321.0,
           3058.0,
           2598.0,
           2359.0,
           3803.0,
           851.0,
           1937.0,
           9280.0,
           1635.0,
           3409.0,
           1752.0,
           1076.0,
           3138.0,
           583.0,
           3580.0,
           707.0,
           1485.0,
           1613.0,
           969.0,
           1054.0,
           2415.0,
           1856.0,
           1908.0,
           1386.0,
           1994.0,
           1994.0,
           2737.0,
           268.0,
           4481.0,
           8800.0,
           1889.0,
           4088.0,
           2567.0,
           956.0,
           1987.0,
           5005.0,
           3815.0,
           3174.0,
           1541.0,
           2126.0,
           1617.0,
           1487.0,
           1562.0,
           9567.0,
           2053.0,
           1047.0,
           3659.0,
           3281.0,
           2696.0,
           5018.0,
           2341.0,
           2795.0,
           1530.0,
           674.0,
           999.0,
           1856.0,
           3494.0,
           2689.0,
           3964.0,
           3517.0,
           5129.0,
           2019.0,
           3478.0,
           200.0,
           5677.0,
           2569.0,
           489.0,
           3631.0,
           1092.0,
           2900.0,
           1881.0,
           1495.0,
           390.0,
           1318.0,
           4590.0,
           2072.0,
           1541.0,
           2021.0,
           1000.0,
           2119.0,
           1956.0,
           629.0,
           2150.0,
           3420.0,
           684.0,
           14917.0,
           1944.0,
           144.0,
           1787.0,
           2284.0,
           6100.0,
           5684.0,
           1707.0,
           123.0,
           1694.0,
           963.0,
           1590.0,
           2070.0,
           483.0,
           3231.0,
           2605.0,
           9893.0,
           2748.0,
           176.0,
           1583.0,
           329.0,
           3813.0,
           4800.0,
           616.0,
           1179.0,
           4064.0,
           885.0,
           3418.0,
           3405.0,
           1405.0,
           1432.0,
           775.0,
           2073.0,
           3744.0,
           5608.0,
           3355.0,
           1029.0,
           1676.0,
           2248.0,
           299.0,
           239.0,
           2424.0,
           1665.0,
           20354.0,
           2044.0,
           3007.0,
           1574.0,
           9503.0,
           3561.0,
           2188.0,
           1221.0,
           1248.0,
           3540.0,
           1841.0,
           2705.0,
           1269.0,
           2762.0,
           1420.0,
           2538.0,
           1682.0,
           10395.0,
           1848.0,
           729.0,
           1507.0,
           1170.0,
           2074.0,
           1696.0,
           1799.0,
           1299.0,
           1489.0,
           3215.0,
           1476.0,
           2741.0,
           574.0,
           1967.0,
           9911.0,
           825.0,
           1643.0,
           1933.0,
           1414.0,
           2325.0,
           2027.0,
           1682.0,
           4431.0,
           1983.0,
           5915.0,
           596.0,
           1325.0,
           3707.0,
           9176.0,
           2790.0,
           2685.0,
           3498.0,
           2061.0,
           924.0,
           1271.0,
           1945.0,
           1988.0,
           788.0,
           2800.0,
           224.0,
           2758.0,
           1947.0,
           5373.0,
           5041.0,
           3171.0,
           1526.0,
           1657.0,
           1160.0,
           879.0,
           1549.0,
           2352.0,
           3071.0,
           1167.0,
           4065.0,
           1891.0,
           2050.0,
           2134.0,
           3789.0,
           1896.0,
           584.0,
           520.0,
           698.0,
           2017.0,
           1543.0,
           89.0,
           1719.0,
           2287.0,
           1405.0,
           1975.0,
           1284.0,
           2080.0,
           1895.0,
           1546.0,
           3512.0,
           1882.0,
           187.0,
           2415.0,
           1958.0,
           1527.0,
           3952.0,
           4929.0,
           2093.0,
           2467.0,
           2186.0,
           865.0,
           2363.0,
           1806.0,
           2420.0,
           557.0,
           3275.0,
           1649.0,
           2524.0,
           3319.0,
           8399.0,
           1542.0,
           2912.0,
           858.0,
           1943.0,
           994.0,
           2555.0,
           1276.0,
           1999.0,
           2967.0,
           1145.0,
           4228.0,
           2229.0,
           1383.0,
           1495.0,
           2674.0,
           3700.0,
           1012.0,
           735.0,
           2714.0,
           767.0,
           1784.0,
           1288.0,
           3586.0,
           2892.0,
           1315.0,
           3231.0,
           1590.0,
           1142.0,
           1701.0,
           2212.0,
           3772.0,
           1242.0,
           74.0,
           1762.0,
           2949.0,
           1454.0,
           2275.0,
           2775.0,
           1919.0,
           1072.0,
           543.0,
           792.0,
           2662.0,
           2402.0,
           1180.0,
           1831.0,
           6269.0,
           2060.0,
           2908.0,
           6126.0,
           4015.0,
           2232.0,
           3803.0,
           3181.0,
           3112.0,
           1596.0,
           2147.0,
           1175.0,
           2018.0,
           1486.0,
           1219.0,
           2043.0,
           726.0,
           1028.0,
           4393.0,
           3619.0,
           2249.0,
           1306.0,
           4257.0,
           2911.0,
           2505.0,
           17313.0,
           5211.0,
           7374.0,
           2474.0,
           2600.0,
           1808.0,
           2842.0,
           2987.0,
           952.0,
           1354.0,
           1437.0,
           3575.0,
           1598.0,
           1837.0,
           1362.0,
           4776.0,
           2234.0,
           1230.0,
           1683.0,
           1410.0,
           8146.0,
           1182.0,
           394.0,
           1384.0,
           3171.0,
           2641.0,
           4610.0,
           2066.0,
           1831.0,
           1352.0,
           1058.0,
           1973.0,
           1564.0,
           3757.0,
           2472.0,
           2679.0,
           861.0,
           3487.0,
           2637.0,
           477.0,
           3776.0,
           763.0,
           4833.0,
           1904.0,
           1529.0,
           378.0,
           1801.0,
           1426.0,
           995.0,
           1389.0,
           1489.0,
           2406.0,
           2995.0,
           1907.0,
           1560.0,
           2802.0,
           2230.0,
           1069.0,
           1288.0,
           3554.0,
           4340.0,
           3110.0,
           1538.0,
           1226.0,
           1612.0,
           2459.0,
           2301.0,
           4684.0,
           7079.0,
           1578.0,
           2922.0,
           3351.0,
           5429.0,
           2046.0,
           952.0,
           1547.0,
           1177.0,
           3482.0,
           803.0,
           4001.0,
           2167.0,
           1767.0,
           2433.0,
           1823.0,
           1670.0,
           1255.0,
           4350.0,
           3244.0,
           1371.0,
           3595.0,
           8020.0,
           41.0,
           2476.0,
           1983.0,
           7097.0,
           3847.0,
           395.0,
           1462.0,
           2785.0,
           1041.0,
           5221.0,
           2244.0,
           1052.0,
           3137.0,
           2375.0,
           3400.0,
           2155.0,
           2434.0,
           2034.0,
           1932.0,
           4976.0,
           1765.0,
           4026.0,
           2397.0,
           1527.0,
           2487.0,
           2220.0,
           3150.0,
           2479.0,
           3239.0,
           2735.0,
           1364.0,
           1883.0,
           2715.0,
           1685.0,
           3337.0,
           1558.0,
           4493.0,
           765.0,
           2169.0,
           2409.0,
           2294.0,
           1315.0,
           3013.0,
           1933.0,
           3285.0,
           2696.0,
           1945.0,
           2315.0,
           1929.0,
           730.0,
           2489.0,
           1788.0,
           2342.0,
           2296.0,
           6082.0,
           1616.0,
           10618.0,
           472.0,
           2204.0,
           1141.0,
           1394.0,
           3517.0,
           1727.0,
           3268.0,
           7208.0,
           1498.0,
           895.0,
           1711.0,
           1380.0,
           2051.0,
           2549.0,
           2721.0,
           2053.0,
           3264.0,
           3131.0,
           1872.0,
           2577.0,
           1771.0,
           3139.0,
           2203.0,
           2203.0,
           2483.0,
           1091.0,
           1112.0,
           1851.0,
           862.0,
           1660.0,
           1345.0,
           1536.0,
           5026.0,
           1294.0,
           2391.0,
           11336.0,
           2722.0,
           4022.0,
           1303.0,
           2651.0,
           1612.0,
           1715.0,
           3405.0,
           3609.0,
           1338.0,
           1236.0,
           1560.0,
           1577.0,
           2187.0,
           215.0,
           2471.0,
           1186.0,
           3792.0,
           1082.0,
           1583.0,
           2263.0,
           6103.0,
           2911.0,
           3603.0,
           461.0,
           3154.0,
           950.0,
           1342.0,
           2061.0,
           2336.0,
           2528.0,
           1107.0,
           1250.0,
           5054.0,
           1049.0,
           1793.0,
           1515.0,
           1768.0,
           2958.0,
           2603.0,
           2530.0,
           1468.0,
           5623.0,
           1869.0,
           935.0,
           1501.0,
           1736.0,
           699.0,
           1143.0,
           4203.0,
           4808.0,
           810.0,
           1169.0,
           3188.0,
           3003.0,
           3740.0,
           3830.0,
           2642.0,
           1687.0,
           3522.0,
           1171.0,
           1111.0,
           1569.0,
           3155.0,
           1997.0,
           2104.0,
           2686.0,
           1778.0,
           659.0,
           2536.0,
           737.0,
           666.0,
           4439.0,
           2313.0,
           3193.0,
           1961.0,
           2870.0,
           6298.0,
           2534.0,
           3295.0,
           5330.0,
           762.0,
           2919.0,
           1491.0,
           1830.0,
           2744.0,
           2582.0,
           12360.0,
           1409.0,
           848.0,
           1286.0,
           2331.0,
           1543.0,
           3376.0,
           3221.0,
           2020.0,
           1561.0,
           2411.0,
           928.0,
           4781.0,
           4122.0,
           8149.0,
           1787.0,
           2102.0,
           2572.0,
           1408.0,
           3570.0,
           2682.0,
           8363.0,
           2241.0,
           1048.0,
           3173.0,
           2019.0,
           2914.0,
           2729.0,
           1210.0,
           2893.0,
           2828.0,
           1795.0,
           1436.0,
           948.0,
           10565.0,
           1931.0,
           2013.0,
           833.0,
           1193.0,
           1748.0,
           4041.0,
           242.0,
           1276.0,
           2243.0,
           2642.0,
           2511.0,
           797.0,
           36.0,
           1591.0,
           1161.0,
           3215.0,
           1001.0,
           8301.0,
           3562.0,
           2288.0,
           2873.0,
           1949.0,
           861.0,
           3349.0,
           3652.0,
           4112.0,
           1703.0,
           5507.0,
           2960.0,
           2655.0,
           8527.0,
           1268.0,
           3213.0,
           2687.0,
           3519.0,
           2665.0,
           1245.0,
           123.0,
           3359.0,
           859.0,
           4471.0,
           6638.0,
           1358.0,
           4570.0,
           1709.0,
           253.0,
           438.0,
           1489.0,
           2672.0,
           4448.0,
           3084.0,
           2451.0,
           1389.0,
           819.0,
           2925.0,
           1151.0,
           1627.0,
           1642.0,
           1835.0,
           3576.0,
           2596.0,
           2153.0,
           1596.0,
           1728.0,
           1220.0,
           8879.0,
           1950.0,
           1245.0,
           1485.0,
           1919.0,
           2064.0,
           652.0,
           1383.0,
           4925.0,
           1546.0,
           4607.0,
           1228.0,
           2051.0,
           3175.0,
           1633.0,
           323.0,
           1625.0,
           2806.0,
           1995.0,
           1476.0,
           2352.0,
           1317.0,
           2697.0,
           1016.0,
           1684.0,
           4741.0,
           4210.0,
           1377.0,
           1332.0,
           3585.0,
           4786.0,
           6341.0,
           4394.0,
           1709.0,
           4195.0,
           1595.0,
           8259.0,
           1983.0,
           1544.0,
           2747.0,
           5264.0,
           5741.0,
           1947.0,
           3334.0,
           1672.0,
           7274.0,
           2563.0,
           1032.0,
           804.0,
           3042.0,
           4612.0,
           4952.0,
           3967.0,
           3460.0,
           2749.0,
           3804.0,
           2127.0,
           1388.0,
           2191.0,
           878.0,
           1791.0,
           1995.0,
           1538.0,
           5751.0,
           1499.0,
           3795.0,
           1014.0,
           790.0,
           3202.0,
           9047.0,
           2671.0,
           6374.0,
           1637.0,
           4595.0,
           2331.0,
           1109.0,
           4770.0,
           8374.0,
           1757.0,
           3491.0,
           1210.0,
           1899.0,
           465.0,
           1651.0,
           1276.0,
           1361.0,
           1576.0,
           1818.0,
           1149.0,
           934.0,
           3943.0,
           1028.0,
           2792.0,
           1671.0,
           3333.0,
           2458.0,
           1879.0,
           2819.0,
           1347.0,
           7141.0,
           3521.0,
           1459.0,
           1856.0,
           2107.0,
           1139.0,
           3171.0,
           760.0,
           2685.0,
           2598.0,
           1541.0,
           2360.0,
           2307.0,
           1832.0,
           2026.0,
           2493.0,
           2387.0,
           1844.0,
           6725.0,
           2143.0,
           2197.0,
           3053.0,
           9320.0,
           3259.0,
           1482.0,
           1782.0,
           1467.0,
           2794.0,
           2010.0,
           1893.0,
           1924.0,
           16.0,
           1922.0,
           2549.0,
           1335.0,
           110.0,
           1473.0,
           2370.0,
           2547.0,
           1560.0,
           2231.0,
           821.0,
           862.0,
           6027.0,
           1787.0,
           2045.0,
           943.0,
           1028.0,
           2400.0,
           1717.0,
           2830.0,
           1470.0,
           1974.0,
           587.0,
           3543.0,
           2587.0,
           1111.0,
           1923.0,
           453.0,
           2396.0,
           5444.0,
           17032.0,
           2009.0,
           2083.0,
           2559.0,
           1726.0,
           1508.0,
           3297.0,
           1794.0,
           4750.0,
           989.0,
           787.0,
           2448.0,
           1587.0,
           3913.0,
           1559.0,
           1527.0,
           1901.0,
           2496.0,
           2929.0,
           1797.0,
           3167.0,
           1759.0,
           1026.0,
           1547.0,
           939.0,
           300.0,
           994.0,
           2686.0,
           1840.0,
           2843.0,
           4325.0,
           722.0,
           3781.0,
           3791.0,
           1416.0,
           3172.0,
           1919.0,
           1305.0,
           2210.0,
           2133.0,
           1791.0,
           1013.0,
           1845.0,
           440.0,
           6198.0,
           9053.0,
           2676.0,
           1999.0,
           2050.0,
           2305.0,
           1472.0,
           2239.0,
           4045.0,
           1494.0,
           3592.0,
           954.0,
           3943.0,
           412.0,
           3100.0,
           1449.0,
           2467.0,
           3856.0,
           1010.0,
           876.0,
           1390.0,
           1469.0,
           1180.0,
           2417.0,
           3404.0,
           2527.0,
           2668.0,
           2110.0,
           1665.0,
           5509.0,
           1871.0,
           2723.0,
           3371.0,
           3453.0,
           2650.0,
           2570.0,
           1260.0,
           3738.0,
           67.0,
           412.0,
           834.0,
           3252.0,
           3297.0,
           1789.0,
           2341.0,
           1404.0,
           2452.0,
           1809.0,
           1257.0,
           3626.0,
           3739.0,
           1792.0,
           3380.0,
           2211.0,
           2722.0,
           6517.0,
           1208.0,
           1370.0,
           6907.0,
           4890.0,
           812.0,
           852.0,
           1746.0,
           1484.0,
           7437.0,
           1499.0,
           4062.0,
           1040.0,
           1251.0,
           1128.0,
           4257.0,
           10035.0,
           2924.0,
           1863.0,
           671.0,
           1731.0,
           187.0,
           5468.0,
           2413.0,
           5257.0,
           1327.0,
           2233.0,
           2014.0,
           1076.0,
           2206.0,
           1677.0,
           991.0,
           472.0,
           1619.0,
           3160.0,
           1058.0,
           2065.0,
           2558.0,
           488.0,
           2887.0,
           1798.0,
           2337.0,
           2320.0,
           1131.0,
           30405.0,
           2655.0,
           1047.0,
           1634.0,
           676.0,
           2501.0,
           1871.0,
           1120.0,
           2839.0,
           1909.0,
           2009.0,
           2376.0,
           4486.0,
           2828.0,
           2171.0,
           4030.0,
           4297.0,
           1036.0,
           7650.0,
           2196.0,
           5659.0,
           3752.0,
           5841.0,
           4974.0,
           1957.0,
           6789.0,
           2381.0,
           1187.0,
           2078.0,
           1786.0,
           1867.0,
           4833.0,
           2068.0,
           124.0,
           1194.0,
           8806.0,
           2339.0,
           7778.0,
           2470.0,
           3942.0,
           1467.0,
           2259.0,
           3821.0,
           80.0,
           2082.0,
           1890.0,
           777.0,
           4203.0,
           945.0,
           1342.0,
           6091.0,
           4518.0,
           3326.0,
           3819.0,
           1276.0,
           2023.0,
           3160.0,
           1878.0,
           2188.0,
           1351.0,
           521.0,
           2316.0,
           5785.0,
           1011.0,
           1689.0,
           4695.0,
           3942.0,
           2144.0,
           1691.0,
           3357.0,
           3268.0,
           4428.0,
           3889.0,
           2334.0,
           2203.0,
           1967.0,
           883.0,
           673.0,
           1133.0,
           402.0,
           1039.0,
           5473.0,
           2364.0,
           1997.0,
           1118.0,
           2677.0,
           515.0,
           2795.0,
           1365.0,
           871.0,
           3376.0,
           2461.0,
           1077.0,
           1193.0,
           2173.0,
           4445.0,
           50.0,
           2476.0,
           4043.0,
           545.0,
           1391.0,
           2404.0,
           950.0,
           1715.0,
           446.0,
           939.0,
           1244.0,
           1178.0,
           1579.0,
           941.0,
           6573.0,
           2978.0,
           1401.0,
           2800.0,
           3148.0,
           849.0,
           2945.0,
           1728.0,
           6607.0,
           1527.0,
           2116.0,
           4059.0,
           1649.0,
           774.0,
           1170.0,
           319.0,
           2750.0,
           2424.0,
           2332.0,
           2143.0,
           4977.0,
           1360.0,
           3622.0,
           3065.0,
           1355.0,
           3271.0,
           70.0,
           2737.0,
           2929.0,
           1898.0,
           2579.0,
           4398.0,
           1111.0,
           2013.0,
           2657.0,
           3140.0,
           1285.0,
           4417.0,
           2859.0,
           2952.0,
           4415.0,
           2574.0,
           9959.0,
           771.0,
           14891.0,
           4890.0,
           1334.0,
           4615.0,
           2406.0,
           2206.0,
           1986.0,
           3351.0,
           1690.0,
           1280.0,
           1388.0,
           5622.0,
           1189.0,
           1382.0,
           2464.0,
           716.0,
           1331.0,
           1432.0,
           1213.0,
           2741.0,
           2705.0,
           2630.0,
           4001.0,
           1355.0,
           1971.0,
           6710.0,
           5212.0,
           2252.0,
           1634.0,
           6393.0,
           2308.0,
           2458.0,
           1628.0,
           2225.0,
           3279.0,
           1583.0,
           1231.0,
           2069.0,
           5688.0,
           4145.0,
           2486.0,
           666.0,
           2746.0,
           3535.0,
           1745.0,
           2343.0,
           2994.0,
           2234.0,
           1068.0,
           1778.0,
           693.0,
           4400.0,
           1118.0,
           1965.0,
           2283.0,
           2700.0,
           1523.0,
           222.0,
           1210.0,
           2096.0,
           3167.0,
           2838.0,
           1268.0,
           1823.0,
           1275.0,
           1565.0,
           3444.0,
           2377.0,
           3627.0,
           12689.0,
           1993.0,
           3716.0,
           2782.0,
           561.0,
           1884.0,
           1575.0,
           2607.0,
           3776.0,
           2398.0,
           1157.0,
           3107.0,
           2049.0,
           1816.0,
           2289.0,
           1467.0,
           1976.0,
           3112.0,
           1650.0,
           2001.0,
           1177.0,
           2634.0,
           534.0,
           1401.0,
           714.0,
           6988.0,
           2169.0,
           1170.0,
           1102.0,
           1141.0,
           1566.0,
           1411.0,
           11659.0,
           3742.0,
           3486.0,
           3794.0,
           1576.0,
           2578.0,
           3583.0,
           2010.0,
           1525.0,
           1225.0,
           2776.0,
           2099.0,
           1406.0,
           1968.0,
           3795.0,
           814.0,
           1513.0,
           1065.0,
           2790.0,
           2668.0,
           1179.0,
           2722.0,
           2331.0,
           3241.0
          ],
          "sizeref": 500
         },
         "mode": "markers",
         "x": [
          3.0395,
          3.25,
          1.5774,
          3.2813,
          4.8173,
          3.1667,
          2.0571,
          4.575,
          6.1768,
          6.204,
          4.5714,
          2.4596,
          2.5643,
          5.726,
          4.263,
          6.3364,
          3.2425,
          5.2548,
          2.6763,
          0.9809,
          5.2887,
          4.0668,
          4.3512,
          2.4861,
          3.9286,
          4.8047,
          7.2648,
          10.3942,
          3.8936,
          6.2862,
          3.8506,
          5.5677,
          2.8611,
          4.125,
          4.4239,
          2.2538,
          3.4028,
          4.5615,
          7.8383,
          0.9914,
          3.1167,
          4.5066,
          5.2681,
          4.7639,
          2.7857,
          4.3056,
          5.2131,
          3.3643,
          2.4141,
          3.13,
          2.6875,
          1.3611,
          12.5,
          1.6955,
          3.5192,
          2.6384,
          1.8281,
          3.9732,
          6.3699,
          7.5,
          3.9028,
          1.4167,
          3.3516,
          3.7912,
          4.2566,
          10.1714,
          3.0833,
          4.0911,
          7.2965,
          2.2431,
          8.4355,
          3.3469,
          15.0001,
          4.3625,
          3.7143,
          2.2,
          2.3533,
          2.875,
          3.129,
          4.105,
          4.7778,
          4.9236,
          4.5272,
          2.0074,
          4.1375,
          1.5553,
          4.6687,
          3.2917,
          1.9375,
          2.2417,
          5.516,
          2.7125,
          2.0433,
          5.2949,
          2.1029,
          3.3214,
          4.7344,
          6.101,
          2.2222,
          2.3851,
          2.4348,
          9.7066,
          2.7083,
          3.994,
          2.8417,
          3.6393,
          3.0737,
          5.6286,
          2.7468,
          2.4429,
          2.9844,
          6.4667,
          2.6643,
          2.7727,
          1.4514,
          3.4698,
          4.5662,
          2.6495,
          2.1553,
          2.5795,
          3.2149,
          5.93,
          2.3062,
          3.2153,
          3.1607,
          4.9583,
          1.9167,
          3.575,
          3.5855,
          2.8208,
          1.4444,
          4.2743,
          4.15,
          2.1905,
          5.0254,
          4.7356,
          7.5813,
          4.1218,
          4.5562,
          6.0,
          6.1092,
          4.9833,
          6.2498,
          1.75,
          2.963,
          7.419,
          3.0,
          4.9219,
          3.2898,
          3.625,
          1.7115,
          2.2019,
          5.0325,
          2.2244,
          5.5925,
          5.4889,
          2.5469,
          2.6065,
          3.4237,
          10.8034,
          6.4599,
          1.7207,
          6.4562,
          2.6292,
          3.1189,
          4.8611,
          3.1439,
          3.9625,
          6.516,
          4.0272,
          3.9963,
          13.1107,
          3.9041,
          4.0132,
          3.017,
          3.0833,
          2.1484,
          4.6607,
          5.8142,
          2.7059,
          1.5203,
          4.8929,
          3.1131,
          1.8156,
          5.8623,
          3.0625,
          3.0476,
          1.9044,
          3.81,
          3.2026,
          2.4432,
          1.7303,
          3.1167,
          3.4943,
          4.0775,
          5.943,
          7.7814,
          3.0469,
          1.8993,
          3.6875,
          1.5938,
          4.5625,
          3.1389,
          1.1912,
          4.575,
          2.4271,
          2.7614,
          4.1875,
          2.8,
          1.125,
          3.9934,
          2.065,
          1.7064,
          3.6065,
          2.5909,
          3.025,
          1.3587,
          4.9968,
          2.0174,
          4.5347,
          5.1028,
          2.9315,
          3.915,
          5.2312,
          3.5161,
          4.4821,
          4.3375,
          1.712,
          2.9564,
          6.358,
          4.0798,
          2.7694,
          4.8036,
          4.2386,
          5.1005,
          1.3942,
          1.8854,
          3.1505,
          3.6,
          3.5909,
          5.1624,
          2.6652,
          5.5138,
          4.1023,
          2.9375,
          15.0001,
          1.8238,
          2.0754,
          5.144,
          5.817,
          3.9063,
          4.511,
          3.875,
          2.8798,
          1.1979,
          1.8692,
          2.7118,
          3.9934,
          4.425,
          2.7788,
          1.4375,
          1.9605,
          3.7857,
          7.6286,
          2.4754,
          4.0417,
          2.4524,
          5.6277,
          3.9097,
          4.3958,
          3.75,
          4.0526,
          4.9932,
          3.1964,
          2.1736,
          3.0417,
          4.744,
          2.2898,
          5.8151,
          4.1926,
          2.1859,
          2.6535,
          5.0406,
          3.253,
          2.8966,
          3.8068,
          2.3895,
          4.6806,
          2.0807,
          3.7533,
          3.625,
          3.1125,
          3.0321,
          1.1667,
          3.6133,
          2.7813,
          1.608,
          2.1563,
          2.0172,
          2.9054,
          2.3079,
          3.9864,
          2.6506,
          3.1205,
          2.5562,
          2.817,
          3.0125,
          5.3168,
          4.072,
          5.249,
          5.4496,
          3.7102,
          4.0,
          2.314,
          5.0016,
          5.0292,
          4.4,
          2.4821,
          3.3839,
          3.0252,
          1.7841,
          3.0349,
          3.9615,
          4.0846,
          2.9306,
          4.5417,
          6.6603,
          5.928,
          3.0568,
          10.3893,
          2.0284,
          1.6098,
          4.1154,
          2.3,
          3.0083,
          3.5179,
          3.275,
          4.0194,
          2.6726,
          4.7566,
          2.25,
          3.6696,
          5.5882,
          2.3333,
          5.4446,
          4.2121,
          2.9167,
          3.6625,
          4.692,
          5.2806,
          7.5412,
          2.4792,
          4.5812,
          3.0221,
          3.6071,
          4.4485,
          8.3837,
          6.2028,
          3.6894,
          2.3229,
          2.5813,
          1.5,
          1.5152,
          3.6467,
          1.625,
          2.6818,
          4.1161,
          3.1042,
          2.6618,
          6.1814,
          1.9912,
          3.5335,
          2.507,
          3.5089,
          2.6458,
          2.9167,
          1.2857,
          3.2188,
          2.2292,
          3.9219,
          4.2727,
          3.072,
          2.7303,
          2.1389,
          2.2988,
          2.9321,
          2.425,
          1.8235,
          2.2857,
          2.2356,
          4.1591,
          3.5313,
          2.0208,
          3.625,
          1.9903,
          3.0804,
          6.626,
          4.0179,
          2.6917,
          4.3816,
          1.1728,
          1.9908,
          6.9794,
          3.3438,
          5.5418,
          8.1221,
          1.735,
          2.558,
          2.7262,
          8.0957,
          4.7333,
          4.575,
          2.2411,
          2.2794,
          3.9271,
          3.5403,
          2.1763,
          5.5429,
          6.9635,
          3.3816,
          3.6673,
          2.5885,
          1.6892,
          2.7344,
          1.5714,
          3.9191,
          2.1875,
          2.0804,
          4.1518,
          2.8,
          4.0714,
          1.78,
          6.6086,
          3.3431,
          6.5829,
          3.4698,
          3.4485,
          5.3668,
          2.0488,
          4.6354,
          5.7385,
          3.7614,
          4.6635,
          2.3864,
          2.4387,
          3.5746,
          3.8269,
          4.5417,
          3.4625,
          5.0602,
          5.4469,
          1.9853,
          3.8194,
          4.1094,
          9.5908,
          2.8643,
          2.9479,
          2.3438,
          2.033,
          7.9135,
          4.2679,
          2.1357,
          1.3646,
          2.6875,
          2.8089,
          2.3194,
          1.5603,
          4.5179,
          3.8201,
          3.4312,
          4.1793,
          4.9005,
          4.3152,
          5.2261,
          3.0,
          6.8268,
          3.2121,
          4.5096,
          4.1974,
          2.875,
          3.7083,
          3.5647,
          2.8029,
          2.5952,
          3.6389,
          6.0086,
          5.6876,
          4.1279,
          4.9766,
          2.1154,
          3.4047,
          4.6528,
          2.9965,
          5.6798,
          4.0931,
          8.7991,
          3.275,
          4.0223,
          3.025,
          3.6042,
          2.8024,
          1.5208,
          3.8056,
          3.6286,
          5.7192,
          2.5417,
          4.3897,
          4.4271,
          2.1667,
          10.3354,
          2.152,
          4.0481,
          4.725,
          7.167,
          1.5898,
          2.233,
          1.4178,
          2.0786,
          6.4468,
          2.7663,
          4.0924,
          8.1484,
          3.4032,
          2.9737,
          6.077,
          1.6186,
          3.75,
          3.3026,
          1.3679,
          2.5234,
          1.6303,
          3.6474,
          2.5682,
          5.1365,
          1.7292,
          5.1781,
          2.0972,
          4.1083,
          2.1908,
          4.2589,
          1.6581,
          5.0942,
          1.5882,
          3.8819,
          4.7917,
          1.7794,
          6.0332,
          2.5125,
          4.5399,
          1.6865,
          2.0441,
          2.325,
          6.6453,
          7.5674,
          1.9937,
          5.5779,
          3.1607,
          3.3958,
          7.0712,
          4.4236,
          15.0001,
          3.0735,
          2.3214,
          2.9531,
          3.2917,
          9.6465,
          3.4265,
          3.2331,
          3.3869,
          10.0472,
          5.1155,
          4.1932,
          3.0441,
          3.5,
          3.0958,
          4.125,
          6.0749,
          12.4429,
          3.7019,
          7.8279,
          5.8369,
          4.375,
          2.3233,
          4.9716,
          1.5491,
          5.7676,
          4.0833,
          2.875,
          3.3447,
          2.375,
          1.5086,
          3.39,
          1.9236,
          4.6076,
          2.6618,
          1.7228,
          2.5,
          7.0549,
          2.4607,
          1.6675,
          2.1067,
          2.1522,
          5.0855,
          5.3288,
          2.2138,
          3.35,
          3.8687,
          2.625,
          8.284,
          5.3184,
          4.9355,
          2.2264,
          4.5918,
          3.6154,
          5.3279,
          4.2222,
          3.8036,
          2.3103,
          4.15,
          4.4167,
          3.1635,
          1.6875,
          3.2222,
          4.5167,
          2.1078,
          2.3562,
          2.5386,
          1.8539,
          2.6165,
          2.275,
          5.2162,
          2.5042,
          3.4402,
          2.4306,
          5.8777,
          3.75,
          2.9469,
          2.4732,
          3.6486,
          3.6435,
          6.6246,
          2.6429,
          3.676,
          2.5893,
          4.9485,
          3.0956,
          5.3428,
          1.3587,
          6.617,
          3.7974,
          3.875,
          1.6557,
          3.7143,
          2.8466,
          3.6905,
          4.5428,
          1.4923,
          2.3674,
          3.5536,
          2.1875,
          3.3632,
          1.6389,
          3.5208,
          4.4306,
          4.9783,
          5.1104,
          1.8696,
          4.7679,
          3.2937,
          4.375,
          4.3187,
          3.7159,
          4.9615,
          3.871,
          3.2437,
          4.0274,
          7.8287,
          3.9583,
          1.3096,
          1.0208,
          3.7202,
          1.9152,
          3.0313,
          5.7652,
          4.5033,
          2.6397,
          3.0694,
          3.025,
          3.2121,
          2.0395,
          0.8668,
          3.25,
          1.9132,
          5.2363,
          2.0673,
          2.1042,
          4.4028,
          4.1591,
          2.5721,
          4.0229,
          2.2045,
          8.9257,
          3.0694,
          4.5268,
          6.0804,
          2.5872,
          4.1165,
          3.7344,
          3.0625,
          2.9422,
          4.3571,
          2.8981,
          2.8523,
          5.0784,
          3.4643,
          2.0192,
          2.0057,
          2.2222,
          5.4409,
          2.5988,
          2.5769,
          3.1917,
          2.5517,
          2.7443,
          3.8333,
          2.182,
          4.0121,
          3.1094,
          4.1429,
          3.3068,
          5.8548,
          1.3039,
          2.6238,
          3.5268,
          3.5532,
          6.4685,
          3.2639,
          1.2917,
          6.6779,
          4.1964,
          4.4063,
          4.9236,
          5.8068,
          1.3438,
          2.0817,
          5.6613,
          3.775,
          2.1136,
          3.8984,
          2.5639,
          2.4777,
          3.8125,
          1.7395,
          2.569,
          2.0575,
          3.6007,
          2.1103,
          2.3375,
          2.4003,
          1.9583,
          4.1635,
          3.1781,
          3.0877,
          6.2503,
          8.0144,
          1.5603,
          4.2019,
          2.5111,
          9.3399,
          3.7813,
          2.9118,
          3.4527,
          3.0035,
          6.5004,
          2.6991,
          6.5378,
          4.2941,
          3.6788,
          2.875,
          3.0556,
          1.7161,
          2.0708,
          4.9562,
          3.5982,
          5.3321,
          4.1635,
          3.625,
          3.7292,
          5.8178,
          2.2031,
          2.3438,
          2.7083,
          3.1719,
          5.2563,
          4.5375,
          3.2768,
          1.962,
          4.1797,
          2.085,
          3.1215,
          2.2417,
          1.8652,
          3.8676,
          2.6016,
          1.3958,
          2.0096,
          4.3281,
          4.1382,
          2.6098,
          2.7434,
          5.5179,
          4.2969,
          2.1667,
          6.0701,
          1.8333,
          6.2141,
          12.6417,
          1.3221,
          5.0709,
          2.875,
          1.75,
          4.7216,
          10.1248,
          6.799,
          2.0391,
          6.0889,
          3.95,
          5.2817,
          6.2242,
          1.4511,
          2.8342,
          3.1719,
          4.7973,
          2.7303,
          1.2668,
          2.3942,
          5.1805,
          3.5789,
          11.5706,
          3.6797,
          5.6454,
          6.14,
          3.9036,
          1.4732,
          0.9379,
          3.4821,
          2.0885,
          11.0492,
          2.8357,
          4.8519,
          5.2402,
          2.5,
          3.1859,
          2.0089,
          3.7708,
          4.1406,
          2.7092,
          5.9838,
          2.0221,
          5.1966,
          4.3687,
          3.4896,
          1.9181,
          8.1125,
          2.6172,
          3.125,
          3.3036,
          6.0672,
          6.0374,
          2.1071,
          3.5083,
          5.0824,
          2.1977,
          7.4918,
          4.325,
          3.2396,
          3.125,
          3.0405,
          1.8304,
          2.0523,
          1.8814,
          1.9073,
          3.5179,
          3.0912,
          4.6696,
          4.4699,
          2.8071,
          2.0809,
          4.1862,
          5.8491,
          1.2344,
          2.25,
          3.1176,
          3.9734,
          4.8554,
          11.2979,
          3.7188,
          4.3451,
          3.4,
          3.3699,
          6.7123,
          4.175,
          2.943,
          3.8117,
          5.7211,
          2.7181,
          4.0905,
          3.6786,
          7.494,
          6.7181,
          2.8906,
          3.9632,
          3.8333,
          10.0346,
          1.8446,
          2.29,
          3.7115,
          4.825,
          2.1439,
          1.6896,
          4.6458,
          2.1311,
          4.1181,
          4.5081,
          2.1833,
          2.6078,
          4.3458,
          2.4539,
          4.6635,
          4.1607,
          2.1912,
          4.1577,
          2.0802,
          1.7075,
          3.4184,
          3.2891,
          2.478,
          2.1888,
          2.163,
          5.883,
          4.7019,
          1.7225,
          6.6207,
          2.806,
          1.6034,
          3.1719,
          3.5046,
          2.5972,
          1.1681,
          2.6312,
          1.8575,
          4.2788,
          3.625,
          4.112,
          2.3043,
          4.0625,
          2.3687,
          5.4359,
          2.7857,
          2.0,
          3.5547,
          5.1423,
          4.6649,
          8.2673,
          3.05,
          4.0833,
          4.4042,
          3.2708,
          3.1795,
          0.9011,
          2.5473,
          3.1667,
          3.5655,
          2.89,
          4.2143,
          2.0227,
          4.1406,
          4.2375,
          3.1957,
          4.2614,
          4.1875,
          4.4423,
          6.311,
          5.1637,
          10.3599,
          5.7817,
          3.0773,
          2.5398,
          1.448,
          2.4053,
          4.5982,
          1.4729,
          7.001,
          1.125,
          2.2337,
          3.6417,
          5.152,
          3.7292,
          3.399,
          5.143,
          8.2598,
          4.3315,
          5.4165,
          1.2469,
          3.0257,
          5.1335,
          3.9826,
          4.0481,
          5.2287,
          10.4519,
          4.1369,
          2.4444,
          6.1273,
          3.48,
          3.7917,
          1.5625,
          3.0184,
          2.3578,
          2.7153,
          1.8333,
          2.2961,
          3.2813,
          2.7556,
          5.5601,
          2.8299,
          2.0221,
          1.4727,
          4.3409,
          2.1205,
          3.9167,
          3.8343,
          3.5839,
          4.8382,
          3.2279,
          3.5967,
          6.0715,
          7.2147,
          2.0139,
          3.2857,
          3.8259,
          7.0544,
          3.6875,
          2.8456,
          4.0076,
          1.8125,
          1.7708,
          2.9812,
          2.375,
          4.0909,
          2.0938,
          4.0,
          7.5992,
          3.2337,
          3.3173,
          2.5455,
          3.0943,
          10.5144,
          5.1074,
          2.7437,
          3.4063,
          4.275,
          1.4066,
          2.6136,
          1.7945,
          3.2011,
          2.3462,
          6.0582,
          3.7796,
          3.5082,
          6.4288,
          3.2371,
          2.375,
          3.6618,
          3.0,
          2.7352,
          4.875,
          3.125,
          6.5501,
          2.6667,
          2.6944,
          2.5,
          2.8493,
          3.575,
          2.0425,
          4.5481,
          2.5197,
          2.2656,
          4.2212,
          5.9346,
          2.0729,
          5.5601,
          2.9511,
          4.0833,
          4.0714,
          3.8,
          2.0978,
          5.5981,
          8.2961,
          2.3594,
          2.9133,
          3.0043,
          3.0161,
          2.8058,
          6.5858,
          3.7963,
          1.7596,
          3.9792,
          3.7321,
          4.2137,
          2.6847,
          3.9,
          3.0208,
          3.9844,
          2.3903,
          2.767,
          2.5043,
          2.8594,
          2.4283,
          7.6889,
          4.525,
          4.0491,
          2.8447,
          4.25,
          2.6103,
          4.4474,
          2.8401,
          6.983,
          3.25,
          3.4375,
          2.25,
          5.2657,
          10.2948,
          2.6136,
          7.8588,
          1.1818,
          2.4688,
          3.6719,
          3.7139,
          2.0943,
          3.8287,
          2.1005,
          2.6477,
          3.6007,
          1.8,
          8.3792,
          2.4567,
          4.0,
          12.5902,
          8.3839,
          3.9773,
          2.3598,
          2.1985,
          3.12,
          1.8125,
          2.2083,
          1.858,
          5.0767,
          3.3534,
          1.8214,
          9.5561,
          2.6563,
          2.8777,
          1.625,
          4.2206,
          3.7333,
          4.0219,
          8.0137,
          3.0529,
          2.0976,
          4.1731,
          6.2096,
          1.8771,
          2.8427,
          1.5429,
          3.5667,
          3.006,
          3.1944,
          2.6082,
          10.1454,
          1.4318,
          6.6125,
          3.402,
          5.2851,
          3.2578,
          1.82,
          4.8,
          6.1949,
          9.8937,
          4.7222,
          6.7606,
          7.3339,
          4.049,
          2.5372,
          2.4931,
          2.2202,
          5.1929,
          1.8242,
          6.2389,
          5.212,
          12.5381,
          3.705,
          4.2155,
          3.162,
          5.4694,
          2.9861,
          6.6054,
          2.3681,
          6.4092,
          5.5454,
          5.25,
          1.6424,
          1.6827,
          4.0208,
          4.1742,
          5.6266,
          1.1194,
          5.1837,
          5.6015,
          5.7457,
          3.1719,
          1.9609,
          4.7396,
          3.8864,
          6.9553,
          2.7759,
          4.2768,
          2.7788,
          4.3816,
          3.2689,
          3.9861,
          4.4444,
          3.2158,
          4.1169,
          3.9464,
          3.9514,
          4.2685,
          6.8482,
          4.7932,
          4.5,
          3.1324,
          4.25,
          4.4135,
          2.151,
          2.3523,
          2.05,
          1.3125,
          2.9688,
          1.9375,
          1.918,
          4.4148,
          3.7813,
          3.0313,
          2.4135,
          3.7798,
          3.2396,
          1.4375,
          3.101,
          2.1944,
          3.0208,
          2.1806,
          2.025,
          3.1656,
          4.125,
          2.0625,
          6.1504,
          1.4861,
          3.184,
          5.0198,
          3.1937,
          3.4306,
          3.0357,
          1.75,
          1.6981,
          2.6477,
          4.1615,
          2.1429,
          3.0651,
          2.7644,
          2.8472,
          2.7614,
          3.0466,
          5.0362,
          3.2368,
          3.375,
          2.5068,
          6.4232,
          4.1587,
          2.4526,
          3.0602,
          5.7628,
          2.6667,
          1.4688,
          4.9904,
          6.4755,
          2.2612,
          2.0819,
          6.58,
          2.1691,
          3.3125,
          3.6417,
          1.3444,
          1.7418,
          4.125,
          2.5797,
          2.2577,
          5.5792,
          4.5577,
          4.7375,
          7.6344,
          2.2708,
          3.425,
          6.5044,
          3.4107,
          4.25,
          3.0396,
          5.6063,
          3.75,
          6.0738,
          6.9754,
          2.0156,
          5.1064,
          2.5795,
          3.7153,
          3.9063,
          4.9079,
          1.6348,
          4.0278,
          8.5153,
          3.25,
          3.1333,
          5.1584,
          5.7763,
          4.8824,
          5.125,
          4.4946,
          2.6042,
          3.975,
          2.7243,
          4.5987,
          3.7007,
          3.7159,
          3.3669,
          3.3239,
          6.2838,
          3.6435,
          3.5223,
          4.1099,
          6.1575,
          1.5313,
          5.1384,
          2.3929,
          3.5441,
          6.083,
          1.6685,
          7.9168,
          2.7019,
          2.8365,
          3.5481,
          6.6131,
          2.5444,
          2.9018,
          3.4643,
          3.5139,
          7.1674,
          4.3911,
          2.1094,
          6.6852,
          5.4604,
          5.7528,
          6.5745,
          2.3417,
          3.6375,
          2.4196,
          3.2824,
          5.0249,
          5.1333,
          4.875,
          5.1136,
          1.7857,
          6.8299,
          3.1941,
          3.3831,
          3.0284,
          3.7222,
          3.0263,
          2.9271,
          3.7891,
          4.4561,
          4.537,
          3.6361,
          5.587,
          5.2113,
          2.1935,
          3.6312,
          3.1194,
          2.8512,
          4.224,
          3.4421,
          5.2319,
          2.1548,
          2.182,
          3.7414,
          5.1874,
          4.5757,
          3.6705,
          2.2981,
          6.0,
          3.1838,
          1.1563,
          2.3981,
          3.7976,
          5.3254,
          2.5809,
          0.8926,
          4.2224,
          2.3125,
          2.3906,
          4.0792,
          3.7143,
          3.075,
          3.0871,
          6.9833,
          2.4,
          7.2623,
          2.8068,
          1.9798,
          7.1882,
          3.0214,
          1.9408,
          3.1691,
          3.4013,
          2.5551,
          7.9887,
          3.2813,
          3.7031,
          5.8735,
          2.3942,
          2.7411,
          2.625,
          4.8,
          2.9422,
          1.9509,
          4.2305,
          3.6563,
          6.6134
         ],
         "y": [
          191300.0,
          195500.0,
          58000.0,
          243600.0,
          115800.0,
          81900.0,
          152300.0,
          215400.0,
          228900.0,
          201800.0,
          243200.0,
          154700.0,
          102700.0,
          287800.0,
          127400.0,
          307400.0,
          138800.0,
          192600.0,
          191100.0,
          121400.0,
          264500.0,
          137500.0,
          191400.0,
          96200.0,
          133100.0,
          438000.0,
          363200.0,
          500001.0,
          225900.0,
          500001.0,
          167400.0,
          175400.0,
          314300.0,
          174000.0,
          267100.0,
          181300.0,
          171800.0,
          137200.0,
          372700.0,
          147500.0,
          258300.0,
          140200.0,
          500001.0,
          265600.0,
          104200.0,
          228600.0,
          359600.0,
          420000.0,
          137500.0,
          168300.0,
          60600.0,
          60600.0,
          281000.0,
          86800.0,
          113300.0,
          146900.0,
          76800.0,
          188400.0,
          235500.0,
          500001.0,
          128600.0,
          200000.0,
          150000.0,
          168900.0,
          206100.0,
          481500.0,
          338100.0,
          224600.0,
          342900.0,
          63400.0,
          467600.0,
          345000.0,
          500001.0,
          158800.0,
          175700.0,
          80800.0,
          65400.0,
          87800.0,
          375000.0,
          174400.0,
          340400.0,
          155900.0,
          221000.0,
          96200.0,
          222400.0,
          70000.0,
          344300.0,
          83100.0,
          73100.0,
          79200.0,
          185100.0,
          150000.0,
          138800.0,
          350000.0,
          153300.0,
          131300.0,
          346900.0,
          311800.0,
          75000.0,
          67500.0,
          104800.0,
          182500.0,
          84700.0,
          95500.0,
          162500.0,
          184000.0,
          111600.0,
          411300.0,
          81100.0,
          228800.0,
          132000.0,
          263900.0,
          81000.0,
          186800.0,
          79900.0,
          179700.0,
          150300.0,
          116200.0,
          255400.0,
          225000.0,
          300000.0,
          277600.0,
          138800.0,
          199700.0,
          182000.0,
          445700.0,
          159200.0,
          274000.0,
          174300.0,
          238500.0,
          182100.0,
          124000.0,
          157500.0,
          124000.0,
          350000.0,
          195900.0,
          374100.0,
          328500.0,
          134500.0,
          381500.0,
          306500.0,
          213000.0,
          353300.0,
          67500.0,
          89500.0,
          483700.0,
          114200.0,
          200000.0,
          200000.0,
          144300.0,
          125000.0,
          100000.0,
          238200.0,
          255900.0,
          208600.0,
          232300.0,
          87800.0,
          93800.0,
          113700.0,
          500001.0,
          219700.0,
          105100.0,
          230000.0,
          136100.0,
          118800.0,
          146400.0,
          103100.0,
          168200.0,
          401000.0,
          260500.0,
          191100.0,
          467600.0,
          320400.0,
          174700.0,
          112500.0,
          179100.0,
          129200.0,
          173000.0,
          500001.0,
          159800.0,
          126200.0,
          156200.0,
          77100.0,
          218800.0,
          287800.0,
          87500.0,
          456200.0,
          64900.0,
          234600.0,
          227600.0,
          187500.0,
          74000.0,
          121600.0,
          311100.0,
          164500.0,
          288200.0,
          288700.0,
          85000.0,
          78400.0,
          186000.0,
          57600.0,
          240000.0,
          101800.0,
          60000.0,
          336000.0,
          89500.0,
          237500.0,
          266400.0,
          72000.0,
          150000.0,
          123300.0,
          219400.0,
          175000.0,
          433300.0,
          159100.0,
          140600.0,
          45300.0,
          295000.0,
          63700.0,
          101200.0,
          292100.0,
          149000.0,
          217700.0,
          197600.0,
          236400.0,
          210000.0,
          241800.0,
          82100.0,
          150500.0,
          500001.0,
          179200.0,
          161900.0,
          297800.0,
          283700.0,
          266700.0,
          69400.0,
          137500.0,
          270000.0,
          452800.0,
          500001.0,
          267900.0,
          164800.0,
          171100.0,
          217300.0,
          206500.0,
          350000.0,
          237500.0,
          101400.0,
          180800.0,
          257300.0,
          192700.0,
          296800.0,
          125000.0,
          225000.0,
          350000.0,
          93800.0,
          281700.0,
          500001.0,
          204800.0,
          115400.0,
          168800.0,
          106200.0,
          110500.0,
          330400.0,
          157300.0,
          173800.0,
          90300.0,
          269800.0,
          81300.0,
          225000.0,
          163800.0,
          104500.0,
          284000.0,
          185800.0,
          171300.0,
          137500.0,
          257300.0,
          66100.0,
          500001.0,
          244500.0,
          143800.0,
          177200.0,
          261400.0,
          186700.0,
          92400.0,
          275000.0,
          87500.0,
          187500.0,
          142600.0,
          87000.0,
          265000.0,
          154800.0,
          135500.0,
          143800.0,
          196100.0,
          159200.0,
          91800.0,
          88300.0,
          112500.0,
          156300.0,
          95300.0,
          200200.0,
          164600.0,
          240500.0,
          93200.0,
          110000.0,
          166100.0,
          175000.0,
          364200.0,
          351900.0,
          238900.0,
          177500.0,
          141500.0,
          169400.0,
          218500.0,
          269400.0,
          500000.0,
          123600.0,
          105900.0,
          178000.0,
          67500.0,
          266700.0,
          331300.0,
          183400.0,
          360300.0,
          194400.0,
          230900.0,
          239900.0,
          190300.0,
          500001.0,
          96300.0,
          87500.0,
          160200.0,
          132800.0,
          163500.0,
          161400.0,
          103500.0,
          197400.0,
          83300.0,
          142500.0,
          152300.0,
          218800.0,
          194300.0,
          133300.0,
          336700.0,
          128100.0,
          83900.0,
          217100.0,
          330900.0,
          400000.0,
          392100.0,
          200000.0,
          255200.0,
          214300.0,
          289000.0,
          295200.0,
          473400.0,
          361500.0,
          418800.0,
          118000.0,
          253100.0,
          162500.0,
          81300.0,
          113000.0,
          62000.0,
          164600.0,
          220900.0,
          165000.0,
          179700.0,
          453600.0,
          98600.0,
          268800.0,
          142700.0,
          261900.0,
          84800.0,
          461100.0,
          99300.0,
          150500.0,
          57400.0,
          222500.0,
          241900.0,
          114300.0,
          99100.0,
          168900.0,
          153400.0,
          144200.0,
          255000.0,
          275000.0,
          500001.0,
          119500.0,
          500001.0,
          117800.0,
          72500.0,
          121800.0,
          170300.0,
          156800.0,
          500001.0,
          195800.0,
          170000.0,
          191300.0,
          41700.0,
          118800.0,
          500001.0,
          500001.0,
          326100.0,
          483300.0,
          61200.0,
          121600.0,
          109800.0,
          500001.0,
          257500.0,
          225000.0,
          93000.0,
          75700.0,
          147100.0,
          113500.0,
          168800.0,
          269100.0,
          417300.0,
          93800.0,
          283300.0,
          159000.0,
          129100.0,
          91900.0,
          43000.0,
          183000.0,
          76400.0,
          226700.0,
          230700.0,
          144300.0,
          437500.0,
          114300.0,
          299400.0,
          137500.0,
          500001.0,
          265400.0,
          458300.0,
          219800.0,
          88900.0,
          179200.0,
          240400.0,
          176000.0,
          206700.0,
          139100.0,
          117000.0,
          350000.0,
          306000.0,
          142400.0,
          173900.0,
          298900.0,
          274700.0,
          101100.0,
          98500.0,
          215800.0,
          350000.0,
          132600.0,
          83300.0,
          88100.0,
          68400.0,
          496400.0,
          131900.0,
          187500.0,
          65400.0,
          129700.0,
          120600.0,
          52900.0,
          162500.0,
          177100.0,
          136200.0,
          68400.0,
          500001.0,
          264000.0,
          159300.0,
          303200.0,
          221200.0,
          280300.0,
          320800.0,
          241100.0,
          179300.0,
          57700.0,
          307700.0,
          251800.0,
          180900.0,
          92400.0,
          167600.0,
          166900.0,
          246500.0,
          167600.0,
          267100.0,
          75300.0,
          294500.0,
          186600.0,
          88900.0,
          320900.0,
          134200.0,
          478500.0,
          156500.0,
          250200.0,
          156900.0,
          138200.0,
          127900.0,
          89000.0,
          384700.0,
          165500.0,
          283500.0,
          82900.0,
          235000.0,
          336200.0,
          142600.0,
          477600.0,
          170800.0,
          97300.0,
          204500.0,
          357100.0,
          94000.0,
          55000.0,
          145500.0,
          88600.0,
          444200.0,
          97900.0,
          188400.0,
          500001.0,
          196900.0,
          72100.0,
          472700.0,
          77100.0,
          121400.0,
          229500.0,
          70300.0,
          88200.0,
          144900.0,
          231600.0,
          120000.0,
          215000.0,
          79200.0,
          122500.0,
          187500.0,
          108000.0,
          94600.0,
          134900.0,
          118800.0,
          217500.0,
          327300.0,
          289900.0,
          276100.0,
          98800.0,
          244900.0,
          270800.0,
          500001.0,
          58800.0,
          73300.0,
          69600.0,
          270100.0,
          500001.0,
          367100.0,
          234800.0,
          172200.0,
          141900.0,
          293000.0,
          233600.0,
          500001.0,
          212300.0,
          66800.0,
          127100.0,
          160100.0,
          500001.0,
          456900.0,
          226700.0,
          157300.0,
          500001.0,
          200900.0,
          14999.0,
          140100.0,
          135800.0,
          210900.0,
          359500.0,
          196900.0,
          500001.0,
          138600.0,
          500001.0,
          255700.0,
          129900.0,
          78800.0,
          162500.0,
          225000.0,
          241300.0,
          266700.0,
          300000.0,
          305200.0,
          175000.0,
          64700.0,
          149500.0,
          117200.0,
          204000.0,
          179600.0,
          105000.0,
          85500.0,
          331400.0,
          155600.0,
          95800.0,
          101100.0,
          60800.0,
          232200.0,
          201800.0,
          99200.0,
          118400.0,
          145200.0,
          203200.0,
          302500.0,
          376000.0,
          336900.0,
          181300.0,
          337000.0,
          155700.0,
          413900.0,
          500001.0,
          139600.0,
          134500.0,
          272200.0,
          215200.0,
          74300.0,
          113500.0,
          218700.0,
          265200.0,
          54700.0,
          58100.0,
          290600.0,
          147500.0,
          230800.0,
          122400.0,
          171900.0,
          147900.0,
          149400.0,
          88900.0,
          358800.0,
          280000.0,
          216100.0,
          165800.0,
          246900.0,
          119100.0,
          284200.0,
          71300.0,
          125600.0,
          108500.0,
          217100.0,
          500001.0,
          243600.0,
          67500.0,
          285200.0,
          228700.0,
          182600.0,
          65400.0,
          260000.0,
          95300.0,
          179800.0,
          239800.0,
          44400.0,
          500001.0,
          251000.0,
          121700.0,
          265100.0,
          96700.0,
          134200.0,
          225800.0,
          163900.0,
          220500.0,
          61500.0,
          169500.0,
          135300.0,
          186200.0,
          269700.0,
          494400.0,
          157800.0,
          162900.0,
          223900.0,
          160700.0,
          369200.0,
          141700.0,
          116300.0,
          55800.0,
          182100.0,
          115600.0,
          87900.0,
          299100.0,
          213100.0,
          59700.0,
          122200.0,
          154300.0,
          153900.0,
          67900.0,
          137500.0,
          80600.0,
          154600.0,
          310000.0,
          88500.0,
          268300.0,
          246800.0,
          332400.0,
          475000.0,
          363100.0,
          41800.0,
          431800.0,
          125000.0,
          207400.0,
          420000.0,
          130600.0,
          164900.0,
          179400.0,
          208800.0,
          289400.0,
          287500.0,
          353600.0,
          87500.0,
          295900.0,
          191800.0,
          63700.0,
          118900.0,
          81300.0,
          205100.0,
          135600.0,
          94400.0,
          73400.0,
          147100.0,
          94200.0,
          116100.0,
          60800.0,
          279700.0,
          136100.0,
          200000.0,
          500001.0,
          500001.0,
          77500.0,
          210000.0,
          174700.0,
          158400.0,
          241200.0,
          155200.0,
          66300.0,
          223900.0,
          258100.0,
          500001.0,
          238000.0,
          263900.0,
          103100.0,
          132500.0,
          172400.0,
          281300.0,
          61000.0,
          306300.0,
          123000.0,
          260300.0,
          96700.0,
          162500.0,
          88300.0,
          67000.0,
          395500.0,
          94400.0,
          154200.0,
          142100.0,
          88600.0,
          156400.0,
          162000.0,
          174200.0,
          222500.0,
          500001.0,
          109600.0,
          140100.0,
          55400.0,
          500001.0,
          232000.0,
          172400.0,
          175000.0,
          94600.0,
          263600.0,
          147100.0,
          340900.0,
          151600.0,
          178800.0,
          112500.0,
          95500.0,
          75800.0,
          89600.0,
          238700.0,
          94400.0,
          208100.0,
          398400.0,
          125000.0,
          182200.0,
          267400.0,
          164000.0,
          154300.0,
          82100.0,
          140600.0,
          144100.0,
          169800.0,
          179100.0,
          52700.0,
          141000.0,
          92600.0,
          153600.0,
          87900.0,
          116100.0,
          184000.0,
          222400.0,
          67500.0,
          155700.0,
          324000.0,
          189800.0,
          127100.0,
          95200.0,
          67500.0,
          145800.0,
          114600.0,
          149900.0,
          58200.0,
          252200.0,
          500001.0,
          61200.0,
          176400.0,
          121400.0,
          115400.0,
          227000.0,
          428500.0,
          292000.0,
          70400.0,
          245200.0,
          347700.0,
          140600.0,
          237900.0,
          65200.0,
          256800.0,
          115400.0,
          186900.0,
          109700.0,
          225000.0,
          200000.0,
          249400.0,
          110400.0,
          500001.0,
          271100.0,
          500001.0,
          361900.0,
          326600.0,
          156300.0,
          67500.0,
          160300.0,
          142800.0,
          500001.0,
          106300.0,
          225800.0,
          296400.0,
          112500.0,
          153100.0,
          113600.0,
          144600.0,
          219500.0,
          256300.0,
          271900.0,
          60400.0,
          325400.0,
          173500.0,
          185900.0,
          118800.0,
          428600.0,
          196100.0,
          93400.0,
          141000.0,
          420800.0,
          500001.0,
          93800.0,
          122000.0,
          230900.0,
          154200.0,
          367600.0,
          223900.0,
          375000.0,
          219900.0,
          188000.0,
          225000.0,
          133900.0,
          57700.0,
          79200.0,
          165500.0,
          155300.0,
          159500.0,
          367400.0,
          137500.0,
          95800.0,
          183600.0,
          247300.0,
          43300.0,
          63400.0,
          396300.0,
          185400.0,
          206700.0,
          500001.0,
          116600.0,
          177800.0,
          155500.0,
          244000.0,
          354600.0,
          190900.0,
          341700.0,
          82800.0,
          500001.0,
          156800.0,
          134800.0,
          159700.0,
          439200.0,
          160300.0,
          134800.0,
          147100.0,
          118800.0,
          500001.0,
          85700.0,
          111800.0,
          181900.0,
          205800.0,
          60200.0,
          100000.0,
          212100.0,
          163100.0,
          190400.0,
          251400.0,
          92700.0,
          116700.0,
          407500.0,
          115000.0,
          198400.0,
          112800.0,
          115200.0,
          174100.0,
          47900.0,
          60400.0,
          162500.0,
          93100.0,
          185600.0,
          195600.0,
          53400.0,
          295100.0,
          191100.0,
          180000.0,
          270500.0,
          214600.0,
          84400.0,
          158300.0,
          118300.0,
          134300.0,
          78100.0,
          171300.0,
          73800.0,
          332500.0,
          181300.0,
          141400.0,
          66300.0,
          272800.0,
          63900.0,
          258300.0,
          110900.0,
          83300.0,
          197600.0,
          183100.0,
          237800.0,
          358700.0,
          144800.0,
          500001.0,
          159100.0,
          325000.0,
          218200.0,
          86100.0,
          101600.0,
          117700.0,
          95600.0,
          86200.0,
          245400.0,
          53300.0,
          274100.0,
          205000.0,
          159200.0,
          261300.0,
          261600.0,
          216000.0,
          283200.0,
          500001.0,
          500001.0,
          267600.0,
          112500.0,
          105700.0,
          72800.0,
          178400.0,
          333500.0,
          54100.0,
          286800.0,
          60000.0,
          64500.0,
          178400.0,
          143400.0,
          475000.0,
          306300.0,
          176500.0,
          500001.0,
          95800.0,
          435100.0,
          46700.0,
          80800.0,
          461200.0,
          215800.0,
          152300.0,
          191100.0,
          500001.0,
          316900.0,
          73400.0,
          289600.0,
          191400.0,
          151600.0,
          55800.0,
          139400.0,
          88600.0,
          233300.0,
          68300.0,
          112500.0,
          151400.0,
          213200.0,
          213700.0,
          109500.0,
          95800.0,
          53000.0,
          191800.0,
          60000.0,
          232600.0,
          191400.0,
          158500.0,
          289400.0,
          158500.0,
          141600.0,
          173400.0,
          303900.0,
          150000.0,
          130100.0,
          253100.0,
          320700.0,
          213200.0,
          165500.0,
          252100.0,
          93500.0,
          102600.0,
          148800.0,
          145800.0,
          108300.0,
          162500.0,
          355300.0,
          310600.0,
          123100.0,
          247400.0,
          114300.0,
          97100.0,
          345900.0,
          185200.0,
          120200.0,
          253900.0,
          185300.0,
          66400.0,
          169200.0,
          166700.0,
          428300.0,
          127300.0,
          157700.0,
          159000.0,
          136500.0,
          295500.0,
          154700.0,
          141000.0,
          183500.0,
          110000.0,
          137300.0,
          143100.0,
          172700.0,
          294900.0,
          172800.0,
          158300.0,
          74200.0,
          196100.0,
          292200.0,
          63700.0,
          164800.0,
          350000.0,
          145000.0,
          293800.0,
          253600.0,
          84700.0,
          205200.0,
          282300.0,
          114400.0,
          215600.0,
          187500.0,
          155400.0,
          220100.0,
          500001.0,
          66000.0,
          215700.0,
          156500.0,
          215700.0,
          229500.0,
          346700.0,
          303100.0,
          93800.0,
          266700.0,
          167500.0,
          151700.0,
          111300.0,
          138600.0,
          112700.0,
          118100.0,
          236100.0,
          143000.0,
          92300.0,
          189600.0,
          143100.0,
          229300.0,
          186000.0,
          147900.0,
          87700.0,
          152100.0,
          500000.0,
          160200.0,
          104200.0,
          329700.0,
          350000.0,
          83300.0,
          123500.0,
          191400.0,
          382400.0,
          213600.0,
          454800.0,
          83200.0,
          236400.0,
          134100.0,
          196700.0,
          108300.0,
          279900.0,
          171300.0,
          53300.0,
          104000.0,
          154200.0,
          418300.0,
          155000.0,
          394300.0,
          500001.0,
          500001.0,
          131300.0,
          57500.0,
          95300.0,
          194300.0,
          58000.0,
          93800.0,
          67500.0,
          271200.0,
          180500.0,
          211100.0,
          411800.0,
          103100.0,
          207900.0,
          66800.0,
          157700.0,
          121400.0,
          168300.0,
          399200.0,
          265800.0,
          47700.0,
          257200.0,
          178100.0,
          247500.0,
          164400.0,
          39400.0,
          179200.0,
          227900.0,
          213500.0,
          162500.0,
          500001.0,
          59600.0,
          393200.0,
          193300.0,
          258800.0,
          184200.0,
          80100.0,
          196900.0,
          238700.0,
          500001.0,
          185100.0,
          364300.0,
          294200.0,
          126000.0,
          218000.0,
          166900.0,
          65200.0,
          165000.0,
          53500.0,
          500001.0,
          201200.0,
          112500.0,
          185800.0,
          247800.0,
          415000.0,
          272400.0,
          160900.0,
          500001.0,
          241400.0,
          334900.0,
          217100.0,
          247200.0,
          108900.0,
          78700.0,
          262500.0,
          159900.0,
          320500.0,
          95800.0,
          259800.0,
          267200.0,
          240600.0,
          183500.0,
          155000.0,
          441700.0,
          132600.0,
          500001.0,
          136800.0,
          167800.0,
          91100.0,
          88600.0,
          231000.0,
          188700.0,
          191800.0,
          223600.0,
          362600.0,
          315000.0,
          86900.0,
          216600.0,
          308300.0,
          166300.0,
          234300.0,
          500001.0,
          486900.0,
          150100.0,
          146900.0,
          66000.0,
          68900.0,
          87500.0,
          128300.0,
          65300.0,
          147500.0,
          239200.0,
          192200.0,
          103600.0,
          184400.0,
          258400.0,
          62300.0,
          96400.0,
          238200.0,
          87500.0,
          206300.0,
          180000.0,
          135500.0,
          204500.0,
          262500.0,
          94400.0,
          268400.0,
          95100.0,
          220000.0,
          151900.0,
          319200.0,
          74300.0,
          208300.0,
          87900.0,
          49400.0,
          43500.0,
          214800.0,
          69900.0,
          108000.0,
          97300.0,
          218800.0,
          272200.0,
          159600.0,
          181300.0,
          136900.0,
          133700.0,
          156300.0,
          446600.0,
          212200.0,
          97100.0,
          69800.0,
          221300.0,
          325900.0,
          90000.0,
          221700.0,
          405800.0,
          230400.0,
          103300.0,
          318500.0,
          150000.0,
          425500.0,
          208100.0,
          45600.0,
          62200.0,
          112500.0,
          183500.0,
          173800.0,
          218400.0,
          123300.0,
          431900.0,
          290500.0,
          67500.0,
          281700.0,
          350400.0,
          112500.0,
          170300.0,
          124300.0,
          320500.0,
          166300.0,
          335900.0,
          402500.0,
          90300.0,
          283200.0,
          98700.0,
          229800.0,
          198700.0,
          234100.0,
          93200.0,
          95800.0,
          500001.0,
          176700.0,
          132000.0,
          444700.0,
          206700.0,
          396400.0,
          211700.0,
          358600.0,
          287500.0,
          500001.0,
          218100.0,
          255600.0,
          139200.0,
          168900.0,
          376100.0,
          350000.0,
          318200.0,
          195800.0,
          115100.0,
          113600.0,
          160100.0,
          154900.0,
          336900.0,
          184400.0,
          87000.0,
          424000.0,
          128800.0,
          356000.0,
          293800.0,
          90000.0,
          396000.0,
          312500.0,
          275000.0,
          275000.0,
          175000.0,
          192800.0,
          500001.0,
          107900.0,
          135200.0,
          500001.0,
          193400.0,
          180500.0,
          379300.0,
          191700.0,
          198800.0,
          346200.0,
          304800.0,
          196700.0,
          345900.0,
          218900.0,
          111700.0,
          62800.0,
          262100.0,
          394700.0,
          197400.0,
          123600.0,
          207200.0,
          118300.0,
          123200.0,
          126700.0,
          250000.0,
          345900.0,
          157700.0,
          244900.0,
          267400.0,
          183300.0,
          202800.0,
          152800.0,
          181000.0,
          349600.0,
          155300.0,
          500001.0,
          118800.0,
          147500.0,
          98500.0,
          230800.0,
          162500.0,
          286500.0,
          112100.0,
          353500.0,
          98600.0,
          118800.0,
          183300.0,
          275000.0,
          240500.0,
          83200.0,
          116100.0,
          125700.0,
          148500.0,
          81800.0,
          165100.0,
          148800.0,
          165100.0,
          138800.0,
          238800.0,
          153700.0,
          500001.0,
          95300.0,
          98100.0,
          359200.0,
          218400.0,
          134600.0,
          141300.0,
          176500.0,
          105000.0,
          328000.0,
          190000.0,
          114300.0,
          448100.0,
          123200.0,
          59800.0,
          91700.0,
          500001.0,
          233100.0,
          70200.0,
          221400.0,
          164900.0,
          307000.0
         ],
         "type": "scatter"
        }
       ],
       "layout": {
        "height": 600,
        "hovermode": "closest",
        "template": {
         "data": {
          "barpolar": [
           {
            "marker": {
             "line": {
              "color": "rgb(17,17,17)",
              "width": 0.5
             },
             "pattern": {
              "fillmode": "overlay",
              "size": 10,
              "solidity": 0.2
             }
            },
            "type": "barpolar"
           }
          ],
          "bar": [
           {
            "error_x": {
             "color": "#f2f5fa"
            },
            "error_y": {
             "color": "#f2f5fa"
            },
            "marker": {
             "line": {
              "color": "rgb(17,17,17)",
              "width": 0.5
             },
             "pattern": {
              "fillmode": "overlay",
              "size": 10,
              "solidity": 0.2
             }
            },
            "type": "bar"
           }
          ],
          "carpet": [
           {
            "aaxis": {
             "endlinecolor": "#A2B1C6",
             "gridcolor": "#506784",
             "linecolor": "#506784",
             "minorgridcolor": "#506784",
             "startlinecolor": "#A2B1C6"
            },
            "baxis": {
             "endlinecolor": "#A2B1C6",
             "gridcolor": "#506784",
             "linecolor": "#506784",
             "minorgridcolor": "#506784",
             "startlinecolor": "#A2B1C6"
            },
            "type": "carpet"
           }
          ],
          "choropleth": [
           {
            "colorbar": {
             "outlinewidth": 0,
             "ticks": ""
            },
            "type": "choropleth"
           }
          ],
          "contourcarpet": [
           {
            "colorbar": {
             "outlinewidth": 0,
             "ticks": ""
            },
            "type": "contourcarpet"
           }
          ],
          "contour": [
           {
            "colorbar": {
             "outlinewidth": 0,
             "ticks": ""
            },
            "colorscale": [
             [
              0.0,
              "#0d0887"
             ],
             [
              0.1111111111111111,
              "#46039f"
             ],
             [
              0.2222222222222222,
              "#7201a8"
             ],
             [
              0.3333333333333333,
              "#9c179e"
             ],
             [
              0.4444444444444444,
              "#bd3786"
             ],
             [
              0.5555555555555556,
              "#d8576b"
             ],
             [
              0.6666666666666666,
              "#ed7953"
             ],
             [
              0.7777777777777778,
              "#fb9f3a"
             ],
             [
              0.8888888888888888,
              "#fdca26"
             ],
             [
              1.0,
              "#f0f921"
             ]
            ],
            "type": "contour"
           }
          ],
          "heatmapgl": [
           {
            "colorbar": {
             "outlinewidth": 0,
             "ticks": ""
            },
            "colorscale": [
             [
              0.0,
              "#0d0887"
             ],
             [
              0.1111111111111111,
              "#46039f"
             ],
             [
              0.2222222222222222,
              "#7201a8"
             ],
             [
              0.3333333333333333,
              "#9c179e"
             ],
             [
              0.4444444444444444,
              "#bd3786"
             ],
             [
              0.5555555555555556,
              "#d8576b"
             ],
             [
              0.6666666666666666,
              "#ed7953"
             ],
             [
              0.7777777777777778,
              "#fb9f3a"
             ],
             [
              0.8888888888888888,
              "#fdca26"
             ],
             [
              1.0,
              "#f0f921"
             ]
            ],
            "type": "heatmapgl"
           }
          ],
          "heatmap": [
           {
            "colorbar": {
             "outlinewidth": 0,
             "ticks": ""
            },
            "colorscale": [
             [
              0.0,
              "#0d0887"
             ],
             [
              0.1111111111111111,
              "#46039f"
             ],
             [
              0.2222222222222222,
              "#7201a8"
             ],
             [
              0.3333333333333333,
              "#9c179e"
             ],
             [
              0.4444444444444444,
              "#bd3786"
             ],
             [
              0.5555555555555556,
              "#d8576b"
             ],
             [
              0.6666666666666666,
              "#ed7953"
             ],
             [
              0.7777777777777778,
              "#fb9f3a"
             ],
             [
              0.8888888888888888,
              "#fdca26"
             ],
             [
              1.0,
              "#f0f921"
             ]
            ],
            "type": "heatmap"
           }
          ],
          "histogram2dcontour": [
           {
            "colorbar": {
             "outlinewidth": 0,
             "ticks": ""
            },
            "colorscale": [
             [
              0.0,
              "#0d0887"
             ],
             [
              0.1111111111111111,
              "#46039f"
             ],
             [
              0.2222222222222222,
              "#7201a8"
             ],
             [
              0.3333333333333333,
              "#9c179e"
             ],
             [
              0.4444444444444444,
              "#bd3786"
             ],
             [
              0.5555555555555556,
              "#d8576b"
             ],
             [
              0.6666666666666666,
              "#ed7953"
             ],
             [
              0.7777777777777778,
              "#fb9f3a"
             ],
             [
              0.8888888888888888,
              "#fdca26"
             ],
             [
              1.0,
              "#f0f921"
             ]
            ],
            "type": "histogram2dcontour"
           }
          ],
          "histogram2d": [
           {
            "colorbar": {
             "outlinewidth": 0,
             "ticks": ""
            },
            "colorscale": [
             [
              0.0,
              "#0d0887"
             ],
             [
              0.1111111111111111,
              "#46039f"
             ],
             [
              0.2222222222222222,
              "#7201a8"
             ],
             [
              0.3333333333333333,
              "#9c179e"
             ],
             [
              0.4444444444444444,
              "#bd3786"
             ],
             [
              0.5555555555555556,
              "#d8576b"
             ],
             [
              0.6666666666666666,
              "#ed7953"
             ],
             [
              0.7777777777777778,
              "#fb9f3a"
             ],
             [
              0.8888888888888888,
              "#fdca26"
             ],
             [
              1.0,
              "#f0f921"
             ]
            ],
            "type": "histogram2d"
           }
          ],
          "histogram": [
           {
            "marker": {
             "pattern": {
              "fillmode": "overlay",
              "size": 10,
              "solidity": 0.2
             }
            },
            "type": "histogram"
           }
          ],
          "mesh3d": [
           {
            "colorbar": {
             "outlinewidth": 0,
             "ticks": ""
            },
            "type": "mesh3d"
           }
          ],
          "parcoords": [
           {
            "line": {
             "colorbar": {
              "outlinewidth": 0,
              "ticks": ""
             }
            },
            "type": "parcoords"
           }
          ],
          "pie": [
           {
            "automargin": true,
            "type": "pie"
           }
          ],
          "scatter3d": [
           {
            "line": {
             "colorbar": {
              "outlinewidth": 0,
              "ticks": ""
             }
            },
            "marker": {
             "colorbar": {
              "outlinewidth": 0,
              "ticks": ""
             }
            },
            "type": "scatter3d"
           }
          ],
          "scattercarpet": [
           {
            "marker": {
             "colorbar": {
              "outlinewidth": 0,
              "ticks": ""
             }
            },
            "type": "scattercarpet"
           }
          ],
          "scattergeo": [
           {
            "marker": {
             "colorbar": {
              "outlinewidth": 0,
              "ticks": ""
             }
            },
            "type": "scattergeo"
           }
          ],
          "scattergl": [
           {
            "marker": {
             "line": {
              "color": "#283442"
             }
            },
            "type": "scattergl"
           }
          ],
          "scattermapbox": [
           {
            "marker": {
             "colorbar": {
              "outlinewidth": 0,
              "ticks": ""
             }
            },
            "type": "scattermapbox"
           }
          ],
          "scatterpolargl": [
           {
            "marker": {
             "colorbar": {
              "outlinewidth": 0,
              "ticks": ""
             }
            },
            "type": "scatterpolargl"
           }
          ],
          "scatterpolar": [
           {
            "marker": {
             "colorbar": {
              "outlinewidth": 0,
              "ticks": ""
             }
            },
            "type": "scatterpolar"
           }
          ],
          "scatter": [
           {
            "marker": {
             "line": {
              "color": "#283442"
             }
            },
            "type": "scatter"
           }
          ],
          "scatterternary": [
           {
            "marker": {
             "colorbar": {
              "outlinewidth": 0,
              "ticks": ""
             }
            },
            "type": "scatterternary"
           }
          ],
          "surface": [
           {
            "colorbar": {
             "outlinewidth": 0,
             "ticks": ""
            },
            "colorscale": [
             [
              0.0,
              "#0d0887"
             ],
             [
              0.1111111111111111,
              "#46039f"
             ],
             [
              0.2222222222222222,
              "#7201a8"
             ],
             [
              0.3333333333333333,
              "#9c179e"
             ],
             [
              0.4444444444444444,
              "#bd3786"
             ],
             [
              0.5555555555555556,
              "#d8576b"
             ],
             [
              0.6666666666666666,
              "#ed7953"
             ],
             [
              0.7777777777777778,
              "#fb9f3a"
             ],
             [
              0.8888888888888888,
              "#fdca26"
             ],
             [
              1.0,
              "#f0f921"
             ]
            ],
            "type": "surface"
           }
          ],
          "table": [
           {
            "cells": {
             "fill": {
              "color": "#506784"
             },
             "line": {
              "color": "rgb(17,17,17)"
             }
            },
            "header": {
             "fill": {
              "color": "#2a3f5f"
             },
             "line": {
              "color": "rgb(17,17,17)"
             }
            },
            "type": "table"
           }
          ]
         },
         "layout": {
          "annotationdefaults": {
           "arrowcolor": "#f2f5fa",
           "arrowhead": 0,
           "arrowwidth": 1
          },
          "autotypenumbers": "strict",
          "coloraxis": {
           "colorbar": {
            "outlinewidth": 0,
            "ticks": ""
           }
          },
          "colorscale": {
           "diverging": [
            [
             0,
             "#8e0152"
            ],
            [
             0.1,
             "#c51b7d"
            ],
            [
             0.2,
             "#de77ae"
            ],
            [
             0.3,
             "#f1b6da"
            ],
            [
             0.4,
             "#fde0ef"
            ],
            [
             0.5,
             "#f7f7f7"
            ],
            [
             0.6,
             "#e6f5d0"
            ],
            [
             0.7,
             "#b8e186"
            ],
            [
             0.8,
             "#7fbc41"
            ],
            [
             0.9,
             "#4d9221"
            ],
            [
             1,
             "#276419"
            ]
           ],
           "sequential": [
            [
             0.0,
             "#0d0887"
            ],
            [
             0.1111111111111111,
             "#46039f"
            ],
            [
             0.2222222222222222,
             "#7201a8"
            ],
            [
             0.3333333333333333,
             "#9c179e"
            ],
            [
             0.4444444444444444,
             "#bd3786"
            ],
            [
             0.5555555555555556,
             "#d8576b"
            ],
            [
             0.6666666666666666,
             "#ed7953"
            ],
            [
             0.7777777777777778,
             "#fb9f3a"
            ],
            [
             0.8888888888888888,
             "#fdca26"
            ],
            [
             1.0,
             "#f0f921"
            ]
           ],
           "sequentialminus": [
            [
             0.0,
             "#0d0887"
            ],
            [
             0.1111111111111111,
             "#46039f"
            ],
            [
             0.2222222222222222,
             "#7201a8"
            ],
            [
             0.3333333333333333,
             "#9c179e"
            ],
            [
             0.4444444444444444,
             "#bd3786"
            ],
            [
             0.5555555555555556,
             "#d8576b"
            ],
            [
             0.6666666666666666,
             "#ed7953"
            ],
            [
             0.7777777777777778,
             "#fb9f3a"
            ],
            [
             0.8888888888888888,
             "#fdca26"
            ],
            [
             1.0,
             "#f0f921"
            ]
           ]
          },
          "colorway": [
           "#636efa",
           "#EF553B",
           "#00cc96",
           "#ab63fa",
           "#FFA15A",
           "#19d3f3",
           "#FF6692",
           "#B6E880",
           "#FF97FF",
           "#FECB52"
          ],
          "font": {
           "color": "#f2f5fa"
          },
          "geo": {
           "bgcolor": "rgb(17,17,17)",
           "lakecolor": "rgb(17,17,17)",
           "landcolor": "rgb(17,17,17)",
           "showlakes": true,
           "showland": true,
           "subunitcolor": "#506784"
          },
          "hoverlabel": {
           "align": "left"
          },
          "hovermode": "closest",
          "mapbox": {
           "style": "dark"
          },
          "paper_bgcolor": "rgb(17,17,17)",
          "plot_bgcolor": "rgb(17,17,17)",
          "polar": {
           "angularaxis": {
            "gridcolor": "#506784",
            "linecolor": "#506784",
            "ticks": ""
           },
           "bgcolor": "rgb(17,17,17)",
           "radialaxis": {
            "gridcolor": "#506784",
            "linecolor": "#506784",
            "ticks": ""
           }
          },
          "scene": {
           "xaxis": {
            "backgroundcolor": "rgb(17,17,17)",
            "gridcolor": "#506784",
            "gridwidth": 2,
            "linecolor": "#506784",
            "showbackground": true,
            "ticks": "",
            "zerolinecolor": "#C8D4E3"
           },
           "yaxis": {
            "backgroundcolor": "rgb(17,17,17)",
            "gridcolor": "#506784",
            "gridwidth": 2,
            "linecolor": "#506784",
            "showbackground": true,
            "ticks": "",
            "zerolinecolor": "#C8D4E3"
           },
           "zaxis": {
            "backgroundcolor": "rgb(17,17,17)",
            "gridcolor": "#506784",
            "gridwidth": 2,
            "linecolor": "#506784",
            "showbackground": true,
            "ticks": "",
            "zerolinecolor": "#C8D4E3"
           }
          },
          "shapedefaults": {
           "line": {
            "color": "#f2f5fa"
           }
          },
          "sliderdefaults": {
           "bgcolor": "#C8D4E3",
           "bordercolor": "rgb(17,17,17)",
           "borderwidth": 1,
           "tickwidth": 0
          },
          "ternary": {
           "aaxis": {
            "gridcolor": "#506784",
            "linecolor": "#506784",
            "ticks": ""
           },
           "baxis": {
            "gridcolor": "#506784",
            "linecolor": "#506784",
            "ticks": ""
           },
           "bgcolor": "rgb(17,17,17)",
           "caxis": {
            "gridcolor": "#506784",
            "linecolor": "#506784",
            "ticks": ""
           }
          },
          "title": {
           "x": 0.05
          },
          "updatemenudefaults": {
           "bgcolor": "#506784",
           "borderwidth": 0
          },
          "xaxis": {
           "automargin": true,
           "gridcolor": "#283442",
           "linecolor": "#506784",
           "ticks": "",
           "title": {
            "standoff": 15
           },
           "zerolinecolor": "#283442",
           "zerolinewidth": 2
          },
          "yaxis": {
           "automargin": true,
           "gridcolor": "#283442",
           "linecolor": "#506784",
           "ticks": "",
           "title": {
            "standoff": 15
           },
           "zerolinecolor": "#283442",
           "zerolinewidth": 2
          }
         }
        },
        "title": {
         "text": "Housing Data"
        },
        "width": 900
       },
       "config": {
        "showLink": false,
        "linkText": "Export to plot.ly",
        "plotlyServerURL": "https://plot.ly"
       }
      },
      "text/html": "<div>                            <div id=\"2d5c4ea9-1c04-4883-82dc-98f4f903814b\" class=\"plotly-graph-div\" style=\"height:600px; width:900px;\"></div>            <script type=\"text/javascript\">                require([\"plotly\"], function(Plotly) {                    window.PLOTLYENV=window.PLOTLYENV || {};                                    if (document.getElementById(\"2d5c4ea9-1c04-4883-82dc-98f4f903814b\")) {                    Plotly.newPlot(                        \"2d5c4ea9-1c04-4883-82dc-98f4f903814b\",                        [{\"marker\":{\"color\":[35.0,27.0,31.0,48.0,22.0,36.0,24.0,36.0,33.0,19.0,26.0,35.0,21.0,41.0,31.0,48.0,45.0,35.0,16.0,19.0,21.0,14.0,24.0,36.0,30.0,15.0,14.0,39.0,13.0,37.0,22.0,16.0,31.0,52.0,16.0,36.0,14.0,14.0,28.0,10.0,20.0,16.0,21.0,36.0,43.0,44.0,48.0,52.0,28.0,8.0,22.0,18.0,7.0,24.0,9.0,16.0,29.0,41.0,25.0,21.0,52.0,25.0,33.0,6.0,16.0,6.0,50.0,43.0,17.0,41.0,3.0,30.0,32.0,29.0,34.0,20.0,39.0,15.0,48.0,16.0,6.0,5.0,18.0,27.0,16.0,42.0,44.0,27.0,16.0,18.0,26.0,40.0,34.0,33.0,43.0,33.0,36.0,42.0,34.0,21.0,34.0,38.0,21.0,30.0,22.0,30.0,45.0,23.0,14.0,52.0,11.0,16.0,10.0,19.0,38.0,17.0,33.0,27.0,37.0,42.0,22.0,16.0,16.0,42.0,42.0,33.0,52.0,18.0,35.0,33.0,32.0,28.0,19.0,52.0,36.0,22.0,20.0,35.0,17.0,27.0,20.0,32.0,19.0,50.0,25.0,41.0,2.0,34.0,49.0,21.0,51.0,24.0,30.0,36.0,13.0,15.0,38.0,18.0,4.0,18.0,15.0,40.0,23.0,32.0,43.0,15.0,9.0,39.0,32.0,45.0,4.0,17.0,36.0,26.0,52.0,33.0,19.0,4.0,28.0,19.0,27.0,36.0,25.0,40.0,24.0,17.0,45.0,52.0,29.0,34.0,24.0,24.0,39.0,40.0,10.0,35.0,10.0,20.0,17.0,15.0,36.0,36.0,23.0,32.0,45.0,42.0,18.0,16.0,18.0,20.0,18.0,23.0,46.0,52.0,31.0,35.0,35.0,35.0,20.0,12.0,42.0,46.0,34.0,31.0,24.0,5.0,31.0,36.0,34.0,26.0,25.0,17.0,45.0,44.0,33.0,38.0,30.0,30.0,44.0,25.0,12.0,22.0,7.0,45.0,35.0,2.0,46.0,39.0,27.0,18.0,25.0,22.0,23.0,6.0,33.0,15.0,25.0,41.0,35.0,45.0,52.0,37.0,27.0,33.0,16.0,52.0,25.0,14.0,41.0,52.0,16.0,36.0,18.0,16.0,45.0,18.0,48.0,42.0,52.0,12.0,38.0,26.0,6.0,20.0,29.0,52.0,17.0,18.0,13.0,26.0,31.0,29.0,21.0,40.0,7.0,35.0,39.0,36.0,52.0,37.0,12.0,12.0,14.0,30.0,43.0,19.0,40.0,18.0,24.0,52.0,17.0,22.0,47.0,42.0,19.0,18.0,52.0,26.0,36.0,20.0,34.0,35.0,17.0,36.0,41.0,25.0,9.0,6.0,19.0,18.0,35.0,52.0,26.0,25.0,25.0,36.0,32.0,28.0,29.0,18.0,24.0,19.0,17.0,47.0,37.0,14.0,26.0,33.0,35.0,47.0,16.0,24.0,18.0,25.0,43.0,21.0,6.0,35.0,52.0,16.0,30.0,17.0,30.0,21.0,21.0,37.0,34.0,18.0,19.0,34.0,16.0,21.0,30.0,36.0,10.0,43.0,36.0,38.0,32.0,24.0,47.0,15.0,22.0,39.0,35.0,14.0,40.0,37.0,14.0,39.0,41.0,36.0,43.0,25.0,18.0,14.0,51.0,18.0,24.0,28.0,27.0,33.0,15.0,50.0,36.0,15.0,14.0,15.0,12.0,36.0,33.0,16.0,47.0,23.0,43.0,26.0,19.0,16.0,5.0,15.0,22.0,28.0,52.0,18.0,39.0,36.0,16.0,42.0,43.0,34.0,19.0,38.0,12.0,10.0,52.0,38.0,27.0,27.0,20.0,16.0,28.0,31.0,28.0,30.0,7.0,52.0,29.0,22.0,52.0,52.0,33.0,47.0,5.0,37.0,37.0,42.0,5.0,37.0,16.0,21.0,26.0,28.0,44.0,45.0,30.0,25.0,52.0,25.0,22.0,18.0,35.0,7.0,33.0,36.0,21.0,21.0,37.0,30.0,44.0,37.0,52.0,33.0,29.0,19.0,36.0,22.0,17.0,7.0,24.0,28.0,26.0,27.0,20.0,4.0,32.0,10.0,17.0,34.0,25.0,45.0,16.0,23.0,35.0,52.0,15.0,45.0,36.0,44.0,23.0,5.0,35.0,52.0,16.0,20.0,35.0,25.0,42.0,33.0,43.0,29.0,37.0,36.0,37.0,37.0,34.0,17.0,10.0,14.0,23.0,35.0,14.0,32.0,52.0,14.0,43.0,4.0,36.0,35.0,37.0,8.0,48.0,35.0,50.0,39.0,36.0,52.0,19.0,52.0,52.0,19.0,15.0,32.0,25.0,14.0,40.0,16.0,37.0,39.0,24.0,38.0,32.0,23.0,41.0,28.0,19.0,5.0,52.0,33.0,40.0,11.0,34.0,52.0,17.0,19.0,49.0,52.0,39.0,30.0,37.0,32.0,19.0,33.0,17.0,16.0,20.0,16.0,35.0,37.0,20.0,41.0,12.0,5.0,52.0,6.0,22.0,36.0,23.0,52.0,32.0,6.0,24.0,31.0,26.0,10.0,47.0,18.0,11.0,50.0,5.0,41.0,34.0,11.0,36.0,52.0,23.0,45.0,14.0,47.0,14.0,41.0,34.0,42.0,34.0,24.0,30.0,45.0,19.0,41.0,33.0,21.0,35.0,52.0,40.0,36.0,27.0,52.0,4.0,26.0,25.0,18.0,9.0,52.0,35.0,36.0,36.0,35.0,14.0,20.0,14.0,40.0,52.0,10.0,52.0,34.0,21.0,52.0,31.0,20.0,34.0,19.0,33.0,44.0,48.0,52.0,15.0,26.0,23.0,11.0,25.0,38.0,32.0,52.0,34.0,27.0,44.0,36.0,8.0,7.0,31.0,29.0,30.0,44.0,30.0,18.0,7.0,32.0,37.0,41.0,42.0,26.0,52.0,19.0,31.0,19.0,37.0,19.0,33.0,27.0,52.0,18.0,41.0,19.0,24.0,42.0,42.0,31.0,26.0,47.0,12.0,38.0,41.0,32.0,4.0,37.0,30.0,18.0,17.0,35.0,4.0,28.0,30.0,14.0,52.0,31.0,32.0,15.0,19.0,14.0,39.0,52.0,7.0,22.0,25.0,22.0,36.0,22.0,31.0,43.0,5.0,14.0,32.0,43.0,20.0,48.0,41.0,15.0,47.0,23.0,30.0,47.0,34.0,9.0,19.0,9.0,21.0,32.0,8.0,30.0,14.0,25.0,47.0,23.0,27.0,2.0,16.0,41.0,37.0,49.0,36.0,30.0,38.0,22.0,16.0,16.0,30.0,34.0,10.0,5.0,17.0,18.0,8.0,28.0,33.0,15.0,7.0,52.0,18.0,14.0,27.0,22.0,42.0,16.0,32.0,17.0,18.0,44.0,43.0,6.0,9.0,36.0,48.0,35.0,40.0,17.0,52.0,38.0,35.0,15.0,52.0,37.0,36.0,32.0,11.0,23.0,48.0,4.0,39.0,30.0,33.0,26.0,30.0,20.0,25.0,21.0,38.0,22.0,52.0,19.0,13.0,32.0,35.0,8.0,28.0,51.0,27.0,38.0,36.0,40.0,36.0,21.0,52.0,28.0,37.0,28.0,34.0,34.0,36.0,34.0,16.0,46.0,52.0,18.0,26.0,44.0,42.0,52.0,35.0,21.0,25.0,15.0,33.0,17.0,17.0,16.0,40.0,9.0,36.0,26.0,33.0,15.0,43.0,23.0,17.0,26.0,37.0,52.0,26.0,43.0,24.0,44.0,40.0,29.0,25.0,40.0,17.0,16.0,14.0,21.0,15.0,36.0,52.0,25.0,33.0,17.0,11.0,24.0,37.0,24.0,38.0,22.0,26.0,36.0,52.0,14.0,23.0,23.0,13.0,27.0,22.0,15.0,35.0,20.0,15.0,28.0,25.0,23.0,20.0,40.0,38.0,21.0,46.0,36.0,36.0,33.0,37.0,23.0,21.0,28.0,13.0,24.0,23.0,24.0,22.0,9.0,20.0,29.0,16.0,30.0,18.0,13.0,14.0,50.0,16.0,37.0,30.0,42.0,18.0,29.0,37.0,28.0,27.0,52.0,37.0,12.0,33.0,44.0,31.0,25.0,20.0,15.0,34.0,36.0,24.0,21.0,17.0,34.0,9.0,33.0,52.0,50.0,32.0,36.0,38.0,43.0,34.0,10.0,44.0,7.0,29.0,52.0,15.0,37.0,25.0,36.0,31.0,26.0,15.0,47.0,37.0,21.0,44.0,32.0,26.0,52.0,23.0,43.0,26.0,6.0,48.0,9.0,52.0,17.0,38.0,33.0,52.0,29.0,25.0,7.0,37.0,43.0,34.0,36.0,26.0,52.0,40.0,33.0,15.0,31.0,16.0,33.0,46.0,33.0,26.0,4.0,43.0,51.0,33.0,39.0,36.0,28.0,38.0,5.0,45.0,39.0,15.0,24.0,19.0,17.0,37.0,52.0,25.0,29.0,40.0,22.0,23.0,36.0,22.0,11.0,38.0,16.0,52.0,15.0,28.0,12.0,47.0,10.0,8.0,27.0,18.0,52.0,36.0,39.0,47.0,50.0,48.0,42.0,39.0,21.0,11.0,46.0,33.0,42.0,23.0,39.0,46.0,16.0,47.0,22.0,50.0,17.0,42.0,23.0,44.0,35.0,6.0,15.0,47.0,45.0,27.0,25.0,36.0,17.0,49.0,36.0,36.0,52.0,10.0,52.0,26.0,4.0,18.0,52.0,47.0,32.0,22.0,40.0,15.0,41.0,13.0,18.0,37.0,27.0,18.0,52.0,42.0,41.0,22.0,49.0,11.0,30.0,36.0,16.0,24.0,44.0,42.0,9.0,21.0,20.0,22.0,50.0,35.0,3.0,35.0,34.0,29.0,40.0,45.0,9.0,28.0,35.0,35.0,32.0,10.0,5.0,15.0,18.0,37.0,52.0,52.0,33.0,23.0,17.0,29.0,25.0,44.0,23.0,25.0,41.0,34.0,27.0,29.0,13.0,20.0,29.0,29.0,35.0,9.0,25.0,25.0,26.0,14.0,34.0,27.0,42.0,17.0,52.0,50.0,29.0,26.0,36.0,42.0,23.0,36.0,38.0,19.0,21.0,5.0,29.0,20.0,15.0,17.0,19.0,21.0,32.0,22.0,27.0,18.0,13.0,32.0,29.0,33.0,8.0,26.0,25.0,26.0,13.0,39.0,14.0,10.0,41.0,50.0,52.0,52.0,17.0,36.0,27.0,6.0,33.0,24.0,43.0,23.0,52.0,27.0,35.0,30.0,32.0,18.0,35.0,31.0,35.0,16.0,11.0,23.0,37.0,27.0,32.0,34.0,22.0,17.0,28.0,52.0,32.0,16.0,34.0,34.0,52.0,16.0,22.0,44.0,17.0,36.0,17.0,27.0,27.0,33.0,17.0,29.0,26.0,36.0,20.0,46.0,27.0,52.0,19.0,19.0,23.0,20.0,9.0,25.0,34.0,39.0,25.0,29.0,40.0,28.0,52.0,24.0,24.0,44.0,30.0,15.0,27.0,40.0,25.0,26.0,41.0,43.0,29.0,29.0,16.0,52.0,16.0,36.0,36.0,36.0,10.0,25.0,39.0,39.0,27.0,32.0,8.0,30.0,17.0,26.0,35.0,2.0,32.0,14.0,26.0,36.0,33.0,45.0,22.0,16.0,16.0,12.0,26.0,4.0,47.0,16.0,12.0,16.0,15.0,26.0,15.0,29.0,40.0,19.0,34.0,37.0,14.0,34.0,36.0,48.0,29.0,22.0,31.0,29.0,26.0,20.0,29.0,52.0,34.0,52.0,8.0,8.0,38.0,20.0,24.0,30.0,14.0,46.0,34.0,17.0,25.0,21.0,52.0,17.0,30.0,22.0,36.0,31.0,26.0,21.0,24.0,25.0,24.0,34.0,35.0,16.0,19.0,52.0,52.0,5.0,43.0,36.0,44.0,19.0,18.0,28.0,30.0,25.0,34.0,10.0,6.0,33.0,28.0,39.0,17.0,36.0,19.0,15.0,48.0,33.0,43.0,43.0,31.0,38.0,23.0,37.0,29.0,42.0,15.0,46.0,46.0,25.0,32.0,26.0,33.0,17.0,24.0,27.0,10.0,6.0,38.0,27.0,34.0,49.0,25.0,42.0,10.0,25.0,52.0,24.0,41.0,27.0,19.0,42.0,42.0,35.0,12.0,15.0,33.0,17.0,35.0,42.0,27.0,27.0,40.0,32.0,35.0,32.0,13.0,4.0],\"colorscale\":[[0.0,\"rgb(0,0,131)\"],[0.2,\"rgb(0,60,170)\"],[0.4,\"rgb(5,255,255)\"],[0.6,\"rgb(255,255,0)\"],[0.8,\"rgb(250,0,0)\"],[1.0,\"rgb(128,0,0)\"]],\"showscale\":true,\"size\":[2180.0,3078.0,3127.0,1835.0,1910.0,2430.0,4369.0,1651.0,3071.0,1687.0,1589.0,1172.0,6107.0,1833.0,3207.0,1895.0,1717.0,1661.0,2692.0,883.0,2080.0,3464.0,3956.0,838.0,1674.0,5417.0,1343.0,906.0,1676.0,350.0,7531.0,1499.0,1171.0,836.0,1704.0,2933.0,1864.0,5144.0,3811.0,913.0,3495.0,2629.0,259.0,1447.0,1455.0,1785.0,2124.0,1777.0,3042.0,2836.0,2456.0,2278.0,120.0,2316.0,2748.0,2653.0,2077.0,1425.0,1374.0,3244.0,3419.0,1582.0,1438.0,10613.0,5954.0,9792.0,3518.0,1261.0,5593.0,1147.0,6251.0,5039.0,2297.0,1087.0,2272.0,908.0,2649.0,2180.0,2835.0,5203.0,5813.0,2256.0,2837.0,990.0,2666.0,3894.0,2122.0,581.0,2026.0,1715.0,4499.0,1695.0,572.0,45.0,1682.0,937.0,1392.0,1020.0,1900.0,1155.0,1218.0,175.0,3057.0,2547.0,1815.0,4030.0,2142.0,949.0,4453.0,1739.0,3221.0,4556.0,2653.0,2398.0,1156.0,1969.0,1816.0,2918.0,2817.0,118.0,3008.0,2306.0,1000.0,3224.0,1618.0,2352.0,2643.0,1476.0,1691.0,1588.0,296.0,3379.0,822.0,1274.0,716.0,4227.0,3189.0,3080.0,3050.0,891.0,2781.0,1079.0,6326.0,340.0,1612.0,2031.0,1937.0,1038.0,1962.0,991.0,1280.0,1520.0,1756.0,2946.0,5591.0,6940.0,1214.0,1666.0,9911.0,4078.0,2125.0,1867.0,633.0,1640.0,1810.0,5115.0,4794.0,1500.0,1736.0,1971.0,21988.0,1671.0,3120.0,2155.0,224.0,1981.0,3173.0,1223.0,2830.0,1248.0,1945.0,1265.0,1321.0,3058.0,2598.0,2359.0,3803.0,851.0,1937.0,9280.0,1635.0,3409.0,1752.0,1076.0,3138.0,583.0,3580.0,707.0,1485.0,1613.0,969.0,1054.0,2415.0,1856.0,1908.0,1386.0,1994.0,1994.0,2737.0,268.0,4481.0,8800.0,1889.0,4088.0,2567.0,956.0,1987.0,5005.0,3815.0,3174.0,1541.0,2126.0,1617.0,1487.0,1562.0,9567.0,2053.0,1047.0,3659.0,3281.0,2696.0,5018.0,2341.0,2795.0,1530.0,674.0,999.0,1856.0,3494.0,2689.0,3964.0,3517.0,5129.0,2019.0,3478.0,200.0,5677.0,2569.0,489.0,3631.0,1092.0,2900.0,1881.0,1495.0,390.0,1318.0,4590.0,2072.0,1541.0,2021.0,1000.0,2119.0,1956.0,629.0,2150.0,3420.0,684.0,14917.0,1944.0,144.0,1787.0,2284.0,6100.0,5684.0,1707.0,123.0,1694.0,963.0,1590.0,2070.0,483.0,3231.0,2605.0,9893.0,2748.0,176.0,1583.0,329.0,3813.0,4800.0,616.0,1179.0,4064.0,885.0,3418.0,3405.0,1405.0,1432.0,775.0,2073.0,3744.0,5608.0,3355.0,1029.0,1676.0,2248.0,299.0,239.0,2424.0,1665.0,20354.0,2044.0,3007.0,1574.0,9503.0,3561.0,2188.0,1221.0,1248.0,3540.0,1841.0,2705.0,1269.0,2762.0,1420.0,2538.0,1682.0,10395.0,1848.0,729.0,1507.0,1170.0,2074.0,1696.0,1799.0,1299.0,1489.0,3215.0,1476.0,2741.0,574.0,1967.0,9911.0,825.0,1643.0,1933.0,1414.0,2325.0,2027.0,1682.0,4431.0,1983.0,5915.0,596.0,1325.0,3707.0,9176.0,2790.0,2685.0,3498.0,2061.0,924.0,1271.0,1945.0,1988.0,788.0,2800.0,224.0,2758.0,1947.0,5373.0,5041.0,3171.0,1526.0,1657.0,1160.0,879.0,1549.0,2352.0,3071.0,1167.0,4065.0,1891.0,2050.0,2134.0,3789.0,1896.0,584.0,520.0,698.0,2017.0,1543.0,89.0,1719.0,2287.0,1405.0,1975.0,1284.0,2080.0,1895.0,1546.0,3512.0,1882.0,187.0,2415.0,1958.0,1527.0,3952.0,4929.0,2093.0,2467.0,2186.0,865.0,2363.0,1806.0,2420.0,557.0,3275.0,1649.0,2524.0,3319.0,8399.0,1542.0,2912.0,858.0,1943.0,994.0,2555.0,1276.0,1999.0,2967.0,1145.0,4228.0,2229.0,1383.0,1495.0,2674.0,3700.0,1012.0,735.0,2714.0,767.0,1784.0,1288.0,3586.0,2892.0,1315.0,3231.0,1590.0,1142.0,1701.0,2212.0,3772.0,1242.0,74.0,1762.0,2949.0,1454.0,2275.0,2775.0,1919.0,1072.0,543.0,792.0,2662.0,2402.0,1180.0,1831.0,6269.0,2060.0,2908.0,6126.0,4015.0,2232.0,3803.0,3181.0,3112.0,1596.0,2147.0,1175.0,2018.0,1486.0,1219.0,2043.0,726.0,1028.0,4393.0,3619.0,2249.0,1306.0,4257.0,2911.0,2505.0,17313.0,5211.0,7374.0,2474.0,2600.0,1808.0,2842.0,2987.0,952.0,1354.0,1437.0,3575.0,1598.0,1837.0,1362.0,4776.0,2234.0,1230.0,1683.0,1410.0,8146.0,1182.0,394.0,1384.0,3171.0,2641.0,4610.0,2066.0,1831.0,1352.0,1058.0,1973.0,1564.0,3757.0,2472.0,2679.0,861.0,3487.0,2637.0,477.0,3776.0,763.0,4833.0,1904.0,1529.0,378.0,1801.0,1426.0,995.0,1389.0,1489.0,2406.0,2995.0,1907.0,1560.0,2802.0,2230.0,1069.0,1288.0,3554.0,4340.0,3110.0,1538.0,1226.0,1612.0,2459.0,2301.0,4684.0,7079.0,1578.0,2922.0,3351.0,5429.0,2046.0,952.0,1547.0,1177.0,3482.0,803.0,4001.0,2167.0,1767.0,2433.0,1823.0,1670.0,1255.0,4350.0,3244.0,1371.0,3595.0,8020.0,41.0,2476.0,1983.0,7097.0,3847.0,395.0,1462.0,2785.0,1041.0,5221.0,2244.0,1052.0,3137.0,2375.0,3400.0,2155.0,2434.0,2034.0,1932.0,4976.0,1765.0,4026.0,2397.0,1527.0,2487.0,2220.0,3150.0,2479.0,3239.0,2735.0,1364.0,1883.0,2715.0,1685.0,3337.0,1558.0,4493.0,765.0,2169.0,2409.0,2294.0,1315.0,3013.0,1933.0,3285.0,2696.0,1945.0,2315.0,1929.0,730.0,2489.0,1788.0,2342.0,2296.0,6082.0,1616.0,10618.0,472.0,2204.0,1141.0,1394.0,3517.0,1727.0,3268.0,7208.0,1498.0,895.0,1711.0,1380.0,2051.0,2549.0,2721.0,2053.0,3264.0,3131.0,1872.0,2577.0,1771.0,3139.0,2203.0,2203.0,2483.0,1091.0,1112.0,1851.0,862.0,1660.0,1345.0,1536.0,5026.0,1294.0,2391.0,11336.0,2722.0,4022.0,1303.0,2651.0,1612.0,1715.0,3405.0,3609.0,1338.0,1236.0,1560.0,1577.0,2187.0,215.0,2471.0,1186.0,3792.0,1082.0,1583.0,2263.0,6103.0,2911.0,3603.0,461.0,3154.0,950.0,1342.0,2061.0,2336.0,2528.0,1107.0,1250.0,5054.0,1049.0,1793.0,1515.0,1768.0,2958.0,2603.0,2530.0,1468.0,5623.0,1869.0,935.0,1501.0,1736.0,699.0,1143.0,4203.0,4808.0,810.0,1169.0,3188.0,3003.0,3740.0,3830.0,2642.0,1687.0,3522.0,1171.0,1111.0,1569.0,3155.0,1997.0,2104.0,2686.0,1778.0,659.0,2536.0,737.0,666.0,4439.0,2313.0,3193.0,1961.0,2870.0,6298.0,2534.0,3295.0,5330.0,762.0,2919.0,1491.0,1830.0,2744.0,2582.0,12360.0,1409.0,848.0,1286.0,2331.0,1543.0,3376.0,3221.0,2020.0,1561.0,2411.0,928.0,4781.0,4122.0,8149.0,1787.0,2102.0,2572.0,1408.0,3570.0,2682.0,8363.0,2241.0,1048.0,3173.0,2019.0,2914.0,2729.0,1210.0,2893.0,2828.0,1795.0,1436.0,948.0,10565.0,1931.0,2013.0,833.0,1193.0,1748.0,4041.0,242.0,1276.0,2243.0,2642.0,2511.0,797.0,36.0,1591.0,1161.0,3215.0,1001.0,8301.0,3562.0,2288.0,2873.0,1949.0,861.0,3349.0,3652.0,4112.0,1703.0,5507.0,2960.0,2655.0,8527.0,1268.0,3213.0,2687.0,3519.0,2665.0,1245.0,123.0,3359.0,859.0,4471.0,6638.0,1358.0,4570.0,1709.0,253.0,438.0,1489.0,2672.0,4448.0,3084.0,2451.0,1389.0,819.0,2925.0,1151.0,1627.0,1642.0,1835.0,3576.0,2596.0,2153.0,1596.0,1728.0,1220.0,8879.0,1950.0,1245.0,1485.0,1919.0,2064.0,652.0,1383.0,4925.0,1546.0,4607.0,1228.0,2051.0,3175.0,1633.0,323.0,1625.0,2806.0,1995.0,1476.0,2352.0,1317.0,2697.0,1016.0,1684.0,4741.0,4210.0,1377.0,1332.0,3585.0,4786.0,6341.0,4394.0,1709.0,4195.0,1595.0,8259.0,1983.0,1544.0,2747.0,5264.0,5741.0,1947.0,3334.0,1672.0,7274.0,2563.0,1032.0,804.0,3042.0,4612.0,4952.0,3967.0,3460.0,2749.0,3804.0,2127.0,1388.0,2191.0,878.0,1791.0,1995.0,1538.0,5751.0,1499.0,3795.0,1014.0,790.0,3202.0,9047.0,2671.0,6374.0,1637.0,4595.0,2331.0,1109.0,4770.0,8374.0,1757.0,3491.0,1210.0,1899.0,465.0,1651.0,1276.0,1361.0,1576.0,1818.0,1149.0,934.0,3943.0,1028.0,2792.0,1671.0,3333.0,2458.0,1879.0,2819.0,1347.0,7141.0,3521.0,1459.0,1856.0,2107.0,1139.0,3171.0,760.0,2685.0,2598.0,1541.0,2360.0,2307.0,1832.0,2026.0,2493.0,2387.0,1844.0,6725.0,2143.0,2197.0,3053.0,9320.0,3259.0,1482.0,1782.0,1467.0,2794.0,2010.0,1893.0,1924.0,16.0,1922.0,2549.0,1335.0,110.0,1473.0,2370.0,2547.0,1560.0,2231.0,821.0,862.0,6027.0,1787.0,2045.0,943.0,1028.0,2400.0,1717.0,2830.0,1470.0,1974.0,587.0,3543.0,2587.0,1111.0,1923.0,453.0,2396.0,5444.0,17032.0,2009.0,2083.0,2559.0,1726.0,1508.0,3297.0,1794.0,4750.0,989.0,787.0,2448.0,1587.0,3913.0,1559.0,1527.0,1901.0,2496.0,2929.0,1797.0,3167.0,1759.0,1026.0,1547.0,939.0,300.0,994.0,2686.0,1840.0,2843.0,4325.0,722.0,3781.0,3791.0,1416.0,3172.0,1919.0,1305.0,2210.0,2133.0,1791.0,1013.0,1845.0,440.0,6198.0,9053.0,2676.0,1999.0,2050.0,2305.0,1472.0,2239.0,4045.0,1494.0,3592.0,954.0,3943.0,412.0,3100.0,1449.0,2467.0,3856.0,1010.0,876.0,1390.0,1469.0,1180.0,2417.0,3404.0,2527.0,2668.0,2110.0,1665.0,5509.0,1871.0,2723.0,3371.0,3453.0,2650.0,2570.0,1260.0,3738.0,67.0,412.0,834.0,3252.0,3297.0,1789.0,2341.0,1404.0,2452.0,1809.0,1257.0,3626.0,3739.0,1792.0,3380.0,2211.0,2722.0,6517.0,1208.0,1370.0,6907.0,4890.0,812.0,852.0,1746.0,1484.0,7437.0,1499.0,4062.0,1040.0,1251.0,1128.0,4257.0,10035.0,2924.0,1863.0,671.0,1731.0,187.0,5468.0,2413.0,5257.0,1327.0,2233.0,2014.0,1076.0,2206.0,1677.0,991.0,472.0,1619.0,3160.0,1058.0,2065.0,2558.0,488.0,2887.0,1798.0,2337.0,2320.0,1131.0,30405.0,2655.0,1047.0,1634.0,676.0,2501.0,1871.0,1120.0,2839.0,1909.0,2009.0,2376.0,4486.0,2828.0,2171.0,4030.0,4297.0,1036.0,7650.0,2196.0,5659.0,3752.0,5841.0,4974.0,1957.0,6789.0,2381.0,1187.0,2078.0,1786.0,1867.0,4833.0,2068.0,124.0,1194.0,8806.0,2339.0,7778.0,2470.0,3942.0,1467.0,2259.0,3821.0,80.0,2082.0,1890.0,777.0,4203.0,945.0,1342.0,6091.0,4518.0,3326.0,3819.0,1276.0,2023.0,3160.0,1878.0,2188.0,1351.0,521.0,2316.0,5785.0,1011.0,1689.0,4695.0,3942.0,2144.0,1691.0,3357.0,3268.0,4428.0,3889.0,2334.0,2203.0,1967.0,883.0,673.0,1133.0,402.0,1039.0,5473.0,2364.0,1997.0,1118.0,2677.0,515.0,2795.0,1365.0,871.0,3376.0,2461.0,1077.0,1193.0,2173.0,4445.0,50.0,2476.0,4043.0,545.0,1391.0,2404.0,950.0,1715.0,446.0,939.0,1244.0,1178.0,1579.0,941.0,6573.0,2978.0,1401.0,2800.0,3148.0,849.0,2945.0,1728.0,6607.0,1527.0,2116.0,4059.0,1649.0,774.0,1170.0,319.0,2750.0,2424.0,2332.0,2143.0,4977.0,1360.0,3622.0,3065.0,1355.0,3271.0,70.0,2737.0,2929.0,1898.0,2579.0,4398.0,1111.0,2013.0,2657.0,3140.0,1285.0,4417.0,2859.0,2952.0,4415.0,2574.0,9959.0,771.0,14891.0,4890.0,1334.0,4615.0,2406.0,2206.0,1986.0,3351.0,1690.0,1280.0,1388.0,5622.0,1189.0,1382.0,2464.0,716.0,1331.0,1432.0,1213.0,2741.0,2705.0,2630.0,4001.0,1355.0,1971.0,6710.0,5212.0,2252.0,1634.0,6393.0,2308.0,2458.0,1628.0,2225.0,3279.0,1583.0,1231.0,2069.0,5688.0,4145.0,2486.0,666.0,2746.0,3535.0,1745.0,2343.0,2994.0,2234.0,1068.0,1778.0,693.0,4400.0,1118.0,1965.0,2283.0,2700.0,1523.0,222.0,1210.0,2096.0,3167.0,2838.0,1268.0,1823.0,1275.0,1565.0,3444.0,2377.0,3627.0,12689.0,1993.0,3716.0,2782.0,561.0,1884.0,1575.0,2607.0,3776.0,2398.0,1157.0,3107.0,2049.0,1816.0,2289.0,1467.0,1976.0,3112.0,1650.0,2001.0,1177.0,2634.0,534.0,1401.0,714.0,6988.0,2169.0,1170.0,1102.0,1141.0,1566.0,1411.0,11659.0,3742.0,3486.0,3794.0,1576.0,2578.0,3583.0,2010.0,1525.0,1225.0,2776.0,2099.0,1406.0,1968.0,3795.0,814.0,1513.0,1065.0,2790.0,2668.0,1179.0,2722.0,2331.0,3241.0],\"sizeref\":500},\"mode\":\"markers\",\"x\":[3.0395,3.25,1.5774,3.2813,4.8173,3.1667,2.0571,4.575,6.1768,6.204,4.5714,2.4596,2.5643,5.726,4.263,6.3364,3.2425,5.2548,2.6763,0.9809,5.2887,4.0668,4.3512,2.4861,3.9286,4.8047,7.2648,10.3942,3.8936,6.2862,3.8506,5.5677,2.8611,4.125,4.4239,2.2538,3.4028,4.5615,7.8383,0.9914,3.1167,4.5066,5.2681,4.7639,2.7857,4.3056,5.2131,3.3643,2.4141,3.13,2.6875,1.3611,12.5,1.6955,3.5192,2.6384,1.8281,3.9732,6.3699,7.5,3.9028,1.4167,3.3516,3.7912,4.2566,10.1714,3.0833,4.0911,7.2965,2.2431,8.4355,3.3469,15.0001,4.3625,3.7143,2.2,2.3533,2.875,3.129,4.105,4.7778,4.9236,4.5272,2.0074,4.1375,1.5553,4.6687,3.2917,1.9375,2.2417,5.516,2.7125,2.0433,5.2949,2.1029,3.3214,4.7344,6.101,2.2222,2.3851,2.4348,9.7066,2.7083,3.994,2.8417,3.6393,3.0737,5.6286,2.7468,2.4429,2.9844,6.4667,2.6643,2.7727,1.4514,3.4698,4.5662,2.6495,2.1553,2.5795,3.2149,5.93,2.3062,3.2153,3.1607,4.9583,1.9167,3.575,3.5855,2.8208,1.4444,4.2743,4.15,2.1905,5.0254,4.7356,7.5813,4.1218,4.5562,6.0,6.1092,4.9833,6.2498,1.75,2.963,7.419,3.0,4.9219,3.2898,3.625,1.7115,2.2019,5.0325,2.2244,5.5925,5.4889,2.5469,2.6065,3.4237,10.8034,6.4599,1.7207,6.4562,2.6292,3.1189,4.8611,3.1439,3.9625,6.516,4.0272,3.9963,13.1107,3.9041,4.0132,3.017,3.0833,2.1484,4.6607,5.8142,2.7059,1.5203,4.8929,3.1131,1.8156,5.8623,3.0625,3.0476,1.9044,3.81,3.2026,2.4432,1.7303,3.1167,3.4943,4.0775,5.943,7.7814,3.0469,1.8993,3.6875,1.5938,4.5625,3.1389,1.1912,4.575,2.4271,2.7614,4.1875,2.8,1.125,3.9934,2.065,1.7064,3.6065,2.5909,3.025,1.3587,4.9968,2.0174,4.5347,5.1028,2.9315,3.915,5.2312,3.5161,4.4821,4.3375,1.712,2.9564,6.358,4.0798,2.7694,4.8036,4.2386,5.1005,1.3942,1.8854,3.1505,3.6,3.5909,5.1624,2.6652,5.5138,4.1023,2.9375,15.0001,1.8238,2.0754,5.144,5.817,3.9063,4.511,3.875,2.8798,1.1979,1.8692,2.7118,3.9934,4.425,2.7788,1.4375,1.9605,3.7857,7.6286,2.4754,4.0417,2.4524,5.6277,3.9097,4.3958,3.75,4.0526,4.9932,3.1964,2.1736,3.0417,4.744,2.2898,5.8151,4.1926,2.1859,2.6535,5.0406,3.253,2.8966,3.8068,2.3895,4.6806,2.0807,3.7533,3.625,3.1125,3.0321,1.1667,3.6133,2.7813,1.608,2.1563,2.0172,2.9054,2.3079,3.9864,2.6506,3.1205,2.5562,2.817,3.0125,5.3168,4.072,5.249,5.4496,3.7102,4.0,2.314,5.0016,5.0292,4.4,2.4821,3.3839,3.0252,1.7841,3.0349,3.9615,4.0846,2.9306,4.5417,6.6603,5.928,3.0568,10.3893,2.0284,1.6098,4.1154,2.3,3.0083,3.5179,3.275,4.0194,2.6726,4.7566,2.25,3.6696,5.5882,2.3333,5.4446,4.2121,2.9167,3.6625,4.692,5.2806,7.5412,2.4792,4.5812,3.0221,3.6071,4.4485,8.3837,6.2028,3.6894,2.3229,2.5813,1.5,1.5152,3.6467,1.625,2.6818,4.1161,3.1042,2.6618,6.1814,1.9912,3.5335,2.507,3.5089,2.6458,2.9167,1.2857,3.2188,2.2292,3.9219,4.2727,3.072,2.7303,2.1389,2.2988,2.9321,2.425,1.8235,2.2857,2.2356,4.1591,3.5313,2.0208,3.625,1.9903,3.0804,6.626,4.0179,2.6917,4.3816,1.1728,1.9908,6.9794,3.3438,5.5418,8.1221,1.735,2.558,2.7262,8.0957,4.7333,4.575,2.2411,2.2794,3.9271,3.5403,2.1763,5.5429,6.9635,3.3816,3.6673,2.5885,1.6892,2.7344,1.5714,3.9191,2.1875,2.0804,4.1518,2.8,4.0714,1.78,6.6086,3.3431,6.5829,3.4698,3.4485,5.3668,2.0488,4.6354,5.7385,3.7614,4.6635,2.3864,2.4387,3.5746,3.8269,4.5417,3.4625,5.0602,5.4469,1.9853,3.8194,4.1094,9.5908,2.8643,2.9479,2.3438,2.033,7.9135,4.2679,2.1357,1.3646,2.6875,2.8089,2.3194,1.5603,4.5179,3.8201,3.4312,4.1793,4.9005,4.3152,5.2261,3.0,6.8268,3.2121,4.5096,4.1974,2.875,3.7083,3.5647,2.8029,2.5952,3.6389,6.0086,5.6876,4.1279,4.9766,2.1154,3.4047,4.6528,2.9965,5.6798,4.0931,8.7991,3.275,4.0223,3.025,3.6042,2.8024,1.5208,3.8056,3.6286,5.7192,2.5417,4.3897,4.4271,2.1667,10.3354,2.152,4.0481,4.725,7.167,1.5898,2.233,1.4178,2.0786,6.4468,2.7663,4.0924,8.1484,3.4032,2.9737,6.077,1.6186,3.75,3.3026,1.3679,2.5234,1.6303,3.6474,2.5682,5.1365,1.7292,5.1781,2.0972,4.1083,2.1908,4.2589,1.6581,5.0942,1.5882,3.8819,4.7917,1.7794,6.0332,2.5125,4.5399,1.6865,2.0441,2.325,6.6453,7.5674,1.9937,5.5779,3.1607,3.3958,7.0712,4.4236,15.0001,3.0735,2.3214,2.9531,3.2917,9.6465,3.4265,3.2331,3.3869,10.0472,5.1155,4.1932,3.0441,3.5,3.0958,4.125,6.0749,12.4429,3.7019,7.8279,5.8369,4.375,2.3233,4.9716,1.5491,5.7676,4.0833,2.875,3.3447,2.375,1.5086,3.39,1.9236,4.6076,2.6618,1.7228,2.5,7.0549,2.4607,1.6675,2.1067,2.1522,5.0855,5.3288,2.2138,3.35,3.8687,2.625,8.284,5.3184,4.9355,2.2264,4.5918,3.6154,5.3279,4.2222,3.8036,2.3103,4.15,4.4167,3.1635,1.6875,3.2222,4.5167,2.1078,2.3562,2.5386,1.8539,2.6165,2.275,5.2162,2.5042,3.4402,2.4306,5.8777,3.75,2.9469,2.4732,3.6486,3.6435,6.6246,2.6429,3.676,2.5893,4.9485,3.0956,5.3428,1.3587,6.617,3.7974,3.875,1.6557,3.7143,2.8466,3.6905,4.5428,1.4923,2.3674,3.5536,2.1875,3.3632,1.6389,3.5208,4.4306,4.9783,5.1104,1.8696,4.7679,3.2937,4.375,4.3187,3.7159,4.9615,3.871,3.2437,4.0274,7.8287,3.9583,1.3096,1.0208,3.7202,1.9152,3.0313,5.7652,4.5033,2.6397,3.0694,3.025,3.2121,2.0395,0.8668,3.25,1.9132,5.2363,2.0673,2.1042,4.4028,4.1591,2.5721,4.0229,2.2045,8.9257,3.0694,4.5268,6.0804,2.5872,4.1165,3.7344,3.0625,2.9422,4.3571,2.8981,2.8523,5.0784,3.4643,2.0192,2.0057,2.2222,5.4409,2.5988,2.5769,3.1917,2.5517,2.7443,3.8333,2.182,4.0121,3.1094,4.1429,3.3068,5.8548,1.3039,2.6238,3.5268,3.5532,6.4685,3.2639,1.2917,6.6779,4.1964,4.4063,4.9236,5.8068,1.3438,2.0817,5.6613,3.775,2.1136,3.8984,2.5639,2.4777,3.8125,1.7395,2.569,2.0575,3.6007,2.1103,2.3375,2.4003,1.9583,4.1635,3.1781,3.0877,6.2503,8.0144,1.5603,4.2019,2.5111,9.3399,3.7813,2.9118,3.4527,3.0035,6.5004,2.6991,6.5378,4.2941,3.6788,2.875,3.0556,1.7161,2.0708,4.9562,3.5982,5.3321,4.1635,3.625,3.7292,5.8178,2.2031,2.3438,2.7083,3.1719,5.2563,4.5375,3.2768,1.962,4.1797,2.085,3.1215,2.2417,1.8652,3.8676,2.6016,1.3958,2.0096,4.3281,4.1382,2.6098,2.7434,5.5179,4.2969,2.1667,6.0701,1.8333,6.2141,12.6417,1.3221,5.0709,2.875,1.75,4.7216,10.1248,6.799,2.0391,6.0889,3.95,5.2817,6.2242,1.4511,2.8342,3.1719,4.7973,2.7303,1.2668,2.3942,5.1805,3.5789,11.5706,3.6797,5.6454,6.14,3.9036,1.4732,0.9379,3.4821,2.0885,11.0492,2.8357,4.8519,5.2402,2.5,3.1859,2.0089,3.7708,4.1406,2.7092,5.9838,2.0221,5.1966,4.3687,3.4896,1.9181,8.1125,2.6172,3.125,3.3036,6.0672,6.0374,2.1071,3.5083,5.0824,2.1977,7.4918,4.325,3.2396,3.125,3.0405,1.8304,2.0523,1.8814,1.9073,3.5179,3.0912,4.6696,4.4699,2.8071,2.0809,4.1862,5.8491,1.2344,2.25,3.1176,3.9734,4.8554,11.2979,3.7188,4.3451,3.4,3.3699,6.7123,4.175,2.943,3.8117,5.7211,2.7181,4.0905,3.6786,7.494,6.7181,2.8906,3.9632,3.8333,10.0346,1.8446,2.29,3.7115,4.825,2.1439,1.6896,4.6458,2.1311,4.1181,4.5081,2.1833,2.6078,4.3458,2.4539,4.6635,4.1607,2.1912,4.1577,2.0802,1.7075,3.4184,3.2891,2.478,2.1888,2.163,5.883,4.7019,1.7225,6.6207,2.806,1.6034,3.1719,3.5046,2.5972,1.1681,2.6312,1.8575,4.2788,3.625,4.112,2.3043,4.0625,2.3687,5.4359,2.7857,2.0,3.5547,5.1423,4.6649,8.2673,3.05,4.0833,4.4042,3.2708,3.1795,0.9011,2.5473,3.1667,3.5655,2.89,4.2143,2.0227,4.1406,4.2375,3.1957,4.2614,4.1875,4.4423,6.311,5.1637,10.3599,5.7817,3.0773,2.5398,1.448,2.4053,4.5982,1.4729,7.001,1.125,2.2337,3.6417,5.152,3.7292,3.399,5.143,8.2598,4.3315,5.4165,1.2469,3.0257,5.1335,3.9826,4.0481,5.2287,10.4519,4.1369,2.4444,6.1273,3.48,3.7917,1.5625,3.0184,2.3578,2.7153,1.8333,2.2961,3.2813,2.7556,5.5601,2.8299,2.0221,1.4727,4.3409,2.1205,3.9167,3.8343,3.5839,4.8382,3.2279,3.5967,6.0715,7.2147,2.0139,3.2857,3.8259,7.0544,3.6875,2.8456,4.0076,1.8125,1.7708,2.9812,2.375,4.0909,2.0938,4.0,7.5992,3.2337,3.3173,2.5455,3.0943,10.5144,5.1074,2.7437,3.4063,4.275,1.4066,2.6136,1.7945,3.2011,2.3462,6.0582,3.7796,3.5082,6.4288,3.2371,2.375,3.6618,3.0,2.7352,4.875,3.125,6.5501,2.6667,2.6944,2.5,2.8493,3.575,2.0425,4.5481,2.5197,2.2656,4.2212,5.9346,2.0729,5.5601,2.9511,4.0833,4.0714,3.8,2.0978,5.5981,8.2961,2.3594,2.9133,3.0043,3.0161,2.8058,6.5858,3.7963,1.7596,3.9792,3.7321,4.2137,2.6847,3.9,3.0208,3.9844,2.3903,2.767,2.5043,2.8594,2.4283,7.6889,4.525,4.0491,2.8447,4.25,2.6103,4.4474,2.8401,6.983,3.25,3.4375,2.25,5.2657,10.2948,2.6136,7.8588,1.1818,2.4688,3.6719,3.7139,2.0943,3.8287,2.1005,2.6477,3.6007,1.8,8.3792,2.4567,4.0,12.5902,8.3839,3.9773,2.3598,2.1985,3.12,1.8125,2.2083,1.858,5.0767,3.3534,1.8214,9.5561,2.6563,2.8777,1.625,4.2206,3.7333,4.0219,8.0137,3.0529,2.0976,4.1731,6.2096,1.8771,2.8427,1.5429,3.5667,3.006,3.1944,2.6082,10.1454,1.4318,6.6125,3.402,5.2851,3.2578,1.82,4.8,6.1949,9.8937,4.7222,6.7606,7.3339,4.049,2.5372,2.4931,2.2202,5.1929,1.8242,6.2389,5.212,12.5381,3.705,4.2155,3.162,5.4694,2.9861,6.6054,2.3681,6.4092,5.5454,5.25,1.6424,1.6827,4.0208,4.1742,5.6266,1.1194,5.1837,5.6015,5.7457,3.1719,1.9609,4.7396,3.8864,6.9553,2.7759,4.2768,2.7788,4.3816,3.2689,3.9861,4.4444,3.2158,4.1169,3.9464,3.9514,4.2685,6.8482,4.7932,4.5,3.1324,4.25,4.4135,2.151,2.3523,2.05,1.3125,2.9688,1.9375,1.918,4.4148,3.7813,3.0313,2.4135,3.7798,3.2396,1.4375,3.101,2.1944,3.0208,2.1806,2.025,3.1656,4.125,2.0625,6.1504,1.4861,3.184,5.0198,3.1937,3.4306,3.0357,1.75,1.6981,2.6477,4.1615,2.1429,3.0651,2.7644,2.8472,2.7614,3.0466,5.0362,3.2368,3.375,2.5068,6.4232,4.1587,2.4526,3.0602,5.7628,2.6667,1.4688,4.9904,6.4755,2.2612,2.0819,6.58,2.1691,3.3125,3.6417,1.3444,1.7418,4.125,2.5797,2.2577,5.5792,4.5577,4.7375,7.6344,2.2708,3.425,6.5044,3.4107,4.25,3.0396,5.6063,3.75,6.0738,6.9754,2.0156,5.1064,2.5795,3.7153,3.9063,4.9079,1.6348,4.0278,8.5153,3.25,3.1333,5.1584,5.7763,4.8824,5.125,4.4946,2.6042,3.975,2.7243,4.5987,3.7007,3.7159,3.3669,3.3239,6.2838,3.6435,3.5223,4.1099,6.1575,1.5313,5.1384,2.3929,3.5441,6.083,1.6685,7.9168,2.7019,2.8365,3.5481,6.6131,2.5444,2.9018,3.4643,3.5139,7.1674,4.3911,2.1094,6.6852,5.4604,5.7528,6.5745,2.3417,3.6375,2.4196,3.2824,5.0249,5.1333,4.875,5.1136,1.7857,6.8299,3.1941,3.3831,3.0284,3.7222,3.0263,2.9271,3.7891,4.4561,4.537,3.6361,5.587,5.2113,2.1935,3.6312,3.1194,2.8512,4.224,3.4421,5.2319,2.1548,2.182,3.7414,5.1874,4.5757,3.6705,2.2981,6.0,3.1838,1.1563,2.3981,3.7976,5.3254,2.5809,0.8926,4.2224,2.3125,2.3906,4.0792,3.7143,3.075,3.0871,6.9833,2.4,7.2623,2.8068,1.9798,7.1882,3.0214,1.9408,3.1691,3.4013,2.5551,7.9887,3.2813,3.7031,5.8735,2.3942,2.7411,2.625,4.8,2.9422,1.9509,4.2305,3.6563,6.6134],\"y\":[191300.0,195500.0,58000.0,243600.0,115800.0,81900.0,152300.0,215400.0,228900.0,201800.0,243200.0,154700.0,102700.0,287800.0,127400.0,307400.0,138800.0,192600.0,191100.0,121400.0,264500.0,137500.0,191400.0,96200.0,133100.0,438000.0,363200.0,500001.0,225900.0,500001.0,167400.0,175400.0,314300.0,174000.0,267100.0,181300.0,171800.0,137200.0,372700.0,147500.0,258300.0,140200.0,500001.0,265600.0,104200.0,228600.0,359600.0,420000.0,137500.0,168300.0,60600.0,60600.0,281000.0,86800.0,113300.0,146900.0,76800.0,188400.0,235500.0,500001.0,128600.0,200000.0,150000.0,168900.0,206100.0,481500.0,338100.0,224600.0,342900.0,63400.0,467600.0,345000.0,500001.0,158800.0,175700.0,80800.0,65400.0,87800.0,375000.0,174400.0,340400.0,155900.0,221000.0,96200.0,222400.0,70000.0,344300.0,83100.0,73100.0,79200.0,185100.0,150000.0,138800.0,350000.0,153300.0,131300.0,346900.0,311800.0,75000.0,67500.0,104800.0,182500.0,84700.0,95500.0,162500.0,184000.0,111600.0,411300.0,81100.0,228800.0,132000.0,263900.0,81000.0,186800.0,79900.0,179700.0,150300.0,116200.0,255400.0,225000.0,300000.0,277600.0,138800.0,199700.0,182000.0,445700.0,159200.0,274000.0,174300.0,238500.0,182100.0,124000.0,157500.0,124000.0,350000.0,195900.0,374100.0,328500.0,134500.0,381500.0,306500.0,213000.0,353300.0,67500.0,89500.0,483700.0,114200.0,200000.0,200000.0,144300.0,125000.0,100000.0,238200.0,255900.0,208600.0,232300.0,87800.0,93800.0,113700.0,500001.0,219700.0,105100.0,230000.0,136100.0,118800.0,146400.0,103100.0,168200.0,401000.0,260500.0,191100.0,467600.0,320400.0,174700.0,112500.0,179100.0,129200.0,173000.0,500001.0,159800.0,126200.0,156200.0,77100.0,218800.0,287800.0,87500.0,456200.0,64900.0,234600.0,227600.0,187500.0,74000.0,121600.0,311100.0,164500.0,288200.0,288700.0,85000.0,78400.0,186000.0,57600.0,240000.0,101800.0,60000.0,336000.0,89500.0,237500.0,266400.0,72000.0,150000.0,123300.0,219400.0,175000.0,433300.0,159100.0,140600.0,45300.0,295000.0,63700.0,101200.0,292100.0,149000.0,217700.0,197600.0,236400.0,210000.0,241800.0,82100.0,150500.0,500001.0,179200.0,161900.0,297800.0,283700.0,266700.0,69400.0,137500.0,270000.0,452800.0,500001.0,267900.0,164800.0,171100.0,217300.0,206500.0,350000.0,237500.0,101400.0,180800.0,257300.0,192700.0,296800.0,125000.0,225000.0,350000.0,93800.0,281700.0,500001.0,204800.0,115400.0,168800.0,106200.0,110500.0,330400.0,157300.0,173800.0,90300.0,269800.0,81300.0,225000.0,163800.0,104500.0,284000.0,185800.0,171300.0,137500.0,257300.0,66100.0,500001.0,244500.0,143800.0,177200.0,261400.0,186700.0,92400.0,275000.0,87500.0,187500.0,142600.0,87000.0,265000.0,154800.0,135500.0,143800.0,196100.0,159200.0,91800.0,88300.0,112500.0,156300.0,95300.0,200200.0,164600.0,240500.0,93200.0,110000.0,166100.0,175000.0,364200.0,351900.0,238900.0,177500.0,141500.0,169400.0,218500.0,269400.0,500000.0,123600.0,105900.0,178000.0,67500.0,266700.0,331300.0,183400.0,360300.0,194400.0,230900.0,239900.0,190300.0,500001.0,96300.0,87500.0,160200.0,132800.0,163500.0,161400.0,103500.0,197400.0,83300.0,142500.0,152300.0,218800.0,194300.0,133300.0,336700.0,128100.0,83900.0,217100.0,330900.0,400000.0,392100.0,200000.0,255200.0,214300.0,289000.0,295200.0,473400.0,361500.0,418800.0,118000.0,253100.0,162500.0,81300.0,113000.0,62000.0,164600.0,220900.0,165000.0,179700.0,453600.0,98600.0,268800.0,142700.0,261900.0,84800.0,461100.0,99300.0,150500.0,57400.0,222500.0,241900.0,114300.0,99100.0,168900.0,153400.0,144200.0,255000.0,275000.0,500001.0,119500.0,500001.0,117800.0,72500.0,121800.0,170300.0,156800.0,500001.0,195800.0,170000.0,191300.0,41700.0,118800.0,500001.0,500001.0,326100.0,483300.0,61200.0,121600.0,109800.0,500001.0,257500.0,225000.0,93000.0,75700.0,147100.0,113500.0,168800.0,269100.0,417300.0,93800.0,283300.0,159000.0,129100.0,91900.0,43000.0,183000.0,76400.0,226700.0,230700.0,144300.0,437500.0,114300.0,299400.0,137500.0,500001.0,265400.0,458300.0,219800.0,88900.0,179200.0,240400.0,176000.0,206700.0,139100.0,117000.0,350000.0,306000.0,142400.0,173900.0,298900.0,274700.0,101100.0,98500.0,215800.0,350000.0,132600.0,83300.0,88100.0,68400.0,496400.0,131900.0,187500.0,65400.0,129700.0,120600.0,52900.0,162500.0,177100.0,136200.0,68400.0,500001.0,264000.0,159300.0,303200.0,221200.0,280300.0,320800.0,241100.0,179300.0,57700.0,307700.0,251800.0,180900.0,92400.0,167600.0,166900.0,246500.0,167600.0,267100.0,75300.0,294500.0,186600.0,88900.0,320900.0,134200.0,478500.0,156500.0,250200.0,156900.0,138200.0,127900.0,89000.0,384700.0,165500.0,283500.0,82900.0,235000.0,336200.0,142600.0,477600.0,170800.0,97300.0,204500.0,357100.0,94000.0,55000.0,145500.0,88600.0,444200.0,97900.0,188400.0,500001.0,196900.0,72100.0,472700.0,77100.0,121400.0,229500.0,70300.0,88200.0,144900.0,231600.0,120000.0,215000.0,79200.0,122500.0,187500.0,108000.0,94600.0,134900.0,118800.0,217500.0,327300.0,289900.0,276100.0,98800.0,244900.0,270800.0,500001.0,58800.0,73300.0,69600.0,270100.0,500001.0,367100.0,234800.0,172200.0,141900.0,293000.0,233600.0,500001.0,212300.0,66800.0,127100.0,160100.0,500001.0,456900.0,226700.0,157300.0,500001.0,200900.0,14999.0,140100.0,135800.0,210900.0,359500.0,196900.0,500001.0,138600.0,500001.0,255700.0,129900.0,78800.0,162500.0,225000.0,241300.0,266700.0,300000.0,305200.0,175000.0,64700.0,149500.0,117200.0,204000.0,179600.0,105000.0,85500.0,331400.0,155600.0,95800.0,101100.0,60800.0,232200.0,201800.0,99200.0,118400.0,145200.0,203200.0,302500.0,376000.0,336900.0,181300.0,337000.0,155700.0,413900.0,500001.0,139600.0,134500.0,272200.0,215200.0,74300.0,113500.0,218700.0,265200.0,54700.0,58100.0,290600.0,147500.0,230800.0,122400.0,171900.0,147900.0,149400.0,88900.0,358800.0,280000.0,216100.0,165800.0,246900.0,119100.0,284200.0,71300.0,125600.0,108500.0,217100.0,500001.0,243600.0,67500.0,285200.0,228700.0,182600.0,65400.0,260000.0,95300.0,179800.0,239800.0,44400.0,500001.0,251000.0,121700.0,265100.0,96700.0,134200.0,225800.0,163900.0,220500.0,61500.0,169500.0,135300.0,186200.0,269700.0,494400.0,157800.0,162900.0,223900.0,160700.0,369200.0,141700.0,116300.0,55800.0,182100.0,115600.0,87900.0,299100.0,213100.0,59700.0,122200.0,154300.0,153900.0,67900.0,137500.0,80600.0,154600.0,310000.0,88500.0,268300.0,246800.0,332400.0,475000.0,363100.0,41800.0,431800.0,125000.0,207400.0,420000.0,130600.0,164900.0,179400.0,208800.0,289400.0,287500.0,353600.0,87500.0,295900.0,191800.0,63700.0,118900.0,81300.0,205100.0,135600.0,94400.0,73400.0,147100.0,94200.0,116100.0,60800.0,279700.0,136100.0,200000.0,500001.0,500001.0,77500.0,210000.0,174700.0,158400.0,241200.0,155200.0,66300.0,223900.0,258100.0,500001.0,238000.0,263900.0,103100.0,132500.0,172400.0,281300.0,61000.0,306300.0,123000.0,260300.0,96700.0,162500.0,88300.0,67000.0,395500.0,94400.0,154200.0,142100.0,88600.0,156400.0,162000.0,174200.0,222500.0,500001.0,109600.0,140100.0,55400.0,500001.0,232000.0,172400.0,175000.0,94600.0,263600.0,147100.0,340900.0,151600.0,178800.0,112500.0,95500.0,75800.0,89600.0,238700.0,94400.0,208100.0,398400.0,125000.0,182200.0,267400.0,164000.0,154300.0,82100.0,140600.0,144100.0,169800.0,179100.0,52700.0,141000.0,92600.0,153600.0,87900.0,116100.0,184000.0,222400.0,67500.0,155700.0,324000.0,189800.0,127100.0,95200.0,67500.0,145800.0,114600.0,149900.0,58200.0,252200.0,500001.0,61200.0,176400.0,121400.0,115400.0,227000.0,428500.0,292000.0,70400.0,245200.0,347700.0,140600.0,237900.0,65200.0,256800.0,115400.0,186900.0,109700.0,225000.0,200000.0,249400.0,110400.0,500001.0,271100.0,500001.0,361900.0,326600.0,156300.0,67500.0,160300.0,142800.0,500001.0,106300.0,225800.0,296400.0,112500.0,153100.0,113600.0,144600.0,219500.0,256300.0,271900.0,60400.0,325400.0,173500.0,185900.0,118800.0,428600.0,196100.0,93400.0,141000.0,420800.0,500001.0,93800.0,122000.0,230900.0,154200.0,367600.0,223900.0,375000.0,219900.0,188000.0,225000.0,133900.0,57700.0,79200.0,165500.0,155300.0,159500.0,367400.0,137500.0,95800.0,183600.0,247300.0,43300.0,63400.0,396300.0,185400.0,206700.0,500001.0,116600.0,177800.0,155500.0,244000.0,354600.0,190900.0,341700.0,82800.0,500001.0,156800.0,134800.0,159700.0,439200.0,160300.0,134800.0,147100.0,118800.0,500001.0,85700.0,111800.0,181900.0,205800.0,60200.0,100000.0,212100.0,163100.0,190400.0,251400.0,92700.0,116700.0,407500.0,115000.0,198400.0,112800.0,115200.0,174100.0,47900.0,60400.0,162500.0,93100.0,185600.0,195600.0,53400.0,295100.0,191100.0,180000.0,270500.0,214600.0,84400.0,158300.0,118300.0,134300.0,78100.0,171300.0,73800.0,332500.0,181300.0,141400.0,66300.0,272800.0,63900.0,258300.0,110900.0,83300.0,197600.0,183100.0,237800.0,358700.0,144800.0,500001.0,159100.0,325000.0,218200.0,86100.0,101600.0,117700.0,95600.0,86200.0,245400.0,53300.0,274100.0,205000.0,159200.0,261300.0,261600.0,216000.0,283200.0,500001.0,500001.0,267600.0,112500.0,105700.0,72800.0,178400.0,333500.0,54100.0,286800.0,60000.0,64500.0,178400.0,143400.0,475000.0,306300.0,176500.0,500001.0,95800.0,435100.0,46700.0,80800.0,461200.0,215800.0,152300.0,191100.0,500001.0,316900.0,73400.0,289600.0,191400.0,151600.0,55800.0,139400.0,88600.0,233300.0,68300.0,112500.0,151400.0,213200.0,213700.0,109500.0,95800.0,53000.0,191800.0,60000.0,232600.0,191400.0,158500.0,289400.0,158500.0,141600.0,173400.0,303900.0,150000.0,130100.0,253100.0,320700.0,213200.0,165500.0,252100.0,93500.0,102600.0,148800.0,145800.0,108300.0,162500.0,355300.0,310600.0,123100.0,247400.0,114300.0,97100.0,345900.0,185200.0,120200.0,253900.0,185300.0,66400.0,169200.0,166700.0,428300.0,127300.0,157700.0,159000.0,136500.0,295500.0,154700.0,141000.0,183500.0,110000.0,137300.0,143100.0,172700.0,294900.0,172800.0,158300.0,74200.0,196100.0,292200.0,63700.0,164800.0,350000.0,145000.0,293800.0,253600.0,84700.0,205200.0,282300.0,114400.0,215600.0,187500.0,155400.0,220100.0,500001.0,66000.0,215700.0,156500.0,215700.0,229500.0,346700.0,303100.0,93800.0,266700.0,167500.0,151700.0,111300.0,138600.0,112700.0,118100.0,236100.0,143000.0,92300.0,189600.0,143100.0,229300.0,186000.0,147900.0,87700.0,152100.0,500000.0,160200.0,104200.0,329700.0,350000.0,83300.0,123500.0,191400.0,382400.0,213600.0,454800.0,83200.0,236400.0,134100.0,196700.0,108300.0,279900.0,171300.0,53300.0,104000.0,154200.0,418300.0,155000.0,394300.0,500001.0,500001.0,131300.0,57500.0,95300.0,194300.0,58000.0,93800.0,67500.0,271200.0,180500.0,211100.0,411800.0,103100.0,207900.0,66800.0,157700.0,121400.0,168300.0,399200.0,265800.0,47700.0,257200.0,178100.0,247500.0,164400.0,39400.0,179200.0,227900.0,213500.0,162500.0,500001.0,59600.0,393200.0,193300.0,258800.0,184200.0,80100.0,196900.0,238700.0,500001.0,185100.0,364300.0,294200.0,126000.0,218000.0,166900.0,65200.0,165000.0,53500.0,500001.0,201200.0,112500.0,185800.0,247800.0,415000.0,272400.0,160900.0,500001.0,241400.0,334900.0,217100.0,247200.0,108900.0,78700.0,262500.0,159900.0,320500.0,95800.0,259800.0,267200.0,240600.0,183500.0,155000.0,441700.0,132600.0,500001.0,136800.0,167800.0,91100.0,88600.0,231000.0,188700.0,191800.0,223600.0,362600.0,315000.0,86900.0,216600.0,308300.0,166300.0,234300.0,500001.0,486900.0,150100.0,146900.0,66000.0,68900.0,87500.0,128300.0,65300.0,147500.0,239200.0,192200.0,103600.0,184400.0,258400.0,62300.0,96400.0,238200.0,87500.0,206300.0,180000.0,135500.0,204500.0,262500.0,94400.0,268400.0,95100.0,220000.0,151900.0,319200.0,74300.0,208300.0,87900.0,49400.0,43500.0,214800.0,69900.0,108000.0,97300.0,218800.0,272200.0,159600.0,181300.0,136900.0,133700.0,156300.0,446600.0,212200.0,97100.0,69800.0,221300.0,325900.0,90000.0,221700.0,405800.0,230400.0,103300.0,318500.0,150000.0,425500.0,208100.0,45600.0,62200.0,112500.0,183500.0,173800.0,218400.0,123300.0,431900.0,290500.0,67500.0,281700.0,350400.0,112500.0,170300.0,124300.0,320500.0,166300.0,335900.0,402500.0,90300.0,283200.0,98700.0,229800.0,198700.0,234100.0,93200.0,95800.0,500001.0,176700.0,132000.0,444700.0,206700.0,396400.0,211700.0,358600.0,287500.0,500001.0,218100.0,255600.0,139200.0,168900.0,376100.0,350000.0,318200.0,195800.0,115100.0,113600.0,160100.0,154900.0,336900.0,184400.0,87000.0,424000.0,128800.0,356000.0,293800.0,90000.0,396000.0,312500.0,275000.0,275000.0,175000.0,192800.0,500001.0,107900.0,135200.0,500001.0,193400.0,180500.0,379300.0,191700.0,198800.0,346200.0,304800.0,196700.0,345900.0,218900.0,111700.0,62800.0,262100.0,394700.0,197400.0,123600.0,207200.0,118300.0,123200.0,126700.0,250000.0,345900.0,157700.0,244900.0,267400.0,183300.0,202800.0,152800.0,181000.0,349600.0,155300.0,500001.0,118800.0,147500.0,98500.0,230800.0,162500.0,286500.0,112100.0,353500.0,98600.0,118800.0,183300.0,275000.0,240500.0,83200.0,116100.0,125700.0,148500.0,81800.0,165100.0,148800.0,165100.0,138800.0,238800.0,153700.0,500001.0,95300.0,98100.0,359200.0,218400.0,134600.0,141300.0,176500.0,105000.0,328000.0,190000.0,114300.0,448100.0,123200.0,59800.0,91700.0,500001.0,233100.0,70200.0,221400.0,164900.0,307000.0],\"type\":\"scatter\"}],                        {\"height\":600,\"hovermode\":\"closest\",\"template\":{\"data\":{\"barpolar\":[{\"marker\":{\"line\":{\"color\":\"rgb(17,17,17)\",\"width\":0.5},\"pattern\":{\"fillmode\":\"overlay\",\"size\":10,\"solidity\":0.2}},\"type\":\"barpolar\"}],\"bar\":[{\"error_x\":{\"color\":\"#f2f5fa\"},\"error_y\":{\"color\":\"#f2f5fa\"},\"marker\":{\"line\":{\"color\":\"rgb(17,17,17)\",\"width\":0.5},\"pattern\":{\"fillmode\":\"overlay\",\"size\":10,\"solidity\":0.2}},\"type\":\"bar\"}],\"carpet\":[{\"aaxis\":{\"endlinecolor\":\"#A2B1C6\",\"gridcolor\":\"#506784\",\"linecolor\":\"#506784\",\"minorgridcolor\":\"#506784\",\"startlinecolor\":\"#A2B1C6\"},\"baxis\":{\"endlinecolor\":\"#A2B1C6\",\"gridcolor\":\"#506784\",\"linecolor\":\"#506784\",\"minorgridcolor\":\"#506784\",\"startlinecolor\":\"#A2B1C6\"},\"type\":\"carpet\"}],\"choropleth\":[{\"colorbar\":{\"outlinewidth\":0,\"ticks\":\"\"},\"type\":\"choropleth\"}],\"contourcarpet\":[{\"colorbar\":{\"outlinewidth\":0,\"ticks\":\"\"},\"type\":\"contourcarpet\"}],\"contour\":[{\"colorbar\":{\"outlinewidth\":0,\"ticks\":\"\"},\"colorscale\":[[0.0,\"#0d0887\"],[0.1111111111111111,\"#46039f\"],[0.2222222222222222,\"#7201a8\"],[0.3333333333333333,\"#9c179e\"],[0.4444444444444444,\"#bd3786\"],[0.5555555555555556,\"#d8576b\"],[0.6666666666666666,\"#ed7953\"],[0.7777777777777778,\"#fb9f3a\"],[0.8888888888888888,\"#fdca26\"],[1.0,\"#f0f921\"]],\"type\":\"contour\"}],\"heatmapgl\":[{\"colorbar\":{\"outlinewidth\":0,\"ticks\":\"\"},\"colorscale\":[[0.0,\"#0d0887\"],[0.1111111111111111,\"#46039f\"],[0.2222222222222222,\"#7201a8\"],[0.3333333333333333,\"#9c179e\"],[0.4444444444444444,\"#bd3786\"],[0.5555555555555556,\"#d8576b\"],[0.6666666666666666,\"#ed7953\"],[0.7777777777777778,\"#fb9f3a\"],[0.8888888888888888,\"#fdca26\"],[1.0,\"#f0f921\"]],\"type\":\"heatmapgl\"}],\"heatmap\":[{\"colorbar\":{\"outlinewidth\":0,\"ticks\":\"\"},\"colorscale\":[[0.0,\"#0d0887\"],[0.1111111111111111,\"#46039f\"],[0.2222222222222222,\"#7201a8\"],[0.3333333333333333,\"#9c179e\"],[0.4444444444444444,\"#bd3786\"],[0.5555555555555556,\"#d8576b\"],[0.6666666666666666,\"#ed7953\"],[0.7777777777777778,\"#fb9f3a\"],[0.8888888888888888,\"#fdca26\"],[1.0,\"#f0f921\"]],\"type\":\"heatmap\"}],\"histogram2dcontour\":[{\"colorbar\":{\"outlinewidth\":0,\"ticks\":\"\"},\"colorscale\":[[0.0,\"#0d0887\"],[0.1111111111111111,\"#46039f\"],[0.2222222222222222,\"#7201a8\"],[0.3333333333333333,\"#9c179e\"],[0.4444444444444444,\"#bd3786\"],[0.5555555555555556,\"#d8576b\"],[0.6666666666666666,\"#ed7953\"],[0.7777777777777778,\"#fb9f3a\"],[0.8888888888888888,\"#fdca26\"],[1.0,\"#f0f921\"]],\"type\":\"histogram2dcontour\"}],\"histogram2d\":[{\"colorbar\":{\"outlinewidth\":0,\"ticks\":\"\"},\"colorscale\":[[0.0,\"#0d0887\"],[0.1111111111111111,\"#46039f\"],[0.2222222222222222,\"#7201a8\"],[0.3333333333333333,\"#9c179e\"],[0.4444444444444444,\"#bd3786\"],[0.5555555555555556,\"#d8576b\"],[0.6666666666666666,\"#ed7953\"],[0.7777777777777778,\"#fb9f3a\"],[0.8888888888888888,\"#fdca26\"],[1.0,\"#f0f921\"]],\"type\":\"histogram2d\"}],\"histogram\":[{\"marker\":{\"pattern\":{\"fillmode\":\"overlay\",\"size\":10,\"solidity\":0.2}},\"type\":\"histogram\"}],\"mesh3d\":[{\"colorbar\":{\"outlinewidth\":0,\"ticks\":\"\"},\"type\":\"mesh3d\"}],\"parcoords\":[{\"line\":{\"colorbar\":{\"outlinewidth\":0,\"ticks\":\"\"}},\"type\":\"parcoords\"}],\"pie\":[{\"automargin\":true,\"type\":\"pie\"}],\"scatter3d\":[{\"line\":{\"colorbar\":{\"outlinewidth\":0,\"ticks\":\"\"}},\"marker\":{\"colorbar\":{\"outlinewidth\":0,\"ticks\":\"\"}},\"type\":\"scatter3d\"}],\"scattercarpet\":[{\"marker\":{\"colorbar\":{\"outlinewidth\":0,\"ticks\":\"\"}},\"type\":\"scattercarpet\"}],\"scattergeo\":[{\"marker\":{\"colorbar\":{\"outlinewidth\":0,\"ticks\":\"\"}},\"type\":\"scattergeo\"}],\"scattergl\":[{\"marker\":{\"line\":{\"color\":\"#283442\"}},\"type\":\"scattergl\"}],\"scattermapbox\":[{\"marker\":{\"colorbar\":{\"outlinewidth\":0,\"ticks\":\"\"}},\"type\":\"scattermapbox\"}],\"scatterpolargl\":[{\"marker\":{\"colorbar\":{\"outlinewidth\":0,\"ticks\":\"\"}},\"type\":\"scatterpolargl\"}],\"scatterpolar\":[{\"marker\":{\"colorbar\":{\"outlinewidth\":0,\"ticks\":\"\"}},\"type\":\"scatterpolar\"}],\"scatter\":[{\"marker\":{\"line\":{\"color\":\"#283442\"}},\"type\":\"scatter\"}],\"scatterternary\":[{\"marker\":{\"colorbar\":{\"outlinewidth\":0,\"ticks\":\"\"}},\"type\":\"scatterternary\"}],\"surface\":[{\"colorbar\":{\"outlinewidth\":0,\"ticks\":\"\"},\"colorscale\":[[0.0,\"#0d0887\"],[0.1111111111111111,\"#46039f\"],[0.2222222222222222,\"#7201a8\"],[0.3333333333333333,\"#9c179e\"],[0.4444444444444444,\"#bd3786\"],[0.5555555555555556,\"#d8576b\"],[0.6666666666666666,\"#ed7953\"],[0.7777777777777778,\"#fb9f3a\"],[0.8888888888888888,\"#fdca26\"],[1.0,\"#f0f921\"]],\"type\":\"surface\"}],\"table\":[{\"cells\":{\"fill\":{\"color\":\"#506784\"},\"line\":{\"color\":\"rgb(17,17,17)\"}},\"header\":{\"fill\":{\"color\":\"#2a3f5f\"},\"line\":{\"color\":\"rgb(17,17,17)\"}},\"type\":\"table\"}]},\"layout\":{\"annotationdefaults\":{\"arrowcolor\":\"#f2f5fa\",\"arrowhead\":0,\"arrowwidth\":1},\"autotypenumbers\":\"strict\",\"coloraxis\":{\"colorbar\":{\"outlinewidth\":0,\"ticks\":\"\"}},\"colorscale\":{\"diverging\":[[0,\"#8e0152\"],[0.1,\"#c51b7d\"],[0.2,\"#de77ae\"],[0.3,\"#f1b6da\"],[0.4,\"#fde0ef\"],[0.5,\"#f7f7f7\"],[0.6,\"#e6f5d0\"],[0.7,\"#b8e186\"],[0.8,\"#7fbc41\"],[0.9,\"#4d9221\"],[1,\"#276419\"]],\"sequential\":[[0.0,\"#0d0887\"],[0.1111111111111111,\"#46039f\"],[0.2222222222222222,\"#7201a8\"],[0.3333333333333333,\"#9c179e\"],[0.4444444444444444,\"#bd3786\"],[0.5555555555555556,\"#d8576b\"],[0.6666666666666666,\"#ed7953\"],[0.7777777777777778,\"#fb9f3a\"],[0.8888888888888888,\"#fdca26\"],[1.0,\"#f0f921\"]],\"sequentialminus\":[[0.0,\"#0d0887\"],[0.1111111111111111,\"#46039f\"],[0.2222222222222222,\"#7201a8\"],[0.3333333333333333,\"#9c179e\"],[0.4444444444444444,\"#bd3786\"],[0.5555555555555556,\"#d8576b\"],[0.6666666666666666,\"#ed7953\"],[0.7777777777777778,\"#fb9f3a\"],[0.8888888888888888,\"#fdca26\"],[1.0,\"#f0f921\"]]},\"colorway\":[\"#636efa\",\"#EF553B\",\"#00cc96\",\"#ab63fa\",\"#FFA15A\",\"#19d3f3\",\"#FF6692\",\"#B6E880\",\"#FF97FF\",\"#FECB52\"],\"font\":{\"color\":\"#f2f5fa\"},\"geo\":{\"bgcolor\":\"rgb(17,17,17)\",\"lakecolor\":\"rgb(17,17,17)\",\"landcolor\":\"rgb(17,17,17)\",\"showlakes\":true,\"showland\":true,\"subunitcolor\":\"#506784\"},\"hoverlabel\":{\"align\":\"left\"},\"hovermode\":\"closest\",\"mapbox\":{\"style\":\"dark\"},\"paper_bgcolor\":\"rgb(17,17,17)\",\"plot_bgcolor\":\"rgb(17,17,17)\",\"polar\":{\"angularaxis\":{\"gridcolor\":\"#506784\",\"linecolor\":\"#506784\",\"ticks\":\"\"},\"bgcolor\":\"rgb(17,17,17)\",\"radialaxis\":{\"gridcolor\":\"#506784\",\"linecolor\":\"#506784\",\"ticks\":\"\"}},\"scene\":{\"xaxis\":{\"backgroundcolor\":\"rgb(17,17,17)\",\"gridcolor\":\"#506784\",\"gridwidth\":2,\"linecolor\":\"#506784\",\"showbackground\":true,\"ticks\":\"\",\"zerolinecolor\":\"#C8D4E3\"},\"yaxis\":{\"backgroundcolor\":\"rgb(17,17,17)\",\"gridcolor\":\"#506784\",\"gridwidth\":2,\"linecolor\":\"#506784\",\"showbackground\":true,\"ticks\":\"\",\"zerolinecolor\":\"#C8D4E3\"},\"zaxis\":{\"backgroundcolor\":\"rgb(17,17,17)\",\"gridcolor\":\"#506784\",\"gridwidth\":2,\"linecolor\":\"#506784\",\"showbackground\":true,\"ticks\":\"\",\"zerolinecolor\":\"#C8D4E3\"}},\"shapedefaults\":{\"line\":{\"color\":\"#f2f5fa\"}},\"sliderdefaults\":{\"bgcolor\":\"#C8D4E3\",\"bordercolor\":\"rgb(17,17,17)\",\"borderwidth\":1,\"tickwidth\":0},\"ternary\":{\"aaxis\":{\"gridcolor\":\"#506784\",\"linecolor\":\"#506784\",\"ticks\":\"\"},\"baxis\":{\"gridcolor\":\"#506784\",\"linecolor\":\"#506784\",\"ticks\":\"\"},\"bgcolor\":\"rgb(17,17,17)\",\"caxis\":{\"gridcolor\":\"#506784\",\"linecolor\":\"#506784\",\"ticks\":\"\"}},\"title\":{\"x\":0.05},\"updatemenudefaults\":{\"bgcolor\":\"#506784\",\"borderwidth\":0},\"xaxis\":{\"automargin\":true,\"gridcolor\":\"#283442\",\"linecolor\":\"#506784\",\"ticks\":\"\",\"title\":{\"standoff\":15},\"zerolinecolor\":\"#283442\",\"zerolinewidth\":2},\"yaxis\":{\"automargin\":true,\"gridcolor\":\"#283442\",\"linecolor\":\"#506784\",\"ticks\":\"\",\"title\":{\"standoff\":15},\"zerolinecolor\":\"#283442\",\"zerolinewidth\":2}}},\"title\":{\"text\":\"Housing Data\"},\"width\":900},                        {\"responsive\": true}                    ).then(function(){\n                            \nvar gd = document.getElementById('2d5c4ea9-1c04-4883-82dc-98f4f903814b');\nvar x = new MutationObserver(function (mutations, observer) {{\n        var display = window.getComputedStyle(gd).display;\n        if (!display || display === 'none') {{\n            console.log([gd, 'removed!']);\n            Plotly.purge(gd);\n            observer.disconnect();\n        }}\n}});\n\n// Listen for the removal of the full notebook cells\nvar notebookContainer = gd.closest('#notebook-container');\nif (notebookContainer) {{\n    x.observe(notebookContainer, {childList: true});\n}}\n\n// Listen for the clearing of the current output cell\nvar outputEl = gd.closest('.output');\nif (outputEl) {{\n    x.observe(outputEl, {childList: true});\n}}\n\n                        })                };                });            </script>        </div>"
     },
     "metadata": {},
     "output_type": "display_data"
    }
   ],
   "source": [
    "# it seems that there are a lot of rooms in this housing dataset. so we need to divide them to get lower numbers.\n",
    "trace = go.Scatter(\n",
    "    x=housing_data['median_income'],\n",
    "    y=housing_data['median_house_value'],\n",
    "    mode='markers',\n",
    "    marker=dict(\n",
    "        size=housing_data['total_rooms'],\n",
    "        sizeref=500, # divide total_rooms by 500 to get a smaller number for showing size of the bubble\n",
    "        color=housing_data['housing_median_age'],\n",
    "        colorscale='Jet',\n",
    "        showscale=True\n",
    "    )\n",
    ")\n",
    "data = [trace]\n",
    "\n",
    "layout = go.Layout(\n",
    "    height=600,\n",
    "    width=900,\n",
    "    title='Housing Data',\n",
    "    hovermode='closest',\n",
    ")\n",
    "\n",
    "fig = go.Figure(data=data, layout=layout)\n",
    "\n",
    "offline.iplot(fig)"
   ],
   "metadata": {
    "collapsed": false,
    "pycharm": {
     "name": "#%%\n"
    }
   }
  },
  {
   "cell_type": "code",
   "execution_count": null,
   "outputs": [],
   "source": [],
   "metadata": {
    "collapsed": false,
    "pycharm": {
     "name": "#%%\n"
    }
   }
  },
  {
   "cell_type": "code",
   "execution_count": null,
   "outputs": [],
   "source": [],
   "metadata": {
    "collapsed": false,
    "pycharm": {
     "name": "#%%\n"
    }
   }
  },
  {
   "cell_type": "code",
   "execution_count": null,
   "outputs": [],
   "source": [],
   "metadata": {
    "collapsed": false,
    "pycharm": {
     "name": "#%%\n"
    }
   }
  },
  {
   "cell_type": "code",
   "execution_count": null,
   "outputs": [],
   "source": [],
   "metadata": {
    "collapsed": false,
    "pycharm": {
     "name": "#%%\n"
    }
   }
  },
  {
   "cell_type": "code",
   "execution_count": null,
   "outputs": [],
   "source": [],
   "metadata": {
    "collapsed": false,
    "pycharm": {
     "name": "#%%\n"
    }
   }
  },
  {
   "cell_type": "code",
   "execution_count": null,
   "outputs": [],
   "source": [],
   "metadata": {
    "collapsed": false,
    "pycharm": {
     "name": "#%%\n"
    }
   }
  }
 ],
 "metadata": {
  "kernelspec": {
   "display_name": "Python 3",
   "language": "python",
   "name": "python3"
  },
  "language_info": {
   "codemirror_mode": {
    "name": "ipython",
    "version": 2
   },
   "file_extension": ".py",
   "mimetype": "text/x-python",
   "name": "python",
   "nbconvert_exporter": "python",
   "pygments_lexer": "ipython2",
   "version": "2.7.6"
  }
 },
 "nbformat": 4,
 "nbformat_minor": 0
}