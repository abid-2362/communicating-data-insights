{
 "cells": [
  {
   "cell_type": "markdown",
   "source": [
    "# Visualizing Statistical Data\n",
    "**Abid Ali**\n",
    "\n",
    "Email: [abdsoftfsd@gmail.com](mailto:abdsoftfsd@gmail.com)\n",
    "\n",
    "Skype: abd.soft\n"
   ],
   "metadata": {
    "collapsed": false,
    "pycharm": {
     "name": "#%% md\n"
    }
   }
  },
  {
   "cell_type": "code",
   "execution_count": 1,
   "outputs": [
    {
     "name": "stdout",
     "output_type": "stream",
     "text": [
      "Python 3.9.7\n"
     ]
    }
   ],
   "source": [
    "!python --version\n"
   ],
   "metadata": {
    "collapsed": false,
    "pycharm": {
     "name": "#%%\n"
    }
   }
  },
  {
   "cell_type": "code",
   "execution_count": 2,
   "outputs": [
    {
     "name": "stdout",
     "output_type": "stream",
     "text": [
      "Requirement already satisfied: matplotlib in c:\\users\\hp\\anaconda3\\lib\\site-packages (3.4.3)\n",
      "Collecting matplotlib\n",
      "  Downloading matplotlib-3.7.1-cp39-cp39-win_amd64.whl (7.6 MB)\n",
      "Requirement already satisfied: pyparsing>=2.3.1 in c:\\users\\hp\\anaconda3\\lib\\site-packages (from matplotlib) (3.0.4)\n",
      "Requirement already satisfied: kiwisolver>=1.0.1 in c:\\users\\hp\\anaconda3\\lib\\site-packages (from matplotlib) (1.3.1)\n",
      "Requirement already satisfied: cycler>=0.10 in c:\\users\\hp\\anaconda3\\lib\\site-packages (from matplotlib) (0.10.0)\n",
      "Collecting importlib-resources>=3.2.0\n",
      "  Downloading importlib_resources-5.12.0-py3-none-any.whl (36 kB)\n",
      "Requirement already satisfied: packaging>=20.0 in c:\\users\\hp\\anaconda3\\lib\\site-packages (from matplotlib) (21.0)\n",
      "Requirement already satisfied: python-dateutil>=2.7 in c:\\users\\hp\\anaconda3\\lib\\site-packages (from matplotlib) (2.8.2)\n",
      "Collecting contourpy>=1.0.1\n",
      "  Downloading contourpy-1.0.7-cp39-cp39-win_amd64.whl (160 kB)\n",
      "Requirement already satisfied: fonttools>=4.22.0 in c:\\users\\hp\\anaconda3\\lib\\site-packages (from matplotlib) (4.25.0)\n",
      "Requirement already satisfied: numpy>=1.20 in c:\\users\\hp\\anaconda3\\lib\\site-packages (from matplotlib) (1.20.3)\n",
      "Requirement already satisfied: pillow>=6.2.0 in c:\\users\\hp\\anaconda3\\lib\\site-packages (from matplotlib) (8.4.0)\n",
      "Requirement already satisfied: six in c:\\users\\hp\\anaconda3\\lib\\site-packages (from cycler>=0.10->matplotlib) (1.16.0)\n",
      "Requirement already satisfied: zipp>=3.1.0 in c:\\users\\hp\\anaconda3\\lib\\site-packages (from importlib-resources>=3.2.0->matplotlib) (3.6.0)\n",
      "Installing collected packages: importlib-resources, contourpy, matplotlib\n",
      "  Attempting uninstall: matplotlib\n",
      "    Found existing installation: matplotlib 3.4.3\n",
      "    Uninstalling matplotlib-3.4.3:\n",
      "      Successfully uninstalled matplotlib-3.4.3\n",
      "Successfully installed contourpy-1.0.7 importlib-resources-5.12.0 matplotlib-3.7.1\n"
     ]
    }
   ],
   "source": [
    "!pip install -U matplotlib\n"
   ],
   "metadata": {
    "collapsed": false,
    "pycharm": {
     "name": "#%%\n"
    }
   }
  },
  {
   "cell_type": "code",
   "execution_count": 4,
   "outputs": [],
   "source": [
    "import numpy as np\n",
    "import matplotlib\n",
    "import matplotlib.pyplot as plt\n",
    "import pandas as pd\n",
    "from scipy import stats\n"
   ],
   "metadata": {
    "collapsed": false,
    "pycharm": {
     "name": "#%%\n"
    }
   }
  },
  {
   "cell_type": "code",
   "execution_count": 5,
   "outputs": [
    {
     "data": {
      "text/plain": "'3.7.1'"
     },
     "execution_count": 5,
     "metadata": {},
     "output_type": "execute_result"
    }
   ],
   "source": [
    "matplotlib.__version__\n"
   ],
   "metadata": {
    "collapsed": false,
    "pycharm": {
     "name": "#%%\n"
    }
   }
  },
  {
   "cell_type": "code",
   "execution_count": 6,
   "outputs": [
    {
     "data": {
      "text/plain": "   Year Month  CrudePalmOil   SoyabeanOil   GroundnutOil   SunflowerOil   \\\n0  2006   Jan          424.0         532.0          930.0          591.0   \n1  2006   Feb          445.0         535.0          921.0          595.0   \n2  2006   Mar          440.0         539.0          902.0          606.0   \n3  2006   Apr          439.0         540.0          899.0          659.0   \n4  2006   May          440.0         588.0          892.0          679.0   \n\n   RapeseedOil   CoconutOil   FishOil   Tallow   Lard   \n0         733.0        569.0     750.0    445.0  407.0  \n1         723.0        591.0     761.0    430.0  405.0  \n2         742.0        575.0     807.0    410.0  431.0  \n3         796.0        578.0     840.0    394.0  437.0  \n4         838.0        583.0     841.0    408.0  447.0  ",
      "text/html": "<div>\n<style scoped>\n    .dataframe tbody tr th:only-of-type {\n        vertical-align: middle;\n    }\n\n    .dataframe tbody tr th {\n        vertical-align: top;\n    }\n\n    .dataframe thead th {\n        text-align: right;\n    }\n</style>\n<table border=\"1\" class=\"dataframe\">\n  <thead>\n    <tr style=\"text-align: right;\">\n      <th></th>\n      <th>Year</th>\n      <th>Month</th>\n      <th>CrudePalmOil</th>\n      <th>SoyabeanOil</th>\n      <th>GroundnutOil</th>\n      <th>SunflowerOil</th>\n      <th>RapeseedOil</th>\n      <th>CoconutOil</th>\n      <th>FishOil</th>\n      <th>Tallow</th>\n      <th>Lard</th>\n    </tr>\n  </thead>\n  <tbody>\n    <tr>\n      <th>0</th>\n      <td>2006</td>\n      <td>Jan</td>\n      <td>424.0</td>\n      <td>532.0</td>\n      <td>930.0</td>\n      <td>591.0</td>\n      <td>733.0</td>\n      <td>569.0</td>\n      <td>750.0</td>\n      <td>445.0</td>\n      <td>407.0</td>\n    </tr>\n    <tr>\n      <th>1</th>\n      <td>2006</td>\n      <td>Feb</td>\n      <td>445.0</td>\n      <td>535.0</td>\n      <td>921.0</td>\n      <td>595.0</td>\n      <td>723.0</td>\n      <td>591.0</td>\n      <td>761.0</td>\n      <td>430.0</td>\n      <td>405.0</td>\n    </tr>\n    <tr>\n      <th>2</th>\n      <td>2006</td>\n      <td>Mar</td>\n      <td>440.0</td>\n      <td>539.0</td>\n      <td>902.0</td>\n      <td>606.0</td>\n      <td>742.0</td>\n      <td>575.0</td>\n      <td>807.0</td>\n      <td>410.0</td>\n      <td>431.0</td>\n    </tr>\n    <tr>\n      <th>3</th>\n      <td>2006</td>\n      <td>Apr</td>\n      <td>439.0</td>\n      <td>540.0</td>\n      <td>899.0</td>\n      <td>659.0</td>\n      <td>796.0</td>\n      <td>578.0</td>\n      <td>840.0</td>\n      <td>394.0</td>\n      <td>437.0</td>\n    </tr>\n    <tr>\n      <th>4</th>\n      <td>2006</td>\n      <td>May</td>\n      <td>440.0</td>\n      <td>588.0</td>\n      <td>892.0</td>\n      <td>679.0</td>\n      <td>838.0</td>\n      <td>583.0</td>\n      <td>841.0</td>\n      <td>408.0</td>\n      <td>447.0</td>\n    </tr>\n  </tbody>\n</table>\n</div>"
     },
     "execution_count": 6,
     "metadata": {},
     "output_type": "execute_result"
    }
   ],
   "source": [
    "oil_data = pd.read_csv('datasets/MPOB_data1.csv')\n",
    "oil_data.head()\n"
   ],
   "metadata": {
    "collapsed": false,
    "pycharm": {
     "name": "#%%\n"
    }
   }
  },
  {
   "cell_type": "code",
   "execution_count": 10,
   "outputs": [
    {
     "data": {
      "text/plain": "              Year  CrudePalmOil   SoyabeanOil   GroundnutOil   SunflowerOil   \\\ncount   156.000000     153.000000    153.000000     153.000000     153.000000   \nmean   2012.000000     792.725490    947.856209    1414.601307     988.843137   \nstd       3.753708     205.275336    229.628287     515.906259     314.525292   \nmin    2006.000000     424.000000    532.000000       0.000000       0.000000   \n25%    2009.000000     663.000000    790.000000    1214.000000     802.000000   \n50%    2012.000000     771.000000    883.000000    1356.000000     887.000000   \n75%    2015.000000     906.000000   1140.000000    1673.000000    1221.000000   \nmax    2018.000000    1292.000000   1537.000000    2555.000000    2045.000000   \n\n       RapeseedOil   CoconutOil      FishOil       Tallow         Lard   \ncount    153.000000   153.000000   153.000000   153.000000   153.000000  \nmean     992.202614  1149.137255  1482.954248   853.215686   792.594771  \nstd      227.338443   364.608443   456.779751   220.306095   209.217321  \nmin      709.000000   569.000000   620.000000   394.000000   405.000000  \n25%      817.000000   861.000000  1015.000000   737.000000   638.000000  \n50%      896.000000  1131.000000  1580.000000   838.000000   762.000000  \n75%     1190.000000  1439.000000  1800.000000  1025.000000   930.000000  \nmax     1577.000000  2256.000000  2400.000000  1363.000000  1392.000000  ",
      "text/html": "<div>\n<style scoped>\n    .dataframe tbody tr th:only-of-type {\n        vertical-align: middle;\n    }\n\n    .dataframe tbody tr th {\n        vertical-align: top;\n    }\n\n    .dataframe thead th {\n        text-align: right;\n    }\n</style>\n<table border=\"1\" class=\"dataframe\">\n  <thead>\n    <tr style=\"text-align: right;\">\n      <th></th>\n      <th>Year</th>\n      <th>CrudePalmOil</th>\n      <th>SoyabeanOil</th>\n      <th>GroundnutOil</th>\n      <th>SunflowerOil</th>\n      <th>RapeseedOil</th>\n      <th>CoconutOil</th>\n      <th>FishOil</th>\n      <th>Tallow</th>\n      <th>Lard</th>\n    </tr>\n  </thead>\n  <tbody>\n    <tr>\n      <th>count</th>\n      <td>156.000000</td>\n      <td>153.000000</td>\n      <td>153.000000</td>\n      <td>153.000000</td>\n      <td>153.000000</td>\n      <td>153.000000</td>\n      <td>153.000000</td>\n      <td>153.000000</td>\n      <td>153.000000</td>\n      <td>153.000000</td>\n    </tr>\n    <tr>\n      <th>mean</th>\n      <td>2012.000000</td>\n      <td>792.725490</td>\n      <td>947.856209</td>\n      <td>1414.601307</td>\n      <td>988.843137</td>\n      <td>992.202614</td>\n      <td>1149.137255</td>\n      <td>1482.954248</td>\n      <td>853.215686</td>\n      <td>792.594771</td>\n    </tr>\n    <tr>\n      <th>std</th>\n      <td>3.753708</td>\n      <td>205.275336</td>\n      <td>229.628287</td>\n      <td>515.906259</td>\n      <td>314.525292</td>\n      <td>227.338443</td>\n      <td>364.608443</td>\n      <td>456.779751</td>\n      <td>220.306095</td>\n      <td>209.217321</td>\n    </tr>\n    <tr>\n      <th>min</th>\n      <td>2006.000000</td>\n      <td>424.000000</td>\n      <td>532.000000</td>\n      <td>0.000000</td>\n      <td>0.000000</td>\n      <td>709.000000</td>\n      <td>569.000000</td>\n      <td>620.000000</td>\n      <td>394.000000</td>\n      <td>405.000000</td>\n    </tr>\n    <tr>\n      <th>25%</th>\n      <td>2009.000000</td>\n      <td>663.000000</td>\n      <td>790.000000</td>\n      <td>1214.000000</td>\n      <td>802.000000</td>\n      <td>817.000000</td>\n      <td>861.000000</td>\n      <td>1015.000000</td>\n      <td>737.000000</td>\n      <td>638.000000</td>\n    </tr>\n    <tr>\n      <th>50%</th>\n      <td>2012.000000</td>\n      <td>771.000000</td>\n      <td>883.000000</td>\n      <td>1356.000000</td>\n      <td>887.000000</td>\n      <td>896.000000</td>\n      <td>1131.000000</td>\n      <td>1580.000000</td>\n      <td>838.000000</td>\n      <td>762.000000</td>\n    </tr>\n    <tr>\n      <th>75%</th>\n      <td>2015.000000</td>\n      <td>906.000000</td>\n      <td>1140.000000</td>\n      <td>1673.000000</td>\n      <td>1221.000000</td>\n      <td>1190.000000</td>\n      <td>1439.000000</td>\n      <td>1800.000000</td>\n      <td>1025.000000</td>\n      <td>930.000000</td>\n    </tr>\n    <tr>\n      <th>max</th>\n      <td>2018.000000</td>\n      <td>1292.000000</td>\n      <td>1537.000000</td>\n      <td>2555.000000</td>\n      <td>2045.000000</td>\n      <td>1577.000000</td>\n      <td>2256.000000</td>\n      <td>2400.000000</td>\n      <td>1363.000000</td>\n      <td>1392.000000</td>\n    </tr>\n  </tbody>\n</table>\n</div>"
     },
     "execution_count": 10,
     "metadata": {},
     "output_type": "execute_result"
    }
   ],
   "source": [
    "oil_data.describe()\n"
   ],
   "metadata": {
    "collapsed": false,
    "pycharm": {
     "name": "#%%\n"
    }
   }
  },
  {
   "cell_type": "code",
   "execution_count": 16,
   "outputs": [
    {
     "data": {
      "text/plain": "FishOil          1482.954248\nGroundnutOil     1414.601307\nCoconutOil       1149.137255\nRapeseedOil       992.202614\nSunflowerOil      988.843137\nSoyabeanOil       947.856209\nTallow            853.215686\nCrudePalmOil      792.725490\nLard              792.594771\ndtype: float64"
     },
     "execution_count": 16,
     "metadata": {},
     "output_type": "execute_result"
    }
   ],
   "source": [
    "oil_data.mean(numeric_only=True).sort_values(ascending=False)[1:]\n"
   ],
   "metadata": {
    "collapsed": false,
    "pycharm": {
     "name": "#%%\n"
    }
   }
  },
  {
   "cell_type": "code",
   "execution_count": 20,
   "outputs": [
    {
     "data": {
      "text/plain": "Index(['Year', 'Month', 'CrudePalmOil', 'SoyabeanOil', 'GroundnutOil',\n       'SunflowerOil', 'RapeseedOil', 'CoconutOil', 'FishOil', 'Tallow',\n       'Lard'],\n      dtype='object')"
     },
     "execution_count": 20,
     "metadata": {},
     "output_type": "execute_result"
    }
   ],
   "source": [
    "oil_data.columns = oil_data.columns.str.strip()\n",
    "oil_data.columns"
   ],
   "metadata": {
    "collapsed": false,
    "pycharm": {
     "name": "#%%\n"
    }
   }
  },
  {
   "cell_type": "code",
   "execution_count": 21,
   "outputs": [
    {
     "data": {
      "text/plain": "Text(0, 0.5, 'Prices')"
     },
     "execution_count": 21,
     "metadata": {},
     "output_type": "execute_result"
    },
    {
     "data": {
      "text/plain": "<Figure size 864x576 with 1 Axes>",
      "image/png": "[encoded data removed]"
     },
     "metadata": {
      "needs_background": "light"
     },
     "output_type": "display_data"
    }
   ],
   "source": [
    "fig, ax = plt.subplots(figsize=(12, 8))\n",
    "\n",
    "plt.xticks(rotation=70)\n",
    "\n",
    "plt.bar('Fishoil', oil_data['FishOil'], width=0.5)\n",
    "\n",
    "plt.bar('GroundnutOil', oil_data['GroundnutOil'], width=0.5)\n",
    "\n",
    "plt.bar('CoconutOil', oil_data['CoconutOil'], width=0.5)\n",
    "\n",
    "plt.bar('RapeseedOil', oil_data['RapeseedOil'], width=0.5)\n",
    "\n",
    "plt.bar('SunflowerOil', oil_data['SunflowerOil'], width=0.5)\n",
    "\n",
    "plt.title('Oil Prices - 2006 to 2018')\n",
    "\n",
    "plt.xlabel('Oils')\n",
    "plt.ylabel('Prices')"
   ],
   "metadata": {
    "collapsed": false,
    "pycharm": {
     "name": "#%%\n"
    }
   }
  },
  {
   "cell_type": "code",
   "execution_count": 22,
   "outputs": [
    {
     "data": {
      "text/plain": "2555.0"
     },
     "execution_count": 22,
     "metadata": {},
     "output_type": "execute_result"
    }
   ],
   "source": [
    "# Let's check the maximum value of the Groundnut oilt\n",
    "groundnut_max_value = oil_data['GroundnutOil'].max()\n",
    "groundnut_max_value\n"
   ],
   "metadata": {
    "collapsed": false,
    "pycharm": {
     "name": "#%%\n"
    }
   }
  },
  {
   "cell_type": "code",
   "execution_count": 23,
   "outputs": [
    {
     "data": {
      "text/plain": "    Year Month  CrudePalmOil  SoyabeanOil  GroundnutOil  SunflowerOil  \\\n76  2012   May        1085.0       1218.0        2555.0        1275.0   \n\n    RapeseedOil  CoconutOil  FishOil  Tallow    Lard  \n76       1235.0      1155.0   1758.0  1223.0  1045.0  ",
      "text/html": "<div>\n<style scoped>\n    .dataframe tbody tr th:only-of-type {\n        vertical-align: middle;\n    }\n\n    .dataframe tbody tr th {\n        vertical-align: top;\n    }\n\n    .dataframe thead th {\n        text-align: right;\n    }\n</style>\n<table border=\"1\" class=\"dataframe\">\n  <thead>\n    <tr style=\"text-align: right;\">\n      <th></th>\n      <th>Year</th>\n      <th>Month</th>\n      <th>CrudePalmOil</th>\n      <th>SoyabeanOil</th>\n      <th>GroundnutOil</th>\n      <th>SunflowerOil</th>\n      <th>RapeseedOil</th>\n      <th>CoconutOil</th>\n      <th>FishOil</th>\n      <th>Tallow</th>\n      <th>Lard</th>\n    </tr>\n  </thead>\n  <tbody>\n    <tr>\n      <th>76</th>\n      <td>2012</td>\n      <td>May</td>\n      <td>1085.0</td>\n      <td>1218.0</td>\n      <td>2555.0</td>\n      <td>1275.0</td>\n      <td>1235.0</td>\n      <td>1155.0</td>\n      <td>1758.0</td>\n      <td>1223.0</td>\n      <td>1045.0</td>\n    </tr>\n  </tbody>\n</table>\n</div>"
     },
     "execution_count": 23,
     "metadata": {},
     "output_type": "execute_result"
    }
   ],
   "source": [
    "# Let's see which year and month, it was at its peak price\n",
    "oil_data.loc[oil_data['GroundnutOil'] == groundnut_max_value]\n"
   ],
   "metadata": {
    "collapsed": false,
    "pycharm": {
     "name": "#%%\n"
    }
   }
  },
  {
   "cell_type": "code",
   "execution_count": 25,
   "outputs": [],
   "source": [
    "# Calculating min, max, mean and median values\n",
    "groundnut_min_value = oil_data['GroundnutOil'].min()\n",
    "groundnut_mean_value = oil_data['GroundnutOil'].mean()\n",
    "groundnut_median_value = oil_data['GroundnutOil'].median()"
   ],
   "metadata": {
    "collapsed": false,
    "pycharm": {
     "name": "#%%\n"
    }
   }
  },
  {
   "cell_type": "code",
   "execution_count": 29,
   "outputs": [
    {
     "data": {
      "text/plain": "     Year Month  GroundnutOil\n0    2006   Jan         930.0\n1    2006   Feb         921.0\n2    2006   Mar         902.0\n3    2006   Apr         899.0\n4    2006   May         892.0\n..    ...   ...           ...\n151  2018   Aug        1281.0\n152  2018   Sep        1265.0\n153  2018   Oct           NaN\n154  2018   Nov           NaN\n155  2018   Dec           NaN\n\n[156 rows x 3 columns]",
      "text/html": "<div>\n<style scoped>\n    .dataframe tbody tr th:only-of-type {\n        vertical-align: middle;\n    }\n\n    .dataframe tbody tr th {\n        vertical-align: top;\n    }\n\n    .dataframe thead th {\n        text-align: right;\n    }\n</style>\n<table border=\"1\" class=\"dataframe\">\n  <thead>\n    <tr style=\"text-align: right;\">\n      <th></th>\n      <th>Year</th>\n      <th>Month</th>\n      <th>GroundnutOil</th>\n    </tr>\n  </thead>\n  <tbody>\n    <tr>\n      <th>0</th>\n      <td>2006</td>\n      <td>Jan</td>\n      <td>930.0</td>\n    </tr>\n    <tr>\n      <th>1</th>\n      <td>2006</td>\n      <td>Feb</td>\n      <td>921.0</td>\n    </tr>\n    <tr>\n      <th>2</th>\n      <td>2006</td>\n      <td>Mar</td>\n      <td>902.0</td>\n    </tr>\n    <tr>\n      <th>3</th>\n      <td>2006</td>\n      <td>Apr</td>\n      <td>899.0</td>\n    </tr>\n    <tr>\n      <th>4</th>\n      <td>2006</td>\n      <td>May</td>\n      <td>892.0</td>\n    </tr>\n    <tr>\n      <th>...</th>\n      <td>...</td>\n      <td>...</td>\n      <td>...</td>\n    </tr>\n    <tr>\n      <th>151</th>\n      <td>2018</td>\n      <td>Aug</td>\n      <td>1281.0</td>\n    </tr>\n    <tr>\n      <th>152</th>\n      <td>2018</td>\n      <td>Sep</td>\n      <td>1265.0</td>\n    </tr>\n    <tr>\n      <th>153</th>\n      <td>2018</td>\n      <td>Oct</td>\n      <td>NaN</td>\n    </tr>\n    <tr>\n      <th>154</th>\n      <td>2018</td>\n      <td>Nov</td>\n      <td>NaN</td>\n    </tr>\n    <tr>\n      <th>155</th>\n      <td>2018</td>\n      <td>Dec</td>\n      <td>NaN</td>\n    </tr>\n  </tbody>\n</table>\n<p>156 rows × 3 columns</p>\n</div>"
     },
     "execution_count": 29,
     "metadata": {},
     "output_type": "execute_result"
    }
   ],
   "source": [
    "oil_data[['Year', 'Month', 'GroundnutOil']]"
   ],
   "metadata": {
    "collapsed": false,
    "pycharm": {
     "name": "#%%\n"
    }
   }
  },
  {
   "cell_type": "code",
   "execution_count": 27,
   "outputs": [
    {
     "data": {
      "text/plain": "Text(0, 0.5, 'Prices')"
     },
     "execution_count": 27,
     "metadata": {},
     "output_type": "execute_result"
    },
    {
     "data": {
      "text/plain": "<Figure size 864x576 with 1 Axes>",
      "image/png": "[encoded data removed]"
     },
     "metadata": {
      "needs_background": "light"
     },
     "output_type": "display_data"
    }
   ],
   "source": [
    "fig, ax = plt.subplots(figsize=(12, 8))\n",
    "\n",
    "plt.xticks(rotation=90)\n",
    "plt.scatter(\n",
    "    oil_data['Year'],\n",
    "    oil_data['GroundnutOil'],\n",
    "    color='blue'\n",
    ")\n",
    "\n",
    "plt.axhline(groundnut_max_value, label='Max', color='red')\n",
    "plt.axhline(groundnut_min_value, label='Min', color='red')\n",
    "plt.axhline(groundnut_mean_value, label='Mean', color='green')\n",
    "plt.axhline(groundnut_median_value, label='Median', color='limegreen')\n",
    "\n",
    "plt.legend(loc='upper right', bbox_to_anchor=(1.2, 1))\n",
    "plt.title('Groundnut Oil Prices - 2006 to 2018')\n",
    "plt.xlabel('Year')\n",
    "plt.ylabel('Prices')\n"
   ],
   "metadata": {
    "collapsed": false,
    "pycharm": {
     "name": "#%%\n"
    }
   }
  },
  {
   "cell_type": "code",
   "execution_count": null,
   "outputs": [],
   "source": [],
   "metadata": {
    "collapsed": false,
    "pycharm": {
     "name": "#%%\n"
    }
   }
  }
 ],
 "metadata": {
  "kernelspec": {
   "display_name": "Python 3",
   "language": "python",
   "name": "python3"
  },
  "language_info": {
   "codemirror_mode": {
    "name": "ipython",
    "version": 2
   },
   "file_extension": ".py",
   "mimetype": "text/x-python",
   "name": "python",
   "nbconvert_exporter": "python",
   "pygments_lexer": "ipython2",
   "version": "2.7.6"
  }
 },
 "nbformat": 4,
 "nbformat_minor": 0
}